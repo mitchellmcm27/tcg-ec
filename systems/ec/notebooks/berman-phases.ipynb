{
    "cells": [
        {
            "cell_type": "code",
            "execution_count": 2,
            "metadata": {},
            "outputs": [
                {
                    "name": "stderr",
                    "output_type": "stream",
                    "text": [
                        "/opt/conda/lib/python3.9/site-packages/thermoengine/model.py:184: FutureWarning: The frame.append method is deprecated and will be removed from pandas in a future version. Use pandas.concat instead.\n",
                        "  self._phase_info = self._phase_info.append(phs_info, ignore_index=True)\n",
                        "/opt/conda/lib/python3.9/site-packages/thermoengine/model.py:184: FutureWarning: The frame.append method is deprecated and will be removed from pandas in a future version. Use pandas.concat instead.\n",
                        "  self._phase_info = self._phase_info.append(phs_info, ignore_index=True)\n",
                        "/opt/conda/lib/python3.9/site-packages/thermoengine/model.py:184: FutureWarning: The frame.append method is deprecated and will be removed from pandas in a future version. Use pandas.concat instead.\n",
                        "  self._phase_info = self._phase_info.append(phs_info, ignore_index=True)\n",
                        "/opt/conda/lib/python3.9/site-packages/thermoengine/model.py:184: FutureWarning: The frame.append method is deprecated and will be removed from pandas in a future version. Use pandas.concat instead.\n",
                        "  self._phase_info = self._phase_info.append(phs_info, ignore_index=True)\n"
                    ]
                }
            ],
            "source": [
                "import thermoengine as thermo\n",
                "from thermoengine.const import units\n",
                "import numpy as np\n",
                "\n",
                "db = thermo.model.Database(database='Berman')\n"
            ]
        },
        {
            "cell_type": "code",
            "execution_count": null,
            "metadata": {},
            "outputs": [],
            "source": []
        },
        {
            "cell_type": "code",
            "execution_count": 50,
            "metadata": {},
            "outputs": [],
            "source": [
                "Feldspar = db.get_phase('Fsp')"
            ]
        },
        {
            "cell_type": "code",
            "execution_count": 62,
            "metadata": {},
            "outputs": [],
            "source": [
                "def print_phase(p):\n",
                "    print (p.props['phase_name'])\n",
                "    print (p.props['formula'])\n",
                "    print (p.props['molwt'])\n",
                "    print (p.props['abbrev'])\n",
                "    print (p.props['endmember_num'])\n",
                "    print (p.props['endmember_name'])"
            ]
        },
        {
            "cell_type": "code",
            "execution_count": 63,
            "metadata": {},
            "outputs": [
                {
                    "name": "stdout",
                    "output_type": "stream",
                    "text": [
                        "Biotite\n",
                        "['KFe3Si3AlO10(OH)2' 'KMg3Si3AlO10(OH)2']\n",
                        "[511.88964 417.26364]\n",
                        "Bt\n",
                        "2\n",
                        "['annite' 'phlogopite']\n"
                    ]
                }
            ],
            "source": [
                "Biotite = db.get_phase('Bt')\n",
                "print_phase(Biotite)\n"
            ]
        },
        {
            "cell_type": "code",
            "execution_count": 65,
            "metadata": {},
            "outputs": [
                {
                    "name": "stdout",
                    "output_type": "stream",
                    "text": [
                        "Feldspar\n",
                        "['NaAlSi3O8' 'CaAl2Si2O8' 'KAlSi3O8']\n",
                        "[262.22301 278.20928 278.33524]\n",
                        "Fsp\n",
                        "3\n",
                        "['albite' 'anorthite' 'sanidine']\n"
                    ]
                }
            ],
            "source": [
                "print_phase(db.get_phase('Fsp'))"
            ]
        },
        {
            "cell_type": "code",
            "execution_count": 70,
            "metadata": {},
            "outputs": [
                {
                    "name": "stdout",
                    "output_type": "stream",
                    "text": [
                        "Almandine\n",
                        "['Si3Fe3Al2O12']\n",
                        "[497.75338]\n",
                        "Alm\n"
                    ]
                },
                {
                    "ename": "KeyError",
                    "evalue": "'endmember_num'",
                    "output_type": "error",
                    "traceback": [
                        "\u001b[0;31m---------------------------------------------------------------------------\u001b[0m",
                        "\u001b[0;31mKeyError\u001b[0m                                  Traceback (most recent call last)",
                        "\u001b[1;32m/home/jovyan/work/systems/ec/notebooks/berman-phases.ipynb Cell 7\u001b[0m in \u001b[0;36m<cell line: 1>\u001b[0;34m()\u001b[0m\n\u001b[0;32m----> <a href='vscode-notebook-cell://attached-container%2B7b22636f6e7461696e65724e616d65223a222f7463672d65632d74652d31227d/home/jovyan/work/systems/ec/notebooks/berman-phases.ipynb#X12sdnNjb2RlLXJlbW90ZQ%3D%3D?line=0'>1</a>\u001b[0m print_phase(db\u001b[39m.\u001b[39;49mget_phase(\u001b[39m'\u001b[39;49m\u001b[39mAlm\u001b[39;49m\u001b[39m'\u001b[39;49m))\n",
                        "\u001b[1;32m/home/jovyan/work/systems/ec/notebooks/berman-phases.ipynb Cell 7\u001b[0m in \u001b[0;36mprint_phase\u001b[0;34m(p)\u001b[0m\n\u001b[1;32m      <a href='vscode-notebook-cell://attached-container%2B7b22636f6e7461696e65724e616d65223a222f7463672d65632d74652d31227d/home/jovyan/work/systems/ec/notebooks/berman-phases.ipynb#X12sdnNjb2RlLXJlbW90ZQ%3D%3D?line=3'>4</a>\u001b[0m \u001b[39mprint\u001b[39m (p\u001b[39m.\u001b[39mprops[\u001b[39m'\u001b[39m\u001b[39mmolwt\u001b[39m\u001b[39m'\u001b[39m])\n\u001b[1;32m      <a href='vscode-notebook-cell://attached-container%2B7b22636f6e7461696e65724e616d65223a222f7463672d65632d74652d31227d/home/jovyan/work/systems/ec/notebooks/berman-phases.ipynb#X12sdnNjb2RlLXJlbW90ZQ%3D%3D?line=4'>5</a>\u001b[0m \u001b[39mprint\u001b[39m (p\u001b[39m.\u001b[39mprops[\u001b[39m'\u001b[39m\u001b[39mabbrev\u001b[39m\u001b[39m'\u001b[39m])\n\u001b[0;32m----> <a href='vscode-notebook-cell://attached-container%2B7b22636f6e7461696e65724e616d65223a222f7463672d65632d74652d31227d/home/jovyan/work/systems/ec/notebooks/berman-phases.ipynb#X12sdnNjb2RlLXJlbW90ZQ%3D%3D?line=5'>6</a>\u001b[0m \u001b[39mprint\u001b[39m (p\u001b[39m.\u001b[39;49mprops[\u001b[39m'\u001b[39;49m\u001b[39mendmember_num\u001b[39;49m\u001b[39m'\u001b[39;49m])\n\u001b[1;32m      <a href='vscode-notebook-cell://attached-container%2B7b22636f6e7461696e65724e616d65223a222f7463672d65632d74652d31227d/home/jovyan/work/systems/ec/notebooks/berman-phases.ipynb#X12sdnNjb2RlLXJlbW90ZQ%3D%3D?line=6'>7</a>\u001b[0m \u001b[39mprint\u001b[39m (p\u001b[39m.\u001b[39mprops[\u001b[39m'\u001b[39m\u001b[39mendmember_name\u001b[39m\u001b[39m'\u001b[39m])\n",
                        "\u001b[0;31mKeyError\u001b[0m: 'endmember_num'"
                    ]
                }
            ],
            "source": [
                "print_phase(db.get_phase('Alm'))"
            ]
        },
        {
            "cell_type": "code",
            "execution_count": null,
            "metadata": {},
            "outputs": [],
            "source": []
        }
    ],
    "metadata": {
        "kernelspec": {
            "display_name": "Python 3.9.15 64-bit",
            "language": "python",
            "name": "python3"
        },
        "language_info": {
            "codemirror_mode": {
                "name": "ipython",
                "version": 3
            },
            "file_extension": ".py",
            "mimetype": "text/x-python",
            "name": "python",
            "nbconvert_exporter": "python",
            "pygments_lexer": "ipython3",
            "version": "3.9.15"
        },
        "vscode": {
            "interpreter": {
                "hash": "a665b5d41d17b532ea9890333293a1b812fa0b73c9c25c950b3cedf1bebd0438"
            }
        }
    },
    "nbformat": 4,
    "nbformat_minor": 4
}
