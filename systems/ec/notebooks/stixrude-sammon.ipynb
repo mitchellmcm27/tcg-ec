{
 "cells": [
  {
   "cell_type": "code",
   "execution_count": 6,
   "metadata": {},
   "outputs": [],
   "source": [
    "import equilibrate_phase_diagram\n",
    "from thermoengine.const import units\n",
    "import numpy as np\n",
    "\n",
    "Tmin = 773\n",
    "Tmax = 1273\n",
    "nT = 40\n",
    "\n",
    "Pmin = 0.5*units.GPA\n",
    "Pmax = 2.5*units.GPA\n",
    "nP = 40\n",
    "\n",
    "T = np.linspace(Tmin,Tmax,nT)\n",
    "P = np.linspace(Pmin,Pmax,nP)\n",
    "name = \"sammon-LC\"\n",
    "\n",
    "oxides_sammon={\n",
    "    \"SiO2\"  :  53.3,\n",
    "    \"TiO2\"  :  0.98,\n",
    "    \"Al2O3\" :  17.2,\n",
    "    \"FeO\"   :  7.12,\n",
    "    \"MnO\"   :  0.16,\n",
    "    \"MgO\"   :  7.63,\n",
    "    \"CaO\"   : 10.15,\n",
    "    \"Na2O\"  :  2.63,\n",
    "    \"K2O\"   :  0.70,\n",
    "    \"P2O5\"  :  0.16,\n",
    "}\n",
    "\n",
    "oxides = oxides_sammon\n",
    "# Stixrude doesn't support P2O5, K2O, MnO, or TiO2\n",
    "oxides[\"Na2O\"] += oxides[\"K2O\"]\n",
    "oxides[\"Al2O3\"] += oxides[\"P2O5\"]\n",
    "oxides[\"MgO\"] += oxides[\"MnO\"]\n",
    "oxides[\"SiO2\"] += oxides[\"TiO2\"]\n",
    "oxides[\"TiO2\"] = 0\n",
    "oxides[\"P2O5\"] = 0\n",
    "oxides[\"K2O\"] = 0\n",
    "oxides[\"MnO\"] = 0\n",
    "\n",
    "#Ts, Ps, assemblages, system = equilibrate_phase_diagram.run(\n",
    "#    database=\"py_tcg_slb_database\",\n",
    "#    name=name,\n",
    "#    T=T,\n",
    "#    P=P,\n",
    "#    oxides=oxides\n",
    "#)"
   ]
  }
 ],
 "metadata": {
  "kernelspec": {
   "display_name": "Python 3.10.6 64-bit",
   "language": "python",
   "name": "python3"
  },
  "language_info": {
   "codemirror_mode": {
    "name": "ipython",
    "version": 3
   },
   "file_extension": ".py",
   "mimetype": "text/x-python",
   "name": "python",
   "nbconvert_exporter": "python",
   "pygments_lexer": "ipython3",
   "version": "3.9.6"
  },
  "orig_nbformat": 4,
  "vscode": {
   "interpreter": {
    "hash": "31f2aee4e71d21fbe5cf8b01ff0e069b9275f58929596ceb00d14d90e3e16cd6"
   }
  }
 },
 "nbformat": 4,
 "nbformat_minor": 2
}
