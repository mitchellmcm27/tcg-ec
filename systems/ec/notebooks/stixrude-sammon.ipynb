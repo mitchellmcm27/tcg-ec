{
 "cells": [
  {
   "cell_type": "code",
   "execution_count": 1,
   "metadata": {},
   "outputs": [
    {
     "name": "stderr",
     "output_type": "stream",
     "text": [
      "/opt/conda/lib/python3.8/site-packages/numdifftools/extrapolation.py:10: DeprecationWarning: Please use `convolve1d` from the `scipy.ndimage` namespace, the `scipy.ndimage.filters` namespace is deprecated.\n",
      "  from scipy.ndimage.filters import convolve1d\n",
      "/opt/conda/lib/python3.8/site-packages/numdifftools/multicomplex.py:35: DeprecationWarning: `finfo.machar` is deprecated (NumPy 1.22)\n",
      "  _TINY = np.finfo(float).machar.tiny\n"
     ]
    },
    {
     "ename": "ModuleNotFoundError",
     "evalue": "No module named 'py_tcg_slb_database'",
     "output_type": "error",
     "traceback": [
      "\u001b[0;31m---------------------------------------------------------------------------\u001b[0m",
      "\u001b[0;31mModuleNotFoundError\u001b[0m                       Traceback (most recent call last)",
      "Cell \u001b[0;32mIn [1], line 1\u001b[0m\n\u001b[0;32m----> 1\u001b[0m \u001b[39mimport\u001b[39;00m \u001b[39mequilibrate_phase_diagram\u001b[39;00m\n\u001b[1;32m      2\u001b[0m \u001b[39mfrom\u001b[39;00m \u001b[39mthermoengine\u001b[39;00m\u001b[39m.\u001b[39;00m\u001b[39mconst\u001b[39;00m \u001b[39mimport\u001b[39;00m units\n\u001b[1;32m      3\u001b[0m \u001b[39mimport\u001b[39;00m \u001b[39mnumpy\u001b[39;00m \u001b[39mas\u001b[39;00m \u001b[39mnp\u001b[39;00m\n",
      "File \u001b[0;32m~/work/systems/ec/notebooks/equilibrate_phase_diagram.py:25\u001b[0m\n\u001b[1;32m     22\u001b[0m \u001b[39mimport\u001b[39;00m \u001b[39msys\u001b[39;00m\n\u001b[1;32m     24\u001b[0m sys\u001b[39m.\u001b[39mpath\u001b[39m.\u001b[39mappend(os\u001b[39m.\u001b[39mpath\u001b[39m.\u001b[39mjoin(os\u001b[39m.\u001b[39mpath\u001b[39m.\u001b[39mpardir, \u001b[39m'\u001b[39m\u001b[39mdatabase\u001b[39m\u001b[39m'\u001b[39m, \u001b[39m'\u001b[39m\u001b[39minstall\u001b[39m\u001b[39m'\u001b[39m,\u001b[39m'\u001b[39m\u001b[39mtcg_slb_database\u001b[39m\u001b[39m'\u001b[39m,\u001b[39m'\u001b[39m\u001b[39mlib\u001b[39m\u001b[39m'\u001b[39m,\u001b[39m'\u001b[39m\u001b[39mpython3.8\u001b[39m\u001b[39m'\u001b[39m,\u001b[39m'\u001b[39m\u001b[39msite-packages/\u001b[39m\u001b[39m'\u001b[39m)) \u001b[39m# the final slash is necessary!\u001b[39;00m\n\u001b[0;32m---> 25\u001b[0m \u001b[39mimport\u001b[39;00m \u001b[39mpy_tcg_slb_database\u001b[39;00m \u001b[39mas\u001b[39;00m \u001b[39mtcgdb\u001b[39;00m\n\u001b[1;32m     26\u001b[0m stixrudeDB \u001b[39m=\u001b[39m thermo\u001b[39m.\u001b[39mmodel\u001b[39m.\u001b[39mDatabase\u001b[39m.\u001b[39mfrom_thermocodegen(tcgdb)\n\u001b[1;32m     28\u001b[0m \u001b[39mdef\u001b[39;00m \u001b[39msupress_stdout\u001b[39m(func):\n",
      "\u001b[0;31mModuleNotFoundError\u001b[0m: No module named 'py_tcg_slb_database'"
     ]
    }
   ],
   "source": [
    "import equilibrate_phase_diagram\n",
    "from thermoengine.const import units\n",
    "import numpy as np\n",
    "\n",
    "Tmin = 773\n",
    "Tmax = 1273\n",
    "nT = 10\n",
    "\n",
    "Pmin = 0.5*units.GPA\n",
    "Pmax = 2.5*units.GPA\n",
    "nP = 10\n",
    "\n",
    "T = np.linspace(Tmin,Tmax,nT)\n",
    "P = np.linspace(Pmin,Pmax,nP)\n",
    "name = \"sammon-LC\"\n",
    "\n",
    "oxides_sammon={\n",
    "    \"SiO2\"  :  53.3,\n",
    "    \"TiO2\"  :  0.98,\n",
    "    \"Al2O3\" :  17.2,\n",
    "    \"FeO\"   :  7.12,\n",
    "    \"MnO\"   :  0.16,\n",
    "    \"MgO\"   :  7.63,\n",
    "    \"CaO\"   : 10.15,\n",
    "    \"Na2O\"  :  2.63,\n",
    "    \"K2O\"   :  0.70,\n",
    "    \"P2O5\"  :  0.16,\n",
    "}\n",
    "\n",
    "oxides = oxides_sammon\n",
    "# Stixrude doesn't support P2O5, K2O, MnO, or TiO2\n",
    "oxides[\"Na2O\"] += oxides[\"K2O\"]\n",
    "oxides[\"Al2O3\"] += oxides[\"P2O5\"]\n",
    "oxides[\"MgO\"] += oxides[\"MnO\"]\n",
    "oxides[\"SiO2\"] += oxides[\"TiO2\"]\n",
    "oxides[\"TiO2\"] = 0\n",
    "oxides[\"P2O5\"] = 0\n",
    "oxides[\"K2O\"] = 0\n",
    "oxides[\"MnO\"] = 0\n",
    "\n",
    "Ts, Ps, assemblages, system = equilibrate_phase_diagram.run(\n",
    "    database=\"Stixrude\",\n",
    "    name=name,\n",
    "    T=T,\n",
    "    P=P,\n",
    "    oxides=oxides\n",
    ")"
   ]
  },
  {
   "cell_type": "code",
   "execution_count": null,
   "metadata": {},
   "outputs": [
    {
     "data": {
      "text/plain": [
       "'OxideWtComp(SiO2=53.3, TiO2=0.98, Al2O3=17.2, Fe2O3=0, Cr2O3=0, FeO=7.12, MnO=0.16, MgO=7.63, NiO=0, CoO=0, CaO=10.15, Na2O=2.63, K2O=0, P2O5=0, H2O=0, CO2=0)'"
      ]
     },
     "execution_count": 2,
     "metadata": {},
     "output_type": "execute_result"
    }
   ],
   "source": [
    "system.comp"
   ]
  },
  {
   "cell_type": "code",
   "execution_count": null,
   "metadata": {},
   "outputs": [],
   "source": [
    "system.comp\n",
    "names = system.stable_assemblage.names\n",
    "ms = system.stable_assemblage.amounts\n",
    "ems = system.stable_assemblage.sample_endmem_comps\n",
    "\n",
    "nameToM = {}\n",
    "nameToEndmemberToC = {}\n",
    "\n",
    "for i,name in enumerate(names):\n",
    "    nameToM[name] = ms[i]\n",
    "    #nameToEndmemberToC[name] = \n",
    "\n",
    "\n",
    "# write results to dict\n",
    "# that can be dumped to json and read by TCG\n",
    "results = {\n",
    "    \"T\":T,\n",
    "    \"P\":P,\n",
    "    \"comp\":system.stable_assemblage,\n",
    "    \"mi0\": \"......\"\n",
    "}\n",
    "\n"
   ]
  },
  {
   "cell_type": "code",
   "execution_count": null,
   "metadata": {},
   "outputs": [
    {
     "ename": "TypeError",
     "evalue": "'list' object is not callable",
     "output_type": "error",
     "traceback": [
      "\u001b[0;31m---------------------------------------------------------------------------\u001b[0m",
      "\u001b[0;31mTypeError\u001b[0m                                 Traceback (most recent call last)",
      "\u001b[1;32m/home/jovyan/work/systems/ec/notebooks/stixrude-sammon.ipynb Cell 3\u001b[0m in \u001b[0;36m<cell line: 1>\u001b[0;34m()\u001b[0m\n\u001b[0;32m----> <a href='vscode-notebook-cell://attached-container%2B7b22636f6e7461696e65724e616d65223a222f7463672d65632d74652d31227d/home/jovyan/work/systems/ec/notebooks/stixrude-sammon.ipynb#W1sdnNjb2RlLXJlbW90ZQ%3D%3D?line=0'>1</a>\u001b[0m system\u001b[39m.\u001b[39;49msummary\u001b[39m.\u001b[39;49mreport()\n",
      "\u001b[0;31mTypeError\u001b[0m: 'list' object is not callable"
     ]
    }
   ],
   "source": [
    "system.summary.report()"
   ]
  },
  {
   "cell_type": "code",
   "execution_count": null,
   "metadata": {},
   "outputs": [
    {
     "data": {
      "text/plain": [
       "array([array([1.]), array([0.4, 0.4, 0.2, 0. , 0. ]),\n",
       "       array([0.5, 0.2, 0.1, 0. , 0.2]), array([0.9, 0.1]),\n",
       "       array([0.        , 0.25971214, 0.34028786, 0.        , 0.4       ])],\n",
       "      dtype=object)"
      ]
     },
     "execution_count": 36,
     "metadata": {},
     "output_type": "execute_result"
    }
   ],
   "source": [
    "system.stable_assemblage.sample_endmem_comps"
   ]
  },
  {
   "cell_type": "code",
   "execution_count": null,
   "metadata": {},
   "outputs": [
    {
     "data": {
      "text/html": [
       "<div>\n",
       "<style scoped>\n",
       "    .dataframe tbody tr th:only-of-type {\n",
       "        vertical-align: middle;\n",
       "    }\n",
       "\n",
       "    .dataframe tbody tr th {\n",
       "        vertical-align: top;\n",
       "    }\n",
       "\n",
       "    .dataframe thead th {\n",
       "        text-align: right;\n",
       "    }\n",
       "</style>\n",
       "<table border=\"1\" class=\"dataframe\">\n",
       "  <thead>\n",
       "    <tr style=\"text-align: right;\">\n",
       "      <th></th>\n",
       "      <th>O</th>\n",
       "      <th>Na</th>\n",
       "      <th>Mg</th>\n",
       "      <th>Al</th>\n",
       "      <th>Si</th>\n",
       "      <th>Ca</th>\n",
       "      <th>Fe</th>\n",
       "    </tr>\n",
       "  </thead>\n",
       "  <tbody>\n",
       "    <tr>\n",
       "      <th>Qz</th>\n",
       "      <td>0.666667</td>\n",
       "      <td>0.000000</td>\n",
       "      <td>0.000000</td>\n",
       "      <td>0.000000</td>\n",
       "      <td>0.333333</td>\n",
       "      <td>0.000000</td>\n",
       "      <td>0.000000</td>\n",
       "    </tr>\n",
       "    <tr>\n",
       "      <th>Grt</th>\n",
       "      <td>0.600000</td>\n",
       "      <td>0.000000</td>\n",
       "      <td>0.060000</td>\n",
       "      <td>0.100000</td>\n",
       "      <td>0.150000</td>\n",
       "      <td>0.030000</td>\n",
       "      <td>0.060000</td>\n",
       "    </tr>\n",
       "    <tr>\n",
       "      <th>Cpx</th>\n",
       "      <td>0.600000</td>\n",
       "      <td>0.020000</td>\n",
       "      <td>0.070000</td>\n",
       "      <td>0.020000</td>\n",
       "      <td>0.200000</td>\n",
       "      <td>0.070000</td>\n",
       "      <td>0.020000</td>\n",
       "    </tr>\n",
       "    <tr>\n",
       "      <th>Fsp</th>\n",
       "      <td>0.615385</td>\n",
       "      <td>0.007692</td>\n",
       "      <td>0.000000</td>\n",
       "      <td>0.146154</td>\n",
       "      <td>0.161538</td>\n",
       "      <td>0.069231</td>\n",
       "      <td>0.000000</td>\n",
       "    </tr>\n",
       "    <tr>\n",
       "      <th>Cpx</th>\n",
       "      <td>0.600000</td>\n",
       "      <td>0.040000</td>\n",
       "      <td>0.068058</td>\n",
       "      <td>0.040000</td>\n",
       "      <td>0.200000</td>\n",
       "      <td>0.025971</td>\n",
       "      <td>0.025971</td>\n",
       "    </tr>\n",
       "  </tbody>\n",
       "</table>\n",
       "</div>"
      ],
      "text/plain": [
       "            O        Na        Mg        Al        Si        Ca        Fe\n",
       "Qz   0.666667  0.000000  0.000000  0.000000  0.333333  0.000000  0.000000\n",
       "Grt  0.600000  0.000000  0.060000  0.100000  0.150000  0.030000  0.060000\n",
       "Cpx  0.600000  0.020000  0.070000  0.020000  0.200000  0.070000  0.020000\n",
       "Fsp  0.615385  0.007692  0.000000  0.146154  0.161538  0.069231  0.000000\n",
       "Cpx  0.600000  0.040000  0.068058  0.040000  0.200000  0.025971  0.025971"
      ]
     },
     "execution_count": 39,
     "metadata": {},
     "output_type": "execute_result"
    }
   ],
   "source": [
    "system.stable_assemblage.elem_comps"
   ]
  }
 ],
 "metadata": {
  "kernelspec": {
   "display_name": "Python 3.10.6 ('base')",
   "language": "python",
   "name": "python3"
  },
  "language_info": {
   "codemirror_mode": {
    "name": "ipython",
    "version": 3
   },
   "file_extension": ".py",
   "mimetype": "text/x-python",
   "name": "python",
   "nbconvert_exporter": "python",
   "pygments_lexer": "ipython3",
   "version": "3.8.13"
  },
  "orig_nbformat": 4,
  "vscode": {
   "interpreter": {
    "hash": "d4d1e4263499bec80672ea0156c357c1ee493ec2b1c70f0acce89fc37c4a6abe"
   }
  }
 },
 "nbformat": 4,
 "nbformat_minor": 2
}
