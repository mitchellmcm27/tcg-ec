{
 "cells": [
  {
   "cell_type": "code",
   "execution_count": 1,
   "metadata": {
    "pycharm": {
     "name": "#%%\n"
    },
    "tags": []
   },
   "outputs": [
    {
     "name": "stderr",
     "output_type": "stream",
     "text": [
      "/opt/conda/lib/python3.9/site-packages/numdifftools/extrapolation.py:10: DeprecationWarning: Please use `convolve1d` from the `scipy.ndimage` namespace, the `scipy.ndimage.filters` namespace is deprecated.\n",
      "  from scipy.ndimage.filters import convolve1d\n"
     ]
    }
   ],
   "source": [
    "#from __future__ import annotations # Enable Python 4 type hints in Python 3\n",
    "from thermoengine.equilibrate import PhaseLibrary, GibbsMinimizer, System\n",
    "import thermoengine as thermo\n",
    "from thermoengine.const import units\n",
    "from thermoengine.core import UnorderedList\n",
    "import warnings\n",
    "warnings.simplefilter(action='ignore', category=FutureWarning)"
   ]
  },
  {
   "cell_type": "code",
   "execution_count": 2,
   "metadata": {
    "collapsed": false,
    "jupyter": {
     "outputs_hidden": false
    },
    "pycharm": {
     "name": "#%%\n"
    }
   },
   "outputs": [],
   "source": [
    "phase_symbols = [\n",
    "    \"Qz\",   \n",
    "    \"Grt\", # Pyrope, grossular, almandine\n",
    "    \"Cpx\", # Alumino-buffonite, buffonite, CaTs, cEn, Di, Essenite, He, Jd\n",
    "    \"Opx\",\n",
    "    \"Ky\",\n",
    "    \"Fsp\", # Albite, anorthite, microcline, sanidine\n",
    "    \"Ru\"\n",
    "]\n",
    "\n",
    "oxide_comp = thermo.OxideWtComp(\n",
    "    SiO2  = 53.30,\n",
    "    Al2O3 = 17.20, \n",
    "    FeO   = 07.12, \n",
    "    TiO2  = 00.98,\n",
    "    MgO   = 07.63, \n",
    "    CaO   = 10.15, \n",
    "    Na2O  = 02.63, \n",
    "    K2O   = 00.70,\n",
    ")\n",
    "\n",
    "berman = thermo.model.Database(database='Berman')\n"
   ]
  },
  {
   "cell_type": "code",
   "execution_count": 3,
   "metadata": {},
   "outputs": [],
   "source": [
    "phases = berman.get_phases(phase_symbols)\n",
    "phase_library = PhaseLibrary(phases)"
   ]
  },
  {
   "cell_type": "code",
   "execution_count": 9,
   "metadata": {},
   "outputs": [
    {
     "data": {
      "text/plain": [
       "UnorderedList(['Quartz',\n",
       "               'Garnet',\n",
       "               'Clinopyroxene',\n",
       "               'Orthopyroxene',\n",
       "               'Kyanite',\n",
       "               'Feldspar'])"
      ]
     },
     "execution_count": 9,
     "metadata": {},
     "output_type": "execute_result"
    }
   ],
   "source": [
    "phase_library.available_phase_names"
   ]
  },
  {
   "cell_type": "code",
   "execution_count": 4,
   "metadata": {},
   "outputs": [
    {
     "name": "stdout",
     "output_type": "stream",
     "text": [
      "Aff = 2.3084688029484823\n",
      "           Na     Mg        Al        Si         K    Ca     Ti    Fe\n",
      "Qz   0.000000  0.000  0.000000  0.333333  0.000000  0.00  0.000  0.00\n",
      "Ky   0.000000  0.000  0.250000  0.125000  0.000000  0.00  0.000  0.00\n",
      "Cpx  0.040000  0.030  0.070000  0.170000  0.000000  0.06  0.000  0.03\n",
      "Cpx  0.030000  0.035  0.060000  0.160000  0.000000  0.07  0.005  0.04\n",
      "Cpx  0.030000  0.040  0.060000  0.170000  0.000000  0.07  0.000  0.03\n",
      "Cpx  0.030000  0.055  0.050000  0.170000  0.000000  0.06  0.005  0.03\n",
      "Opx  0.000000  0.200  0.000000  0.200000  0.000000  0.00  0.000  0.00\n",
      "Fsp  0.007692  0.000  0.076923  0.230769  0.069231  0.00  0.000  0.00\n",
      "---\n",
      "Qz [1.]\n",
      "Ky [1.]\n",
      "Cpx [0.3 0.  0.  0.  0.  0.3 0.4]\n",
      "Cpx [0.3 0.  0.  0.  0.1 0.3 0.3]\n",
      "Cpx [0.4 0.  0.  0.  0.  0.3 0.3]\n",
      "Cpx [0.3 0.1 0.  0.  0.1 0.2 0.3]\n",
      "Opx [0. 1. 0. 0. 0. 0. 0.]\n",
      "Fsp [0.1 0.  0.9]\n"
     ]
    }
   ],
   "source": [
    "system = System(\n",
    "    T=1000,\n",
    "    P=2*units.GPA, \n",
    "    comp=oxide_comp,\n",
    "    options={'grid_spacing':0.1},\n",
    "    phase_library=phase_library\n",
    ")"
   ]
  },
  {
   "cell_type": "code",
   "execution_count": null,
   "metadata": {
    "collapsed": false,
    "jupyter": {
     "outputs_hidden": false
    },
    "pycharm": {
     "name": "#%%\n"
    }
   },
   "outputs": [],
   "source": [
    "import numpy as np\n",
    "\n",
    "pressures = np.linspace(0.5,2.5,1)\n",
    "temperatures = np.linspace(500,1200,1)\n",
    "\n",
    "for i,T in enumerate(temperatures):\n",
    "    for j,P in enumerate(pressures):\n",
    "        pressure = P*units.GPA\n",
    "        temperature = T\n",
    "        system.update(P=presure, T=temperature)\n",
    "        print(system.summary)\n"
   ]
  }
 ],
 "metadata": {
  "kernelspec": {
   "display_name": "Python 3.9.12 ('base')",
   "language": "python",
   "name": "python3"
  },
  "language_info": {
   "codemirror_mode": {
    "name": "ipython",
    "version": 3
   },
   "file_extension": ".py",
   "mimetype": "text/x-python",
   "name": "python",
   "nbconvert_exporter": "python",
   "pygments_lexer": "ipython3",
   "version": "3.9.12"
  },
  "vscode": {
   "interpreter": {
    "hash": "d4d1e4263499bec80672ea0156c357c1ee493ec2b1c70f0acce89fc37c4a6abe"
   }
  }
 },
 "nbformat": 4,
 "nbformat_minor": 4
}
