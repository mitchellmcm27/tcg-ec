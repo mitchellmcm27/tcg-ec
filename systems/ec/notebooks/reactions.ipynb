{
 "cells": [
  {
   "cell_type": "code",
   "execution_count": null,
   "metadata": {},
   "outputs": [],
   "source": [
    "# SiO2\n",
    "\n",
    "# Fe2SiO4\n",
    "# Mg2SiO4\n",
    "\n",
    "# MgSiO3\n",
    "# FeSiO3\n",
    "\n"
   ]
  }
 ],
 "metadata": {
  "language_info": {
   "name": "python"
  },
  "orig_nbformat": 4
 },
 "nbformat": 4,
 "nbformat_minor": 2
}
