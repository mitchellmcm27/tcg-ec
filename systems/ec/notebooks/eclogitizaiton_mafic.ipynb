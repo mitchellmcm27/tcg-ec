{
 "cells": [
  {
   "cell_type": "code",
   "execution_count": 1,
   "metadata": {},
   "outputs": [
    {
     "name": "stderr",
     "output_type": "stream",
     "text": [
      "\n",
      "Bad key text.latex.preview in file /Users/mmcmillan31/Library/Python/3.9/lib/python/site-packages/matplotlib/mpl-data/stylelib/_classic_test.mplstyle, line 123 ('text.latex.preview : False')\n",
      "You probably need to get an updated matplotlibrc file from\n",
      "https://github.com/matplotlib/matplotlib/blob/v3.7.1/matplotlibrc.template\n",
      "or from the matplotlib source distribution\n",
      "\n",
      "Bad key mathtext.fallback_to_cm in file /Users/mmcmillan31/Library/Python/3.9/lib/python/site-packages/matplotlib/mpl-data/stylelib/_classic_test.mplstyle, line 155 ('mathtext.fallback_to_cm : True  # When True, use symbols from the Computer Modern')\n",
      "You probably need to get an updated matplotlibrc file from\n",
      "https://github.com/matplotlib/matplotlib/blob/v3.7.1/matplotlibrc.template\n",
      "or from the matplotlib source distribution\n",
      "\n",
      "Bad key savefig.jpeg_quality in file /Users/mmcmillan31/Library/Python/3.9/lib/python/site-packages/matplotlib/mpl-data/stylelib/_classic_test.mplstyle, line 418 ('savefig.jpeg_quality: 95       # when a jpeg is saved, the default quality parameter.')\n",
      "You probably need to get an updated matplotlibrc file from\n",
      "https://github.com/matplotlib/matplotlib/blob/v3.7.1/matplotlibrc.template\n",
      "or from the matplotlib source distribution\n",
      "\n",
      "Bad key keymap.all_axes in file /Users/mmcmillan31/Library/Python/3.9/lib/python/site-packages/matplotlib/mpl-data/stylelib/_classic_test.mplstyle, line 466 ('keymap.all_axes : a                 # enable all axes')\n",
      "You probably need to get an updated matplotlibrc file from\n",
      "https://github.com/matplotlib/matplotlib/blob/v3.7.1/matplotlibrc.template\n",
      "or from the matplotlib source distribution\n",
      "\n",
      "Bad key animation.avconv_path in file /Users/mmcmillan31/Library/Python/3.9/lib/python/site-packages/matplotlib/mpl-data/stylelib/_classic_test.mplstyle, line 477 ('animation.avconv_path: avconv     # Path to avconv binary. Without full path')\n",
      "You probably need to get an updated matplotlibrc file from\n",
      "https://github.com/matplotlib/matplotlib/blob/v3.7.1/matplotlibrc.template\n",
      "or from the matplotlib source distribution\n",
      "\n",
      "Bad key animation.avconv_args in file /Users/mmcmillan31/Library/Python/3.9/lib/python/site-packages/matplotlib/mpl-data/stylelib/_classic_test.mplstyle, line 479 ('animation.avconv_args:            # Additional arguments to pass to avconv')\n",
      "You probably need to get an updated matplotlibrc file from\n",
      "https://github.com/matplotlib/matplotlib/blob/v3.7.1/matplotlibrc.template\n",
      "or from the matplotlib source distribution\n"
     ]
    }
   ],
   "source": [
    "import os,sys\n",
    "import numpy as np\n",
    "import sympy as sym\n",
    "import sys\n",
    "sym.init_printing()\n",
    "sys.path.append(os.path.join(os.path.pardir, 'python'))\n",
    "from tcg_slb.phasediagram.scipy import ScipyPDReactiveODE\n",
    "from tcg_slb.phasediagram.base import PDReactiveGrid, PDReactiveGridDiagnostics\n",
    "from tcg_slb.base import *\n",
    "import pickle\n",
    "from pathlib import Path\n",
    "\n",
    "reference= 'eclogitization_mafic'"
   ]
  },
  {
   "cell_type": "code",
   "execution_count": 2,
   "metadata": {},
   "outputs": [],
   "source": [
    "def get_reaction(lib=''):\n",
    "    pv = repr(sys.version_info.major)+'.'+repr(sys.version_info.minor)\n",
    "    path = os.path.join(os.path.pardir, 'database', 'install', lib, 'lib', 'python'+pv,'site-packages/')# the final slash is necessary!\n",
    "    sys.path.append(path) \n",
    "    print(path)\n",
    "    tcgdb = __import__('py_'+lib)\n",
    "    func = getattr(tcgdb,lib) \n",
    "    rxn = func() # <-- this should work!\n",
    "    return rxn\n",
    "\n",
    "def get_pickle_path(rxnObj): \n",
    "    return Path('output', rxnObj.name() + '.pickle')\n",
    "\n",
    "def load_grid(reactionObject):\n",
    "    filename = get_pickle_path(reactionObject)\n",
    "    with open(filename, 'rb') as pfile:\n",
    "        bdfgrid = pickle.load(pfile)\n",
    "    return bdfgrid\n",
    "\n",
    "def save_grid(bdfgrid, reactionObject):\n",
    "    filename = get_pickle_path(reactionObject)\n",
    "    filename.parent.mkdir(exist_ok=True, parents=True)\n",
    "    with open(filename, 'wb+') as pfile:\n",
    "        pickle.dump(bdfgrid, pfile)\n",
    "\n",
    "def solve_reaction_grid(reactionObject, mi0=None, Cik0=None, T_range=None, p_range=None, filename=None, reload=False, save=False, odeClass=ScipyPDReactiveODE,Da=None):\n",
    "    if reload:\n",
    "        return load_grid(reactionObject)\n",
    "\n",
    "    i0 = 2 # doesn't matter as long as you pass cik0\n",
    "    end = 1e5 # end time\n",
    "\n",
    "    bdfgrid = PDReactiveGrid()\n",
    "\n",
    "    bdfgrid.solve(reactionObject, ScipyPDReactiveODE, i0, ['T', 'p'], T_range, p_range, end, Cik0=Cik0, mi0=mi0)\n",
    "\n",
    "    if save:\n",
    "        save_grid(bdfgrid, reactionObject)\n",
    "\n",
    "    return bdfgrid\n",
    "\n",
    "def plot_reaction_grid(rxn, bdfgrid, plot_phases=True,figure_background=None, figure_xlim=[273.15,1273.15], figure_ylim=[0.0,5.0]):\n",
    "    import matplotlib.pyplot as plt\n",
    "\n",
    "    def decorate(pdrgd):\n",
    "        def new_setup_axes(self,axi):\n",
    "            if(figure_background is not None):\n",
    "                img = plt.imread(figure_background)\n",
    "                ip = axi.imshow(img)\n",
    "            axi.axis('off')\n",
    "            ax = axi.inset_axes([0.001,0.006,0.995,0.991])\n",
    "            ax.patch.set_alpha(0.0)\n",
    "            \n",
    "            ax.set_xlabel(\"Temperature (K)\")\n",
    "            ax.set_ylabel(\"Pressure (GPa)\")\n",
    "            ax.set_xlim(figure_xlim)\n",
    "            ax.set_ylim(figure_ylim)\n",
    "            return ax\n",
    "    \n",
    "        #replace the display with newdisplay\n",
    "        pdrgd.setup_axes = new_setup_axes\n",
    "    \n",
    "        #return the modified student \n",
    "        return pdrgd\n",
    "\n",
    "    bdfdiag = decorate(PDReactiveGridDiagnostics)(rxn,bdfgrid) \n",
    "    s=bdfdiag.plot_rho()\n",
    "    s.set_clim([25., 38.])\n",
    "    s.set_cmap('jet')\n",
    "\n",
    "    if plot_phases:\n",
    "        bdfdiag.plot_phases()\n",
    "    return bdfdiag\n",
    "\n",
    "def run_reaction(rxnName=None, mi0=None, Cik0=None, t_range=None, p_range=None, reload=False, save=False,t0=900,p0=2.0,**kwargs):\n",
    "\n",
    "    rxn = get_reaction(rxnName)\n",
    "\n",
    "    # initial temperature, pressure and phase volume fraction\n",
    "    Ti = t0 # kelvin\n",
    "    pi = GPa2Bar(p0) # bars\n",
    "\n",
    "    try:\n",
    "        ode = ScipyPDReactiveODE(rxn)\n",
    "        end_t = 10.0\n",
    "        ode.solve(Ti,pi,mi0,Cik0,end_t,**kwargs)\n",
    "        display(ode.stime)\n",
    "        display(ode.final_phases(1.e-2))\n",
    "        ode.plot()\n",
    "    except:\n",
    "        pass\n",
    "\n",
    "    grid = solve_reaction_grid(rxn, mi0=mi0, Cik0=Cik0, T_range=t_range, p_range=p_range, reload=reload, save=save,**kwargs)\n",
    "    plot_reaction_grid(rxn,grid, plot_phases=True)\n",
    "    return rxn, grid"
   ]
  },
  {
   "cell_type": "code",
   "execution_count": 3,
   "metadata": {},
   "outputs": [],
   "source": [
    "Tmin = 273\n",
    "Tmax = 1273\n",
    "nT = 5\n",
    "\n",
    "Pmin = 0.\n",
    "Pmax = 2.5\n",
    "nP = 5\n",
    "\n",
    "T = np.linspace(Tmin, Tmax, nT)\n",
    "P = np.linspace(Pmin, Pmax, nP)\n",
    "\n",
    "phases = [\n",
    "    'Clinopyroxene',\n",
    "    'Orthopyroxene',\n",
    "    'Quartz',\n",
    "    'Feldspar', \n",
    "    'Garnet', \n",
    "    'Kyanite',\n",
    "    'Olivine',\n",
    "    'Nepheline',\n",
    "    'Spinel'\n",
    "]\n",
    "\n",
    "ems = [\n",
    "    'Diopside', 'Hedenbergite', 'Clinoenstatite', 'CaTschermaks', 'Jadeite',\n",
    "    'Enstatite', 'Ferrosilite', 'MgTschermaks', 'OrthoDiopside',\n",
    "    'Quartz',\n",
    "    'Anorthite','Albite',\n",
    "    'Pyrope', 'Almandine', 'Grossular', 'MgMajorite', 'NaMajorite',\n",
    "    'Kyanite',\n",
    "    'Forsterite','Fayalite',\n",
    "    'Nepheline',\n",
    "    'MgSpinel','Hercynite'\n",
    "]\n",
    "\n",
    "# mass fractions of the phases\n",
    "\n",
    "# Hacker and Abers 2003 Garnet Granulite\n",
    "# except they gave it in vol%, still need to convert to wt%\n",
    "\n",
    "## Garnet-Granulite facies\n",
    "mi0 = np.asarray([\n",
    "    0.185, # cpx\n",
    "    0.185, # opx\n",
    "    0.00, # quartz\n",
    "    0.35, # feldspar\n",
    "    0.28, # garnet\n",
    "    0.00, # kyanite\n",
    "    0.00, # olivine\n",
    "    0.00, # nepheline\n",
    "    0.00, # spinel\n",
    " ])\n",
    "\n",
    "# mass fractions of the end-members\n",
    "# note: * = thermodynamic endmember, set to zero\n",
    "Cik0 = np.asarray([\n",
    "    0.28, 0.61, 0., 0., 0.11, # di, hed, *cEn, *cats, jd\n",
    "    0.5, 0.5, 0., 0., # en, fs, *mats, *oDi\n",
    "    1., # quartz\n",
    "    0.43, 0.57, # an, ab\n",
    "    0.36, 0.46, 0.18, 0., 0., # py, alm, gr, *mgmaj, *namaj\n",
    "    1., # ky\n",
    "    0.5, 0.5, #fo-fa\n",
    "    1., #neph\n",
    "    0.5,0.5, #mgSp-hcy\n",
    "])\n"
   ]
  },
  {
   "cell_type": "code",
   "execution_count": 4,
   "metadata": {},
   "outputs": [
    {
     "ename": "",
     "evalue": "",
     "output_type": "error",
     "traceback": [
      "\u001b[1;31mCanceled future for execute_request message before replies were done"
     ]
    },
    {
     "ename": "",
     "evalue": "",
     "output_type": "error",
     "traceback": [
      "\u001b[1;31mThe Kernel crashed while executing code in the the current cell or a previous cell. Please review the code in the cell(s) to identify a possible cause of the failure. Click <a href='https://aka.ms/vscodeJupyterKernelCrash'>here</a> for more info. View Jupyter <a href='command:jupyter.viewOutput'>log</a> for further details."
     ]
    }
   ],
   "source": [
    "rxn, grid = run_reaction(\n",
    "    \"eclogitization_crustal_slb_rx\",\n",
    "    mi0=mi0,\n",
    "    Cik0=Cik0,\n",
    "    t_range=T,\n",
    "    p_range=P,\n",
    "    t0=1200,\n",
    "    p0=2.5,\n",
    "    reload=False,\n",
    "    save=True,\n",
    ")"
   ]
  },
  {
   "cell_type": "code",
   "execution_count": null,
   "metadata": {},
   "outputs": [],
   "source": [
    "bdfdiag = plot_reaction_grid(\n",
    "    rxn,\n",
    "    grid,\n",
    "    plot_phases=True,\n",
    "    figure_background=\"figures/hp62-cropped.png\",\n",
    "    figure_xlim=[773.0, 1273.0],\n",
    "    figure_ylim=[0.5, 2.5,],\n",
    ")\n",
    "bdfdiag.plot_rho_contours()\n"
   ]
  },
  {
   "cell_type": "code",
   "execution_count": null,
   "metadata": {},
   "outputs": [],
   "source": [
    "bdfdiag.plot_phases()\n",
    "plt.savefig('figs/mafic/hp62-pseudosection.pdf')"
   ]
  },
  {
   "cell_type": "code",
   "execution_count": null,
   "metadata": {},
   "outputs": [],
   "source": [
    "bdfdiag = plot_reaction_grid(\n",
    "    rxn,\n",
    "    grid,\n",
    "    figure_background=\"figures/hp62-density-cropped.png\",\n",
    "    figure_xlim=[773.0, 1273.0],\n",
    "    figure_ylim=[0.5, 2.5,],\n",
    ")\n",
    "\n",
    "s=bdfdiag.plot_rho()\n",
    "s.set_clim([25., 35.])\n",
    "s.set_cmap('jet')\n",
    "plt.savefig('figs/mafic/hp62-density.pdf')"
   ]
  },
  {
   "cell_type": "code",
   "execution_count": null,
   "metadata": {},
   "outputs": [],
   "source": [
    "s=bdfdiag.plot_rho_contours()\n",
    "plt.savefig('figs/mafic/hp62-density-contours.pdf')"
   ]
  },
  {
   "cell_type": "code",
   "execution_count": null,
   "metadata": {},
   "outputs": [],
   "source": [
    "bdfdiag = plot_reaction_grid(rxn,grid)\n",
    "bdfdiag.plot_stime()"
   ]
  },
  {
   "cell_type": "code",
   "execution_count": 9,
   "metadata": {},
   "outputs": [
    {
     "data": {
      "image/png": "[encoded data removed]",
      "text/plain": [
       "<Figure size 432x288 with 1 Axes>"
      ]
     },
     "metadata": {
      "needs_background": "light"
     },
     "output_type": "display_data"
    }
   ],
   "source": [
    "i0 = 2 # doesn't matter as long as you pass cik0\n",
    "end = 10 # end time\n",
    "\n",
    "bdfgrid = PDReactiveGrid()\n",
    "\n",
    "Trange = [1000.]\n",
    "Prange = np.linspace(0.25, 5.0, 40)\n",
    "Dagrid = [[None for j in range(len(Trange))] for i in range(len(Prange))]\n",
    "porosity = [[None for j in range(len(Trange))] for i in range(len(Prange))]\n",
    "\n",
    "for i, p in enumerate(Prange):\n",
    "    for j, t in enumerate(Trange):\n",
    "        poro = (1.0 + np.tanh((p - 3.0)*3.0))/2 # 0 to 1\n",
    "        Da_val = 0.0001 + ((poro)**10.)\n",
    "        Dagrid[i][j] = Da_val\n",
    "        porosity[i][j] = poro\n",
    "\n",
    "Dagrid = np.asarray(Dagrid)\n",
    "\n",
    "from matplotlib import pyplot as plt\n",
    "plt.plot(Dagrid, Prange)\n",
    "plt.show()\n",
    "\n",
    "rxn = get_reaction(\"eclogitization_slb_rx\")\n",
    "\n",
    "\n",
    "bdfgrid.solve(rxn, ScipyPDReactiveODE, i0, ['T', 'p'], Trange, Prange, end, Cik0=Cik0, mi0=mi0, Da=0.0001)\n",
    "bdfdiag = PDReactiveGridDiagnostics(rxn,bdfgrid)\n",
    "rho2 = bdfdiag.rhogrid()\n",
    "\n",
    "bdfgrid.solve(rxn, ScipyPDReactiveODE, i0, ['T', 'p'], Trange, Prange, end, Cik0=Cik0, mi0=mi0, Da=10.0)\n",
    "bdfdiag = PDReactiveGridDiagnostics(rxn,bdfgrid)\n",
    "rho3 = bdfdiag.rhogrid()\n",
    "\n",
    "bdfgrid.solve(rxn, ScipyPDReactiveODE, i0, ['T', 'p'], Trange, Prange, end, Cik0=Cik0, mi0=mi0, Da=Dagrid)\n",
    "bdfdiag = PDReactiveGridDiagnostics(rxn,bdfgrid)\n",
    "rho1 = bdfdiag.rhogrid()"
   ]
  },
  {
   "cell_type": "code",
   "execution_count": 10,
   "metadata": {},
   "outputs": [
    {
     "data": {
      "image/png": "[encoded data removed]",
      "text/plain": [
       "<Figure size 216x432 with 2 Axes>"
      ]
     },
     "metadata": {
      "needs_background": "light"
     },
     "output_type": "display_data"
    }
   ],
   "source": [
    "from matplotlib import pyplot as plt\n",
    "fig, ax1 = plt.subplots(figsize=(3, 6))\n",
    "im = ax1.imshow(porosity, cmap=\"Blues\", extent=(20,50,0.25/3000/9.8*1e6,5.0/3000/9.8*1e6), origin=\"lower\", alpha=1., interpolation='bilinear', aspect='auto')\n",
    "im.set_clim(0.0, 1.8)\n",
    "ax1.set_ylim(0.25/3000/9.8*1e6,5/3000/9.8*1e6)\n",
    "ax1.plot(rho2, bdfdiag.grid.ygrid/3000/9.8*1e6, 'k--', alpha=0.5)\n",
    "ax1.plot(rho3, bdfdiag.grid.ygrid/3000/9.8*1e6, 'k:', alpha=0.5)\n",
    "ax1.plot(rho1, bdfdiag.grid.ygrid/3000/9.8*1e6, 'k')\n",
    "ax1.set_xlim(27,35)\n",
    "ax1.set_xlabel(\"Density (kg/m$^3$)\")\n",
    "ax1.set_ylabel(\"Depth (km, $T=1000$ K)\")\n",
    "\n",
    "ax2 = ax1.twiny()\n",
    "ax2.set_xlim(-0.1,1.1)\n",
    "ax2.plot(Dagrid, bdfdiag.grid.ygrid/3000/9.8*1e6, 'b', linewidth=0.75)\n",
    "\n",
    "blue = [0.6,0.7,0.9]\n",
    "s = ax2.scatter([1],[1], marker='s', color=blue)\n",
    "ax2.set_xlabel(\"Damköhler no.\")\n",
    "ax2.legend(['$Da(\\\\phi)$', '$\\\\phi(P)$'])\n",
    "s.remove()\n",
    "ax1.legend(['$\\\\rho, Da=0.0001$', '$\\\\rho, Da=10$','$\\\\rho, Da(\\\\phi)$'],loc=\"lower left\")\n",
    "ax2.xaxis.label.set_color('blue')\n",
    "ax2.tick_params(axis='x', colors='blue')\n",
    "plt.gca().invert_yaxis()\n",
    "plt.savefig('figs/mafic/da-model.pdf')"
   ]
  },
  {
   "cell_type": "code",
   "execution_count": null,
   "metadata": {},
   "outputs": [],
   "source": []
  }
 ],
 "metadata": {
  "kernelspec": {
   "display_name": "Python 3 (ipykernel)",
   "language": "python",
   "name": "python3"
  },
  "language_info": {
   "codemirror_mode": {
    "name": "ipython",
    "version": 3
   },
   "file_extension": ".py",
   "mimetype": "text/x-python",
   "name": "python",
   "nbconvert_exporter": "python",
   "pygments_lexer": "ipython3",
   "version": "3.9.6"
  },
  "vscode": {
   "interpreter": {
    "hash": "31f2aee4e71d21fbe5cf8b01ff0e069b9275f58929596ceb00d14d90e3e16cd6"
   }
  }
 },
 "nbformat": 4,
 "nbformat_minor": 4
}
