{
 "cells": [
  {
   "cell_type": "code",
   "execution_count": 4,
   "metadata": {},
   "outputs": [
    {
     "name": "stdout",
     "output_type": "stream",
     "text": [
      "A_s*h_r**2/kappa - A_s*h_r**2*exp(-z/h_r)/kappa - A_s*h_r**2*z/(L*kappa) + A_s*h_r**2*z*exp(-L/h_r)/(L*kappa) + T_S + T_L*z/L - T_S*z/L\n",
      "-A_s*h_r**2*m/kappa + A_s*h_r**2*m*exp(-L/h_r)/kappa + A_s*h_r**2/kappa - A_s*h_r**2*exp(-L*m/h_r)/kappa + T_L*m - T_S*m + T_S\n",
      "T(z) = \\frac{A_{s} h_{r}^{2}}{\\kappa} - \\frac{A_{s} h_{r}^{2} e^{- \\frac{z}{h_{r}}}}{\\kappa} - \\frac{A_{s} h_{r}^{2} z}{L \\kappa} + \\frac{A_{s} h_{r}^{2} z e^{- \\frac{L}{h_{r}}}}{L \\kappa} + T_{S} + \\frac{T_{L} z}{L} - \\frac{T_{S} z}{L}\n",
      "T(t) = - \\frac{A_{s} \\left(t w_{m} + z_{m0}\\right) \\left(\\frac{h_{0} t w_{m}}{z_{m0}} + h_{0}\\right)^{2}}{\\kappa \\left(\\frac{L_{0} t w_{m}}{z_{m0}} + L_{0}\\right)} + \\frac{A_{s} \\left(t w_{m} + z_{m0}\\right) \\left(\\frac{h_{0} t w_{m}}{z_{m0}} + h_{0}\\right)^{2} e^{- \\frac{\\frac{L_{0} t w_{m}}{z_{m0}} + L_{0}}{\\frac{h_{0} t w_{m}}{z_{m0}} + h_{0}}}}{\\kappa \\left(\\frac{L_{0} t w_{m}}{z_{m0}} + L_{0}\\right)} + \\frac{A_{s} \\left(\\frac{h_{0} t w_{m}}{z_{m0}} + h_{0}\\right)^{2}}{\\kappa} - \\frac{A_{s} \\left(\\frac{h_{0} t w_{m}}{z_{m0}} + h_{0}\\right)^{2} e^{- \\frac{t w_{m} + z_{m0}}{\\frac{h_{0} t w_{m}}{z_{m0}} + h_{0}}}}{\\kappa} + \\frac{T_{L} \\left(t w_{m} + z_{m0}\\right)}{\\frac{L_{0} t w_{m}}{z_{m0}} + L_{0}} - \\frac{T_{S} \\left(t w_{m} + z_{m0}\\right)}{\\frac{L_{0} t w_{m}}{z_{m0}} + L_{0}} + T_{S}\n",
      "T0 = 770.896472022795\n",
      "T1 = 1020.81935660654\n",
      "dTdt = \\frac{2 A_{s} h_{0}^{2} w_{m} \\left(- L_{0} t w_{m} e^{\\frac{L_{0}}{h_{0}}} + L_{0} t w_{m} e^{\\frac{L_{0} + z_{m0}}{h_{0}}} - L_{0} z_{m0} e^{\\frac{L_{0}}{h_{0}}} + L_{0} z_{m0} e^{\\frac{L_{0} + z_{m0}}{h_{0}}} + t w_{m} z_{m0} e^{\\frac{z_{m0}}{h_{0}}} - t w_{m} z_{m0} e^{\\frac{L_{0} + z_{m0}}{h_{0}}} + z_{m0}^{2} e^{\\frac{z_{m0}}{h_{0}}} - z_{m0}^{2} e^{\\frac{L_{0} + z_{m0}}{h_{0}}}\\right) e^{\\frac{- \\frac{12 L_{0} t w_{m}}{t w_{m} + z_{m0}} - \\frac{12 L_{0} z_{m0}}{t w_{m} + z_{m0}} + 11 L_{0} - \\frac{5 t w_{m} z_{m0}}{t w_{m} + z_{m0}} - \\frac{5 z_{m0}^{2}}{t w_{m} + z_{m0}} + 4 z_{m0}}{h_{0}}}}{L_{0} \\kappa z_{m0}^{2}}\n",
      "(0.10473366257996*t + 99161831730706.4)*exp(-(1.9742614799649e-9*t + 1869230.76923077)/(3.16856780735108e-11*t + 30000.0))\n"
     ]
    },
    {
     "data": {
      "image/png": "[encoded data removed]",
      "text/latex": [
       "$$\\frac{\\left(2.11237853823405 \\cdot 10^{-17} t + 0.02\\right) \\left(1.37304604985213 \\cdot 10^{-11} t + 13000.0\\right)^{2} e^{\\frac{3.16856780735108 \\cdot 10^{-11} t + 30000.0}{1.37304604985213 \\cdot 10^{-11} t + 13000.0}} - \\left(3.87269398676243 \\cdot 10^{-17} t + 0.0366666666666667\\right) \\left(1.37304604985213 \\cdot 10^{-11} t + 13000.0\\right)^{2} e^{\\frac{5.80904098014364 \\cdot 10^{-11} t + 55000.0}{1.37304604985213 \\cdot 10^{-11} t + 13000.0}} + \\left(5.80904098014364 \\cdot 10^{-11} t + 55000.0\\right) \\left(6.66666666666667 \\cdot 10^{-7} \\left(1.37304604985213 \\cdot 10^{-11} t + 13000.0\\right)^{2} + 10.0\\right) e^{\\frac{8.97760878749472 \\cdot 10^{-11} t + 85000.0}{1.37304604985213 \\cdot 10^{-11} t + 13000.0}} + \\left(4.18250950570342 \\cdot 10^{-8} t - \\left(2.11237853823405 \\cdot 10^{-17} t + 0.02\\right) \\left(1.37304604985213 \\cdot 10^{-11} t + 13000.0\\right)^{2} + 39600000.0\\right) e^{\\frac{8.97760878749472 \\cdot 10^{-11} t + 85000.0}{1.37304604985213 \\cdot 10^{-11} t + 13000.0}}}{\\left(5.80904098014364 \\cdot 10^{-11} t + 55000.0\\right) e^{\\frac{8.97760878749472 \\cdot 10^{-11} t + 85000.0}{1.37304604985213 \\cdot 10^{-11} t + 13000.0}}}$$"
      ],
      "text/plain": [
       "⎛                                                                     3.168567\n",
       "⎜                                                                     ────────\n",
       "⎜                                                                  2  1.373046\n",
       "⎝(2.11237853823405e-17⋅t + 0.02)⋅(1.37304604985213e-11⋅t + 13000.0) ⋅ℯ        \n",
       "──────────────────────────────────────────────────────────────────────────────\n",
       "                                                                              \n",
       "\n",
       "80735108e-11⋅t + 30000.0                                                      \n",
       "────────────────────────                                                      \n",
       "04985213e-11⋅t + 13000.0                                                      \n",
       "                         - (3.87269398676243e-17⋅t + 0.0366666666666667)⋅(1.37\n",
       "──────────────────────────────────────────────────────────────────────────────\n",
       "                                                                              \n",
       "\n",
       "                                5.80904098014364e-11⋅t + 55000.0              \n",
       "                                ────────────────────────────────              \n",
       "                             2  1.37304604985213e-11⋅t + 13000.0              \n",
       "304604985213e-11⋅t + 13000.0) ⋅ℯ                                 + (5.80904098\n",
       "──────────────────────────────────────────────────────────────────────────────\n",
       "                                                                              \n",
       "\n",
       "                                                                              \n",
       "                                                                              \n",
       "                        ⎛                                                     \n",
       "014364e-11⋅t + 55000.0)⋅⎝6.66666666666667e-7⋅(1.37304604985213e-11⋅t + 13000.0\n",
       "──────────────────────────────────────────────────────────────────────────────\n",
       "                   5.80904098014364e-11⋅t + 55000.0                           \n",
       "\n",
       "            8.97760878749472e-11⋅t + 85000.0                                  \n",
       "            ────────────────────────────────                                  \n",
       " 2       ⎞  1.37304604985213e-11⋅t + 13000.0   ⎛                              \n",
       ")  + 10.0⎠⋅ℯ                                 + ⎝4.18250950570342e-8⋅t - (2.112\n",
       "──────────────────────────────────────────────────────────────────────────────\n",
       "                                                                              \n",
       "\n",
       "                                                                             8\n",
       "                                                                             ─\n",
       "                                                            2             ⎞  1\n",
       "37853823405e-17⋅t + 0.02)⋅(1.37304604985213e-11⋅t + 13000.0)  + 39600000.0⎠⋅ℯ \n",
       "──────────────────────────────────────────────────────────────────────────────\n",
       "                                                                              \n",
       "\n",
       ".97760878749472e-11⋅t + 85000.0⎞  -(8.97760878749472e-11⋅t + 85000.0) \n",
       "───────────────────────────────⎟  ────────────────────────────────────\n",
       ".37304604985213e-11⋅t + 13000.0⎟    1.37304604985213e-11⋅t + 13000.0  \n",
       "                               ⎠⋅ℯ                                    \n",
       "──────────────────────────────────────────────────────────────────────\n",
       "                                                                      "
      ]
     },
     "execution_count": 4,
     "metadata": {},
     "output_type": "execute_result"
    }
   ],
   "source": [
    "from sympy import *\n",
    "init_printing()\n",
    "z, t = symbols('z t',positive=True)\n",
    "A, k, h0, z0, L0, H, w, h, L, m, T0 = symbols('A_s kappa h_0 z_{m0} L_0 H w_m h_r L m T_0', positive=True)\n",
    "Ts,TL = symbols('T_S T_L', positive=True)\n",
    "\n",
    "\n",
    "T = symbols('T',cls=Function)\n",
    "\n",
    "Tsolve = dsolve(k*T(z).diff(z,z) + A*exp(-z/h), T(z), ics={T(0):Ts,T(L):TL})\n",
    "# TL*m - Ts*m + h**2*A*m/k + h**2*A*m/k*exp(-L/h) + Ts + h**2*A/k - h**2*A/k*exp(-L*m/h)\n",
    "\n",
    "Tsolve = Tsolve.simplify()\n",
    "\n",
    "print(Tsolve.rhs)\n",
    "print(Tsolve.rhs.subs(z,m*L).expand().simplify())\n",
    "\n",
    "print(\"T(z) = {}\".format(latex(Tsolve.rhs)))\n",
    "Tmoho = Tsolve.rhs.subs([[z,z0+w*t],[h,h0+w*h0/z0*t],[L,L0+L0/z0*w*t]])\n",
    "print(\"T(t) = {}\".format(latex(Tmoho)))\n",
    "\n",
    "dTdt = diff(Tmoho,t).expand().simplify()\n",
    "Tt = integrate(dTdt,t) + T0\n",
    "\n",
    "vals = {\n",
    "    A: 2.0e-6,\n",
    "    h0: 13.0e3,\n",
    "    w: 1.e-3/3.156e+7, # 1 mm/yr\n",
    "    z0: 30.0e3,\n",
    "    k: 3.0,\n",
    "    Ts: 10.,\n",
    "    TL: 1330.,\n",
    "    L0: 55.e3\n",
    "}\n",
    "\n",
    "print(\"T0 = {}\".format(Tmoho.subs(vals).subs(t,0)))\n",
    "print(\"T1 = {}\".format(Tmoho.subs(vals).subs(t,1.578e+15)))\n",
    "\n",
    "print(\"dTdt = {}\".format(latex(dTdt)))\n",
    "print(dTdt.subs(vals).simplify())\n",
    "dTdt"
   ]
  },
  {
   "cell_type": "code",
   "execution_count": null,
   "metadata": {},
   "outputs": [],
   "source": []
  }
 ],
 "metadata": {
  "kernelspec": {
   "display_name": "Python 3",
   "language": "python",
   "name": "python3"
  },
  "language_info": {
   "codemirror_mode": {
    "name": "ipython",
    "version": 3
   },
   "file_extension": ".py",
   "mimetype": "text/x-python",
   "name": "python",
   "nbconvert_exporter": "python",
   "pygments_lexer": "ipython3",
   "version": "3.8.10"
  }
 },
 "nbformat": 4,
 "nbformat_minor": 2
}
