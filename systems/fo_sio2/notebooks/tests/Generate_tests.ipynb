{
 "cells": [
  {
   "cell_type": "markdown",
   "metadata": {},
   "source": [
    "# Generate Tests\n",
    "\n",
    "This notebook imports a compiled ThermoCodegen object and uses the `Tester` class to generate pandas dataframes\n",
    "and pytest files for testing all of the interfaces to the code generated objects"
   ]
  },
  {
   "cell_type": "markdown",
   "metadata": {},
   "source": [
    "## testing notebook for the Fo-SiO$_2$ system"
   ]
  },
  {
   "cell_type": "code",
   "execution_count": null,
   "metadata": {},
   "outputs": [],
   "source": [
    "import pandas as pd\n",
    "import numpy as np\n",
    "import os\n",
    "from datetime import datetime\n",
    "from glob import glob\n",
    "import pytest\n",
    "import warnings\n",
    "\n",
    "from thermocodegen.testing import Tester"
   ]
  },
  {
   "cell_type": "markdown",
   "metadata": {},
   "source": [
    "Set a time-stamp for the tests\n"
   ]
  },
  {
   "cell_type": "code",
   "execution_count": null,
   "metadata": {},
   "outputs": [],
   "source": [
    "import thermocodegen as tcg\n",
    "timestamp = datetime.now().strftime(\"%Y-%m-%d_%H:%M:%S\")\n",
    "TCG_VERSION = tcg.__version__"
   ]
  },
  {
   "cell_type": "markdown",
   "metadata": {},
   "source": [
    "### let's set up some directory names for clarity"
   ]
  },
  {
   "cell_type": "code",
   "execution_count": null,
   "metadata": {},
   "outputs": [],
   "source": [
    "HOME_DIR = os.path.abspath('../..')\n",
    "TEST_DIR = HOME_DIR+'/tests/test-v{}-{}'.format(TCG_VERSION,timestamp)\n",
    "try:\n",
    "    os.makedirs(TEST_DIR)\n",
    "except:\n",
    "    pass\n",
    "print(TEST_DIR)"
   ]
  },
  {
   "cell_type": "code",
   "execution_count": null,
   "metadata": {},
   "outputs": [],
   "source": [
    "# load reaction object\n",
    "import py_fo_sio2_poly_linear_rxns as pfb\n",
    "rxn = pfb.fo_sio2_poly_linear_rxns()"
   ]
  },
  {
   "cell_type": "code",
   "execution_count": null,
   "metadata": {},
   "outputs": [],
   "source": [
    "rxn.report()"
   ]
  },
  {
   "cell_type": "code",
   "execution_count": null,
   "metadata": {},
   "outputs": [],
   "source": [
    "tester = Tester.factory(pfb)"
   ]
  },
  {
   "cell_type": "code",
   "execution_count": null,
   "metadata": {},
   "outputs": [],
   "source": [
    "tester.phase_dict"
   ]
  },
  {
   "cell_type": "markdown",
   "metadata": {},
   "source": [
    "## Test endmembers\n",
    "\n",
    "### set input dataframe for endmembers"
   ]
  },
  {
   "cell_type": "code",
   "execution_count": null,
   "metadata": {},
   "outputs": [],
   "source": [
    "em_df_in = tester.get_endmember_df_in()\n",
    "em_df_in"
   ]
  },
  {
   "cell_type": "markdown",
   "metadata": {},
   "source": [
    "### just set P,T fields for testing"
   ]
  },
  {
   "cell_type": "code",
   "execution_count": null,
   "metadata": {},
   "outputs": [],
   "source": [
    "# Set test variables\n",
    "T=1700.\n",
    "P=1000.\n",
    "em_df_in['P']= P*np.ones(len(em_df_in))\n",
    "em_df_in['T']= T*np.ones(len(em_df_in))\n",
    "em_df_in.dropna(axis=1,inplace=True)\n",
    "em_df_in"
   ]
  },
  {
   "cell_type": "markdown",
   "metadata": {},
   "source": [
    "### Generate output testing dataframe and pytest files"
   ]
  },
  {
   "cell_type": "code",
   "execution_count": null,
   "metadata": {},
   "outputs": [],
   "source": [
    "em_df_out = tester.set_df_out(em_df_in)\n",
    "em_df_out"
   ]
  },
  {
   "cell_type": "code",
   "execution_count": null,
   "metadata": {},
   "outputs": [],
   "source": [
    "em_df_out.to_csv('{}/Endmembers.csv'.format(TEST_DIR))"
   ]
  },
  {
   "cell_type": "code",
   "execution_count": null,
   "metadata": {},
   "outputs": [],
   "source": [
    "fileroot='{}/test_endmembers'.format(TEST_DIR) \n",
    "tester.write_tests(em_df_out,fileroot=fileroot)"
   ]
  },
  {
   "cell_type": "code",
   "execution_count": null,
   "metadata": {},
   "outputs": [],
   "source": [
    "file = glob(fileroot+'*')[-1]\n",
    "pytest.main(['--disable-warnings',file])"
   ]
  },
  {
   "cell_type": "markdown",
   "metadata": {},
   "source": [
    "## Test Phases\n",
    "\n",
    "### set input dataframe for phases"
   ]
  },
  {
   "cell_type": "code",
   "execution_count": null,
   "metadata": {},
   "outputs": [],
   "source": [
    "ph_df_in = tester.get_phase_df_in()\n",
    "ph_df_in"
   ]
  },
  {
   "cell_type": "code",
   "execution_count": null,
   "metadata": {},
   "outputs": [],
   "source": [
    "ph_df_in.drop([0,4],inplace=True)\n",
    "ph_df_in"
   ]
  },
  {
   "cell_type": "markdown",
   "metadata": {},
   "source": [
    "### just set P,T,c,x,n fields for testing"
   ]
  },
  {
   "cell_type": "code",
   "execution_count": null,
   "metadata": {},
   "outputs": [],
   "source": [
    "rxn.report()"
   ]
  },
  {
   "cell_type": "code",
   "execution_count": null,
   "metadata": {},
   "outputs": [],
   "source": [
    "# Set test variables\n",
    "T=1700.\n",
    "P=1000.\n",
    "ilq = 0\n",
    "iol = 1\n",
    "iopx = 2\n",
    "isi = 3\n",
    "i_c = 0\n",
    "\n",
    "phases = rxn.phases()\n",
    "pdict = {}\n",
    "for i,phase in enumerate(phases):\n",
    "    pdict[phase.name()] = i\n",
    "pdict"
   ]
  },
  {
   "cell_type": "code",
   "execution_count": null,
   "metadata": {},
   "outputs": [],
   "source": [
    "C=rxn.zero_C()\n",
    "C[ilq] = [.25, .75]\n",
    "for i in range(1,4):\n",
    "    C[i] = [1.]\n",
    "C"
   ]
  },
  {
   "cell_type": "code",
   "execution_count": null,
   "metadata": {},
   "outputs": [],
   "source": [
    "X = rxn.C_to_X(C)\n",
    "E_dict = {}\n",
    "for i,phase in enumerate(phases):\n",
    "    E_dict[phase.name()] = np.array(phase.conv_moles_to_elm(X[i]))"
   ]
  },
  {
   "cell_type": "code",
   "execution_count": null,
   "metadata": {},
   "outputs": [],
   "source": [
    "ph_df_in['P']= P*np.ones(len(C))\n",
    "ph_df_in['T']= T*np.ones(len(C))\n",
    "for index,row in ph_df_in.iterrows():\n",
    "    name = row['name']\n",
    "    print(index,name,pdict[name])\n",
    "    ph_df_in['c'][index] = np.array(C[pdict[name]])\n",
    "    ph_df_in['x'][index] = np.array(X[pdict[name]])\n",
    "    ph_df_in['n'][index] = np.array(X[pdict[name]])\n",
    "    ph_df_in['e'][index] = E_dict[name]\n",
    "ph_df_in['i']=i_c\n",
    "ph_df_in.dropna(axis=1,inplace=True)\n",
    "ph_df_in"
   ]
  },
  {
   "cell_type": "markdown",
   "metadata": {},
   "source": [
    "### Generate output testing dataframe and pytest files"
   ]
  },
  {
   "cell_type": "code",
   "execution_count": null,
   "metadata": {},
   "outputs": [],
   "source": [
    "ph_df_out = tester.set_df_out(ph_df_in)\n",
    "ph_df_out"
   ]
  },
  {
   "cell_type": "code",
   "execution_count": null,
   "metadata": {},
   "outputs": [],
   "source": [
    "ph_df_out.to_csv('{}/Phases.csv'.format(TEST_DIR))"
   ]
  },
  {
   "cell_type": "code",
   "execution_count": null,
   "metadata": {},
   "outputs": [],
   "source": [
    "fileroot='{}/test_phases'.format(TEST_DIR) \n",
    "tester.write_tests(ph_df_out,fileroot=fileroot)"
   ]
  },
  {
   "cell_type": "code",
   "execution_count": null,
   "metadata": {},
   "outputs": [],
   "source": [
    "file=glob(fileroot+'*')[-1]\n",
    "pytest.main(['--disable-warnings',file])"
   ]
  },
  {
   "cell_type": "markdown",
   "metadata": {},
   "source": [
    "## Test Reactions\n",
    "\n",
    "### set input dataframe for reactions"
   ]
  },
  {
   "cell_type": "code",
   "execution_count": null,
   "metadata": {},
   "outputs": [],
   "source": [
    "rx_df_in = tester.get_reaction_df_in()\n",
    "rx_df_in"
   ]
  },
  {
   "cell_type": "markdown",
   "metadata": {},
   "source": [
    "### just set P,T,c,x,n fields for testing"
   ]
  },
  {
   "cell_type": "code",
   "execution_count": null,
   "metadata": {},
   "outputs": [],
   "source": [
    "rxn.report()"
   ]
  },
  {
   "cell_type": "code",
   "execution_count": null,
   "metadata": {},
   "outputs": [],
   "source": [
    "# Set test variables\n",
    "X = rxn.C_to_X(C)\n",
    "Phi = [0.1, 0.6, 0.3, 0.0 ]\n",
    "\n",
    "# Variables for parameter set and get functions\n",
    "p, val = \"R\", 8.314\n",
    "\n",
    "#jacobian terms\n",
    "j = 0\n",
    "i = 3\n",
    "l = 0\n",
    "k = 0\n",
    "m = 1"
   ]
  },
  {
   "cell_type": "code",
   "execution_count": null,
   "metadata": {},
   "outputs": [],
   "source": [
    "rx_df_in['P']= P\n",
    "rx_df_in['T']= T\n",
    "rx_df_in['C']= [C]\n",
    "rx_df_in['X']= [X]\n",
    "rx_df_in['Phi'] = [Phi]\n",
    "rx_df_in['p'] = p\n",
    "rx_df_in['val'] = val\n",
    "rx_df_in[['i','j','k','l','m']]=pd.DataFrame.from_dict(dict(i=[i],j=[j],k=[k],l=[l],m=[m]))\n",
    "rx_df_in\n"
   ]
  },
  {
   "cell_type": "markdown",
   "metadata": {},
   "source": [
    "### Generate output testing dataframe and pytest files"
   ]
  },
  {
   "cell_type": "code",
   "execution_count": null,
   "metadata": {},
   "outputs": [],
   "source": [
    "rx_df_out = tester.set_df_out(rx_df_in)\n",
    "rx_df_out"
   ]
  },
  {
   "cell_type": "code",
   "execution_count": null,
   "metadata": {},
   "outputs": [],
   "source": [
    "rx_df_out.to_csv('{}/Reactions.csv'.format(TEST_DIR))"
   ]
  },
  {
   "cell_type": "code",
   "execution_count": null,
   "metadata": {},
   "outputs": [],
   "source": [
    "fileroot='{}/test_rxns'.format(TEST_DIR)\n",
    "tester.write_tests(rx_df_out,fileroot=fileroot)"
   ]
  },
  {
   "cell_type": "code",
   "execution_count": null,
   "metadata": {},
   "outputs": [],
   "source": [
    "file = glob(fileroot+'*')[-1]\n",
    "pytest.main(['--disable-warnings',file])"
   ]
  }
 ],
 "metadata": {
  "kernelspec": {
   "display_name": "Python 3 (ipykernel)",
   "language": "python",
   "name": "python3"
  },
  "language_info": {
   "codemirror_mode": {
    "name": "ipython",
    "version": 3
   },
   "file_extension": ".py",
   "mimetype": "text/x-python",
   "name": "python",
   "nbconvert_exporter": "python",
   "pygments_lexer": "ipython3",
   "version": "3.9.5"
  }
 },
 "nbformat": 4,
 "nbformat_minor": 4
}
