{
 "cells": [
  {
   "cell_type": "markdown",
   "metadata": {},
   "source": [
    "# Berman Standard State Code Generator \n",
    "\n",
    "A notebook to generate spud files for Berman standard state models\n",
    "\n",
    "Required system packages and initialization"
   ]
  },
  {
   "cell_type": "code",
   "execution_count": null,
   "metadata": {},
   "outputs": [],
   "source": [
    "import os,sys\n",
    "import pandas as pd\n",
    "import numpy as np\n",
    "import sympy as sym\n",
    "import time\n",
    "import warnings\n",
    "sym.init_printing()"
   ]
  },
  {
   "cell_type": "markdown",
   "metadata": {},
   "source": [
    "Required ENKI packages"
   ]
  },
  {
   "cell_type": "code",
   "execution_count": null,
   "metadata": {},
   "outputs": [],
   "source": [
    "from thermocodegen.coder import coder"
   ]
  },
  {
   "cell_type": "markdown",
   "metadata": {},
   "source": [
    "### let's set up some directory names for clarity"
   ]
  },
  {
   "cell_type": "code",
   "execution_count": null,
   "metadata": {},
   "outputs": [],
   "source": [
    "HOME_DIR = os.path.abspath('../../')\n",
    "SPUD_DIR = HOME_DIR+'/endmembers/'\n",
    "try:\n",
    "    os.makedirs(SPUD_DIR)\n",
    "except:\n",
    "    pass"
   ]
  },
  {
   "cell_type": "markdown",
   "metadata": {},
   "source": [
    "Set a reference string for this Notebook"
   ]
  },
  {
   "cell_type": "code",
   "execution_count": null,
   "metadata": {},
   "outputs": [],
   "source": [
    "print(HOME_DIR,SPUD_DIR)"
   ]
  },
  {
   "cell_type": "code",
   "execution_count": null,
   "metadata": {},
   "outputs": [],
   "source": [
    "reference = 'fo_sio2/notebooks/Generate_berman_endmembers.ipynb'"
   ]
  },
  {
   "cell_type": "markdown",
   "metadata": {},
   "source": [
    "## Clean the Berman Data base for different models\n",
    "\n",
    "* Here we'll just use  standard state models without lambda transitions or order-disorder terms\n"
   ]
  },
  {
   "cell_type": "code",
   "execution_count": null,
   "metadata": {},
   "outputs": [],
   "source": [
    "df = pd.read_json('data/berman_1988.json')\n",
    "df.columns"
   ]
  },
  {
   "cell_type": "code",
   "execution_count": null,
   "metadata": {},
   "outputs": [],
   "source": [
    "# pull out column names required for just standard state model\n",
    "cols_ss = ['Phase', 'Formula', 'sAbbrev', 'lAbbrev', 'H_TrPr', 'S_TrPr', 'V_TrPr',\n",
    "           'k0', 'k1', 'k2', 'k3', 'v1', 'v2', 'v3', 'v4']\n",
    "df = df[cols_ss]"
   ]
  },
  {
   "cell_type": "markdown",
   "metadata": {},
   "source": [
    "Rename some columns and just extract rows for phases Forsterite and Fayalite"
   ]
  },
  {
   "cell_type": "code",
   "execution_count": null,
   "metadata": {},
   "outputs": [],
   "source": [
    "phases = ['Fo', 'En', 'bQz', 'bCr']\n",
    "df = df.rename(index=str,columns={'Phase':'name', 'Formula':'formula'})\n",
    "df = df[df.sAbbrev.isin(phases)]\n",
    "df"
   ]
  },
  {
   "cell_type": "markdown",
   "metadata": {},
   "source": [
    "## Generate Sympy symbols and Coder parameters from the column headers\n",
    "\n",
    "To construct our Gibbs free energy we need to create Sympy symbols and units for the parameters\n",
    "* H_TrPr: Enthalpy at reference $T$ and $P$ in $J$\n",
    "* S_TrPr: Entropy at reference T and P in $J/K$\n",
    "* V_TrPr: Volume at reference T and P in $J/bar$\n",
    "* k0-k3:  Coefficients in Berman heat capacity model with units [ 'J/K-m', 'J-K^(1/2)-m', 'J-K/m', 'J-K^2' ]\n",
    "* v1-v4:  Coefficients in Berman Equation of state (V) with units [ '1/bar', '1/bar^2' , '1/K', '1/K^2']\n"
   ]
  },
  {
   "cell_type": "code",
   "execution_count": null,
   "metadata": {},
   "outputs": [],
   "source": [
    "param_strings = df.columns[4:]\n",
    "units = [ 'J', 'J/K', 'J/bar']+ [ 'J/K-m', 'J-K^(1/2)-m', 'J-K/m', 'J-K^2' ]+[ '1/bar', '1/bar^2' , '1/K', '1/K^2']\n",
    "print('parameter\\tunit')\n",
    "for t in list(zip(param_strings, units)):\n",
    "    print('{}\\t\\t {}'.format(t[0],t[1]))"
   ]
  },
  {
   "cell_type": "markdown",
   "metadata": {},
   "source": [
    "We now construct coder parameters and sympy symbols from the parameter names and pass them to the local dictionary for use in other sympy expressions"
   ]
  },
  {
   "cell_type": "code",
   "execution_count": null,
   "metadata": {},
   "outputs": [],
   "source": [
    "params = coder.set_coder_params(param_strings, units)\n",
    "symbol_dict = coder.get_symbol_dict_from_params(params)\n",
    "\n",
    "# load local dictionary\n",
    "locals().update(symbol_dict)\n"
   ]
  },
  {
   "cell_type": "markdown",
   "metadata": {},
   "source": [
    "## Create  model class"
   ]
  },
  {
   "cell_type": "code",
   "execution_count": null,
   "metadata": {},
   "outputs": [],
   "source": [
    "model = coder.StdStateModel.from_type()"
   ]
  },
  {
   "cell_type": "markdown",
   "metadata": {},
   "source": [
    "Retrieve sympy symbols for model variables and reference conditions"
   ]
  },
  {
   "cell_type": "code",
   "execution_count": null,
   "metadata": {},
   "outputs": [],
   "source": [
    "T = model.get_symbol_for_t()\n",
    "P = model.get_symbol_for_p()\n",
    "Tr = model.get_symbol_for_tr()\n",
    "Pr = model.get_symbol_for_pr()"
   ]
  },
  {
   "cell_type": "markdown",
   "metadata": {},
   "source": [
    "## Standard State Potentials\n",
    "\n",
    "### Define model Potentials for the Standard State Potentials\n",
    "An expression for the Gibbs free energy, $G(T,P)$ or the Helmholtz energy $A(T,V)$ is constructed.  The expression may have multiple parts.  Often the heat capacity function is postulated, then integrated to yield expressions for the entahlpy, entropy, and in combination the energy potential. Then, an equation of state (EOS) is adopted and that term is integrated in pressure or volume and added to the heat capacity integrals. This proceedure is follwed here.\n",
    "#### (1) $C_P$ integrals\n",
    "The isobaric heat capacity terms parameterized as: $C_P = k_0 + k_1 / T^{1/2} + k_2 / T^2 + k_3 / T^3 $,\n",
    "and in addition the reference condition third law entropy, $ S_{Tr,Pr} $, and enthalpy of formation from the\n",
    "elements, $ \\Delta H_{Tr,Pr} $, constitute additional parameters:"
   ]
  },
  {
   "cell_type": "code",
   "execution_count": null,
   "metadata": {},
   "outputs": [],
   "source": [
    "# Heat Capacity\n",
    "CpPr = k0+k1/sym.sqrt(T)+k2/T**2+k3/T**3"
   ]
  },
  {
   "cell_type": "markdown",
   "metadata": {},
   "source": [
    "Define the heat capacity contribution to the Gibbs free energy ..."
   ]
  },
  {
   "cell_type": "code",
   "execution_count": null,
   "metadata": {},
   "outputs": [],
   "source": [
    "GPr = H_TrPr + sym.integrate(CpPr,(T,Tr,T)) - T*(S_TrPr + sym.integrate(CpPr/T,(T,Tr,T)))"
   ]
  },
  {
   "cell_type": "markdown",
   "metadata": {},
   "source": [
    "#### (2) $V$ (EOS) integrals\n",
    "Next, define a volume-explicit equation of state applicable over the whole of temperature and pressure space\n",
    "\n",
    "Sympy symbols and parameters"
   ]
  },
  {
   "cell_type": "code",
   "execution_count": null,
   "metadata": {},
   "outputs": [],
   "source": [
    "GPrToP = sym.integrate(V_TrPr*(1+v1*(P-Pr)+v2*(P-Pr)**2+v3*(T-Tr)+v4*(T-Tr)**2),(P,Pr,P))"
   ]
  },
  {
   "cell_type": "markdown",
   "metadata": {},
   "source": [
    "#### Define standard state G and parameters"
   ]
  },
  {
   "cell_type": "code",
   "execution_count": null,
   "metadata": {},
   "outputs": [],
   "source": [
    "G = GPr + GPrToP\n",
    "G"
   ]
  },
  {
   "cell_type": "markdown",
   "metadata": {},
   "source": [
    "### Generate a coder model and write to spud files"
   ]
  },
  {
   "cell_type": "code",
   "execution_count": null,
   "metadata": {},
   "outputs": [],
   "source": [
    "model.add_potential_to_model('G',G, params)"
   ]
  },
  {
   "cell_type": "markdown",
   "metadata": {},
   "source": [
    "Exam settable values for the model dictionary"
   ]
  },
  {
   "cell_type": "code",
   "execution_count": null,
   "metadata": {},
   "outputs": [],
   "source": [
    "model.get_values()                       "
   ]
  },
  {
   "cell_type": "markdown",
   "metadata": {},
   "source": [
    "### Write out spud files for Berman endmembers for Berman endmembers"
   ]
  },
  {
   "cell_type": "code",
   "execution_count": null,
   "metadata": {},
   "outputs": [],
   "source": [
    "for i, row in df.iterrows():\n",
    "    values_dict = row.to_dict()\n",
    "    # clean up names to make them coder compliant\n",
    "    values_dict['name'] ='{}_berman'.format(values_dict['name'].title())\n",
    "    values_dict['name'] = values_dict['name'].replace('-','_')\n",
    "    print(values_dict['name'])\n",
    "    values_dict['reference']=reference\n",
    "    model.set_values(values_dict)\n",
    "    model.to_xml(path=SPUD_DIR)\n"
   ]
  }
 ],
 "metadata": {
  "kernelspec": {
   "display_name": "Python 3",
   "language": "python",
   "name": "python3"
  },
  "language_info": {
   "codemirror_mode": {
    "name": "ipython",
    "version": 3
   },
   "file_extension": ".py",
   "mimetype": "text/x-python",
   "name": "python",
   "nbconvert_exporter": "python",
   "pygments_lexer": "ipython3",
   "version": "3.7.5"
  }
 },
 "nbformat": 4,
 "nbformat_minor": 4
}
