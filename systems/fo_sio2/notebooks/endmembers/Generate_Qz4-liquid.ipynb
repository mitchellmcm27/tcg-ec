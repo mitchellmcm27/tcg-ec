{
 "cells": [
  {
   "cell_type": "markdown",
   "metadata": {},
   "source": [
    "# Quartz4 (Si204) liquid Endmembers Standard State Code Generator \n",
    "\n",
    "A notebook to generate spud files for  standard state Qz4 endmembers\n",
    "\n",
    "Required system packages and initialization"
   ]
  },
  {
   "cell_type": "code",
   "execution_count": null,
   "metadata": {},
   "outputs": [],
   "source": [
    "import os,sys\n",
    "import pandas as pd\n",
    "import numpy as np\n",
    "import sympy as sym\n",
    "import time\n",
    "import warnings\n",
    "sym.init_printing()"
   ]
  },
  {
   "cell_type": "markdown",
   "metadata": {},
   "source": [
    "Required ENKI packages"
   ]
  },
  {
   "cell_type": "code",
   "execution_count": null,
   "metadata": {},
   "outputs": [],
   "source": [
    "from thermocodegen.coder import coder"
   ]
  },
  {
   "cell_type": "markdown",
   "metadata": {},
   "source": [
    "### let's set up some directory names for clarity"
   ]
  },
  {
   "cell_type": "code",
   "execution_count": null,
   "metadata": {},
   "outputs": [],
   "source": [
    "HOME_DIR = os.path.abspath('../../')\n",
    "SPUD_DIR = HOME_DIR+'/endmembers'\n",
    "try:\n",
    "    os.makedirs(SPUD_DIR)\n",
    "except:\n",
    "    pass"
   ]
  },
  {
   "cell_type": "markdown",
   "metadata": {},
   "source": [
    "Set a reference string for this Notebook"
   ]
  },
  {
   "cell_type": "code",
   "execution_count": null,
   "metadata": {},
   "outputs": [],
   "source": [
    "reference = 'fo_sio2/notebooks/Generate_Qz4-liquid-coder.ipynb'"
   ]
  },
  {
   "cell_type": "code",
   "execution_count": null,
   "metadata": {},
   "outputs": [],
   "source": [
    "df = pd.read_csv('data/xMelts.csv')\n",
    "df.columns"
   ]
  },
  {
   "cell_type": "code",
   "execution_count": null,
   "metadata": {},
   "outputs": [],
   "source": [
    "# pull out column names required for just standard state model\n",
    "cols = ['Phase', 'Formula',  'H_TrPr', 'S_TrPr', 'V_TrlPr', 'Cpl',\n",
    "           'k0', 'k1', 'k2', 'k3', 'v1', 'v2', 'v3', 'v4']"
   ]
  },
  {
   "cell_type": "markdown",
   "metadata": {},
   "source": [
    "Rename some columns for use with spud files"
   ]
  },
  {
   "cell_type": "code",
   "execution_count": null,
   "metadata": {},
   "outputs": [],
   "source": [
    "df = df[cols]\n",
    "df = df.rename(index=str,columns={'Phase':'name', 'Formula':'formula'})\n",
    "df.head().set_index('name')"
   ]
  },
  {
   "cell_type": "markdown",
   "metadata": {},
   "source": [
    "### modify Qz xmelts to match required Qz4 parameters"
   ]
  },
  {
   "cell_type": "code",
   "execution_count": null,
   "metadata": {},
   "outputs": [],
   "source": [
    "# set Qz4 to Qz xmelts\n",
    "Qz4 = dict(df.iloc[0])\n",
    "# change the name and formula\n",
    "Qz4['name']='Quartz4'\n",
    "Qz4['formula']='SI(2)O(4)'\n",
    "# double reference H,S,V\n",
    "keys = list(Qz4.keys())[2:5]\n",
    "for key in keys:\n",
    "    Qz4[key] = 2.*Qz4[key]\n",
    "# reset remaining keys\n",
    "Qz4['Cpl'] = 162.746\n",
    "kdict = dict(k0=254.4,k1=-2.1554e-02,k2=8.6254e+05,k3=-2.9276e+03)\n",
    "for k,v in kdict.items():\n",
    "    Qz4[k] = v\n",
    "# add cp transition and liquid reference temperatures\n",
    "Qz4['Tg']=1480.1\n",
    "Qz4['Trl']=1673.15\n",
    "Qz4"
   ]
  },
  {
   "cell_type": "markdown",
   "metadata": {},
   "source": [
    "## Generate Sympy symbols and Coder parameters from the column headers\n",
    "\n",
    "To construct our Gibbs free energy we need to create Sympy symbols and units for the parameters\n",
    "* H_TrPr: Enthalpy at reference $T$ and $P$ in $J$\n",
    "* S_TrPr: Entropy at reference T and P in $J/K$\n",
    "* V_TrlPr: Liquic Volume at reference T and P in $J/bar$\n",
    "* k0-k3:  Coefficients in Berman heat capacity model with units [ 'J/K-m', 'J-K^(1/2)-m', 'J-K/m', 'J-K^2' ]\n",
    "* v1-v4:  Coefficients in Berman Equation of state (V) with units [ '1/bar', '1/bar^2' , '1/K', '1/K^2']\n",
    "* Tg:  Cp transition Temperature\n",
    "* Trl: liquid Reference Temperature\n"
   ]
  },
  {
   "cell_type": "code",
   "execution_count": null,
   "metadata": {},
   "outputs": [],
   "source": [
    "param_strings = list(Qz4.keys())[2:]\n",
    "units = [ 'J', 'J/K', 'J/bar-m', 'J/K-m', \n",
    "         'J/K-m','J/K^2-m' ,'J-K/m','J-K^(1/2)-m',\n",
    "        '1/bar', '1/bar^2', '1/K',  '1/K^2', 'K','K']\n",
    "print('parameter\\tunit')\n",
    "for t in list(zip(param_strings, units)):\n",
    "    print('{}\\t\\t {}'.format(t[0],t[1]))"
   ]
  },
  {
   "cell_type": "markdown",
   "metadata": {},
   "source": [
    "We now construct coder parameters and sympy symbols from the parameter names and pass them to the local dictionary for use in other sympy expressions"
   ]
  },
  {
   "cell_type": "code",
   "execution_count": null,
   "metadata": {},
   "outputs": [],
   "source": [
    "params = coder.set_coder_params(param_strings, units)\n",
    "symbol_dict = coder.get_symbol_dict_from_params(params)\n",
    "\n",
    "# load local dictionary\n",
    "locals().update(symbol_dict)"
   ]
  },
  {
   "cell_type": "markdown",
   "metadata": {},
   "source": [
    "## initialize the coder model (Gibbs model)"
   ]
  },
  {
   "cell_type": "code",
   "execution_count": null,
   "metadata": {},
   "outputs": [],
   "source": [
    "model= coder.StdStateModel.from_type()"
   ]
  },
  {
   "cell_type": "markdown",
   "metadata": {},
   "source": [
    "Set up reference symbols (Trl already defined)"
   ]
  },
  {
   "cell_type": "code",
   "execution_count": null,
   "metadata": {},
   "outputs": [],
   "source": [
    "T = model.get_symbol_for_t()\n",
    "P = model.get_symbol_for_p()\n",
    "Tr = model.get_symbol_for_tr()\n",
    "Pr = model.get_symbol_for_pr()"
   ]
  },
  {
   "cell_type": "markdown",
   "metadata": {},
   "source": [
    "## Standard State Potentials\n",
    "\n",
    "### Define model Potentials for the Standard State Potentials\n",
    "An expression for the Gibbs free energy, $G(T,P)$ \n",
    "#### (1) $C_P$ integrals\n",
    "The isobaric heat capacity terms parameterized as the piecewise function: \n",
    "\n",
    "$$\n",
    "    C_p = \\left\\{\n",
    "        \\begin{array}\n",
    "           kk_0+ k_1 T + k_2 / T^2 + k_3 / \\sqrt{T}, & T\\leq T_g\\\\\n",
    "         C_{pl}, & T > T_g\\\\\n",
    "        \\end{array}\n",
    "        \\right.\n",
    "$$\n",
    "\n",
    "and in addition the reference condition third law entropy, $ S_{Tr,Pr} $, and enthalpy of formation from the\n",
    "elements, $ \\Delta H_{Tr,Pr} $, constitute additional parameters:"
   ]
  },
  {
   "cell_type": "code",
   "execution_count": null,
   "metadata": {},
   "outputs": [],
   "source": [
    "# Heat Capacity\n",
    "Cp = sym.Piecewise((k0 + k1 * T + k2/T**2 + k3/sym.sqrt(T), T <= Tg),(Cpl ,T > Tg),(Cpl,True))\n",
    "Cp"
   ]
  },
  {
   "cell_type": "code",
   "execution_count": null,
   "metadata": {},
   "outputs": [],
   "source": [
    "# Enthalpy and Entropy"
   ]
  },
  {
   "cell_type": "code",
   "execution_count": null,
   "metadata": {},
   "outputs": [],
   "source": [
    "H = H_TrPr + sym.integrate(Cp,(T,Tr,T))\n",
    "H"
   ]
  },
  {
   "cell_type": "code",
   "execution_count": null,
   "metadata": {},
   "outputs": [],
   "source": [
    "S = S_TrPr + sym.integrate(Cp/T,(T,Tr,T))"
   ]
  },
  {
   "cell_type": "code",
   "execution_count": null,
   "metadata": {},
   "outputs": [],
   "source": [
    "GPr = H  - T*S\n",
    "GPr"
   ]
  },
  {
   "cell_type": "markdown",
   "metadata": {},
   "source": [
    "#### (2) $V$ (EOS) integrals\n",
    "Next, define a volume-explicit equation of state applicable over the whole of temperature and pressure space\n"
   ]
  },
  {
   "cell_type": "markdown",
   "metadata": {},
   "source": [
    "Liquid volume"
   ]
  },
  {
   "cell_type": "code",
   "execution_count": null,
   "metadata": {},
   "outputs": [],
   "source": [
    "half = sym.Rational(1,2)\n",
    "Vf = V_TrlPr + (T - Trl)*(v1 + half*v3*(P - Pr)) + (P - Pr)*(v2 + half*v4*(P - Pr))"
   ]
  },
  {
   "cell_type": "code",
   "execution_count": null,
   "metadata": {},
   "outputs": [],
   "source": [
    "GPrToP = sym.integrate(Vf,(P,Pr,P))"
   ]
  },
  {
   "cell_type": "markdown",
   "metadata": {},
   "source": [
    "#### Define standard state G and parameters"
   ]
  },
  {
   "cell_type": "code",
   "execution_count": null,
   "metadata": {},
   "outputs": [],
   "source": [
    "G = GPr + GPrToP\n",
    "G\n",
    "G.simplify()"
   ]
  },
  {
   "cell_type": "markdown",
   "metadata": {},
   "source": [
    "### Generate a coder model and write to spud files"
   ]
  },
  {
   "cell_type": "code",
   "execution_count": null,
   "metadata": {},
   "outputs": [],
   "source": [
    "model.add_potential_to_model('G',G, params)"
   ]
  },
  {
   "cell_type": "markdown",
   "metadata": {},
   "source": [
    "Exam settable values for the model dictionary"
   ]
  },
  {
   "cell_type": "code",
   "execution_count": null,
   "metadata": {},
   "outputs": [],
   "source": [
    "values_dict = model.get_values()    \n",
    "values_dict"
   ]
  },
  {
   "cell_type": "markdown",
   "metadata": {},
   "source": [
    "update the values dictionary with Qz4 parameters"
   ]
  },
  {
   "cell_type": "code",
   "execution_count": null,
   "metadata": {},
   "outputs": [],
   "source": [
    "values_dict.update(Qz4)\n",
    "values_dict"
   ]
  },
  {
   "cell_type": "markdown",
   "metadata": {},
   "source": [
    "### Write out spud files for all Berman standard state endmembers"
   ]
  },
  {
   "cell_type": "code",
   "execution_count": null,
   "metadata": {},
   "outputs": [],
   "source": [
    "os.chdir(SPUD_DIR)\n",
    "values_dict['name'] ='{}_liquid'.format(values_dict['name'].title())\n",
    "values_dict['name'] = values_dict['name'].replace('-','_')\n",
    "print(values_dict['name'])\n",
    "values_dict['reference']=reference\n",
    "model.set_values(values_dict)\n",
    "model.to_xml(path=SPUD_DIR)"
   ]
  }
 ],
 "metadata": {
  "kernelspec": {
   "display_name": "Python 3",
   "language": "python",
   "name": "python3"
  },
  "language_info": {
   "codemirror_mode": {
    "name": "ipython",
    "version": 3
   },
   "file_extension": ".py",
   "mimetype": "text/x-python",
   "name": "python",
   "nbconvert_exporter": "python",
   "pygments_lexer": "ipython3",
   "version": "3.7.5"
  }
 },
 "nbformat": 4,
 "nbformat_minor": 4
}
