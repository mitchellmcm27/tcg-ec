{
 "cells": [
  {
   "cell_type": "markdown",
   "metadata": {},
   "source": [
    "# Generate xMelts liquid Endmembers \n",
    "\n",
    "A notebook to generate spud files for xMelts standard state models\n",
    "\n",
    "Required system packages and initialization"
   ]
  },
  {
   "cell_type": "code",
   "execution_count": null,
   "metadata": {},
   "outputs": [],
   "source": [
    "import os,sys\n",
    "import pandas as pd\n",
    "import numpy as np\n",
    "import sympy as sym\n",
    "import time\n",
    "import warnings\n",
    "sym.init_printing()"
   ]
  },
  {
   "cell_type": "markdown",
   "metadata": {},
   "source": [
    "Required ENKI packages"
   ]
  },
  {
   "cell_type": "code",
   "execution_count": null,
   "metadata": {},
   "outputs": [],
   "source": [
    "from thermocodegen.coder import coder"
   ]
  },
  {
   "cell_type": "markdown",
   "metadata": {},
   "source": [
    "### let's set up some directory names for clarity"
   ]
  },
  {
   "cell_type": "code",
   "execution_count": null,
   "metadata": {},
   "outputs": [],
   "source": [
    "HOME_DIR = os.path.abspath('../../')\n",
    "SPUD_DIR = HOME_DIR+'/endmembers'\n",
    "try:\n",
    "    os.makedirs(SPUD_DIR)\n",
    "except:\n",
    "    pass"
   ]
  },
  {
   "cell_type": "markdown",
   "metadata": {},
   "source": [
    "Set a reference string for this Notebook"
   ]
  },
  {
   "cell_type": "code",
   "execution_count": null,
   "metadata": {},
   "outputs": [],
   "source": [
    "reference = 'fo_sio2/notebooks/Generate_xmelts_endmembers.ipynb'"
   ]
  },
  {
   "cell_type": "code",
   "execution_count": null,
   "metadata": {},
   "outputs": [],
   "source": [
    "df = pd.read_csv('data/xMelts.csv')\n",
    "df.columns"
   ]
  },
  {
   "cell_type": "code",
   "execution_count": null,
   "metadata": {},
   "outputs": [],
   "source": [
    "# pull out column names required for just standard state model\n",
    "cols = ['Phase', 'Formula',  'H_TrPr', 'S_TrPr', 'V_TrlPr', \n",
    "           'T_fus', 'S_fus', 'Cpl',\n",
    "           'k0', 'k1', 'k2', 'k3', 'v1', 'v2', 'v3', 'v4']"
   ]
  },
  {
   "cell_type": "markdown",
   "metadata": {},
   "source": [
    "Rename some columns for use with spud files"
   ]
  },
  {
   "cell_type": "code",
   "execution_count": null,
   "metadata": {},
   "outputs": [],
   "source": [
    "df = df[cols]\n",
    "df = df.rename(index=str,columns={'Phase':'name', 'Formula':'formula'})"
   ]
  },
  {
   "cell_type": "markdown",
   "metadata": {},
   "source": [
    "restrict to just Forsterite and Quartz4"
   ]
  },
  {
   "cell_type": "code",
   "execution_count": null,
   "metadata": {},
   "outputs": [],
   "source": [
    "names = ['Forsterite', 'Quartz4']\n",
    "df = df[df.name.isin(names)]\n",
    "df.set_index('name')"
   ]
  },
  {
   "cell_type": "markdown",
   "metadata": {},
   "source": [
    "## Generate Sympy symbols and Coder parameters from the column headers\n",
    "\n",
    "To construct our Gibbs free energy we need to create Sympy symbols and units for the parameters\n",
    "* H_TrPr: Enthalpy at reference $T$ and $P$ in $J$\n",
    "* S_TrPr: Entropy at reference T and P in $J/K$\n",
    "* V_TrPr: Volume at reference T and P in $J/bar$\n",
    "* k0-k3:  Coefficients in Berman heat capacity model with units [ 'J/K-m', 'J-K^(1/2)-m', 'J-K/m', 'J-K^2' ]\n",
    "* v1-v4:  Coefficients in Berman Equation of state (V) with units [ '1/bar', '1/bar^2' , '1/K', '1/K^2']\n",
    "* Tg:  Cp transition Temperature\n",
    "* Trl: liquid Reference Temperature\n",
    "\n"
   ]
  },
  {
   "cell_type": "code",
   "execution_count": null,
   "metadata": {},
   "outputs": [],
   "source": [
    "param_strings = df.columns[2:]\n",
    "param_strings = param_strings.insert(0,'Trl')\n",
    "units = [ 'K','J', 'J/K', 'J/bar-m','K','J/K', 'J/K', 'J/K-m','J-K^(1/2)-m','J-K/m' ,'J-K^2',\n",
    "        '1/bar', '1/bar^2', '1/K',  '1/K^2']\n",
    "print('parameter\\tunit')\n",
    "for t in list(zip(param_strings, units)):\n",
    "    print('{}\\t\\t {}'.format(t[0],t[1]))"
   ]
  },
  {
   "cell_type": "markdown",
   "metadata": {},
   "source": [
    "We now construct coder parameters and sympy symbols from the parameter names and pass them to the local dictionary for use in other sympy expressions"
   ]
  },
  {
   "cell_type": "code",
   "execution_count": null,
   "metadata": {},
   "outputs": [],
   "source": [
    "params = coder.set_coder_params(param_strings, units)\n",
    "symbol_dict = coder.get_symbol_dict_from_params(params)\n",
    "\n",
    "# load local dictionary\n",
    "locals().update(symbol_dict)\n"
   ]
  },
  {
   "cell_type": "markdown",
   "metadata": {},
   "source": [
    "## initialize the coder model (Gibbs model)"
   ]
  },
  {
   "cell_type": "code",
   "execution_count": null,
   "metadata": {},
   "outputs": [],
   "source": [
    "model= coder.StdStateModel.from_type()"
   ]
  },
  {
   "cell_type": "markdown",
   "metadata": {},
   "source": [
    "Set up reference symbols (Trl already defined)"
   ]
  },
  {
   "cell_type": "code",
   "execution_count": null,
   "metadata": {},
   "outputs": [],
   "source": [
    "T = model.get_symbol_for_t()\n",
    "P = model.get_symbol_for_p()\n",
    "Tr = model.get_symbol_for_tr()\n",
    "Pr = model.get_symbol_for_pr()"
   ]
  },
  {
   "cell_type": "markdown",
   "metadata": {},
   "source": [
    "## Standard State Potentials\n",
    "\n",
    "### Define model Potentials for the Standard State Potentials\n",
    "An expression for the Gibbs free energy, $G(T,P)$ \n",
    "\n",
    "#### (1) $C_P$ integrals\n",
    "The isobaric heat capacity terms parameterized as: \n",
    "\n",
    "$$\n",
    "    C_P = k_0 + k_1 / T^{1/2} + k_2 / T^2 + k_3 / T^3,\n",
    "$$\n",
    "\n",
    "and in addition the reference condition third law entropy, $S_{Tr,Pr}$, and enthalpy of formation from the\n",
    "elements, $\\Delta H_{Tr,Pr}$, constitute additional parameters:"
   ]
  },
  {
   "cell_type": "code",
   "execution_count": null,
   "metadata": {},
   "outputs": [],
   "source": [
    "# Solid Heat Capacity\n",
    "Cps = k0+k1/sym.sqrt(T)+k2/T**2+k3/T**3"
   ]
  },
  {
   "cell_type": "code",
   "execution_count": null,
   "metadata": {},
   "outputs": [],
   "source": [
    "# Enthalpy and Entropy"
   ]
  },
  {
   "cell_type": "code",
   "execution_count": null,
   "metadata": {},
   "outputs": [],
   "source": [
    "H = H_TrPr + sym.integrate(Cps,(T,Tr,T_fus))   + sym.integrate(Cpl,  (T,T_fus,T)) + T_fus*S_fus"
   ]
  },
  {
   "cell_type": "code",
   "execution_count": null,
   "metadata": {},
   "outputs": [],
   "source": [
    "S = S_TrPr + sym.integrate(Cps/T,(T,Tr,T_fus)) + sym.integrate(Cpl/T,(T,T_fus,T)) + S_fus"
   ]
  },
  {
   "cell_type": "code",
   "execution_count": null,
   "metadata": {},
   "outputs": [],
   "source": [
    "GPr = H  - T*S\n",
    "GPr"
   ]
  },
  {
   "cell_type": "markdown",
   "metadata": {},
   "source": [
    "#### (2) $V$ (EOS) integrals\n",
    "Next, define a volume-explicit equation of state applicable over the whole of temperature and pressure space\n"
   ]
  },
  {
   "cell_type": "markdown",
   "metadata": {},
   "source": [
    "Liquid volume"
   ]
  },
  {
   "cell_type": "code",
   "execution_count": null,
   "metadata": {},
   "outputs": [],
   "source": [
    "half = sym.Rational(1,2)\n",
    "Vf = V_TrlPr + (T - Trl)*(v1 + half*v3*(P - Pr)) + (P - Pr)*(v2 + half*v4*(P - Pr))"
   ]
  },
  {
   "cell_type": "code",
   "execution_count": null,
   "metadata": {},
   "outputs": [],
   "source": [
    "GPrToP = sym.integrate(Vf,(P,Pr,P))"
   ]
  },
  {
   "cell_type": "markdown",
   "metadata": {},
   "source": [
    "#### Define standard state G and parameters"
   ]
  },
  {
   "cell_type": "code",
   "execution_count": null,
   "metadata": {},
   "outputs": [],
   "source": [
    "G = GPr + GPrToP\n",
    "G\n",
    "G.simplify()"
   ]
  },
  {
   "cell_type": "markdown",
   "metadata": {},
   "source": [
    "### Generate a coder model and write to spud files"
   ]
  },
  {
   "cell_type": "code",
   "execution_count": null,
   "metadata": {},
   "outputs": [],
   "source": [
    "model.add_potential_to_model('G',G, params)"
   ]
  },
  {
   "cell_type": "markdown",
   "metadata": {},
   "source": [
    "Exam settable values for the model dictionary"
   ]
  },
  {
   "cell_type": "code",
   "execution_count": null,
   "metadata": {},
   "outputs": [],
   "source": [
    "values_dict = model.get_values()    \n",
    "values_dict"
   ]
  },
  {
   "cell_type": "markdown",
   "metadata": {},
   "source": [
    "### Write out spud files for all Berman standard state endmembers"
   ]
  },
  {
   "cell_type": "code",
   "execution_count": null,
   "metadata": {},
   "outputs": [],
   "source": [
    "for i, row in df.iterrows():\n",
    "    values_dict = row.to_dict()\n",
    "    # clean up names to make them coder compliant\n",
    "    values_dict['name'] ='{}_xmelts'.format(values_dict['name'].title())\n",
    "    values_dict['name'] = values_dict['name'].replace('-','_')\n",
    "    values_dict['Trl'] = 1673.15\n",
    "    print(values_dict['name'])\n",
    "    values_dict['reference']=reference\n",
    "    model.set_values(values_dict)\n",
    "    model.to_xml(path=SPUD_DIR)"
   ]
  }
 ],
 "metadata": {
  "kernelspec": {
   "display_name": "Python 3",
   "language": "python",
   "name": "python3"
  },
  "language_info": {
   "codemirror_mode": {
    "name": "ipython",
    "version": 3
   },
   "file_extension": ".py",
   "mimetype": "text/x-python",
   "name": "python",
   "nbconvert_exporter": "python",
   "pygments_lexer": "ipython3",
   "version": "3.7.5"
  }
 },
 "nbformat": 4,
 "nbformat_minor": 4
}
