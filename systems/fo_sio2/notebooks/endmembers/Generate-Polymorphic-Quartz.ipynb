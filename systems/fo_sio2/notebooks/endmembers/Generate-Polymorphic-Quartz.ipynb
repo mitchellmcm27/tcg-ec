{
 "cells": [
  {
   "cell_type": "markdown",
   "metadata": {},
   "source": [
    "# Polymorphic Berman Quartz\n",
    "\n",
    "A notebook to generate spud files for a polymorphic Endmember for B-quartz and B-cristobalite\n",
    "that returns \n",
    "\n",
    "$$\n",
    "\\min(G_{qz},G_{cr})\n",
    "$$\n",
    "\n",
    "where \n",
    "* $G_{bQz}$ is the berman model for the Standard state Gibbs free energy of B-quartz\n",
    "* $G_{bCr}$ is the berman model for the Standard state Gibbs free energy of beta-cristobalite\n",
    "\n",
    "Required system packages and initialization"
   ]
  },
  {
   "cell_type": "code",
   "execution_count": null,
   "metadata": {},
   "outputs": [],
   "source": [
    "import os,sys\n",
    "import pandas as pd\n",
    "import numpy as np\n",
    "import sympy as sym\n",
    "import time\n",
    "sym.init_printing()"
   ]
  },
  {
   "cell_type": "markdown",
   "metadata": {},
   "source": [
    "Required ENKI packages"
   ]
  },
  {
   "cell_type": "code",
   "execution_count": null,
   "metadata": {},
   "outputs": [],
   "source": [
    "from thermocodegen.coder import coder"
   ]
  },
  {
   "cell_type": "markdown",
   "metadata": {},
   "source": [
    "### let's set up some directory names for clarity"
   ]
  },
  {
   "cell_type": "code",
   "execution_count": null,
   "metadata": {},
   "outputs": [],
   "source": [
    "HOME_DIR = os.path.abspath('../../')\n",
    "SPUD_DIR = HOME_DIR+'/endmembers'\n",
    "try:\n",
    "    os.makedirs(SPUD_DIR)\n",
    "except:\n",
    "    pass"
   ]
  },
  {
   "cell_type": "markdown",
   "metadata": {},
   "source": [
    "Set a reference string for this Notebook"
   ]
  },
  {
   "cell_type": "code",
   "execution_count": null,
   "metadata": {},
   "outputs": [],
   "source": [
    "reference = 'fo_sio2/notebooks/Generate_Polymorphic-Quartz.ipynb'"
   ]
  },
  {
   "cell_type": "markdown",
   "metadata": {},
   "source": [
    "## Clean the Berman Data base for just the SiO2 polymorphs\n",
    "\n",
    "* Here we'll just use  standard state models without lambda transitions or order-disorder terms\n"
   ]
  },
  {
   "cell_type": "code",
   "execution_count": null,
   "metadata": {},
   "outputs": [],
   "source": [
    "df = pd.read_json('data/berman_1988.json')\n",
    "df.columns"
   ]
  },
  {
   "cell_type": "code",
   "execution_count": null,
   "metadata": {},
   "outputs": [],
   "source": [
    "# pull out column names required for just standard state model\n",
    "cols_ss = ['Phase', 'Formula', 'sAbbrev', 'H_TrPr', 'S_TrPr', 'V_TrPr',\n",
    "           'k0', 'k1', 'k2', 'k3', 'v1', 'v2', 'v3', 'v4']"
   ]
  },
  {
   "cell_type": "markdown",
   "metadata": {},
   "source": [
    "Just pull out all SiO2 polymorphs and clean up columns\n"
   ]
  },
  {
   "cell_type": "code",
   "execution_count": null,
   "metadata": {},
   "outputs": [],
   "source": [
    "df_si = df[df['Formula']=='SI(1)O(2)']\n",
    "df_si = df_si[cols_ss]\n",
    "df_si = df_si.rename(index=str,columns={'Phase':'name', 'Formula':'formula'})\n",
    "df_si.set_index('name')"
   ]
  },
  {
   "cell_type": "markdown",
   "metadata": {},
   "source": [
    "Choose Polymorphs of interest"
   ]
  },
  {
   "cell_type": "code",
   "execution_count": null,
   "metadata": {},
   "outputs": [],
   "source": [
    "polymorphs = [ 'BETA_CRISTOBALITE', 'B-QUARTZ']\n",
    "df_poly = df_si.set_index('name').filter(items=polymorphs,axis=0)\n",
    "df_poly"
   ]
  },
  {
   "cell_type": "markdown",
   "metadata": {},
   "source": [
    "## Generate Sympy symbols and Coder parameters from the column headers\n",
    "\n",
    "To construct our Gibbs free energy we need to create Sympy symbols and units for the parameters\n",
    "* H_TrPr: Enthalpy at reference $T$ and $P$ in $J$\n",
    "* S_TrPr: Entropy at reference T and P in $J/K$\n",
    "* V_TrPr: Volume at reference T and P in $J/bar$\n",
    "* k0-k3:  Coefficients in Berman heat capacity model with units [ 'J/K-m', 'J-K^(1/2)-m', 'J-K/m', 'J-K^2' ]\n",
    "* v1-v4:  Coefficients in Berman Equation of state (V) with units [ '1/bar', '1/bar^2' , '1/K', '1/K^2']\n",
    "\n"
   ]
  },
  {
   "cell_type": "markdown",
   "metadata": {},
   "source": [
    "We start with the root names/symbols for parameters"
   ]
  },
  {
   "cell_type": "code",
   "execution_count": null,
   "metadata": {},
   "outputs": [],
   "source": [
    "param_roots = df_poly.columns[2:]\n",
    "base_units = [ 'J', 'J/K', 'J/bar-m',\n",
    "         'J/K-m','J-K^(1/2)-m','J-K/m' ,'J-K^2',\n",
    "        '1/bar', '1/bar^2', '1/K',  '1/K^2']\n"
   ]
  },
  {
   "cell_type": "markdown",
   "metadata": {},
   "source": [
    "Add root symbols to local data base"
   ]
  },
  {
   "cell_type": "code",
   "execution_count": null,
   "metadata": {},
   "outputs": [],
   "source": [
    "params_root = coder.set_coder_params(param_roots, base_units)\n",
    "symbol_dict_root = coder.get_symbol_dict_from_params(params_root)\n",
    "\n",
    "# load local dictionary\n",
    "locals().update(symbol_dict_root)\n",
    "symbol_dict_root"
   ]
  },
  {
   "cell_type": "markdown",
   "metadata": {},
   "source": [
    "But because we are combining two different endmembers into a single pseudo-phase we will need to append our parameter names with the subspecies abbreviation"
   ]
  },
  {
   "cell_type": "code",
   "execution_count": null,
   "metadata": {},
   "outputs": [],
   "source": [
    "param_strings = []\n",
    "for index, row in df_poly.iterrows():\n",
    "    abbrev = row['sAbbrev']\n",
    "    param_strings += [ '{}_{}'.format(p,abbrev) for p in param_roots]\n",
    "param_strings "
   ]
  },
  {
   "cell_type": "code",
   "execution_count": null,
   "metadata": {},
   "outputs": [],
   "source": []
  },
  {
   "cell_type": "markdown",
   "metadata": {},
   "source": [
    "#### Add units and generate parameter tuples needed for coder model"
   ]
  },
  {
   "cell_type": "code",
   "execution_count": null,
   "metadata": {},
   "outputs": [],
   "source": [
    "units = base_units + base_units"
   ]
  },
  {
   "cell_type": "markdown",
   "metadata": {},
   "source": [
    "Inspect parameters and  units"
   ]
  },
  {
   "cell_type": "code",
   "execution_count": null,
   "metadata": {},
   "outputs": [],
   "source": [
    "print('parameter\\tunit')\n",
    "for t in list(zip(param_strings, units)):\n",
    "    print('{}\\t\\t {}'.format(t[0],t[1]))"
   ]
  },
  {
   "cell_type": "markdown",
   "metadata": {},
   "source": [
    "We now construct coder parameters and sympy symbols from the parameter names and pass them to the local dictionary for use in other sympy expressions"
   ]
  },
  {
   "cell_type": "code",
   "execution_count": null,
   "metadata": {},
   "outputs": [],
   "source": [
    "params = coder.set_coder_params(param_strings, units)\n",
    "symbol_dict = coder.get_symbol_dict_from_params(params)\n",
    "\n",
    "# load local dictionary\n",
    "locals().update(symbol_dict)"
   ]
  },
  {
   "cell_type": "markdown",
   "metadata": {},
   "source": [
    "## Create  model class"
   ]
  },
  {
   "cell_type": "code",
   "execution_count": null,
   "metadata": {},
   "outputs": [],
   "source": [
    "model_ss = coder.StdStateModel.from_type()"
   ]
  },
  {
   "cell_type": "markdown",
   "metadata": {},
   "source": [
    "Retrieve sympy symbols for model variables and reference conditions"
   ]
  },
  {
   "cell_type": "code",
   "execution_count": null,
   "metadata": {},
   "outputs": [],
   "source": [
    "T = model_ss.get_symbol_for_t()\n",
    "P = model_ss.get_symbol_for_p()\n",
    "Tr = model_ss.get_symbol_for_tr()\n",
    "Pr = model_ss.get_symbol_for_pr()"
   ]
  },
  {
   "cell_type": "markdown",
   "metadata": {},
   "source": [
    "## Standard State Potentials\n",
    "\n",
    "### Define model Potentials for the Standard State Potentials\n",
    "An expression for the Gibbs free energy, $G(T,P)$ or the Helmholtz energy $A(T,V)$ is constructed.  The expression may have multiple parts.  Often the heat capacity function is postulated, then integrated to yield expressions for the entahlpy, entropy, and in combination the energy potential. Then, an equation of state (EOS) is adopted and that term is integrated in pressure or volume and added to the heat capacity integrals. This proceedure is follwed here.\n",
    "#### (1) $C_P$ integrals\n",
    "The isobaric heat capacity terms parameterized as: $C_P = k_0 + k_1 / T^{1/2} + k_2 / T^2 + k_3 / T^3 $,\n",
    "and in addition the reference condition third law entropy, $ S_{Tr,Pr} $, and enthalpy of formation from the\n",
    "elements, $ \\Delta H_{Tr,Pr} $, constitute additional parameters:"
   ]
  },
  {
   "cell_type": "code",
   "execution_count": null,
   "metadata": {},
   "outputs": [],
   "source": [
    "# Heat Capacity\n",
    "CpPr = k0+k1/sym.sqrt(T)+k2/T**2+k3/T**3"
   ]
  },
  {
   "cell_type": "markdown",
   "metadata": {},
   "source": [
    "Define the heat capacity contribution to the Gibbs free energy ..."
   ]
  },
  {
   "cell_type": "code",
   "execution_count": null,
   "metadata": {},
   "outputs": [],
   "source": [
    "GPr = H_TrPr + sym.integrate(CpPr,(T,Tr,T)) - T*(S_TrPr + sym.integrate(CpPr/T,(T,Tr,T)))"
   ]
  },
  {
   "cell_type": "markdown",
   "metadata": {},
   "source": [
    "#### (2) $V$ (EOS) integrals\n",
    "Next, define a volume-explicit equation of state applicable over the whole of temperature and pressure space"
   ]
  },
  {
   "cell_type": "code",
   "execution_count": null,
   "metadata": {},
   "outputs": [],
   "source": [
    "V = V_TrPr*(1+v1*(P-Pr)+v2*(P-Pr)**2+v3*(T-Tr)+v4*(T-Tr)**2)"
   ]
  },
  {
   "cell_type": "markdown",
   "metadata": {},
   "source": [
    "EOS contributions to the gibbs free energh"
   ]
  },
  {
   "cell_type": "code",
   "execution_count": null,
   "metadata": {},
   "outputs": [],
   "source": [
    "GPrToP = sym.integrate(V,(P,Pr,P))"
   ]
  },
  {
   "cell_type": "markdown",
   "metadata": {},
   "source": [
    "#### Define generic standard state Gibbs model"
   ]
  },
  {
   "cell_type": "code",
   "execution_count": null,
   "metadata": {},
   "outputs": [],
   "source": [
    "G_ss = GPr + GPrToP\n",
    "G_ss"
   ]
  },
  {
   "cell_type": "markdown",
   "metadata": {},
   "source": [
    "####  generate specific G for each end_member\n"
   ]
  },
  {
   "cell_type": "code",
   "execution_count": null,
   "metadata": {},
   "outputs": [],
   "source": [
    "abbrevs=df_poly['sAbbrev'].tolist()\n",
    "N = len(param_roots)\n",
    "G_p = [ sym.Symbol('G_{}'.format(a)) for a in abbrevs]"
   ]
  },
  {
   "cell_type": "code",
   "execution_count": null,
   "metadata": {},
   "outputs": [],
   "source": [
    "symbol_list = list(symbol_dict.values())\n",
    "for i,p in enumerate(polymorphs):\n",
    "    subs_dict = dict(zip(symbol_dict_root.values(),symbol_list[i*N:(i+1)*N]))\n",
    "    G_p[i]=G_ss.subs(subs_dict)"
   ]
  },
  {
   "cell_type": "code",
   "execution_count": null,
   "metadata": {},
   "outputs": [],
   "source": [
    "G = sym.Min(G_p[0],G_p[1])\n",
    "G"
   ]
  },
  {
   "cell_type": "markdown",
   "metadata": {},
   "source": [
    "### Generate a coder model and write to spud files"
   ]
  },
  {
   "cell_type": "code",
   "execution_count": null,
   "metadata": {},
   "outputs": [],
   "source": [
    "model_ss.add_potential_to_model('G',G, params)"
   ]
  },
  {
   "cell_type": "markdown",
   "metadata": {},
   "source": [
    "Exam settable values for the model dictionary"
   ]
  },
  {
   "cell_type": "code",
   "execution_count": null,
   "metadata": {},
   "outputs": [],
   "source": [
    "values_dict = model_ss.get_values()\n",
    "values_dict"
   ]
  },
  {
   "cell_type": "markdown",
   "metadata": {},
   "source": [
    "populate the values dictionary"
   ]
  },
  {
   "cell_type": "code",
   "execution_count": null,
   "metadata": {},
   "outputs": [],
   "source": [
    "values_dict['name'] = 'Silica_polymorph_berman'\n",
    "values_dict['reference'] = reference\n",
    "for ind, row in df_poly.iterrows():\n",
    "    abbrev = row.pop('sAbbrev')\n",
    "    new_columns = [ '{}_{}'.format(p,abbrev) for p in param_roots ]\n",
    "    row.rename(index=dict(zip(param_roots,new_columns)),inplace=True)\n",
    "    values_dict.update(row.to_dict())\n",
    "values_dict "
   ]
  },
  {
   "cell_type": "markdown",
   "metadata": {},
   "source": [
    "### Write out spud files for all Berman standard state endmembers"
   ]
  },
  {
   "cell_type": "code",
   "execution_count": null,
   "metadata": {},
   "outputs": [],
   "source": [
    "os.chdir(SPUD_DIR)\n",
    "print(values_dict['name'])\n",
    "model_ss.set_values(values_dict)\n",
    "model_ss.to_xml(path=SPUD_DIR)"
   ]
  }
 ],
 "metadata": {
  "kernelspec": {
   "display_name": "Python 3",
   "language": "python",
   "name": "python3"
  },
  "language_info": {
   "codemirror_mode": {
    "name": "ipython",
    "version": 3
   },
   "file_extension": ".py",
   "mimetype": "text/x-python",
   "name": "python",
   "nbconvert_exporter": "python",
   "pygments_lexer": "ipython3",
   "version": "3.7.5"
  }
 },
 "nbformat": 4,
 "nbformat_minor": 4
}
