{
 "cells": [
  {
   "cell_type": "markdown",
   "metadata": {},
   "source": [
    "# ThermoCodegen integration with ThermoEngine\n",
    "\n",
    "This notebook is designed to test the ability to include a ThermoCodegen generated thermodynamic database as a ThermoEngine model.Database object"
   ]
  },
  {
   "cell_type": "code",
   "execution_count": null,
   "metadata": {},
   "outputs": [],
   "source": [
    "import numpy as np\n",
    "from glob import glob\n",
    "import os\n",
    "import pytest\n",
    "\n",
    "from thermoengine import model\n",
    "from thermocodegen.testing import Tester\n",
    "import thermocodegen.testing as tt"
   ]
  },
  {
   "cell_type": "markdown",
   "metadata": {},
   "source": [
    "#### set up some directories"
   ]
  },
  {
   "cell_type": "code",
   "execution_count": null,
   "metadata": {},
   "outputs": [],
   "source": [
    "try:\n",
    "    os.makedirs('tests')\n",
    "except:\n",
    "    pass\n",
    "\n",
    "try:\n",
    "    os.makedirs('csvs')\n",
    "except:\n",
    "    pass"
   ]
  },
  {
   "cell_type": "markdown",
   "metadata": {},
   "source": [
    "#### import the ThermoCodegen object"
   ]
  },
  {
   "cell_type": "code",
   "execution_count": null,
   "metadata": {},
   "outputs": [],
   "source": [
    "import py_fo_sio2_poly_linear_rxns as pfr\n",
    "pfr.phase_info()\n"
   ]
  },
  {
   "cell_type": "code",
   "execution_count": null,
   "metadata": {},
   "outputs": [],
   "source": [
    "rxns = pfr.fo_sio2_poly_linear_rxns()\n",
    "rxns.report()"
   ]
  },
  {
   "cell_type": "code",
   "execution_count": null,
   "metadata": {},
   "outputs": [],
   "source": [
    "model_tcg=model.Database.from_thermocodegen(pfr)"
   ]
  },
  {
   "cell_type": "code",
   "execution_count": null,
   "metadata": {},
   "outputs": [],
   "source": [
    "model_tcg.phase_info"
   ]
  },
  {
   "cell_type": "markdown",
   "metadata": {},
   "source": [
    "##  Let's get serious...I want to compare tests between the pure tcg object and its wrapped thermoengine object\n",
    "\n",
    "* `t_tcg` is a tester class for the direct ThermoCodegen pybind11 object\n",
    "*  `t_te` is a testerclass for its wrapping as a ThermoEngine model.Database \n",
    "* `t_tedb` is a tester for the default ThermoEngine model.DataBase()"
   ]
  },
  {
   "cell_type": "code",
   "execution_count": null,
   "metadata": {},
   "outputs": [],
   "source": [
    "t_tcg = Tester.factory(pfr)\n",
    "t_te = Tester.factory(model_tcg)\n",
    "t_tedb = Tester.factory(model.Database())\n",
    "print(type(t_tcg))\n",
    "print(type(t_te))\n",
    "print(type(t_tedb))"
   ]
  },
  {
   "cell_type": "markdown",
   "metadata": {},
   "source": [
    "##  List endmembers\n",
    "\n",
    "These have different definitions between ThermoCodegen objects and ThermoEngine.\n",
    "* For TCG:  all phases are built from endmembers, and pure phases simply have a single endmember\n",
    "* For TE:  endmembers are all pure phases such that G(T,P)"
   ]
  },
  {
   "cell_type": "markdown",
   "metadata": {},
   "source": [
    "so for ThermoCodegen,  all thermodynamic endmembers (including in solution phases and any other endmember in the database are exposed)"
   ]
  },
  {
   "cell_type": "code",
   "execution_count": null,
   "metadata": {},
   "outputs": [],
   "source": [
    "t_tcg.endmembers"
   ]
  },
  {
   "cell_type": "markdown",
   "metadata": {},
   "source": [
    "When wrapped as a thermoengine model, however,  only the pure-phases get returned as endmembers, and only the abbrevs are returned in the list"
   ]
  },
  {
   "cell_type": "code",
   "execution_count": null,
   "metadata": {},
   "outputs": [],
   "source": [
    "t_te.endmembers"
   ]
  },
  {
   "cell_type": "markdown",
   "metadata": {},
   "source": [
    "This is consistent with endmembers for the standard berman data base pure phases"
   ]
  },
  {
   "cell_type": "code",
   "execution_count": null,
   "metadata": {},
   "outputs": [],
   "source": [
    "print(t_tedb.endmembers)"
   ]
  },
  {
   "cell_type": "markdown",
   "metadata": {},
   "source": [
    "##  List Phases\n",
    "\n",
    "Phases also have different definitions between ThermoCodegen objects and ThermoEngine.\n",
    "* For TCG:  the phase dictionary includes both pure and solution phases (distinguished only by the number of endmembers)\n",
    "* For TE:  phases are only solution phases"
   ]
  },
  {
   "cell_type": "code",
   "execution_count": null,
   "metadata": {},
   "outputs": [],
   "source": [
    "t_tcg.phase_dict"
   ]
  },
  {
   "cell_type": "code",
   "execution_count": null,
   "metadata": {},
   "outputs": [],
   "source": [
    "t_te.phase_dict"
   ]
  },
  {
   "cell_type": "code",
   "execution_count": null,
   "metadata": {},
   "outputs": [],
   "source": [
    "t_tedb.phase_dict"
   ]
  },
  {
   "cell_type": "markdown",
   "metadata": {},
   "source": [
    "#  Test Endmembers/pure phases\n",
    "\n",
    "Need to figure out how to generate comprehensive tests for endmembers/pure phases"
   ]
  },
  {
   "cell_type": "markdown",
   "metadata": {},
   "source": [
    "###  Test ThermoCodegen endmembers\n",
    "\n",
    "get raw input dataframe"
   ]
  },
  {
   "cell_type": "code",
   "execution_count": null,
   "metadata": {},
   "outputs": [],
   "source": [
    "dfe_in_tcg = t_tcg.get_endmember_df_in()\n",
    "dfe_in_tcg"
   ]
  },
  {
   "cell_type": "markdown",
   "metadata": {},
   "source": [
    "Set reference Temperature and pressure"
   ]
  },
  {
   "cell_type": "code",
   "execution_count": null,
   "metadata": {},
   "outputs": [],
   "source": [
    "T=1700.\n",
    "P=1000."
   ]
  },
  {
   "cell_type": "markdown",
   "metadata": {},
   "source": [
    "Restrict input dataframe to just endmember name, temperature and pressure and fill in"
   ]
  },
  {
   "cell_type": "code",
   "execution_count": null,
   "metadata": {},
   "outputs": [],
   "source": [
    "dfe_in_tcg = dfe_in_tcg[['name', 'T', 'P']]\n",
    "\n",
    "N = len(dfe_in_tcg)\n",
    "dfe_in_tcg['T'] = T*np.ones(N)\n",
    "dfe_in_tcg['P'] = P*np.ones(N)\n",
    "dfe_in_tcg"
   ]
  },
  {
   "cell_type": "markdown",
   "metadata": {},
   "source": [
    "Construct output dataframe from input dataframe"
   ]
  },
  {
   "cell_type": "code",
   "execution_count": null,
   "metadata": {},
   "outputs": [],
   "source": [
    "dfe_out_tcg = t_tcg.set_df_out(dfe_in_tcg)\n",
    "dfe_out_tcg"
   ]
  },
  {
   "cell_type": "markdown",
   "metadata": {},
   "source": [
    "Output data frame as csv file and pytest object"
   ]
  },
  {
   "cell_type": "code",
   "execution_count": null,
   "metadata": {},
   "outputs": [],
   "source": [
    "fileroot='tests/test_endmembers_tcg'\n",
    "dfe_out_tcg.to_csv('csvs/Endmembers_tcg.csv')\n",
    "t_tcg.write_tests(dfe_out_tcg, fileroot=fileroot)"
   ]
  },
  {
   "cell_type": "markdown",
   "metadata": {},
   "source": [
    "Run pytest on the testfile"
   ]
  },
  {
   "cell_type": "code",
   "execution_count": null,
   "metadata": {},
   "outputs": [],
   "source": [
    "testfile = glob(fileroot+'*')[0]\n",
    "pytest.main(['--disable-warnings',testfile ])"
   ]
  },
  {
   "cell_type": "markdown",
   "metadata": {},
   "source": [
    "## Repeat this for ThermoEngine Pure phases\n",
    "\n",
    "Problem is that it can't distinguish function arguments particularly well and all pure phases have a bunch of default values of\n",
    "mol=None and V=None so must include them in the input dataframe\n",
    "\n",
    "get raw input dataframe"
   ]
  },
  {
   "cell_type": "code",
   "execution_count": null,
   "metadata": {},
   "outputs": [],
   "source": [
    "dfe_in_te = t_te.get_endmember_df_in()\n",
    "dfe_in_te"
   ]
  },
  {
   "cell_type": "markdown",
   "metadata": {},
   "source": [
    "Restrict input dataframe to just endmember name, temperature, pressure and optional arguments mol and V and fill in"
   ]
  },
  {
   "cell_type": "code",
   "execution_count": null,
   "metadata": {},
   "outputs": [],
   "source": [
    "dfe_in_te = dfe_in_te[['name', 'T', 'P', 'mol', 'V']]\n",
    "N = len(dfe_in_te)\n",
    "dfe_in_te['T'] = T*np.ones(N)\n",
    "dfe_in_te['P'] = P*np.ones(N)\n",
    "dfe_in_te['mol'] = [ None for n in range(N)]\n",
    "dfe_in_te['V'] = [ None for n in range(N)]\n",
    "dfe_in_te"
   ]
  },
  {
   "cell_type": "markdown",
   "metadata": {},
   "source": [
    "Construct output dataframe (should work for all private _calc_? methods"
   ]
  },
  {
   "cell_type": "code",
   "execution_count": null,
   "metadata": {},
   "outputs": [],
   "source": [
    "dfe_out_te = t_te.set_df_out(dfe_in_te)\n",
    "dfe_out_te"
   ]
  },
  {
   "cell_type": "markdown",
   "metadata": {},
   "source": [
    "Output data frame as csv file and pytest object"
   ]
  },
  {
   "cell_type": "code",
   "execution_count": null,
   "metadata": {},
   "outputs": [],
   "source": [
    "fileroot='tests/test_endmembers_te'\n",
    "dfe_out_tcg.to_csv('csvs/Endmembers_te.csv')\n",
    "t_te.write_tests(dfe_out_te, fileroot=fileroot)"
   ]
  },
  {
   "cell_type": "markdown",
   "metadata": {},
   "source": [
    "run pytest"
   ]
  },
  {
   "cell_type": "code",
   "execution_count": null,
   "metadata": {},
   "outputs": [],
   "source": [
    "testfile = glob(fileroot+'*')[0]\n",
    "pytest.main(['--disable-warnings',testfile ])"
   ]
  },
  {
   "cell_type": "markdown",
   "metadata": {},
   "source": [
    "#  Test Solution phases\n",
    "\n",
    "Again,  there is a difference in definition between ThermoCodegen and ThermoEngine on what constitutes a Phase.  For ThermoEngine a Phase is always a solution phase (so in this case we only need to test for the liquid phase"
   ]
  },
  {
   "cell_type": "markdown",
   "metadata": {},
   "source": [
    "###  Test ThermoCodegen solution phase\n",
    "\n",
    "get raw input dataframe"
   ]
  },
  {
   "cell_type": "code",
   "execution_count": null,
   "metadata": {},
   "outputs": [],
   "source": [
    "dfp_in_tcg = t_tcg.get_phase_df_in()\n",
    "dfp_in_tcg = dfp_in_tcg[dfp_in_tcg['name']=='Liquid']\n",
    "dfp_in_tcg"
   ]
  },
  {
   "cell_type": "markdown",
   "metadata": {},
   "source": [
    "Get Liquid phase object"
   ]
  },
  {
   "cell_type": "code",
   "execution_count": null,
   "metadata": {},
   "outputs": [],
   "source": [
    "Lq = pfr.Liquid()"
   ]
  },
  {
   "cell_type": "markdown",
   "metadata": {},
   "source": [
    "Set reference Temperature pressure and composition"
   ]
  },
  {
   "cell_type": "code",
   "execution_count": null,
   "metadata": {},
   "outputs": [],
   "source": [
    "T=1700.\n",
    "P=1000.\n",
    "# endmembers are Si204 and Mg2SiO4\n",
    "c = [.2, .8]\n",
    "n = Lq.c_to_x(c)\n",
    "x = n\n",
    "print(c,n,x)"
   ]
  },
  {
   "cell_type": "markdown",
   "metadata": {},
   "source": [
    "Restrict input dataframe to just endmember name, temperature and pressure and compositional variables"
   ]
  },
  {
   "cell_type": "code",
   "execution_count": null,
   "metadata": {},
   "outputs": [],
   "source": [
    "dfp_in_tcg = dfp_in_tcg[['name', 'T', 'P', 'c', 'n', 'x']]\n",
    "\n",
    "N = len(dfp_in_tcg)\n",
    "dfp_in_tcg['T'] = T*np.ones(N)\n",
    "dfp_in_tcg['P'] = P*np.ones(N)\n",
    "dfp_in_tcg['c'] = [c]\n",
    "dfp_in_tcg['n'] = [n]\n",
    "dfp_in_tcg['x'] = [x]\n",
    "dfp_in_tcg"
   ]
  },
  {
   "cell_type": "markdown",
   "metadata": {},
   "source": [
    "Construct output dataframe"
   ]
  },
  {
   "cell_type": "code",
   "execution_count": null,
   "metadata": {},
   "outputs": [],
   "source": [
    "dfp_out_tcg = t_tcg.set_df_out(dfp_in_tcg)\n",
    "dfp_out_tcg"
   ]
  },
  {
   "cell_type": "markdown",
   "metadata": {},
   "source": [
    "Output data frame as csv file and pytest object"
   ]
  },
  {
   "cell_type": "code",
   "execution_count": null,
   "metadata": {},
   "outputs": [],
   "source": [
    "fileroot='tests/test_phases_tcg'\n",
    "dfp_out_tcg.to_csv('csvs/Phases_tcg.csv')\n",
    "t_tcg.write_tests(dfp_out_tcg, fileroot=fileroot)"
   ]
  },
  {
   "cell_type": "markdown",
   "metadata": {},
   "source": [
    "run pytest"
   ]
  },
  {
   "cell_type": "code",
   "execution_count": null,
   "metadata": {},
   "outputs": [],
   "source": [
    "testfile = glob(fileroot+'*')[0]\n",
    "pytest.main(['--disable-warnings',testfile ])"
   ]
  },
  {
   "cell_type": "markdown",
   "metadata": {},
   "source": [
    "###  Test ThermoEngine Wrapped phases\n",
    "\n",
    "get raw input dataframe"
   ]
  },
  {
   "cell_type": "code",
   "execution_count": null,
   "metadata": {},
   "outputs": [],
   "source": [
    "dfp_in_te = t_te.get_phase_df_in()\n",
    "dfp_in_te"
   ]
  },
  {
   "cell_type": "markdown",
   "metadata": {},
   "source": [
    "Restrict input dataframe to just phase name, temperature and pressure, moles and V"
   ]
  },
  {
   "cell_type": "code",
   "execution_count": null,
   "metadata": {},
   "outputs": [],
   "source": [
    "dfp_in_te = dfp_in_te[['name', 'T', 'P', 'mol', 'V']]\n",
    "\n",
    "N = len(dfp_in_te)\n",
    "dfp_in_te['T'] = T*np.ones(N)\n",
    "dfp_in_te['P'] = P*np.ones(N)\n",
    "dfp_in_te['mol'] = [n]\n",
    "dfp_in_te['V'] = None\n",
    "dfp_in_te"
   ]
  },
  {
   "cell_type": "markdown",
   "metadata": {},
   "source": [
    "set output data frame"
   ]
  },
  {
   "cell_type": "code",
   "execution_count": null,
   "metadata": {},
   "outputs": [],
   "source": [
    "dfp_out_te = t_te.set_df_out(dfp_in_te)\n",
    "dfp_out_te"
   ]
  },
  {
   "cell_type": "markdown",
   "metadata": {},
   "source": [
    "Output data frame as csv file and pytest object"
   ]
  },
  {
   "cell_type": "code",
   "execution_count": null,
   "metadata": {},
   "outputs": [],
   "source": [
    "fileroot='tests/test_phases_te'\n",
    "dfp_out_tcg.to_csv('csvs/Phases_te.csv')\n",
    "t_te.write_tests(dfp_out_te, fileroot=fileroot)"
   ]
  },
  {
   "cell_type": "markdown",
   "metadata": {},
   "source": [
    "run pytest"
   ]
  },
  {
   "cell_type": "code",
   "execution_count": null,
   "metadata": {},
   "outputs": [],
   "source": [
    "testfile = glob(fileroot+'*')[0]\n",
    "pytest.main(['--disable-warnings',testfile ])"
   ]
  },
  {
   "cell_type": "code",
   "execution_count": null,
   "metadata": {},
   "outputs": [],
   "source": []
  }
 ],
 "metadata": {
  "kernelspec": {
   "display_name": "Python 3",
   "language": "python",
   "name": "python3"
  },
  "language_info": {
   "codemirror_mode": {
    "name": "ipython",
    "version": 3
   },
   "file_extension": ".py",
   "mimetype": "text/x-python",
   "name": "python",
   "nbconvert_exporter": "python",
   "pygments_lexer": "ipython3",
   "version": "3.9.5"
  }
 },
 "nbformat": 4,
 "nbformat_minor": 4
}
