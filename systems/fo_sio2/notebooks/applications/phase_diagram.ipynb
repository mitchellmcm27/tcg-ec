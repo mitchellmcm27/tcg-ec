{
 "cells": [
  {
   "cell_type": "code",
   "execution_count": null,
   "metadata": {},
   "outputs": [],
   "source": [
    "import numpy as np\n",
    "import matplotlib.pyplot as plt\n",
    "from scipy.optimize import root\n",
    "from os import path\n",
    "import pickle"
   ]
  },
  {
   "cell_type": "markdown",
   "metadata": {},
   "source": [
    "# Routines for calculating and plotting phase diagrams in the full Fo-SiO$_2$ binary system"
   ]
  },
  {
   "cell_type": "markdown",
   "metadata": {},
   "source": [
    "import the thermocodegen reaction object"
   ]
  },
  {
   "cell_type": "code",
   "execution_count": null,
   "metadata": {},
   "outputs": [],
   "source": [
    "import py_fo_sio2_poly_linear_rxns as pfs\n",
    "rxn = pfs.fo_sio2_poly_linear_rxns()\n",
    "rxn.report()"
   ]
  },
  {
   "cell_type": "markdown",
   "metadata": {},
   "source": [
    "convenience indices for phases and components"
   ]
  },
  {
   "cell_type": "code",
   "execution_count": null,
   "metadata": {},
   "outputs": [],
   "source": [
    "iLq = 0\n",
    "iOl = 1\n",
    "iOpx = 2\n",
    "iSi = 3\n",
    "kSi = 0\n",
    "kFo = 1"
   ]
  },
  {
   "cell_type": "markdown",
   "metadata": {},
   "source": [
    "### Some utility functions for converting between compositions and Temperature units"
   ]
  },
  {
   "cell_type": "code",
   "execution_count": null,
   "metadata": {},
   "outputs": [],
   "source": [
    "# load liquid composition vector given just x_si204\n",
    "set_xliq = lambda xq : np.array([xq,1.-xq])\n",
    "\n",
    "# convert mole fractions between moles of Si2O4 and SiO2\n",
    "si2_to_si = lambda xq : 2.*xq/(1.+xq)\n",
    "si_to_si2 = lambda xq : xq/(2.-xq)\n",
    "\n",
    "# convert temperatures\n",
    "to_Kelvin = lambda T : T + 273.15\n",
    "to_Celsius = lambda T : T - 273.15"
   ]
  },
  {
   "cell_type": "markdown",
   "metadata": {},
   "source": [
    "### A routine to extract liquidus surfaces and critical points from the phase diagram"
   ]
  },
  {
   "cell_type": "code",
   "execution_count": null,
   "metadata": {},
   "outputs": [],
   "source": [
    "def calc_phasediagram(P,rxn,Trange = (1000., 2300.), N=101):\n",
    "    ''' extracts liquidus and univariant points from the fo-sio2 reactive system \n",
    "        using a combination of matplotlib contour to extract 0 contours of the affinity functions \n",
    "        as well as scipy.optimize.root to calculate invariant points\n",
    "        \n",
    "        Parameters:\n",
    "        ------------\n",
    "            P: float\n",
    "                pressure in bars\n",
    "            rxn: ThermoCodegen reaction object\n",
    "            Trange: tuple of floats (optional)\n",
    "                plotting range for Temperature\n",
    "            N: int\n",
    "                number of x,T intervals in contour plots\n",
    "    \n",
    "        Returns:\n",
    "        --------\n",
    "            dictionary containing liquidus (x,T) pairs for the three cotetics plus (x,T) values of \n",
    "            univariant points for \n",
    "                Fo-En-Lq equilibrium\n",
    "                En-Si-Lq equilibrium\n",
    "                Lq-Lq-Si equilbrium\n",
    "    '''\n",
    "    \n",
    "    \n",
    "\n",
    "    # Load the Liquid phase object\n",
    "    iLq = 0\n",
    "    Lq = rxn.phases()[iLq]\n",
    "    \n",
    "    # initialize Concentration matrix\n",
    "    C = rxn.zero_C()\n",
    "    for i in range(1,4):\n",
    "        C[i] = [1.]\n",
    "        \n",
    "    # initialized dictionary\n",
    "    _dict = {}\n",
    "    \n",
    "    # find the univariant points\n",
    "    \n",
    "    # Utility functions for calculating the affinities of reactions with correct input order\n",
    "    def set_liq(c, C):\n",
    "        C[iLq] = set_xliq(c)\n",
    "        return C\n",
    "    \n",
    "    foenA = lambda u, P, C : rxn.A(u[0],P,set_liq(u[1],C))[0:2]\n",
    "    ensiA = lambda u, P, C : rxn.A(u[0],P,set_liq(u[1],C))[1:3]\n",
    "    \n",
    "\n",
    "    # fo en univariant\n",
    "    u0 = [2100.,0.4]\n",
    "    sol = root(foenA,u0,(P,C))\n",
    "    if sol.success:\n",
    "        T,c = sol.x\n",
    "        x = Lq.c_to_x(set_xliq(c))[kSi]\n",
    "        _dict['fo_en_lq'] = [si2_to_si(x), to_Celsius(T)]\n",
    "    else:\n",
    "        print('FoEn Equilbrium failed: {}'.format(sol.message))\n",
    "    \n",
    "    # en qz univariant\n",
    "    u0 = [2000.,0.5]\n",
    "    sol = root(ensiA,u0,(P,C))\n",
    "    if sol.success:\n",
    "        T,c = sol.x\n",
    "        x = Lq.c_to_x(set_xliq(c))[kSi]\n",
    "        _dict['en_qz_lq'] = [si2_to_si(x), to_Celsius(T)]\n",
    "    else:\n",
    "        print('EnQz Equilbrium failed: {}'.format(sol.message))\n",
    "    \n",
    "    # Find liquidus surfaces using plt.contour\n",
    "    \n",
    "    # set  Temperature range in degrees C\n",
    "    t = np.linspace(Trange[0],Trange[1],N)\n",
    "\n",
    "    # mol fraction range for x_siO2 (with minor regularization)\n",
    "    eps = 1.e-3\n",
    "    x = np.linspace(eps,1.-eps,N)\n",
    "    \n",
    "    # create MeshGrids for X,T\n",
    "    X,T = np.meshgrid(x,t)\n",
    "    Xf = X.flatten()\n",
    "    \n",
    "    \n",
    "    \n",
    "    # create flattened arrays\n",
    "    A0 = np.empty(T.flatten().shape)\n",
    "    A1 = A0.copy()\n",
    "    A2 = A0.copy()\n",
    "    \n",
    "    #calculate gridded Affinities for the three reactions\n",
    "    for k, tk in enumerate(to_Kelvin(T.flatten())):\n",
    "        C[iLq] = Lq.x_to_c(set_xliq(si_to_si2(Xf[k])))\n",
    "        A0[k], A1[k], A2[k] = rxn.A(tk,P,C)\n",
    "    \n",
    "    # and reshape\n",
    "    A0 = A0.reshape(T.shape)\n",
    "    A1 = A1.reshape(T.shape)\n",
    "    A2 = A2.reshape(T.shape)\n",
    "    \n",
    "    # extract A_j = 0 contours\n",
    "    cs0 = plt.contour(x,t,A0,[0])\n",
    "    cs1 =  plt.contour(x,t,A1,[0])\n",
    "    cs2 =  plt.contour(x,t,A2,[0])\n",
    "    plt.close()\n",
    "    fo_liq = cs0.allsegs[0][0].T\n",
    "    en_liq = cs1.allsegs[0][0].T\n",
    "    si_liq = cs2.allsegs[0][0].T    \n",
    "    \n",
    "    _dict['fo_liq'] = fo_liq\n",
    "    _dict['en_liq'] = en_liq\n",
    "    _dict['si_liq'] = si_liq\n",
    "\n",
    "    # find solvus point\n",
    "    i_si_max = np.argmax(si_liq[1])\n",
    "    tail = si_liq[:,i_si_max:]\n",
    "    i_si_min = np.argmin(tail[1,:])\n",
    "    _dict['si_solvus'] = tail[:,i_si_min]\n",
    "    \n",
    "    return _dict\n",
    "        "
   ]
  },
  {
   "cell_type": "markdown",
   "metadata": {},
   "source": [
    "### A routine to generate phase diagrams for the fo_sio2 system"
   ]
  },
  {
   "cell_type": "code",
   "execution_count": null,
   "metadata": {},
   "outputs": [],
   "source": [
    "def plot_phasediagram(P, rxn, Trange=(1300,2200), N=101):\n",
    "    ''' Generates plots for phase diagrams of the  fo-sio2 system \n",
    "        calls calc_phasediagram(P,rxn) to generate liquidus and critical point dictionary\n",
    "        \n",
    "        Parameters:\n",
    "        -----------\n",
    "        P: float\n",
    "            pressure in bars\n",
    "        rxn: ThermoCodegen reaction object\n",
    "        Trange: tuple of floats (optional)\n",
    "            plotting range for Temperature\n",
    "        N: int\n",
    "            number of x,T intervals in contour plots\n",
    "            \n",
    "        Returns:\n",
    "        --------\n",
    "        fig:  matplotlib figure\n",
    "        ax:   current matplotlib axis\n",
    "        model_dict:  dictionary of liquidus and critical points\n",
    "    \n",
    "    '''\n",
    "    \n",
    "    # calculate various cotectics and critical points of the phase diagram\n",
    "    _dict = calc_phasediagram(P,rxn,N=N)\n",
    "    \n",
    "    # extract X_sio2 values of critical points\n",
    "    x_0 = _dict['fo_en_lq'][0]\n",
    "    x_1 = _dict['en_qz_lq'][0]\n",
    "    x_2 = _dict['si_solvus'][0]\n",
    "    \n",
    "    \n",
    "    \n",
    "    \n",
    "    fig = plt.figure(figsize=(6,6))\n",
    "    ax = fig.add_subplot(1,1,1)\n",
    "    # plot Fo-lq cotectic\n",
    "    imax = np.argmin(np.abs(_dict['fo_liq'][0] - x_0))\n",
    "    ax.plot(_dict['fo_liq'][0,:imax],_dict['fo_liq'][1,:imax],'r')\n",
    "    \n",
    "    # plot En-lq cotectic\n",
    "    imin =  np.argmin(np.abs(_dict['en_liq'][0] - x_0))\n",
    "    imax = np.argmin(np.abs(_dict['en_liq'][0] - x_1))\n",
    "    ax.plot(_dict['en_liq'][0,imin:imax],_dict['en_liq'][1,imin:imax],'g')\n",
    "    \n",
    "    #plot Si-lq cotectic (with solvus)\n",
    "    imin = np.argmin(np.abs(_dict['si_liq'] - x_1))\n",
    "    ax.plot(_dict['si_liq'][0,imin:],_dict['si_liq'][1,imin: ],'b')\n",
    "\n",
    "    # now put in all the fun horizontal lines\n",
    "    ax.plot([0.,max(x_0,0.5)], _dict['fo_en_lq'][1]*np.ones(2),'k')\n",
    "    ax.plot([0.5,1.0], _dict['en_qz_lq'][1]*np.ones(2),'k')\n",
    "    ax.plot([0.5,0.5],[Trange[0], _dict['fo_en_lq'][1]],'k')\n",
    "    \n",
    "    imin = np.argwhere(_dict['si_liq'][1] >= _dict['si_solvus'][1]).min()\n",
    "    ax.plot([_dict['si_liq'][0,imin], 1.], _dict['si_solvus'][1]*np.ones(2),'k')\n",
    "    ax.grid()\n",
    "    ax.set_xlabel('SiO$_2$ (mol fraction)')\n",
    "    ax.set_ylabel('$T$ (C)')\n",
    "    ax.set_ylim(Trange)\n",
    "    ax.set_xlim([0.,1.])\n",
    "    ax.set_title('$P$ = {} bar'.format(P),fontsize=18)\n",
    "\n",
    "    return fig, ax, _dict"
   ]
  },
  {
   "cell_type": "markdown",
   "metadata": {},
   "source": [
    "### Compare phase diagrams at 1 bar and 10 kbar"
   ]
  },
  {
   "cell_type": "code",
   "execution_count": null,
   "metadata": {},
   "outputs": [],
   "source": [
    "fig, ax, model_dict = plot_phasediagram(1.,rxn, Trange=(1300,2200),N=200)\n",
    "ax.text(0.2,1400,'Fo + En',horizontalalignment='center',fontsize=14)\n",
    "ax.text(0.2,1650,'Fo + Lq',horizontalalignment='center',fontsize=14)\n",
    "ax.text(0.8,1400,'En + Qz',horizontalalignment='center',fontsize=14)\n",
    "ax.text(0.8,1550,'Qz + Lq',horizontalalignment='center',fontsize=14)\n",
    "ax.text(0.8,1650,' 2 Lq',horizontalalignment='center',fontsize=14)\n",
    "ax.text(0.5,1850,' Lq',horizontalalignment='center',fontsize=14)\n",
    "plt.savefig('Fo-sio2-phase_diagram_1bar.png')\n",
    "plt.show()"
   ]
  },
  {
   "cell_type": "code",
   "execution_count": null,
   "metadata": {},
   "outputs": [],
   "source": [
    "fig, ax, model_dict = plot_phasediagram(10000.,rxn, Trange=(1300,2200),N=200)\n",
    "ax.text(0.2,1500,'Fo + En',horizontalalignment='center',fontsize=14)\n",
    "ax.text(0.2,1750,'Fo + Lq',horizontalalignment='center',fontsize=14)\n",
    "ax.text(0.8,1500,'En + Qz',horizontalalignment='center',fontsize=14)\n",
    "ax.text(0.8,1800,'Qz + Lq',horizontalalignment='center',fontsize=14)\n",
    "ax.text(0.8,2000,' 2 Lq',horizontalalignment='center',fontsize=14)\n",
    "ax.text(0.5,1850,' Lq',horizontalalignment='center',fontsize=14)\n",
    "plt.savefig('Fo-sio2-phase_diagram_10kbar.png')\n",
    "plt.show()"
   ]
  }
 ],
 "metadata": {
  "kernelspec": {
   "display_name": "Python 3",
   "language": "python",
   "name": "python3"
  },
  "language_info": {
   "codemirror_mode": {
    "name": "ipython",
    "version": 3
   },
   "file_extension": ".py",
   "mimetype": "text/x-python",
   "name": "python",
   "nbconvert_exporter": "python",
   "pygments_lexer": "ipython3",
   "version": "3.7.5"
  }
 },
 "nbformat": 4,
 "nbformat_minor": 4
}
