{
 "cells": [
  {
   "cell_type": "markdown",
   "metadata": {},
   "source": [
    "# Plot TF output\n",
    "\n",
    "We'll just use the stat file to make pretty plots  of the output from the TF runs"
   ]
  },
  {
   "cell_type": "code",
   "execution_count": null,
   "metadata": {},
   "outputs": [],
   "source": [
    "import numpy as np\n",
    "import matplotlib.pyplot as plt\n",
    "%matplotlib inline\n",
    "plt.style.use('plots.mplstyle')\n",
    "\n",
    "from glob import glob\n",
    "from collections import OrderedDict"
   ]
  },
  {
   "cell_type": "markdown",
   "metadata": {},
   "source": [
    "Import TerraFERMA and ThermoCodegen related objects"
   ]
  },
  {
   "cell_type": "code",
   "execution_count": null,
   "metadata": {},
   "outputs": [],
   "source": [
    "from buckettools.statfile import parser"
   ]
  },
  {
   "cell_type": "code",
   "execution_count": null,
   "metadata": {},
   "outputs": [],
   "source": [
    "import py_fo_sio2_poly_linear_rxns as pfosi\n",
    "rxn = pfosi.fo_sio2_poly_linear_rxns()\n",
    "rxn.report()"
   ]
  },
  {
   "cell_type": "markdown",
   "metadata": {},
   "source": [
    "Extract Phase abbreviations and Liquid endmember names and set up indexing dict"
   ]
  },
  {
   "cell_type": "code",
   "execution_count": null,
   "metadata": {},
   "outputs": [],
   "source": [
    "phases = rxn.phases()\n",
    "abbrevs = [ phase.abbrev() for phase in phases]\n",
    "ip = OrderedDict(zip(abbrevs,range(len(abbrevs))))\n",
    "enames = [phases[ip['Lq']].endmember_name(i) for i in range(phases[ip['Lq']].endmember_number())]\n",
    "print('Phase Abbreviations = {}'.format(abbrevs))\n",
    "print('Liquid Endmembers =  {}'.format(enames))"
   ]
  },
  {
   "cell_type": "code",
   "execution_count": null,
   "metadata": {},
   "outputs": [],
   "source": [
    "# convert temperatures\n",
    "to_Kelvin = lambda T : T + 273.15\n",
    "to_Celsius = lambda T : T - 273.15\n",
    "\n",
    "iLq = 0"
   ]
  },
  {
   "cell_type": "code",
   "execution_count": null,
   "metadata": {},
   "outputs": [],
   "source": [
    "def plotTf(stat_file):\n",
    "    stat = parser(stat_file)\n",
    "    \"\"\" Function to extract data from stat files and create a pdf plot\"\"\"\n",
    "    # Extract data\n",
    "    P = stat['IsentropicDecompression']['Pressure']['max']\n",
    "    T = stat['IsentropicDecompression']['Temperature']['max']\n",
    "    F = stat['IsentropicDecompression']['MassFraction']['max']\n",
    "    cLq = stat['IsentropicDecompression']['cLq']['max']\n",
    "    S0 = stat['IsentropicDecompression']['S0']['max'][0]\n",
    "    S_error_max = np.abs(stat[\"IsentropicDecompression\"][\"S_error\"][\"functional_value\"]).max()\n",
    "    Da = stat['IsentropicDecompression']['Da']['max'][0]\n",
    "    WallTime = stat['ElapsedWallTime']['value'][-1]\n",
    "    dz = stat['dt']['value'][0]\n",
    "\n",
    "    # calculate total Entropy and relative error from S0\n",
    "    Stot = np.zeros(T.shape)\n",
    "    C = rxn.zero_C()\n",
    "    gamma_i = np.zeros(F.shape)\n",
    "    s = gamma_i.copy()\n",
    "    rho = gamma_i.copy()\n",
    "    for n in range(1,len(C)):\n",
    "        C[n] = [1.]\n",
    "    \n",
    "    print(F.shape)\n",
    "    print(F[:,0])\n",
    "    for i in range(len(T)):\n",
    "        C[iLq] = cLq[:,i]\n",
    "        gamma_i[:,i] = rxn.Gamma_i(T[i],P[i],C,F[:,i])\n",
    "        s[:,i] = rxn.s(T[i],P[i],C)\n",
    "        Stot[i] = F[:,i].dot(s[:,i])\n",
    "        rho[:,i] = rxn.rho(T[i],P[i],C)\n",
    "\n",
    "    \n",
    "    # plot the bugger out with pressure in Kb\n",
    "    P = P/1000.\n",
    "    \n",
    "    fig  = plt.figure(figsize=(12,16))\n",
    "    ax = fig.add_subplot(2,3,1)\n",
    "\n",
    "    for i in range(len(F)):\n",
    "        ax.plot(F[i],P,label=abbrevs[i])\n",
    "    ax.set_ylabel('P (kb)')\n",
    "    ax.set_xlabel('F ')\n",
    "    ax.invert_yaxis()\n",
    "    #ax.legend(loc=(.65,.76))\n",
    "    ax.legend(loc='best')\n",
    "    ax.grid()\n",
    "\n",
    "    ax = fig.add_subplot(2,3,2)\n",
    "    ax.plot(cLq[0],P)\n",
    "    ax.set_xlabel('cSi_lq')\n",
    "    ax.invert_yaxis()\n",
    "    ax.set_title('Da = {}'.format(Da))\n",
    "    ax.grid()\n",
    "\n",
    "    ax = fig.add_subplot(2,3,3)\n",
    "    ax.plot(to_Celsius(T),P)\n",
    "    ax.set_xlabel('T (C)')\n",
    "    ax.invert_yaxis()\n",
    "    ax.grid()\n",
    "    \n",
    "    ax = fig.add_subplot(2,3,4)\n",
    "    for i in range(len(gamma_i)):\n",
    "        ax.plot(gamma_i[i],P,label=abbrevs[i])\n",
    "    ax.set_xlabel('$\\Gamma_i$')\n",
    "    ax.set_ylabel('P (kb)')\n",
    "    ax.legend(loc='best')\n",
    "    ax.invert_yaxis()\n",
    "    ax.grid()\n",
    "\n",
    "    ax = fig.add_subplot(2,3,5)\n",
    "    for i in range(len(s)):\n",
    "        ax.plot(s[i],P,label=abbrevs[i])\n",
    "    ax.plot(Stot,P,'k--',label='$s_{tot}$')\n",
    "    ax.set_xlabel('$s$')\n",
    "    ax.legend(loc='best')\n",
    "    ax.set_title('$\\max|\\Delta S|/S_0$= {:3.4g}'.format(S_error_max))\n",
    "    ax.invert_yaxis()\n",
    "    ax.grid()\n",
    "\n",
    "    ax = fig.add_subplot(2,3,6)\n",
    "    \n",
    "    for i in range(len(rho)-1):\n",
    "        ax.plot(rho[i]*100.,P,label=abbrevs[i])\n",
    "    ax.set_xlabel('$\\\\rho$ kg/m$^3$')\n",
    "    ax.legend(['Lq', 'Ol', 'Opx', 'Qz'],loc='best')\n",
    "    ax.invert_yaxis()\n",
    "    ax.grid()\n",
    "\n",
    "    # need a better title or save to each output directory...not sure yet\n",
    "    fig.suptitle('Isentropic Decompression $S_0$ ={:3.3f} J/K'.format(S0))\n",
    "    plt.savefig('Isentropic_TF_Da{}_dz{}.pdf'.format(Da,dz))\n",
    "    plt.show()"
   ]
  },
  {
   "cell_type": "code",
   "execution_count": null,
   "metadata": {},
   "outputs": [],
   "source": [
    "stat_files = glob('*.run/**/*.stat',recursive=True)\n",
    "for file in stat_files:\n",
    "    plotTf(file)"
   ]
  }
 ],
 "metadata": {
  "kernelspec": {
   "display_name": "Python 3",
   "language": "python",
   "name": "python3"
  },
  "language_info": {
   "codemirror_mode": {
    "name": "ipython",
    "version": 3
   },
   "file_extension": ".py",
   "mimetype": "text/x-python",
   "name": "python",
   "nbconvert_exporter": "python",
   "pygments_lexer": "ipython3",
   "version": "3.9.5"
  }
 },
 "nbformat": 4,
 "nbformat_minor": 4
}
