{
 "cells": [
  {
   "cell_type": "markdown",
   "metadata": {},
   "source": [
    "# Plot TF output\n",
    "\n",
    "We'll just use the stat file to make pretty plots  of the output from the TF runs"
   ]
  },
  {
   "cell_type": "code",
   "execution_count": null,
   "metadata": {},
   "outputs": [],
   "source": [
    "import numpy as np\n",
    "import matplotlib.pyplot as plt\n",
    "%matplotlib inline\n",
    "plt.style.use('plots.mplstyle')\n",
    "\n",
    "from glob import glob\n",
    "from collections import OrderedDict"
   ]
  },
  {
   "cell_type": "markdown",
   "metadata": {},
   "source": [
    "Import TerraFERMA and ThermoCodegen related objects"
   ]
  },
  {
   "cell_type": "code",
   "execution_count": null,
   "metadata": {},
   "outputs": [],
   "source": [
    "from buckettools.statfile import parser"
   ]
  },
  {
   "cell_type": "code",
   "execution_count": null,
   "metadata": {},
   "outputs": [],
   "source": [
    "import py_fo_sio2_poly_linear_rxns as pfosi\n",
    "rxn = pfosi.fo_sio2_poly_linear_rxns()\n",
    "rxn.report()"
   ]
  },
  {
   "cell_type": "markdown",
   "metadata": {},
   "source": [
    "Extract Phase abbreviations and Liquid endmember names and set up indexing dict"
   ]
  },
  {
   "cell_type": "code",
   "execution_count": null,
   "metadata": {},
   "outputs": [],
   "source": [
    "phases = rxn.phases()\n",
    "abbrevs = [ phase.abbrev() for phase in phases]\n",
    "ip = OrderedDict(zip(abbrevs,range(len(abbrevs))))\n",
    "enames = [phases[ip['Lq']].endmember_name(i) for i in range(phases[ip['Lq']].endmember_number())]\n",
    "print('Phase Abbreviations = {}'.format(abbrevs))\n",
    "print('Liquid Endmembers =  {}'.format(enames))"
   ]
  },
  {
   "cell_type": "code",
   "execution_count": null,
   "metadata": {},
   "outputs": [],
   "source": [
    "def plotTf(stat_file):\n",
    "    stat = parser(stat_file)\n",
    "    \"\"\" Function to extract data from stat files and create a pdf plot\"\"\"\n",
    "    # Extract data\n",
    "    P = stat['IsentropicDecompression']['Pressure']['max']\n",
    "    T = stat['IsentropicDecompression']['Temperature']['max']\n",
    "    M = stat['IsentropicDecompression']['Mass']['max']\n",
    "    cLq = stat['IsentropicDecompression']['cLq']['max']\n",
    "    Phi = stat['IsentropicDecompression']['Phi']['max']\n",
    "    S0 = stat['IsentropicDecompression']['S0']['max'][0]\n",
    "    WallTime = stat['ElapsedWallTime']['value'][-1]\n",
    "    dt0 = stat['dt']['value'][0]\n",
    "\n",
    "    # calculate total Entropy and relative error from S0\n",
    "    S = np.zeros(len(T))\n",
    "    C = rxn.zero_C()\n",
    "    for n in range(1,len(C)):\n",
    "        C[n] = [1.]\n",
    "\n",
    "    for t in range(len(T)):\n",
    "        C[0] = cLq[:,t]\n",
    "        S[t] = np.array(rxn.s(T[t],P[t],C)).dot(M[:,t])\n",
    "    \n",
    "    # de-nan and calculate relative error in entrop\n",
    "    err = np.abs(S-S0)/np.abs(S0)\n",
    "    nans = np.isnan(err)\n",
    "    err = err[ ~nans]\n",
    "\n",
    "    \n",
    "    # plot the bugger out with pressure in Kb\n",
    "    P = P/1000.\n",
    "    \n",
    "    fig  = plt.figure(figsize=(20,8))\n",
    "    ax = fig.add_subplot(1,4,1)\n",
    "\n",
    "    for i in range(len(M)):\n",
    "        ax.plot(M[i],P,label=abbrevs[i])\n",
    "    ax.set_ylim(P[0],P[-1])\n",
    "    ax.set_ylabel('P (kb)')\n",
    "    ax.set_xlabel('Mass (g)')\n",
    "    #ax.legend(loc=(.65,.76))\n",
    "    ax.legend(loc='best')\n",
    "    ax.grid()\n",
    "    ax.set_title('$S_0$ ={:3.3f} J/K'.format(S0))\n",
    "\n",
    "\n",
    "    ax = fig.add_subplot(1,4,2)\n",
    "    for i in range(len(Phi)):\n",
    "        ax.plot(Phi[i],P,label=abbrevs[i])\n",
    "    ax.set_ylim(P[0],P[-1])\n",
    "    ax.set_ylabel('P (kb)')\n",
    "    ax.set_xlabel('Phase Fractions ($\\Phi$)')\n",
    "    #ax.legend(loc=(.65,.76))\n",
    "    ax.legend(loc='best')\n",
    "    ax.set_title('Solver = TF Wall={:3.3f} s, N={} steps'.format(WallTime,len(P)))\n",
    "    ax.grid()\n",
    "\n",
    "\n",
    "    ax = fig.add_subplot(1,4,3)\n",
    "    for k in range(len(cLq)):\n",
    "        ax.plot(cLq[k],P,label=enames[k])\n",
    "    ax.set_ylim(P[0],P[-1])\n",
    "    ax.set_ylabel('P (kb)')\n",
    "    ax.set_xlabel('C (wt %)')\n",
    "    ax.set_xlim(-0.01, 1.0)\n",
    "    ax.legend(loc='lower center')\n",
    "    ax.grid()\n",
    "\n",
    "\n",
    "    #ax.set_title('Isentropic decompression S_0 ={:3.3f} J/K'.format(S0))\n",
    "    ax = fig.add_subplot(1,4,4)\n",
    "    ax.plot(T-273.15, P, 'b-')\n",
    "    ax.set_xlabel('T (C)')\n",
    "    ax.set_ylabel('P (kb)')\n",
    "    ax.set_ylim(P[0],P[-1])\n",
    "    ax.set_title('Temperature, $||(S-S_0)/S_0||_2$ = {:3.3g}'.format(np.linalg.norm(err)))\n",
    "    ax.grid()\n",
    "\n",
    "    # need a better title or save to each output directory...not sure yet\n",
    "    fig.suptitle('Isentropic Decompression $S_0$ ={:3.3f} J/K'.format(S0))\n",
    "    plt.savefig('Isentropic_TF_dt{}.pdf'.format(dt0))\n",
    "    plt.show()"
   ]
  },
  {
   "cell_type": "code",
   "execution_count": null,
   "metadata": {},
   "outputs": [],
   "source": [
    "stat_files = glob('*.run/**/*.stat',recursive=True)\n",
    "for file in stat_files:\n",
    "    plotTf(file)"
   ]
  },
  {
   "cell_type": "code",
   "execution_count": null,
   "metadata": {},
   "outputs": [],
   "source": []
  }
 ],
 "metadata": {
  "kernelspec": {
   "display_name": "Python 3",
   "language": "python",
   "name": "python3"
  },
  "language_info": {
   "codemirror_mode": {
    "name": "ipython",
    "version": 3
   },
   "file_extension": ".py",
   "mimetype": "text/x-python",
   "name": "python",
   "nbconvert_exporter": "python",
   "pygments_lexer": "ipython3",
   "version": "3.7.5"
  }
 },
 "nbformat": 4,
 "nbformat_minor": 4
}
