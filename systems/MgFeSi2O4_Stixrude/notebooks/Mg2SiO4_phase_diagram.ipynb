{
 "cells": [
  {
   "cell_type": "markdown",
   "metadata": {
    "deletable": true,
    "editable": true,
    "slideshow": {
     "slide_type": "skip"
    }
   },
   "source": [
    "<table>\n",
    " <tr align=left><td><img align=left src=\"https://i.creativecommons.org/l/by/4.0/88x31.png\">\n",
    " <td>Text provided under a Creative Commons Attribution license, CC-BY. All code is made available under the FSF-approved MIT license. (c) Marc Spiegelman, Template from Kyle Mandli</td>\n",
    "</table>\n"
   ]
  },
  {
   "cell_type": "markdown",
   "metadata": {
    "deletable": true,
    "editable": true,
    "slideshow": {
     "slide_type": "slide"
    }
   },
   "source": [
    "# Mg2SiO4 Stixrude Equilibrium Phase diagram\n",
    "\n",
    "This notebook will use functions from the ThermoCodegen generated Mg2SiO4 stixrude system to plot thermodynamic properties as a function of $T,P$ for the phase that satisfies $\\min(G_i(T,P))$ for $i\\in[0,2]$ "
   ]
  },
  {
   "cell_type": "code",
   "execution_count": null,
   "metadata": {
    "deletable": true,
    "editable": true,
    "slideshow": {
     "slide_type": "skip"
    }
   },
   "outputs": [],
   "source": [
    "# load the standard goodies\n",
    "import numpy as np\n",
    "from scipy.optimize import fsolve, brentq\n",
    "import matplotlib.pyplot as plt\n",
    "import matplotlib.cm as cm\n",
    "\n",
    "%matplotlib inline\n",
    "plt.rcParams[\"figure.figsize\"] = [8,6]\n",
    "plt.rcParams['font.size'] = 16"
   ]
  },
  {
   "cell_type": "markdown",
   "metadata": {},
   "source": [
    "### Load the ThermoCodegen object for the fo-fa reactive system\n",
    "\n",
    "This will require that the python bindings for the py_fo_fa_binary module are in the python path\n",
    "\n",
    "if you are using modules,  this can be accomplished by running\n",
    "|\n",
    "```bash\n",
    "cd ../../reactions/Mg2SiO4_stixrude\n",
    "module load ./Mg2SiO4.module\n"
   ]
  },
  {
   "cell_type": "code",
   "execution_count": null,
   "metadata": {
    "deletable": true,
    "editable": true,
    "slideshow": {
     "slide_type": "skip"
    }
   },
   "outputs": [],
   "source": [
    "import py_Mg2SiO4_stixrude as pms\n",
    "#pms.phase_info()"
   ]
  },
  {
   "cell_type": "code",
   "execution_count": null,
   "metadata": {
    "deletable": true,
    "editable": true,
    "slideshow": {
     "slide_type": "skip"
    }
   },
   "outputs": [],
   "source": [
    "rxn = pms.Mg2SiO4_stixrude()\n",
    "rxn.report()"
   ]
  },
  {
   "cell_type": "markdown",
   "metadata": {
    "editable": true,
    "slideshow": {
     "slide_type": "skip"
    }
   },
   "source": [
    "utility functions \n"
   ]
  },
  {
   "cell_type": "code",
   "execution_count": null,
   "metadata": {
    "deletable": true,
    "editable": true,
    "slideshow": {
     "slide_type": "skip"
    }
   },
   "outputs": [],
   "source": [
    "toCelsius = lambda T: T - 273.15\n",
    "toKelvin = lambda T: T + 273.15\n",
    "toBar = lambda P: P*10000."
   ]
  },
  {
   "cell_type": "markdown",
   "metadata": {
    "deletable": true,
    "editable": true,
    "slideshow": {
     "slide_type": "skip"
    }
   },
   "source": [
    "### Plot Affinity Surfaces for the Fo-Wa reaction and Wa-Ri reaction"
   ]
  },
  {
   "cell_type": "code",
   "execution_count": null,
   "metadata": {
    "deletable": true,
    "editable": true,
    "jupyter": {
     "outputs_hidden": false
    },
    "slideshow": {
     "slide_type": "skip"
    }
   },
   "outputs": [],
   "source": [
    "ta = np.linspace(900.,2600.,100)\n",
    "pa = np.linspace(.1,30.,100)\n",
    "Tm,Pm = np.meshgrid(ta,pa)\n",
    "C = rxn.zero_C()\n",
    "for i in range(len(C)):\n",
    "    C[i] = [1.]\n",
    "    \n",
    "A0 = np.zeros(Tm.shape)\n",
    "A1 = np.zeros(Tm.shape)\n",
    "for i,T in enumerate(ta):\n",
    "    for j,P in enumerate(toBar(pa)):\n",
    "        A = rxn.A(T,P,C)\n",
    "        A0[j,i] = A[0]\n",
    "        A1[j,i] = A[1]\n"
   ]
  },
  {
   "cell_type": "markdown",
   "metadata": {
    "deletable": true,
    "editable": true
   },
   "source": [
    "## Phase Diagram\n",
    "\n",
    "Contour 0 affinity for each reaction and compare to ThermoEngine"
   ]
  },
  {
   "cell_type": "code",
   "execution_count": null,
   "metadata": {
    "deletable": true,
    "editable": true,
    "jupyter": {
     "outputs_hidden": false
    }
   },
   "outputs": [],
   "source": [
    "fig = plt.figure(figsize=(4,8))\n",
    "axes = fig.add_subplot(1,1,1)\n",
    "axes.contour(Tm,Pm,A0,[0],colors = ['r'])\n",
    "axes.contour(Tm,Pm,A1,[0],colors = ['r'])\n",
    "\n",
    "axes.grid()\n",
    "axes.set_xlabel('Temperature (K)')\n",
    "axes.set_ylabel('Pressure (GPa)')\n",
    "axes.invert_yaxis()\n",
    "plt.show()"
   ]
  },
  {
   "cell_type": "markdown",
   "metadata": {},
   "source": [
    "### Plot  $\\min(G_i(T,P))$ and the index of the stable phase"
   ]
  },
  {
   "cell_type": "code",
   "execution_count": null,
   "metadata": {},
   "outputs": [],
   "source": [
    "Gmin = np.zeros(Tm.shape)\n",
    "index = np.zeros(Tm.shape, dtype=int)\n",
    "for i,T in enumerate(ta):\n",
    "    for j,P in enumerate(toBar(pa)):\n",
    "        G = rxn.Mu(T,P,C)\n",
    "        Gmin[j,i] = np.min(G)\n",
    "        index[j,i]= np.argmin(G)\n",
    "        "
   ]
  },
  {
   "cell_type": "code",
   "execution_count": null,
   "metadata": {
    "editable": true,
    "jupyter": {
     "outputs_hidden": false
    }
   },
   "outputs": [],
   "source": [
    "fig = plt.figure(figsize=(10,8))\n",
    "axes = fig.add_subplot(1,2,1)\n",
    "cf = axes.contourf(Tm,Pm,Gmin)\n",
    "axes.contour(Tm,Pm,A0,[0],colors = ['r'])\n",
    "axes.contour(Tm,Pm,A1,[0],colors = ['r'])\n",
    "axes.grid()\n",
    "axes.set_xlabel('Temperature (K)')\n",
    "axes.set_ylabel('Pressure (GPa)')\n",
    "axes.invert_yaxis()\n",
    "#plt.colorbar(cf)\n",
    "\n",
    "axes = fig.add_subplot(1,2,2)\n",
    "axes.contourf(Tm,Pm,index)\n",
    "\n",
    "axes.grid()\n",
    "axes.set_xlabel('Temperature (K)')\n",
    "axes.set_ylabel('Pressure (GPa)')\n",
    "axes.invert_yaxis()\n",
    "plt.show()"
   ]
  },
  {
   "cell_type": "markdown",
   "metadata": {},
   "source": [
    "### Plot  $\\rho$, $\\alpha$, $C_p$, $s$ for the stable phase"
   ]
  },
  {
   "cell_type": "code",
   "execution_count": null,
   "metadata": {},
   "outputs": [],
   "source": [
    "rho = np.zeros(Tm.shape)\n",
    "alpha = np.zeros(Tm.shape)\n",
    "cp = np.zeros(Tm.shape)\n",
    "s = np.zeros(Tm.shape)\n",
    "for i,T in enumerate(ta):\n",
    "    for j,P in enumerate(toBar(pa)):\n",
    "        rho[j,i] = rxn.rho(T,P,C)[index[j,i]]\n",
    "        alpha[j,i] = rxn.alpha(T,P,C)[index[j,i]]\n",
    "        cp[j,i] = rxn.Cp(T,P,C)[index[j,i]]\n",
    "        s[j,i] = rxn.s(T,P,C)[index[j,i]]\n",
    "        "
   ]
  },
  {
   "cell_type": "code",
   "execution_count": null,
   "metadata": {
    "editable": true,
    "jupyter": {
     "outputs_hidden": false
    }
   },
   "outputs": [],
   "source": [
    "fig = plt.figure(figsize=(14,16))\n",
    "axes = fig.add_subplot(2,2,1)\n",
    "cf = axes.contourf(Tm,Pm,rho/10)\n",
    "axes.contour(Tm,Pm,A0,[0],colors = ['r'])\n",
    "axes.contour(Tm,Pm,A1,[0],colors = ['r'])\n",
    "\n",
    "axes.grid()\n",
    "axes.set_title('$\\\\rho$ (g/cm$^3$)')\n",
    "axes.set_xlabel('Temperature (K)')\n",
    "axes.set_ylabel('Pressure (GPa)')\n",
    "axes.invert_yaxis()\n",
    "plt.colorbar(cf)\n",
    "\n",
    "axes = fig.add_subplot(2,2,2)\n",
    "cf = axes.contourf(Tm,Pm,alpha)\n",
    "axes.contour(Tm,Pm,A0,[0],colors = ['r'])\n",
    "axes.contour(Tm,Pm,A1,[0],colors = ['r'])\n",
    "axes.grid()\n",
    "axes.set_title('$\\\\alpha$ $(K^{-1})$')\n",
    "axes.set_xlabel('Temperature (K)')\n",
    "axes.set_ylabel('Pressure (GPa)')\n",
    "axes.invert_yaxis()\n",
    "plt.colorbar(cf)\n",
    "\n",
    "axes = fig.add_subplot(2,2,3)\n",
    "cf = axes.contourf(Tm,Pm,cp)\n",
    "axes.contour(Tm,Pm,A0,[0],colors = ['r'])\n",
    "axes.contour(Tm,Pm,A1,[0],colors = ['r'])\n",
    "axes.grid()\n",
    "axes.set_title('$C_p$ (J/gK)')\n",
    "axes.set_xlabel('Temperature (K)')\n",
    "axes.set_ylabel('Pressure (GPa)')\n",
    "axes.invert_yaxis()\n",
    "plt.colorbar(cf)\n",
    "\n",
    "axes = fig.add_subplot(2,2,4)\n",
    "cf = axes.contourf(Tm,Pm,s)\n",
    "axes.contour(Tm,Pm,A0,[0],colors = ['r'])\n",
    "axes.contour(Tm,Pm,A1,[0],colors = ['r'])\n",
    "axes.grid()\n",
    "axes.set_title('$s$  (J/gK)')\n",
    "axes.set_xlabel('Temperature (K)')\n",
    "axes.set_ylabel('Pressure (GPa)')\n",
    "axes.invert_yaxis()\n",
    "plt.colorbar(cf)\n",
    "\n",
    "fig.subplots_adjust(wspace=0.2)\n",
    "plt.show()"
   ]
  },
  {
   "cell_type": "markdown",
   "metadata": {},
   "source": [
    "### Plot total entropy per-unit volume $\\rho s$ and contour for isentropes"
   ]
  },
  {
   "cell_type": "code",
   "execution_count": null,
   "metadata": {},
   "outputs": [],
   "source": [
    "fig = plt.figure(figsize=(6,8))\n",
    "axes = fig.add_subplot(1,1,1)\n",
    "cf = axes.contourf(Tm,Pm,rho*s)\n",
    "axes.contour(Tm,Pm,A0,[0],colors = ['r'])\n",
    "axes.contour(Tm,Pm,A1,[0],colors = ['r'])\n",
    "\n",
    "axes.grid()\n",
    "axes.set_title('$\\\\rho s$')\n",
    "axes.set_xlabel('Temperature (K)')\n",
    "axes.set_ylabel('Pressure (GPa)')\n",
    "axes.invert_yaxis()\n",
    "plt.colorbar(cf)\n",
    "plt.show()"
   ]
  },
  {
   "cell_type": "code",
   "execution_count": null,
   "metadata": {},
   "outputs": [],
   "source": [
    "### some reference values\n",
    "\n",
    "iRi = 2\n",
    "P0 = toBar(30.)\n",
    "T0 = 2000.\n",
    "rho0 = rxn.rho(T0,P0, C)[iRi]\n",
    "s0 = rxn.s(T0, P0, C)[iRi]\n",
    "print('Reference density rho_0={}, entropy={}'.format(rho0,s0))"
   ]
  },
  {
   "cell_type": "code",
   "execution_count": null,
   "metadata": {},
   "outputs": [],
   "source": [
    "phases=rxn.phases()\n",
    "phases[0].beta(T,P,[1.])*P0"
   ]
  },
  {
   "cell_type": "code",
   "execution_count": null,
   "metadata": {},
   "outputs": [],
   "source": []
  }
 ],
 "metadata": {
  "celltoolbar": "Slideshow",
  "kernelspec": {
   "display_name": "Python 3",
   "language": "python",
   "name": "python3"
  },
  "language_info": {
   "codemirror_mode": {
    "name": "ipython",
    "version": 3
   },
   "file_extension": ".py",
   "mimetype": "text/x-python",
   "name": "python",
   "nbconvert_exporter": "python",
   "pygments_lexer": "ipython3",
   "version": "3.7.5"
  },
  "latex_envs": {
   "bibliofile": "biblio.bib",
   "cite_by": "apalike",
   "current_citInitial": 1,
   "eqLabelWithNumbers": true,
   "eqNumInitial": 0
  }
 },
 "nbformat": 4,
 "nbformat_minor": 4
}
