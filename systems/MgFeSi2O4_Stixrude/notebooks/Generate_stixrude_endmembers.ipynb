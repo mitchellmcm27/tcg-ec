{
 "cells": [
  {
   "cell_type": "markdown",
   "metadata": {},
   "source": [
    "# Helmholtz energy (Stixrude - Debye integral)\n",
    "Required system packages and initialization"
   ]
  },
  {
   "cell_type": "code",
   "execution_count": null,
   "metadata": {},
   "outputs": [],
   "source": [
    "import os,sys\n",
    "import pandas as pd\n",
    "import numpy as np\n",
    "import sympy as sym\n",
    "import hashlib\n",
    "import time\n",
    "sym.init_printing()"
   ]
  },
  {
   "cell_type": "markdown",
   "metadata": {},
   "source": [
    "Required ENKI packages"
   ]
  },
  {
   "cell_type": "code",
   "execution_count": null,
   "metadata": {},
   "outputs": [],
   "source": [
    "from thermocodegen.coder import coder"
   ]
  },
  {
   "cell_type": "markdown",
   "metadata": {},
   "source": [
    "### let's set up some directory names for clarity"
   ]
  },
  {
   "cell_type": "code",
   "execution_count": null,
   "metadata": {},
   "outputs": [],
   "source": [
    "HOME_DIR = os.path.abspath(os.curdir)\n",
    "SPUD_DIR = HOME_DIR+'/../endmembers'\n",
    "try:\n",
    "    os.mkdir(SPUD_DIR)\n",
    "except:\n",
    "    pass"
   ]
  },
  {
   "cell_type": "markdown",
   "metadata": {},
   "source": [
    "Set a reference string for this Notebook"
   ]
  },
  {
   "cell_type": "code",
   "execution_count": null,
   "metadata": {},
   "outputs": [],
   "source": [
    "reference= 'Thermocodegen-v0.6/share/thermocodegen/examples/Systems/MgFeSi2O4_Stixrude/notebooks/Generate_stixrude_endmembers' "
   ]
  },
  {
   "cell_type": "markdown",
   "metadata": {},
   "source": [
    "list and get available external functions\n"
   ]
  },
  {
   "cell_type": "code",
   "execution_count": null,
   "metadata": {},
   "outputs": [],
   "source": [
    "coder.list_external_functions()"
   ]
  },
  {
   "cell_type": "code",
   "execution_count": null,
   "metadata": {},
   "outputs": [],
   "source": [
    "external_funcs = coder.get_external_functions()\n",
    "db = external_funcs['Debye']"
   ]
  },
  {
   "cell_type": "markdown",
   "metadata": {},
   "source": [
    "## Declare *T* and *V* to be independent variables\n",
    "This specifies that the model expression will be defined in terms of the Helmholtz free energy.  Note, that the defauilt model type, *TP*, decalres that the model expression will be the Gibbs free energy."
   ]
  },
  {
   "cell_type": "code",
   "execution_count": null,
   "metadata": {},
   "outputs": [],
   "source": [
    "model = coder.StdStateModel.from_type('TV')"
   ]
  },
  {
   "cell_type": "code",
   "execution_count": null,
   "metadata": {},
   "outputs": [],
   "source": [
    "T = model.get_symbol_for_t()\n",
    "V = model.get_symbol_for_v()\n",
    "Tr = model.get_symbol_for_tr()\n",
    "Vr = model.get_symbol_for_vr()"
   ]
  },
  {
   "cell_type": "markdown",
   "metadata": {},
   "source": [
    "### Extract variables and Data from the Stixrude Endmember database"
   ]
  },
  {
   "cell_type": "code",
   "execution_count": null,
   "metadata": {},
   "outputs": [],
   "source": [
    "df = pd.read_csv('data/stixrude_endmembers.csv')\n",
    "df.columns"
   ]
  },
  {
   "cell_type": "code",
   "execution_count": null,
   "metadata": {},
   "outputs": [],
   "source": [
    "df = df.drop(columns='abbrev')\n",
    "df"
   ]
  },
  {
   "cell_type": "markdown",
   "metadata": {},
   "source": [
    "### Generate sympy symbols for parameters in the Stixrude standard state model"
   ]
  },
  {
   "cell_type": "code",
   "execution_count": null,
   "metadata": {},
   "outputs": [],
   "source": [
    "param_strings = df.columns[2:-2]\n",
    "param_strings = param_strings.insert(len(param_strings),'R')\n",
    "param_strings"
   ]
  },
  {
   "cell_type": "code",
   "execution_count": null,
   "metadata": {},
   "outputs": [],
   "source": [
    "symbols = [ sym.Symbol(s,real=True) for s in param_strings ]"
   ]
  },
  {
   "cell_type": "markdown",
   "metadata": {},
   "source": [
    "###  make available to the local dictionary"
   ]
  },
  {
   "cell_type": "code",
   "execution_count": null,
   "metadata": {},
   "outputs": [],
   "source": [
    "s_dict = dict(zip(param_strings,symbols))\n",
    "locals().update(s_dict)\n",
    "s_dict"
   ]
  },
  {
   "cell_type": "markdown",
   "metadata": {},
   "source": [
    "#### Add units and generate parameter tuples needed for coder model"
   ]
  },
  {
   "cell_type": "code",
   "execution_count": null,
   "metadata": {},
   "outputs": [],
   "source": [
    "units = [ 'J/m','', 'J/bar-m','bar','', 'K', '','','J/K-m' ,'J/K-m' ]"
   ]
  },
  {
   "cell_type": "code",
   "execution_count": null,
   "metadata": {},
   "outputs": [],
   "source": [
    "params = list(zip(param_strings,units,symbols))\n",
    "params"
   ]
  },
  {
   "cell_type": "markdown",
   "metadata": {},
   "source": [
    "#### Construct a Model of the  Helmholtz free energy\n",
    "Declare parameters of the Stixrude standard state model:"
   ]
  },
  {
   "cell_type": "markdown",
   "metadata": {},
   "source": [
    "Define, the isotropic strain contributions to the Helmholtz free energy"
   ]
  },
  {
   "cell_type": "code",
   "execution_count": null,
   "metadata": {},
   "outputs": [],
   "source": [
    "f = ((v0/V)**(sym.S(2)/sym.S(3)) - 1)/2\n",
    "c1 = sym.S(9)/sym.S(2)*k00*v0\n",
    "c2 = k0p-4\n",
    "f"
   ]
  },
  {
   "cell_type": "code",
   "execution_count": null,
   "metadata": {},
   "outputs": [],
   "source": [
    "A = a0 + c1 * f**2 * (1 + c2*f)\n",
    "A"
   ]
  },
  {
   "cell_type": "markdown",
   "metadata": {},
   "source": [
    "Define the Debye temperature:"
   ]
  },
  {
   "cell_type": "code",
   "execution_count": null,
   "metadata": {},
   "outputs": [],
   "source": [
    "c3 = 6 * gamma0\n",
    "c4 = c3 * (-2 + c3 - 3*q)/2"
   ]
  },
  {
   "cell_type": "code",
   "execution_count": null,
   "metadata": {},
   "outputs": [],
   "source": [
    "d0 = theta0 * sym.sqrt( 1 + c3*f + c4 * f**2) \n",
    "d0 "
   ]
  },
  {
   "cell_type": "markdown",
   "metadata": {},
   "source": [
    "try to calculate the actual debye integral in sympy just for fun\n"
   ]
  },
  {
   "cell_type": "code",
   "execution_count": null,
   "metadata": {},
   "outputs": [],
   "source": [
    "t = sym.symbols('t')\n",
    "f = sym.log(1 - sym.exp(-t))\n",
    "I = sym.integrate(f*t**2,t)\n",
    "(I/t**3).simplify()"
   ]
  },
  {
   "cell_type": "markdown",
   "metadata": {},
   "source": [
    "Define the Debye Helmholtz free energy ...  \n",
    "db(x) returns the Debye *integral* \n",
    "\n",
    "$$\n",
    "    D_3(x) = \\frac{3}{x^3}\\int_0^x \\frac{t^3}{e^t - 1} dt\n",
    "$$"
   ]
  },
  {
   "cell_type": "markdown",
   "metadata": {},
   "source": [
    "check that debye is actually $D_3$ and returns correct derivative"
   ]
  },
  {
   "cell_type": "code",
   "execution_count": null,
   "metadata": {},
   "outputs": [],
   "source": [
    "db(t).diff(t,t)"
   ]
  },
  {
   "cell_type": "code",
   "execution_count": null,
   "metadata": {},
   "outputs": [],
   "source": [
    "x = d0/T\n",
    "A_db = n*R*T*(3*sym.log(1-sym.exp(-x)) - db(x))\n",
    "A_db"
   ]
  },
  {
   "cell_type": "markdown",
   "metadata": {},
   "source": [
    "... and from that the quasiharmonic approximation to the Helmholtz energy ..."
   ]
  },
  {
   "cell_type": "code",
   "execution_count": null,
   "metadata": {},
   "outputs": [],
   "source": [
    "A_quasi = A_db - A_db.subs(T,Tr)\n",
    "A_quasi"
   ]
  },
  {
   "cell_type": "markdown",
   "metadata": {},
   "source": [
    "... and finally the Stixrude model expression for the Helmholtz free energy:"
   ]
  },
  {
   "cell_type": "code",
   "execution_count": null,
   "metadata": {},
   "outputs": [],
   "source": [
    "A +=  A_quasi\n",
    "A"
   ]
  },
  {
   "cell_type": "markdown",
   "metadata": {},
   "source": [
    "... and add this expression to the model"
   ]
  },
  {
   "cell_type": "code",
   "execution_count": null,
   "metadata": {},
   "outputs": [],
   "source": [
    "model.add_potential_to_model('A',A, params)"
   ]
  },
  {
   "cell_type": "markdown",
   "metadata": {},
   "source": [
    "## Save to spud and code-print the model\n",
    "\n",
    "get and set, model values"
   ]
  },
  {
   "cell_type": "code",
   "execution_count": null,
   "metadata": {},
   "outputs": [],
   "source": [
    "values_dict = model.get_values()\n",
    "values_dict"
   ]
  },
  {
   "cell_type": "code",
   "execution_count": null,
   "metadata": {},
   "outputs": [],
   "source": [
    "for i, row in df.iterrows():\n",
    "    values_dict = row.to_dict()\n",
    "    # clean up names to make them coder compliant\n",
    "    values_dict['name'] ='{}_stixrude'.format(values_dict['name'])\n",
    "    values_dict['name'] = values_dict['name'].replace('-','_')\n",
    "    values_dict['R'] = 8.314472\n",
    "    print(values_dict['name'])\n",
    "    values_dict['reference']=reference\n",
    "    #print(values_dict)\n",
    "    model.set_values(values_dict)\n",
    "    model.to_xml(path=SPUD_DIR)"
   ]
  }
 ],
 "metadata": {
  "kernelspec": {
   "display_name": "Python 3 (ipykernel)",
   "language": "python",
   "name": "python3"
  },
  "language_info": {
   "codemirror_mode": {
    "name": "ipython",
    "version": 3
   },
   "file_extension": ".py",
   "mimetype": "text/x-python",
   "name": "python",
   "nbconvert_exporter": "python",
   "pygments_lexer": "ipython3",
   "version": "3.9.5"
  }
 },
 "nbformat": 4,
 "nbformat_minor": 4
}
