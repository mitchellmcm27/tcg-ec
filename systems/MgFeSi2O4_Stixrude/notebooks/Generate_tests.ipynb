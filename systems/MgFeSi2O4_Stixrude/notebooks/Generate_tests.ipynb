{
 "cells": [
  {
   "cell_type": "markdown",
   "metadata": {},
   "source": [
    "# Generate Tests\n",
    "\n",
    "This notebook imports a compiled ThermoCodegen object and uses the `Tester` class to generate pandas dataframes\n",
    "and pytest files for testing all of the interfaces to the code generated objects\n",
    "\n",
    "\n",
    "This notebook will generate tests for both the pure Mg endmember system and the solid-solution MgFe system\n",
    "\n",
    "To get pure phases, just set the variable `MODEL='pure'` else `MODEL='solution'`"
   ]
  },
  {
   "cell_type": "code",
   "execution_count": null,
   "metadata": {},
   "outputs": [],
   "source": [
    "import pandas as pd\n",
    "import numpy as np\n",
    "import os\n",
    "from datetime import datetime\n",
    "from glob import glob\n",
    "import pytest"
   ]
  },
  {
   "cell_type": "markdown",
   "metadata": {},
   "source": [
    "## Import the Tester Class from thermocodegen"
   ]
  },
  {
   "cell_type": "code",
   "execution_count": null,
   "metadata": {},
   "outputs": [],
   "source": [
    "from thermocodegen.testing import Tester"
   ]
  },
  {
   "cell_type": "markdown",
   "metadata": {},
   "source": [
    "Set a time-stamp for the tests\n"
   ]
  },
  {
   "cell_type": "code",
   "execution_count": null,
   "metadata": {},
   "outputs": [],
   "source": [
    "timestamp = datetime.now().strftime(\"%Y-%m-%d_%H:%M:%S\")"
   ]
  },
  {
   "cell_type": "markdown",
   "metadata": {},
   "source": [
    "#### Decide on pure or solution phase model"
   ]
  },
  {
   "cell_type": "code",
   "execution_count": null,
   "metadata": {},
   "outputs": [],
   "source": [
    "MODEL = 'pure'\n",
    "#MODEL = 'solution'\n",
    "import thermocodegen as tcg\n",
    "version = tcg.__version__\n",
    "print(\"using {} phases model for thermocodegen v{}\".format(MODEL,version))"
   ]
  },
  {
   "cell_type": "markdown",
   "metadata": {},
   "source": [
    "### let's set up some directory names for clarity"
   ]
  },
  {
   "cell_type": "code",
   "execution_count": null,
   "metadata": {},
   "outputs": [],
   "source": [
    "HOME_DIR = os.path.abspath('../')\n",
    "TEST_DIR = HOME_DIR+'/tests/test-v{}_{}_rxn_{}'.format(version,MODEL,timestamp)\n",
    "try:\n",
    "    os.makedirs(TEST_DIR)\n",
    "except:\n",
    "    pass\n",
    "print(TEST_DIR)"
   ]
  },
  {
   "cell_type": "markdown",
   "metadata": {},
   "source": [
    "### Import the thermocodegen reaction module \n",
    "make sure that the module is available in your python path"
   ]
  },
  {
   "cell_type": "code",
   "execution_count": null,
   "metadata": {},
   "outputs": [],
   "source": [
    "# load reaction object\n",
    "if MODEL == 'pure':\n",
    "    import py_Mg2SiO4_stixrude as pms\n",
    "    rxn = pms.Mg2SiO4_stixrude()\n",
    "elif MODEL == 'solution':\n",
    "    import py_MgFeSiO4_stixrude as pms\n",
    "    rxn = pms.MgFeSiO4_stixrude()\n"
   ]
  },
  {
   "cell_type": "code",
   "execution_count": null,
   "metadata": {},
   "outputs": [],
   "source": [
    "rxn.report()"
   ]
  },
  {
   "cell_type": "code",
   "execution_count": null,
   "metadata": {},
   "outputs": [],
   "source": [
    "pms.phase_info()"
   ]
  },
  {
   "cell_type": "markdown",
   "metadata": {},
   "source": [
    "### Create a tester object\n",
    "and report the phase dictionary"
   ]
  },
  {
   "cell_type": "code",
   "execution_count": null,
   "metadata": {},
   "outputs": [],
   "source": [
    "tester = Tester.factory(pms)\n",
    "tester.phase_dict"
   ]
  },
  {
   "cell_type": "markdown",
   "metadata": {},
   "source": [
    "## Test endmembers\n",
    "\n",
    "### set input dataframe for endmembers"
   ]
  },
  {
   "cell_type": "code",
   "execution_count": null,
   "metadata": {},
   "outputs": [],
   "source": [
    "em_df_in = tester.get_endmember_df_in()\n",
    "em_df_in"
   ]
  },
  {
   "cell_type": "markdown",
   "metadata": {},
   "source": [
    "### just set P,T fields for testing"
   ]
  },
  {
   "cell_type": "code",
   "execution_count": null,
   "metadata": {},
   "outputs": [],
   "source": [
    "# Set test variables\n",
    "T=1700.\n",
    "P=100000.\n",
    "em_df_in['P']= P*np.ones(len(em_df_in))\n",
    "em_df_in['T']= T*np.ones(len(em_df_in))\n",
    "em_df_in.dropna(axis=1,inplace=True)\n",
    "em_df_in"
   ]
  },
  {
   "cell_type": "markdown",
   "metadata": {},
   "source": [
    "### Generate output testing dataframe"
   ]
  },
  {
   "cell_type": "code",
   "execution_count": null,
   "metadata": {},
   "outputs": [],
   "source": [
    "em_df_out = tester.set_df_out(em_df_in)\n",
    "em_df_out"
   ]
  },
  {
   "cell_type": "markdown",
   "metadata": {},
   "source": [
    "### Output dataframe as csv file and pytest files to TEST_DIR"
   ]
  },
  {
   "cell_type": "code",
   "execution_count": null,
   "metadata": {},
   "outputs": [],
   "source": [
    "em_df_out.to_csv('{}/Endmembers.csv'.format(TEST_DIR))"
   ]
  },
  {
   "cell_type": "code",
   "execution_count": null,
   "metadata": {},
   "outputs": [],
   "source": [
    "fileroot='{}/test_endmembers'.format(TEST_DIR) \n",
    "tester.write_tests(em_df_out,fileroot=fileroot)"
   ]
  },
  {
   "cell_type": "markdown",
   "metadata": {},
   "source": [
    "### run pytest on the test files"
   ]
  },
  {
   "cell_type": "code",
   "execution_count": null,
   "metadata": {},
   "outputs": [],
   "source": [
    "file = glob(fileroot+'*')[-1]\n",
    "pytest.main(['--disable-warnings',file])"
   ]
  },
  {
   "cell_type": "markdown",
   "metadata": {},
   "source": [
    "## Test Phases\n",
    "### set input dataframe for phases"
   ]
  },
  {
   "cell_type": "code",
   "execution_count": null,
   "metadata": {},
   "outputs": [],
   "source": [
    "ph_df_in = tester.get_phase_df_in()\n",
    "ph_df_in"
   ]
  },
  {
   "cell_type": "markdown",
   "metadata": {},
   "source": [
    "### just set P,T,c,x,n,e fields for testing"
   ]
  },
  {
   "cell_type": "code",
   "execution_count": null,
   "metadata": {},
   "outputs": [],
   "source": [
    "rxn.report()"
   ]
  },
  {
   "cell_type": "code",
   "execution_count": null,
   "metadata": {},
   "outputs": [],
   "source": [
    "# Set test variables\n",
    "T=1700.\n",
    "P=100000.\n",
    "i_c = 0\n",
    "pure_phases = ['Forsterite', 'MgWadsleyite', 'MgRingwoodite', 'Fayalite', 'FeWadsleyite', 'FeRingwoodite', 'MgPerovskite', 'Periclase', 'FePerovskite', 'Wuestite']\n",
    "soln_phases = [ 'Olivine', 'Wadsleyite', 'Ringwoodite']"
   ]
  },
  {
   "cell_type": "markdown",
   "metadata": {},
   "source": [
    "### Set concentrations for pure and solution phase"
   ]
  },
  {
   "cell_type": "code",
   "execution_count": null,
   "metadata": {},
   "outputs": [],
   "source": [
    "x_pure = [1.]\n",
    "x_soln = [0.9, 0.1]\n",
    "c_pure = pms.Forsterite().x_to_c(x_pure)\n",
    "c_soln = pms.Olivine().x_to_c(x_soln)"
   ]
  },
  {
   "cell_type": "code",
   "execution_count": null,
   "metadata": {},
   "outputs": [],
   "source": [
    "N = len(ph_df_in)\n",
    "ph_df_in['P']= P*np.ones(N)\n",
    "ph_df_in['T']= T*np.ones(N)\n",
    "for index,row in ph_df_in.iterrows():\n",
    "    name = row['name']\n",
    "    if name in pure_phases:\n",
    "        print('Pure phase:', index,name)\n",
    "        ph_df_in['c'][index] = np.array(c_pure)\n",
    "        ph_df_in['x'][index] = np.array(x_pure)\n",
    "        ph_df_in['n'][index] = np.array(x_pure)\n",
    "        ph_df_in['e'][index] = getattr(pms,name)().conv_moles_to_elm(x_pure)\n",
    "    elif name in soln_phases:\n",
    "        print('Soln phase:', index,name)\n",
    "        ph_df_in['c'][index] = np.array(c_soln)\n",
    "        ph_df_in['x'][index] = np.array(x_soln)\n",
    "        ph_df_in['n'][index] = np.array(x_soln)\n",
    "        ph_df_in['e'][index] = getattr(pms,name)().conv_moles_to_elm(x_soln)\n",
    "ph_df_in['i']=i_c\n",
    "ph_df_in.dropna(axis=1,inplace=True)\n",
    "ph_df_in"
   ]
  },
  {
   "cell_type": "markdown",
   "metadata": {},
   "source": [
    "### Generate output testing dataframe and pytest files"
   ]
  },
  {
   "cell_type": "code",
   "execution_count": null,
   "metadata": {},
   "outputs": [],
   "source": [
    "ph_df_out = tester.set_df_out(ph_df_in)\n",
    "ph_df_out"
   ]
  },
  {
   "cell_type": "code",
   "execution_count": null,
   "metadata": {},
   "outputs": [],
   "source": [
    "ph_df_out.to_csv('{}/Phases.csv'.format(TEST_DIR))"
   ]
  },
  {
   "cell_type": "code",
   "execution_count": null,
   "metadata": {},
   "outputs": [],
   "source": [
    "fileroot='{}/test_phases'.format(TEST_DIR) \n",
    "tester.write_tests(ph_df_out,fileroot=fileroot)"
   ]
  },
  {
   "cell_type": "markdown",
   "metadata": {},
   "source": [
    "### run pytest on the test files"
   ]
  },
  {
   "cell_type": "code",
   "execution_count": null,
   "metadata": {},
   "outputs": [],
   "source": [
    "file=glob(fileroot+'*')[-1]\n",
    "pytest.main(['--disable-warnings',file])"
   ]
  },
  {
   "cell_type": "markdown",
   "metadata": {},
   "source": [
    "## Test Reactions \n",
    "### set input dataframe for reactions"
   ]
  },
  {
   "cell_type": "code",
   "execution_count": null,
   "metadata": {},
   "outputs": [],
   "source": [
    "rx_df_in = tester.get_reaction_df_in()\n",
    "rx_df_in"
   ]
  },
  {
   "cell_type": "markdown",
   "metadata": {},
   "source": [
    "### just set P,T,c,x,n fields for testing"
   ]
  },
  {
   "cell_type": "code",
   "execution_count": null,
   "metadata": {},
   "outputs": [],
   "source": [
    "rxn.report()"
   ]
  },
  {
   "cell_type": "code",
   "execution_count": null,
   "metadata": {},
   "outputs": [],
   "source": [
    "# Set test variables\n",
    "C = rxn.zero_C()\n",
    "if MODEL == 'pure':\n",
    "    for i in range(len(C)):\n",
    "        C[i] = c_pure\n",
    "else:\n",
    "    for i in range(len(C)):\n",
    "        C[i] = c_soln\n",
    "X = rxn.C_to_X(C)\n",
    "Phi = [0.33, 0.33, 0.33]\n",
    "\n",
    "# Variables for parameter set and get functions\n",
    "p, val = \"R\", 8.31442\n",
    "\n",
    "#jacobian terms\n",
    "j = 0\n",
    "i = 1\n",
    "l = 0\n",
    "k = 0\n",
    "m = 1"
   ]
  },
  {
   "cell_type": "code",
   "execution_count": null,
   "metadata": {},
   "outputs": [],
   "source": [
    "rx_df_in['P']= P\n",
    "rx_df_in['T']= T\n",
    "rx_df_in['C']= [C]\n",
    "rx_df_in['X']= [X]\n",
    "rx_df_in['Phi'] = [Phi]\n",
    "rx_df_in['p'] = p\n",
    "rx_df_in['val'] = val\n",
    "rx_df_in[['i','j','k','l','m']]=pd.DataFrame.from_dict(dict(i=[i],j=[j],k=[k],l=[l],m=[m]))\n",
    "rx_df_in\n"
   ]
  },
  {
   "cell_type": "markdown",
   "metadata": {},
   "source": [
    "### Generate output testing dataframe and pytest files"
   ]
  },
  {
   "cell_type": "code",
   "execution_count": null,
   "metadata": {},
   "outputs": [],
   "source": [
    "rx_df_out = tester.set_df_out(rx_df_in)\n",
    "rx_df_out"
   ]
  },
  {
   "cell_type": "code",
   "execution_count": null,
   "metadata": {},
   "outputs": [],
   "source": [
    "rx_df_out.to_csv('{}/Reactions.csv'.format(TEST_DIR))"
   ]
  },
  {
   "cell_type": "code",
   "execution_count": null,
   "metadata": {},
   "outputs": [],
   "source": [
    "fileroot='{}/test_rxns'.format(TEST_DIR)\n",
    "tester.write_tests(rx_df_out,fileroot=fileroot)"
   ]
  },
  {
   "cell_type": "markdown",
   "metadata": {},
   "source": [
    "### run pytest on the test files"
   ]
  },
  {
   "cell_type": "code",
   "execution_count": null,
   "metadata": {},
   "outputs": [],
   "source": [
    "file = glob(fileroot+'*')[-1]\n",
    "pytest.main(['--disable-warnings',file])"
   ]
  }
 ],
 "metadata": {
  "kernelspec": {
   "display_name": "Python 3 (ipykernel)",
   "language": "python",
   "name": "python3"
  },
  "language_info": {
   "codemirror_mode": {
    "name": "ipython",
    "version": 3
   },
   "file_extension": ".py",
   "mimetype": "text/x-python",
   "name": "python",
   "nbconvert_exporter": "python",
   "pygments_lexer": "ipython3",
   "version": "3.9.5"
  }
 },
 "nbformat": 4,
 "nbformat_minor": 4
}
