{
 "cells": [
  {
   "cell_type": "markdown",
   "metadata": {},
   "source": [
    "# Stixrude Pure Phases:  SymPy Code Generation\n",
    "\n",
    "This notebook generates a model for a pure phase (single endmember) for all Mg2SiO4 and Fe2SiO4 compositions in Stixrude\n",
    "\n",
    "* Forsterite\n",
    "* MgWadsleyite\n",
    "* MgRingwoodite\n",
    "* Fayalite\n",
    "* FeWadsleyite\n",
    "* FeRingwoodite"
   ]
  },
  {
   "cell_type": "code",
   "execution_count": null,
   "metadata": {},
   "outputs": [],
   "source": [
    "import os,sys\n",
    "import pandas as pd\n",
    "import numpy as np\n",
    "import sympy as sym\n",
    "import hashlib\n",
    "import time\n",
    "sym.init_printing()"
   ]
  },
  {
   "cell_type": "markdown",
   "metadata": {},
   "source": [
    "Required ENKI packages"
   ]
  },
  {
   "cell_type": "code",
   "execution_count": null,
   "metadata": {},
   "outputs": [],
   "source": [
    "from thermocodegen.coder import coder"
   ]
  },
  {
   "cell_type": "markdown",
   "metadata": {},
   "source": [
    "### let's set up some directory names for clarity"
   ]
  },
  {
   "cell_type": "code",
   "execution_count": null,
   "metadata": {},
   "outputs": [],
   "source": [
    "HOME_DIR = os.path.abspath(os.curdir)\n",
    "SPUD_DIR = HOME_DIR+'/../phases'\n",
    "\n",
    "try:\n",
    "    os.mkdir(SPUD_DIR)\n",
    "except:\n",
    "    pass"
   ]
  },
  {
   "cell_type": "markdown",
   "metadata": {},
   "source": [
    "Set a reference string for this Notebook"
   ]
  },
  {
   "cell_type": "code",
   "execution_count": null,
   "metadata": {},
   "outputs": [],
   "source": [
    "reference = 'Thermocodegen-v0.6/share/thermocodegen/examples/Systems/MgFeSiO4_stixrude/notebooks/Generate_pure_phases.ipynb'"
   ]
  },
  {
   "cell_type": "markdown",
   "metadata": {},
   "source": [
    "## Pure Phase\n"
   ]
  },
  {
   "cell_type": "markdown",
   "metadata": {},
   "source": [
    "### Number of solution components\n",
    "This notebook illustrates a pure phase "
   ]
  },
  {
   "cell_type": "code",
   "execution_count": null,
   "metadata": {},
   "outputs": [],
   "source": [
    "c = 1"
   ]
  },
  {
   "cell_type": "markdown",
   "metadata": {},
   "source": [
    "### Create a pure phase using the SimpleSolution Model (with only one endmember)"
   ]
  },
  {
   "cell_type": "code",
   "execution_count": null,
   "metadata": {},
   "outputs": [],
   "source": [
    "model = coder.SimpleSolnModel.from_type(nc=c)"
   ]
  },
  {
   "cell_type": "markdown",
   "metadata": {},
   "source": [
    "### Retrieve primary compositional variables\n",
    "- $n$ is a vector of mole numbers of each component  \n",
    "- $n_T$ is the total number of moles in the solution\n",
    "\n",
    "### and construct a derived mole fraction variable\n",
    "- $X$ is a vector of mole fractions of components in the system"
   ]
  },
  {
   "cell_type": "code",
   "execution_count": null,
   "metadata": {},
   "outputs": [],
   "source": [
    "n = model.n\n",
    "nT = model.nT\n",
    "X = n/nT\n",
    "n, nT, X"
   ]
  },
  {
   "cell_type": "markdown",
   "metadata": {},
   "source": [
    "### Retrieve the temperature, pressure, and standard state chemical potentials\n",
    "- $T$ is temperature in $K$\n",
    "- $P$ is pressure in $bars$\n",
    "- $\\mu$ in Joules"
   ]
  },
  {
   "cell_type": "code",
   "execution_count": null,
   "metadata": {},
   "outputs": [],
   "source": [
    "T = model.get_symbol_for_t()\n",
    "P = model.get_symbol_for_p()\n",
    "mu = model.mu\n",
    "T,P,mu"
   ]
  },
  {
   "cell_type": "markdown",
   "metadata": {},
   "source": [
    "Check model dictionary"
   ]
  },
  {
   "cell_type": "code",
   "execution_count": null,
   "metadata": {},
   "outputs": [],
   "source": [
    "model.model_dict"
   ]
  },
  {
   "cell_type": "markdown",
   "metadata": {},
   "source": [
    "### Define the standard state contribution to solution properties"
   ]
  },
  {
   "cell_type": "code",
   "execution_count": null,
   "metadata": {},
   "outputs": [],
   "source": [
    "G_ss = (n.transpose()*mu)[0]\n",
    "G_ss"
   ]
  },
  {
   "cell_type": "markdown",
   "metadata": {},
   "source": [
    "### Define the Gibbs free energy of solution"
   ]
  },
  {
   "cell_type": "code",
   "execution_count": null,
   "metadata": {},
   "outputs": [],
   "source": [
    "G = G_ss  \n",
    "G"
   ]
  },
  {
   "cell_type": "markdown",
   "metadata": {},
   "source": [
    "### Add the Gibbs free energy of solution to the model"
   ]
  },
  {
   "cell_type": "code",
   "execution_count": null,
   "metadata": {},
   "outputs": [],
   "source": [
    "model.add_potential_to_model('G',G)"
   ]
  },
  {
   "cell_type": "markdown",
   "metadata": {},
   "source": [
    "### let's inspect the dictionary and unset parameters"
   ]
  },
  {
   "cell_type": "code",
   "execution_count": null,
   "metadata": {},
   "outputs": [],
   "source": [
    "model.model_dict"
   ]
  },
  {
   "cell_type": "code",
   "execution_count": null,
   "metadata": {},
   "outputs": [],
   "source": [
    "values_dict = model.get_values()\n",
    "values_dict"
   ]
  },
  {
   "cell_type": "markdown",
   "metadata": {},
   "source": [
    "## Sort out Formula conversion strings"
   ]
  },
  {
   "cell_type": "markdown",
   "metadata": {},
   "source": [
    "* assign a formula string for code generation  \n",
    "    * here the solution formula is Mg$_x$Fe$_{2-x}$SiO$_4$ where $x\\in[0,2]$\n",
    "* assign a conversion string to map element concentrations to moles of end members\n",
    "    * here endmember 0 is Forsterite, ${\\rm{Mg_2SiO_4}}$ so 1 mole of Forsterite will be 0.5* the number of Mg atoms\n",
    "    * likewise for endmember 1, Fayalite,  1 mole of Fa will be 0.5* the number of Fe atoms whic gives the conversion_string for moles of endmember 0, and 1 as \n",
    "    \n",
    "    `conversion_string=['[0]=0.5*[Mg]', '[1]=0.5*[Fe]']`\n"
   ]
  },
  {
   "cell_type": "code",
   "execution_count": null,
   "metadata": {},
   "outputs": [],
   "source": [
    "values_dict.update(dict(formula_string='Mg[Mg]SiO4',\n",
    "                        conversion_string=['[0]=0.5*[Mg]'],\n",
    "                        test_string = ['[0] > 0.0'],\n",
    "                        T_r = 300.0))\n",
    "values_dict"
   ]
  },
  {
   "cell_type": "markdown",
   "metadata": {},
   "source": [
    "### Add additional parameters for Pure Mg2SiO4 and Fe2SiO4 phases"
   ]
  },
  {
   "cell_type": "code",
   "execution_count": null,
   "metadata": {},
   "outputs": [],
   "source": [
    "Fo_dict = dict(name='Forsterite',abbrev='Fo',\n",
    "                        reference=reference,\n",
    "                        endmembers = ['Forsterite_stixrude'])\n",
    "MgWa_dict = dict(name='MgWadsleyite',abbrev='MgWa',\n",
    "                        reference=reference,\n",
    "                        endmembers = ['MgWadsleyite_stixrude'])\n",
    "MgRi_dict = dict(name='MgRingwoodite',abbrev='MgRi',\n",
    "                        reference=reference,\n",
    "                        endmembers = ['MgRingwoodite_stixrude'])\n",
    "Fa_dict = dict(name='Fayalite',abbrev='Fa',\n",
    "                        reference=reference,\n",
    "                        endmembers = ['Fayalite_stixrude'])\n",
    "FeWa_dict = dict(name='FeWadsleyite',abbrev='FeWa',\n",
    "                        reference=reference,\n",
    "                        endmembers = ['FeWadsleyite_stixrude'])\n",
    "FeRi_dict = dict(name='FeRingwoodite',abbrev='FeRi',\n",
    "                        reference=reference,\n",
    "                        endmembers = ['FeRingwoodite_stixrude'])\n",
    "\n",
    "dict_list = [ Fo_dict, MgWa_dict, MgRi_dict, Fa_dict, FeWa_dict, FeRi_dict ]"
   ]
  },
  {
   "cell_type": "markdown",
   "metadata": {},
   "source": [
    "### Add additional parameters for solid phases Perovskites and oxides"
   ]
  },
  {
   "cell_type": "code",
   "execution_count": null,
   "metadata": {},
   "outputs": [],
   "source": [
    "MgPv_dict = dict(name='MgPerovskite',abbrev='MgPv',\n",
    "                        reference=reference,\n",
    "                        endmembers = ['MgPerovskite_stixrude'],\n",
    "                        formula_string='Mg[Mg]SiO3',\n",
    "                        conversion_string=['[0]=[Mg]'])\n",
    "Pe_dict = dict(name='Periclase',abbrev='Pe',\n",
    "                        reference=reference,\n",
    "                        endmembers = ['Periclase_stixrude'],\n",
    "                        formula_string='Mg[Mg]O',\n",
    "                        conversion_string=['[0]=[Mg]'])\n",
    "FePv_dict = dict(name='FePerovskite',abbrev='FePv',\n",
    "                        reference=reference,\n",
    "                        endmembers = ['FePerovskite_stixrude'],\n",
    "                        formula_string='Fe[Fe]SiO3',\n",
    "                        conversion_string=['[0]=[Fe]'])\n",
    "Wu_dict = dict(name='Wuestite',abbrev='Wu',\n",
    "                        reference=reference,\n",
    "                        endmembers = ['Wuestite_stixrude'],\n",
    "                        formula_string='Fe[Fe]O',\n",
    "                        conversion_string=['[0]=[Fe]'])\n",
    "dict_list += [ MgPv_dict, Pe_dict, FePv_dict, Wu_dict]"
   ]
  },
  {
   "cell_type": "markdown",
   "metadata": {},
   "source": [
    "## Generate Spud XML files"
   ]
  },
  {
   "cell_type": "markdown",
   "metadata": {},
   "source": [
    "### dump spudfiles"
   ]
  },
  {
   "cell_type": "code",
   "execution_count": null,
   "metadata": {},
   "outputs": [],
   "source": [
    "for d in dict_list:\n",
    "    values_dict.update(d)\n",
    "    model.set_values(values_dict)\n",
    "    file = model.to_xml(path=SPUD_DIR)\n",
    "    print(file)"
   ]
  }
 ],
 "metadata": {
  "kernelspec": {
   "display_name": "Python 3 (ipykernel)",
   "language": "python",
   "name": "python3"
  },
  "language_info": {
   "codemirror_mode": {
    "name": "ipython",
    "version": 3
   },
   "file_extension": ".py",
   "mimetype": "text/x-python",
   "name": "python",
   "nbconvert_exporter": "python",
   "pygments_lexer": "ipython3",
   "version": "3.9.5"
  }
 },
 "nbformat": 4,
 "nbformat_minor": 4
}
