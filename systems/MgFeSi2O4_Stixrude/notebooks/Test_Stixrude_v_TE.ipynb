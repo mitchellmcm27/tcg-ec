{
 "cells": [
  {
   "cell_type": "markdown",
   "metadata": {},
   "source": [
    "### testing notebook for stixrude coder against ThermoEngine ObjC Stixrude"
   ]
  },
  {
   "cell_type": "code",
   "execution_count": null,
   "metadata": {},
   "outputs": [],
   "source": [
    "import pandas as pd\n",
    "import numpy as np\n",
    "import os\n",
    "from datetime import datetime\n",
    "from glob import glob\n",
    "import pytest"
   ]
  },
  {
   "cell_type": "markdown",
   "metadata": {},
   "source": [
    "### Import the Tester Class from thermocodegen"
   ]
  },
  {
   "cell_type": "code",
   "execution_count": null,
   "metadata": {},
   "outputs": [],
   "source": [
    "from thermocodegen.testing import Tester"
   ]
  },
  {
   "cell_type": "markdown",
   "metadata": {},
   "source": [
    "Set a time-stamp for the tests\n"
   ]
  },
  {
   "cell_type": "code",
   "execution_count": null,
   "metadata": {},
   "outputs": [],
   "source": [
    "timestamp = datetime.now().strftime(\"%Y-%m-%d_%H:%M:%S\")"
   ]
  },
  {
   "cell_type": "markdown",
   "metadata": {},
   "source": [
    "### let's set up some directory names for clarity"
   ]
  },
  {
   "cell_type": "code",
   "execution_count": null,
   "metadata": {},
   "outputs": [],
   "source": [
    "HOME_DIR = os.path.abspath('../')\n",
    "TEST_DIR = HOME_DIR+'/tests/{}'.format(timestamp)\n",
    "try:\n",
    "    os.makedirs(TEST_DIR)\n",
    "except:\n",
    "    pass\n",
    "print(TEST_DIR)"
   ]
  },
  {
   "cell_type": "markdown",
   "metadata": {},
   "source": [
    "### Import the thermocodegen reaction module \n",
    "make sure that the module is available in your python path"
   ]
  },
  {
   "cell_type": "code",
   "execution_count": null,
   "metadata": {},
   "outputs": [],
   "source": [
    "# load reaction object\n",
    "import py_Mg2SiO4_stixrude as pms\n",
    "rxn = pms.Mg2SiO4_stixrude()"
   ]
  },
  {
   "cell_type": "code",
   "execution_count": null,
   "metadata": {},
   "outputs": [],
   "source": [
    "rxn.report()"
   ]
  },
  {
   "cell_type": "code",
   "execution_count": null,
   "metadata": {},
   "outputs": [],
   "source": [
    "pms.phase_info()"
   ]
  },
  {
   "cell_type": "markdown",
   "metadata": {},
   "source": [
    "### Create a tester object\n",
    "and report the phase dictionary"
   ]
  },
  {
   "cell_type": "code",
   "execution_count": null,
   "metadata": {},
   "outputs": [],
   "source": [
    "tester = Tester.factory(pms)\n",
    "tester.phase_dict"
   ]
  },
  {
   "cell_type": "markdown",
   "metadata": {},
   "source": [
    "## Test endmembers\n",
    "### set input dataframe for endmembers"
   ]
  },
  {
   "cell_type": "code",
   "execution_count": null,
   "metadata": {},
   "outputs": [],
   "source": [
    "em_df_in = tester.get_endmember_df_in()\n",
    "em_df_in"
   ]
  },
  {
   "cell_type": "markdown",
   "metadata": {},
   "source": [
    "### just set P,T fields for testing"
   ]
  },
  {
   "cell_type": "code",
   "execution_count": null,
   "metadata": {},
   "outputs": [],
   "source": [
    "# Set test variables\n",
    "T=1700.\n",
    "P=100000.\n",
    "em_df_in['P']= P*np.ones(len(em_df_in))\n",
    "em_df_in['T']= T*np.ones(len(em_df_in))\n",
    "em_df_in.dropna(axis=1,inplace=True)\n",
    "em_df_in"
   ]
  },
  {
   "cell_type": "markdown",
   "metadata": {},
   "source": [
    "### Generate output testing dataframe"
   ]
  },
  {
   "cell_type": "code",
   "execution_count": null,
   "metadata": {},
   "outputs": [],
   "source": [
    "em_df_out = tester.set_df_out(em_df_in)\n",
    "em_df_out"
   ]
  },
  {
   "cell_type": "markdown",
   "metadata": {},
   "source": [
    "### Output dataframe as csv file and pytest files to TEST_DIR"
   ]
  },
  {
   "cell_type": "code",
   "execution_count": null,
   "metadata": {},
   "outputs": [],
   "source": [
    "em_df_out.to_csv('{}/Endmembers.csv'.format(TEST_DIR))"
   ]
  },
  {
   "cell_type": "code",
   "execution_count": null,
   "metadata": {},
   "outputs": [],
   "source": [
    "fileroot='{}/test_endmembers'.format(TEST_DIR) \n",
    "tester.write_tests(em_df_out,fileroot=fileroot)"
   ]
  },
  {
   "cell_type": "markdown",
   "metadata": {},
   "source": [
    "### run pytest on the test files"
   ]
  },
  {
   "cell_type": "code",
   "execution_count": null,
   "metadata": {},
   "outputs": [],
   "source": [
    "file = glob(fileroot+'*')[-1]\n",
    "pytest.main(['--disable-warnings',file])"
   ]
  },
  {
   "cell_type": "markdown",
   "metadata": {},
   "source": [
    "## Test Phases\n",
    "### set input dataframe for phases"
   ]
  },
  {
   "cell_type": "code",
   "execution_count": null,
   "metadata": {},
   "outputs": [],
   "source": [
    "ph_df_in = tester.get_phase_df_in()\n",
    "ph_df_in"
   ]
  },
  {
   "cell_type": "markdown",
   "metadata": {},
   "source": [
    "### just set P,T,c,x,n,e fields for testing"
   ]
  },
  {
   "cell_type": "code",
   "execution_count": null,
   "metadata": {},
   "outputs": [],
   "source": [
    "rxn.report()"
   ]
  },
  {
   "cell_type": "code",
   "execution_count": null,
   "metadata": {},
   "outputs": [],
   "source": [
    "# Set test variables\n",
    "T=1700.\n",
    "P=100000.\n",
    "ifo = 0\n",
    "iwa = 1\n",
    "iri = 2\n",
    "i_c = 0\n",
    "pdict = {'Forsterite':ifo, 'MgWadsleyite':iwa, 'MgRingwoodite':iri}"
   ]
  },
  {
   "cell_type": "code",
   "execution_count": null,
   "metadata": {},
   "outputs": [],
   "source": [
    "C=rxn.zero_C()\n",
    "for i in range(len(C)):\n",
    "    C[i] = [1.0]\n",
    "C"
   ]
  },
  {
   "cell_type": "code",
   "execution_count": null,
   "metadata": {},
   "outputs": [],
   "source": [
    "X = rxn.C_to_X(C)\n",
    "E = rxn.zero_C()\n",
    "Fo = pms.Forsterite()\n",
    "Wa = pms.MgWadsleyite()\n",
    "Ri = pms.MgRingwoodite()\n",
    "E[ifo] = Fo.conv_moles_to_elm(X[ifo])\n",
    "E[iwa] = Wa.conv_moles_to_elm(X[iwa])\n",
    "E[iri] = Ri.conv_moles_to_elm(X[iri])"
   ]
  },
  {
   "cell_type": "code",
   "execution_count": null,
   "metadata": {},
   "outputs": [],
   "source": []
  },
  {
   "cell_type": "code",
   "execution_count": null,
   "metadata": {},
   "outputs": [],
   "source": [
    "ph_df_in['P']= P\n",
    "ph_df_in['T']= T\n",
    "for index,row in ph_df_in.iterrows():\n",
    "    name = row['name']\n",
    "    if name in pdict.keys():\n",
    "        print(index,name,pdict[name])\n",
    "        ph_df_in['c'][index] = np.array(C[pdict[name]])\n",
    "        ph_df_in['x'][index] = np.array(X[pdict[name]])\n",
    "        ph_df_in['n'][index] = np.array(X[pdict[name]])\n",
    "        ph_df_in['e'][index] = np.array(E[pdict[name]])\n",
    "    else:\n",
    "        ph_df_in.drop(index=index,inplace=True)\n",
    "ph_df_in['i']=i_c\n",
    "ph_df_in.dropna(axis=1,inplace=True)\n",
    "ph_df_in"
   ]
  },
  {
   "cell_type": "markdown",
   "metadata": {},
   "source": [
    "### Generate output testing dataframe and pytest files"
   ]
  },
  {
   "cell_type": "code",
   "execution_count": null,
   "metadata": {},
   "outputs": [],
   "source": [
    "ph_df_out = tester.set_df_out(ph_df_in)\n",
    "ph_df_out"
   ]
  },
  {
   "cell_type": "code",
   "execution_count": null,
   "metadata": {},
   "outputs": [],
   "source": [
    "ph_df_out.to_csv('{}/Phases.csv'.format(TEST_DIR))"
   ]
  },
  {
   "cell_type": "code",
   "execution_count": null,
   "metadata": {},
   "outputs": [],
   "source": [
    "fileroot='{}/test_phases'.format(TEST_DIR) \n",
    "tester.write_tests(ph_df_out,fileroot=fileroot)"
   ]
  },
  {
   "cell_type": "markdown",
   "metadata": {},
   "source": [
    "### run pytest on the test files"
   ]
  },
  {
   "cell_type": "code",
   "execution_count": null,
   "metadata": {},
   "outputs": [],
   "source": [
    "file=glob(fileroot+'*')[-1]\n",
    "pytest.main(['--disable-warnings',file])"
   ]
  },
  {
   "cell_type": "markdown",
   "metadata": {},
   "source": [
    "## Test Reactions\n",
    "### set input dataframe for reactions"
   ]
  },
  {
   "cell_type": "code",
   "execution_count": null,
   "metadata": {},
   "outputs": [],
   "source": [
    "rx_df_in = tester.get_reaction_df_in()\n",
    "rx_df_in"
   ]
  },
  {
   "cell_type": "markdown",
   "metadata": {},
   "source": [
    "### just set P,T,c,x,n fields for testing"
   ]
  },
  {
   "cell_type": "code",
   "execution_count": null,
   "metadata": {},
   "outputs": [],
   "source": [
    "rxn.report()"
   ]
  },
  {
   "cell_type": "code",
   "execution_count": null,
   "metadata": {},
   "outputs": [],
   "source": [
    "# Set test variables\n",
    "X = rxn.C_to_X(C)\n",
    "Phi = [0.33, 0.33, 0.33]\n",
    "\n",
    "# Variables for parameter set and get functions\n",
    "p, val = \"R\", 8.31422\n",
    "\n",
    "#jacobian terms\n",
    "j = 0\n",
    "i = 1\n",
    "l = 0\n",
    "k = 0\n",
    "m = 1"
   ]
  },
  {
   "cell_type": "code",
   "execution_count": null,
   "metadata": {},
   "outputs": [],
   "source": [
    "rx_df_in['P']= P\n",
    "rx_df_in['T']= T\n",
    "rx_df_in['C']= [C]\n",
    "rx_df_in['X']= [X]\n",
    "rx_df_in['Phi'] = [Phi]\n",
    "rx_df_in['p'] = p\n",
    "rx_df_in['val'] = val\n",
    "rx_df_in[['i','j','k','l','m']]=pd.DataFrame.from_dict(dict(i=[i],j=[j],k=[k],l=[l],m=[m]))\n",
    "rx_df_in\n"
   ]
  },
  {
   "cell_type": "markdown",
   "metadata": {},
   "source": [
    "### Generate output testing dataframe and pytest files"
   ]
  },
  {
   "cell_type": "code",
   "execution_count": null,
   "metadata": {},
   "outputs": [],
   "source": [
    "rx_df_out = tester.set_df_out(rx_df_in)\n",
    "rx_df_out"
   ]
  },
  {
   "cell_type": "code",
   "execution_count": null,
   "metadata": {},
   "outputs": [],
   "source": [
    "rx_df_out.to_csv('{}/Reactions.csv'.format(TEST_DIR))"
   ]
  },
  {
   "cell_type": "code",
   "execution_count": null,
   "metadata": {},
   "outputs": [],
   "source": [
    "fileroot='{}/test_rxns'.format(TEST_DIR)\n",
    "tester.write_tests(rx_df_out,fileroot=fileroot)"
   ]
  },
  {
   "cell_type": "markdown",
   "metadata": {},
   "source": [
    "### run pytest on the test files"
   ]
  },
  {
   "cell_type": "code",
   "execution_count": null,
   "metadata": {},
   "outputs": [],
   "source": [
    "file = glob(fileroot+'*')[-1]\n",
    "pytest.main(['--disable-warnings',file])"
   ]
  },
  {
   "cell_type": "markdown",
   "metadata": {},
   "source": [
    "### Repeat exercise for ThermoEngine stixrude database\n"
   ]
  },
  {
   "cell_type": "code",
   "execution_count": null,
   "metadata": {},
   "outputs": [],
   "source": [
    "from thermoengine import model"
   ]
  },
  {
   "cell_type": "code",
   "execution_count": null,
   "metadata": {},
   "outputs": [],
   "source": [
    "db = model.Database(database='Stixrude')"
   ]
  },
  {
   "cell_type": "code",
   "execution_count": null,
   "metadata": {},
   "outputs": [],
   "source": [
    "db.phase_info"
   ]
  },
  {
   "cell_type": "code",
   "execution_count": null,
   "metadata": {},
   "outputs": [],
   "source": [
    "tetester = Tester.factory(db)"
   ]
  },
  {
   "cell_type": "code",
   "execution_count": null,
   "metadata": {},
   "outputs": [],
   "source": [
    "print('Endmembers: ', tetester.endmembers)\n",
    "print('Phases: ', tetester.phase_dict)\n",
    "print()\n",
    "print('Endmember_arguments', tetester._get_endmember_args())\n",
    "print('Phase arguments', tetester._get_phase_args())\n",
    "print()\n",
    "em_df_in_te = tetester.get_endmember_df_in()\n",
    "em_df_in_te"
   ]
  },
  {
   "cell_type": "code",
   "execution_count": null,
   "metadata": {},
   "outputs": [],
   "source": [
    "# Set test variables\n",
    "T=1700.\n",
    "P=100000.\n",
    "\n",
    "em_df_in_te['P']= P*np.ones(len(em_df_in_te))\n",
    "em_df_in_te['T']= T*np.ones(len(em_df_in_te))\n",
    "em_df_in_te['mol']= np.ones(len(em_df_in_te))\n",
    "em_df_in_te['V']= [ None for i in range(len(em_df_in_te)) ]\n",
    "phases = [ 'Fo', 'MgWds', 'MgRwd']\n",
    "em_df_in_te = em_df_in_te.loc[em_df_in_te['name'].isin(phases)]\n",
    "\n",
    "em_df_in_te"
   ]
  },
  {
   "cell_type": "code",
   "execution_count": null,
   "metadata": {},
   "outputs": [],
   "source": [
    "n = len(em_df_in_te)\n",
    "em_df_in_te = em_df_in_te[['name','T','P']]\n",
    "em_df_in_te['T']=T*np.ones(n)\n",
    "em_df_in_te['P']=P*np.ones(n)\n",
    "em_df_in_te['mol'] = np.ones(n)\n",
    "em_df_in_te.dropna(axis=1, inplace=True)\n",
    "em_df_in_te['V'] = [ None for i in range(n)]\n",
    "em_df_in_te"
   ]
  },
  {
   "cell_type": "code",
   "execution_count": null,
   "metadata": {},
   "outputs": [],
   "source": [
    "em_df_out = tetester.set_df_out(em_df_in_te)"
   ]
  },
  {
   "cell_type": "code",
   "execution_count": null,
   "metadata": {},
   "outputs": [],
   "source": [
    "em_df_out"
   ]
  },
  {
   "cell_type": "markdown",
   "metadata": {},
   "source": [
    "### Output dataframe as csv file and pytest files to TEST_DIR"
   ]
  },
  {
   "cell_type": "code",
   "execution_count": null,
   "metadata": {},
   "outputs": [],
   "source": [
    "em_df_out.to_csv('{}/Endmembers_te.csv'.format(TEST_DIR))"
   ]
  },
  {
   "cell_type": "code",
   "execution_count": null,
   "metadata": {},
   "outputs": [],
   "source": [
    "fileroot='{}/test_endmembers_te'.format(TEST_DIR) \n",
    "tetester.write_tests(em_df_out,fileroot=fileroot)\n"
   ]
  },
  {
   "cell_type": "markdown",
   "metadata": {},
   "source": [
    "### run pytest on the test files"
   ]
  },
  {
   "cell_type": "code",
   "execution_count": null,
   "metadata": {},
   "outputs": [],
   "source": [
    "file = glob(fileroot+'*')[-1]\n",
    "pytest.main(['--disable-warnings',file])"
   ]
  },
  {
   "cell_type": "markdown",
   "metadata": {},
   "source": [
    "### Let's try again but with the ThermoEngine Wrapped version of the DB"
   ]
  },
  {
   "cell_type": "code",
   "execution_count": null,
   "metadata": {},
   "outputs": [],
   "source": [
    "db2 = model.Database.from_thermocodegen(pms)"
   ]
  },
  {
   "cell_type": "code",
   "execution_count": null,
   "metadata": {},
   "outputs": [],
   "source": [
    "tetester2 = Tester.factory(db2)"
   ]
  },
  {
   "cell_type": "code",
   "execution_count": null,
   "metadata": {},
   "outputs": [],
   "source": [
    "db2.phase_info"
   ]
  },
  {
   "cell_type": "code",
   "execution_count": null,
   "metadata": {},
   "outputs": [],
   "source": [
    "em_df_in_te = tetester2.get_endmember_df_in()\n",
    "em_df_in_te"
   ]
  },
  {
   "cell_type": "code",
   "execution_count": null,
   "metadata": {},
   "outputs": [],
   "source": [
    "# Set test variables\n",
    "T=1700.\n",
    "P=100000.\n",
    "em_df_in_te = em_df_in_te[['name', 'T', 'P', 'mol', 'V']].copy()\n",
    "em_df_in_te['P']= P*np.ones(len(em_df_in_te))\n",
    "em_df_in_te['T']= T*np.ones(len(em_df_in_te))\n",
    "em_df_in_te['mol']= np.ones(len(em_df_in_te))\n",
    "em_df_in_te.dropna(axis=1, inplace=True)\n",
    "em_df_in_te['V']= [ None for i in range(len(em_df_in_te)) ]\n",
    "phases = [ 'Fo', 'MgWa', 'MgRi']\n",
    "em_df_in_te = em_df_in_te.loc[em_df_in_te['name'].isin(phases)]\n",
    "em_df_in_te"
   ]
  },
  {
   "cell_type": "code",
   "execution_count": null,
   "metadata": {},
   "outputs": [],
   "source": [
    "em_df_out_te = tetester2.set_df_out(em_df_in_te)\n",
    "em_df_out_te"
   ]
  },
  {
   "cell_type": "code",
   "execution_count": null,
   "metadata": {},
   "outputs": [],
   "source": [
    "em_df_out_te.to_csv('{}/Endmembers_te_tcg.csv'.format(TEST_DIR))"
   ]
  },
  {
   "cell_type": "code",
   "execution_count": null,
   "metadata": {},
   "outputs": [],
   "source": [
    "db2.phase_info"
   ]
  }
 ],
 "metadata": {
  "kernelspec": {
   "display_name": "Python 3",
   "language": "python",
   "name": "python3"
  },
  "language_info": {
   "codemirror_mode": {
    "name": "ipython",
    "version": 3
   },
   "file_extension": ".py",
   "mimetype": "text/x-python",
   "name": "python",
   "nbconvert_exporter": "python",
   "pygments_lexer": "ipython3",
   "version": "3.7.5"
  }
 },
 "nbformat": 4,
 "nbformat_minor": 4
}
