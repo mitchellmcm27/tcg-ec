{
 "cells": [
  {
   "cell_type": "markdown",
   "metadata": {},
   "source": [
    "# Simple Solution : Assymetric VanLaar Simple solution:  SymPy Code Generation\n",
    "\n",
    "This notebook generates a model for a 2 component solid solution using an Assymetric VanLaar model for the excess"
   ]
  },
  {
   "cell_type": "code",
   "execution_count": null,
   "metadata": {},
   "outputs": [],
   "source": [
    "import os,sys\n",
    "import pandas as pd\n",
    "import numpy as np\n",
    "import sympy as sym\n",
    "import hashlib\n",
    "import time\n",
    "sym.init_printing()"
   ]
  },
  {
   "cell_type": "markdown",
   "metadata": {},
   "source": [
    "Required ENKI packages"
   ]
  },
  {
   "cell_type": "code",
   "execution_count": null,
   "metadata": {},
   "outputs": [],
   "source": [
    "from thermocodegen.coder import coder"
   ]
  },
  {
   "cell_type": "markdown",
   "metadata": {},
   "source": [
    "### let's set up some directory names for clarity"
   ]
  },
  {
   "cell_type": "code",
   "execution_count": null,
   "metadata": {},
   "outputs": [],
   "source": [
    "HOME_DIR = os.path.abspath(os.curdir)\n",
    "SPUD_DIR = HOME_DIR+'/../phases'\n",
    "\n",
    "try:\n",
    "    os.mkdir(SPUD_DIR)\n",
    "except:\n",
    "    pass"
   ]
  },
  {
   "cell_type": "markdown",
   "metadata": {},
   "source": [
    "Set a reference string for this Notebook"
   ]
  },
  {
   "cell_type": "code",
   "execution_count": null,
   "metadata": {},
   "outputs": [],
   "source": [
    "reference = 'Thermocodegen-v0.6/share/thermocodegen/examples/Systems/MgFeSiO4_stixrued/notebooks/Generate_phases.ipynb'"
   ]
  },
  {
   "cell_type": "markdown",
   "metadata": {},
   "source": [
    "## Ideal Solution properties\n",
    "There are Three terms:\n",
    "- Terms describing standard state contributions\n",
    "- Terms describing the configurational entropy of solution\n",
    "- Terms describing the Excess Entropy using a van laar model\n",
    "\n",
    "Assumptions:\n",
    "- There are $c$ components in the system\n",
    "- There are as many endmember species, $s$, as there are components\n",
    "- The configurational entropy is described as a simple $x_i log(x_i)$ sum\n",
    "- The excess entropy is discribed by a van Laar model used in Stixrude (ref) 199"
   ]
  },
  {
   "cell_type": "markdown",
   "metadata": {},
   "source": [
    "### Number of solution components\n",
    "This notebook illustrates a two component solution"
   ]
  },
  {
   "cell_type": "code",
   "execution_count": null,
   "metadata": {},
   "outputs": [],
   "source": [
    "c = 2"
   ]
  },
  {
   "cell_type": "markdown",
   "metadata": {},
   "source": [
    "### Create a simple solution model\n",
    "... with the specified number of endmember thermodynamic components"
   ]
  },
  {
   "cell_type": "code",
   "execution_count": null,
   "metadata": {},
   "outputs": [],
   "source": [
    "model = coder.SimpleSolnModel.from_type(nc=c)"
   ]
  },
  {
   "cell_type": "markdown",
   "metadata": {},
   "source": [
    "### Retrieve primary compositional variables\n",
    "- $n$ is a vector of mole numbers of each component  \n",
    "- $n_T$ is the total number of moles in the solution\n",
    "\n",
    "### and construct a derived mole fraction variable\n",
    "- $X$ is a vector of mole fractions of components in the system"
   ]
  },
  {
   "cell_type": "code",
   "execution_count": null,
   "metadata": {},
   "outputs": [],
   "source": [
    "n = model.n\n",
    "nT = model.nT\n",
    "X = n/nT\n",
    "n, nT, X"
   ]
  },
  {
   "cell_type": "markdown",
   "metadata": {},
   "source": [
    "### Retrieve the temperature, pressure, and standard state chemical potentials\n",
    "- $T$ is temperature in $K$\n",
    "- $P$ is pressure in $bars$\n",
    "- $\\mu$ in Joules"
   ]
  },
  {
   "cell_type": "code",
   "execution_count": null,
   "metadata": {},
   "outputs": [],
   "source": [
    "T = model.get_symbol_for_t()\n",
    "P = model.get_symbol_for_p()\n",
    "mu = model.mu\n",
    "T,P,mu"
   ]
  },
  {
   "cell_type": "markdown",
   "metadata": {},
   "source": [
    "Check model dictionary"
   ]
  },
  {
   "cell_type": "code",
   "execution_count": null,
   "metadata": {},
   "outputs": [],
   "source": [
    "model.model_dict"
   ]
  },
  {
   "cell_type": "markdown",
   "metadata": {},
   "source": [
    "### Define the standard state contribution to solution properties"
   ]
  },
  {
   "cell_type": "code",
   "execution_count": null,
   "metadata": {},
   "outputs": [],
   "source": [
    "G_ss = (n.transpose()*mu)[0]\n",
    "G_ss"
   ]
  },
  {
   "cell_type": "markdown",
   "metadata": {},
   "source": [
    "### Define configurational entropy and configurational Gibbs free energy\n",
    "\n",
    "Mixing on sites.  The Stixrude model for the configurational Gibbs Free Energy can be written\n",
    "\n",
    "$$\n",
    "    G_{conf} = RT \\mathbf{m}^T\\text{diag}(\\mathbf{x}^*)\\log(\\mathbf{x}^*)\n",
    "$$\n",
    "\n",
    "where $\\mathbf{m}$ is a vector containing the site multiplicity of length `ns`\n",
    "\n",
    "For the MgFeSi$_2$O$_4$ system there are 2 sites each with multiplicity 2 so\n",
    "\n",
    "$$\n",
    "    \\mathbf{m}^T=\\begin{bmatrix} 2 & 2\\\\\\end{bmatrix}\n",
    "$$\n",
    "\n",
    "$$\n",
    "\\mathbf{x}^* = C\\mathbf{x}\n",
    "$$ \n",
    "\n",
    "is the vector of mole fractions on each site and $C$ is a matrix of site Coefficients.\n",
    "\n",
    "Again for this system $C=I$"
   ]
  },
  {
   "cell_type": "code",
   "execution_count": null,
   "metadata": {},
   "outputs": [],
   "source": [
    "ns = 2\n",
    "G_config, R = sym.symbols('S_config R')\n",
    "C = sym.eye(ns)\n",
    "X_o = C*X\n",
    "X_o"
   ]
  },
  {
   "cell_type": "code",
   "execution_count": null,
   "metadata": {},
   "outputs": [],
   "source": [
    "M = sym.Matrix([2,2])\n",
    "G = nT*R*T*M.T*sym.diag(*X_o)*X_o.applyfunc(sym.log)\n",
    "G_config = G[0].simplify()\n",
    "G_config"
   ]
  },
  {
   "cell_type": "markdown",
   "metadata": {},
   "source": [
    "### Define Excess Gibbs free energy of mixing\n",
    "\n",
    "Stixrude uses a van Laar model for describing the excess Gibbs free energy\n",
    "\n",
    "$$\n",
    "    G_{ex} = \\mathbf{x}^T\\mathbf{d}\n",
    "    \\left[ \\mathbf{\\Phi}^T W^*\\mathbf{\\Phi}\\right]\n",
    "$$\n",
    "\n",
    "where $\\mathbf{d}$ is a vector containing species weights (length $c$, number of components)\n",
    "\n",
    "$$\n",
    "    \\mathbf{\\Phi} = \\frac{\\text{diag}(\\mathbf{d})\\mathbf{x}}{\\mathbf{d}^T\\mathbf{x}}\n",
    "$$\n",
    "\n",
    "is a vector of $d$ weighted mol fractions and\n",
    "\n",
    "$$\n",
    "    W^*_{i,j} = \\frac{W_{i,j}}{d_i + d_j}\n",
    "$$\n",
    "\n",
    "is a $\\mathbf{d}$ weighted Margules matrix $W$ of species interaction terms.\n",
    "\n",
    "For the MgFeSi$_2$O$_4$ system $W$ is a $2\\times2$ symmetric matrix with only one off-diagonal term $W_{1,2}=W_{2,1}$ and $\\mathbf{d}^T = \\begin{bmatrix} 1 & 1\\\\ \\end{bmatrix}$\n"
   ]
  },
  {
   "cell_type": "code",
   "execution_count": null,
   "metadata": {},
   "outputs": [],
   "source": [
    "W12 = sym.Symbol('W_12')\n",
    "d = sym.Matrix([1,1])\n",
    "W = sym.Matrix([[0, W12], [W12, 0]])\n",
    "for i in range(2):\n",
    "    for j in range(2):\n",
    "        W[i,j] = W[i,j]/(d[i] + d[j])\n",
    "Phi = sym.diag(*d)*X/(X.T*d)\n",
    "Phi = Phi.simplify()\n",
    "G_excess = nT*X.T*d*Phi.T*W*Phi\n",
    "G_excess = G_excess.simplify()[0]\n",
    "G_excess"
   ]
  },
  {
   "cell_type": "code",
   "execution_count": null,
   "metadata": {},
   "outputs": [],
   "source": [
    "params=['R','W_12']\n",
    "units = ['J/K/mol', 'J/mol']\n",
    "symparam =[R, W12]"
   ]
  },
  {
   "cell_type": "code",
   "execution_count": null,
   "metadata": {},
   "outputs": [],
   "source": [
    "print(list(zip(params,units,symparam)))"
   ]
  },
  {
   "cell_type": "markdown",
   "metadata": {},
   "source": [
    "### Define the Gibbs free energy of solution"
   ]
  },
  {
   "cell_type": "code",
   "execution_count": null,
   "metadata": {},
   "outputs": [],
   "source": [
    "G = G_ss + G_config + G_excess\n",
    "G"
   ]
  },
  {
   "cell_type": "markdown",
   "metadata": {},
   "source": [
    "### Add the Gibbs free energy of solution to the model"
   ]
  },
  {
   "cell_type": "code",
   "execution_count": null,
   "metadata": {},
   "outputs": [],
   "source": [
    "model.add_potential_to_model('G',G,list(zip(params,units,symparam)))"
   ]
  },
  {
   "cell_type": "markdown",
   "metadata": {},
   "source": [
    "### let's inspect the dictionary and unset parameters"
   ]
  },
  {
   "cell_type": "code",
   "execution_count": null,
   "metadata": {},
   "outputs": [],
   "source": [
    "model.model_dict"
   ]
  },
  {
   "cell_type": "code",
   "execution_count": null,
   "metadata": {},
   "outputs": [],
   "source": [
    "values_dict = model.get_values()\n",
    "values_dict"
   ]
  },
  {
   "cell_type": "markdown",
   "metadata": {},
   "source": [
    "## Define Parameters of a Solution models for various phases of MgFeSiO4 solid solutions\n",
    "Components\n",
    "1. Mg endmembers, ${\\rm{Mg_2SiO_4}}$\n",
    "2. Fe endmembers, ${\\rm{Fe_2SiO_4}}$"
   ]
  },
  {
   "cell_type": "markdown",
   "metadata": {},
   "source": [
    "* assign a formula string for code generation  \n",
    "    * here the solution formula is Mg$_x$Fe$_{2-x}$SiO$_4$ where $x\\in[0,2]$\n",
    "* assign a conversion string to map element concentrations to moles of end members\n",
    "    * here endmember 0 is Forsterite, ${\\rm{Mg_2SiO_4}}$ so 1 mole of Forsterite will be 0.5* the number of Mg atoms\n",
    "    * likewise for endmember 1, Fayalite,  1 mole of Fa will be 0.5* the number of Fe atoms whic gives the conversion_string for moles of endmember 0, and 1 as \n",
    "    \n",
    "    `conversion_string=['[0]=0.5*[Mg]', '[1]=0.5*[Fe]']`\n"
   ]
  },
  {
   "cell_type": "code",
   "execution_count": null,
   "metadata": {},
   "outputs": [],
   "source": [
    "values_dict.update(dict(formula_string='Mg[Mg]Fe[Fe]SiO4',\n",
    "                        conversion_string=['[0]=0.5*[Mg]', '[1]=0.5*[Fe]'],\n",
    "                        test_string = ['[0] > 0.0', '[1] > 0.0'],\n",
    "                        R=8.31446261815324, T_r=300.))\n",
    "values_dict"
   ]
  },
  {
   "cell_type": "markdown",
   "metadata": {},
   "source": [
    "### Add additional parameters for solid phases Olivine, Wadsleyite and Ringwoodite"
   ]
  },
  {
   "cell_type": "code",
   "execution_count": null,
   "metadata": {},
   "outputs": [],
   "source": [
    "Ol_dict = dict(name='Olivine',abbrev='Ol',\n",
    "                        reference=reference,\n",
    "                        endmembers = ['Forsterite_stixrude', 'Fayalite_stixrude'],\n",
    "                        W_12 = 7600.)\n",
    "Wa_dict = dict(name='Wadsleyite',abbrev='Wa',\n",
    "                        reference=reference,\n",
    "                        endmembers = ['MgWadsleyite_stixrude', 'FeWadsleyite_stixrude'],\n",
    "                        W_12 = 16500. )\n",
    "Ri_dict = dict(name='Ringwoodite',abbrev='Ri',\n",
    "                        reference=reference,\n",
    "                        endmembers = ['MgRingwoodite_stixrude', 'FeRingwoodite_stixrude'],\n",
    "                        W_12 = 9100.)"
   ]
  },
  {
   "cell_type": "markdown",
   "metadata": {},
   "source": [
    "## Generate Spud XML files"
   ]
  },
  {
   "cell_type": "markdown",
   "metadata": {},
   "source": [
    "### dump spudfiles"
   ]
  },
  {
   "cell_type": "code",
   "execution_count": null,
   "metadata": {},
   "outputs": [],
   "source": [
    "for d in [ Ol_dict, Wa_dict, Ri_dict]:\n",
    "    values_dict.update(d)\n",
    "    model.set_values(values_dict)\n",
    "    file = model.to_xml(path=SPUD_DIR)\n",
    "    print(file)"
   ]
  }
 ],
 "metadata": {
  "kernelspec": {
   "display_name": "Python 3 (ipykernel)",
   "language": "python",
   "name": "python3"
  },
  "language_info": {
   "codemirror_mode": {
    "name": "ipython",
    "version": 3
   },
   "file_extension": ".py",
   "mimetype": "text/x-python",
   "name": "python",
   "nbconvert_exporter": "python",
   "pygments_lexer": "ipython3",
   "version": "3.9.5"
  }
 },
 "nbformat": 4,
 "nbformat_minor": 4
}
