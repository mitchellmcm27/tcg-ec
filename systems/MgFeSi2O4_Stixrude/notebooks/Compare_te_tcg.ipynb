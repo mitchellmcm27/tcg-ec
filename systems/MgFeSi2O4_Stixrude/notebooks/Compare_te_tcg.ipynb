{
 "cells": [
  {
   "cell_type": "markdown",
   "metadata": {
    "deletable": true,
    "editable": true,
    "slideshow": {
     "slide_type": "skip"
    }
   },
   "source": [
    "<table>\n",
    " <tr align=left><td><img align=left src=\"https://i.creativecommons.org/l/by/4.0/88x31.png\">\n",
    " <td>Text provided under a Creative Commons Attribution license, CC-BY. All code is made available under the FSF-approved MIT license. (c) Marc Spiegelman, Template from Kyle Mandli</td>\n",
    "</table>\n"
   ]
  },
  {
   "cell_type": "markdown",
   "metadata": {
    "deletable": true,
    "editable": true,
    "slideshow": {
     "slide_type": "slide"
    }
   },
   "source": [
    "# Fo Stixrude behavior\n",
    "\n",
    "This notebook will use functions from the ThermoCodegen generated Fo-stixrude  and compare output to objective C code in thermoengine.  There seems to be a something in Stixrude (but not berman) end-members which is causing endmembers to report different values after different initialization.  Also going to check phases\n",
    "\n",
    "Suspicion is that Volume is a hidden variable that is not updating properly"
   ]
  },
  {
   "cell_type": "code",
   "execution_count": 1,
   "metadata": {
    "deletable": true,
    "editable": true,
    "slideshow": {
     "slide_type": "skip"
    }
   },
   "outputs": [],
   "source": [
    "# load the standard goodies\n",
    "import numpy as np\n",
    "from scipy.optimize import fsolve, brentq\n",
    "import matplotlib.pyplot as plt\n",
    "import matplotlib.cm as cm\n",
    "\n",
    "%matplotlib inline\n",
    "plt.rcParams[\"figure.figsize\"] = [8,6]\n",
    "plt.rcParams['font.size'] = 16"
   ]
  },
  {
   "cell_type": "markdown",
   "metadata": {},
   "source": [
    "### Load the ThermoCodegen object for the Stixrude Mg2SiO4 system\n",
    "\n",
    "This will require that the python bindings for the py_fo_fa_binary module are in the python path\n",
    "\n",
    "if you are using modules,  this can be accomplished by running\n",
    "|\n",
    "```bash\n",
    "cd ../../reactions/fo_fa_binary\n",
    "module load ./fo_fa_binary.module\n"
   ]
  },
  {
   "cell_type": "code",
   "execution_count": 2,
   "metadata": {
    "deletable": true,
    "editable": true,
    "slideshow": {
     "slide_type": "skip"
    }
   },
   "outputs": [
    {
     "data": {
      "text/plain": [
       "{'Abbrev': ['Fa', 'Ol', 'Wa', 'FeWa', 'FeRi', 'Ri', 'MgRi', 'MgWa', 'Fo'],\n",
       " 'ClassName': ['Fayalite',\n",
       "  'Olivine',\n",
       "  'Wadsleyite',\n",
       "  'FeWadsleyite',\n",
       "  'FeRingwoodite',\n",
       "  'Ringwoodite',\n",
       "  'MgRingwoodite',\n",
       "  'MgWadsleyite',\n",
       "  'Forsterite'],\n",
       " 'PhaseType': ['pure',\n",
       "  'solution',\n",
       "  'solution',\n",
       "  'pure',\n",
       "  'pure',\n",
       "  'solution',\n",
       "  'pure',\n",
       "  'pure',\n",
       "  'pure']}"
      ]
     },
     "execution_count": 2,
     "metadata": {},
     "output_type": "execute_result"
    }
   ],
   "source": [
    "import py_Mg2SiO4_stixrude as pms\n",
    "pms.phase_info()"
   ]
  },
  {
   "cell_type": "code",
   "execution_count": 3,
   "metadata": {
    "deletable": true,
    "editable": true,
    "slideshow": {
     "slide_type": "skip"
    }
   },
   "outputs": [
    {
     "name": "stdout",
     "output_type": "stream",
     "text": [
      "Phase 0 Forsterite\n",
      "     Endmember 0 Forsterite_stixrude\n",
      "Phase 1 MgWadsleyite\n",
      "     Endmember 0 MgWadsleyite_stixrude\n",
      "Phase 2 MgRingwoodite\n",
      "     Endmember 0 MgRingwoodite_stixrude\n"
     ]
    }
   ],
   "source": [
    "rxn = pms.Mg2SiO4_stixrude()\n",
    "rxn.report()"
   ]
  },
  {
   "cell_type": "code",
   "execution_count": 4,
   "metadata": {},
   "outputs": [],
   "source": [
    "#from thermoengine import model\n",
    "#te = model.Database(database='Stixrude')\n",
    "#te.phase_info\n"
   ]
  },
  {
   "cell_type": "markdown",
   "metadata": {
    "editable": true,
    "slideshow": {
     "slide_type": "skip"
    }
   },
   "source": [
    "utility functions \n"
   ]
  },
  {
   "cell_type": "code",
   "execution_count": 5,
   "metadata": {
    "deletable": true,
    "editable": true,
    "slideshow": {
     "slide_type": "skip"
    }
   },
   "outputs": [],
   "source": [
    "toCelsius = lambda T: T - 273.15\n",
    "toKelvin = lambda T: T + 273.15\n",
    "toBar = lambda P: P*10000."
   ]
  },
  {
   "cell_type": "markdown",
   "metadata": {},
   "source": [
    "### Really need to sort out the State issue\n",
    "\n",
    "It seems like the values returned on at least tcg stixrude models maintain some state and give different answers depending on how the module was first called.\n",
    "\n",
    "First I want to isolate this problem,  then check to see if the Berman models have the same issues\n"
   ]
  },
  {
   "cell_type": "code",
   "execution_count": 6,
   "metadata": {},
   "outputs": [],
   "source": [
    "P=toBar(10.)\n",
    "#Ta = np.array([ 1700., 2200., 2500.])\n",
    "Ta = np.array([ 2200., 2500., 1700])\n",
    "#Ta = np.array([2500., 1700., 2200.])\n",
    "c = [ 1. ]"
   ]
  },
  {
   "cell_type": "code",
   "execution_count": 7,
   "metadata": {},
   "outputs": [
    {
     "name": "stdout",
     "output_type": "stream",
     "text": [
      "Ta = [2200. 2500. 1700.]\n",
      "T,\t Volume,\tendmember,\t phase\n",
      "2200.0 4.264748128775319 -2175345.725191568 -2175345.725191568\n",
      "2500.0 4.303347056870189 -2300256.196764278 -2300256.196764278\n",
      "1700.0 4.206004728741926 -1984446.1221989086 -1984446.1221989086\n"
     ]
    }
   ],
   "source": [
    "Fo = pms.Forsterite_stixrude()\n",
    "Fo_phase = pms.Forsterite()\n",
    "\n",
    "print('Ta = {}'.format(Ta))\n",
    "print('T,\\t Volume,\\tendmember,\\t phase')\n",
    "for T in Ta:\n",
    "    print(T, Fo.v(T,P),Fo.g(T, P), Fo_phase.g(T,P,c),)"
   ]
  },
  {
   "cell_type": "markdown",
   "metadata": {},
   "source": [
    "#### 1700 first with clean kernel restart\n",
    "\n",
    "Old version with overly caching solve_V routine\n",
    "```\n",
    "Ta = [1700. 2200. 2500.]\n",
    "T,\t Volume,\tendmember,\t phase\n",
    "1700.0 4.206004728741926 -1984446.1221989086 -1984446.1221989086\n",
    "2200.0 4.206004728741926 -2174796.0112393694 -2174796.0112393694\n",
    "2500.0 4.206004728741926 -2298809.9893216193 -2298809.9893216193\n",
    "```\n",
    "\n",
    "New version with changing Volumes\n",
    "```\n",
    "Ta = [1700. 2200. 2500.]\n",
    "T,\t Volume,\tendmember,\t phase\n",
    "1700.0 4.206004728741926 -1984446.1221989086 -1984446.1221989086\n",
    "2200.0 4.26474812877532 -2175345.725191568 -2175345.725191568\n",
    "2500.0 4.303347056870189 -2300256.196764278 -2300256.196764278\n",
    "```"
   ]
  },
  {
   "cell_type": "markdown",
   "metadata": {},
   "source": [
    "#### 2200 first with clean kernel restart\n",
    "\n",
    "Old version with overly caching solve_V routine\n",
    "```\n",
    "Ta = [2200. 2500. 1700.]\n",
    "T,\t Volume,\tendmember,\t phase\n",
    "2200.0 4.264748128775319 -2175345.725191568 -2175345.725191568\n",
    "2500.0 4.264748128775319 -2300034.733225503 -2300034.733225503\n",
    "1700.0 4.264748128775319 -1983874.101775966 -1983874.101775966\n",
    "```\n",
    "\n",
    "New version with changing Volumes\n",
    "```\n",
    "Ta = [2200. 2500. 1700.]\n",
    "T,\t Volume,\tendmember,\t phase\n",
    "1700.0 4.206004728741926 -1984446.1221989086 -1984446.1221989086\n",
    "2200.0 4.264748128775319 -2175345.725191568 -2175345.725191568\n",
    "2500.0 4.303347056870189 -2300256.196764278 -2300256.196764278\n",
    "```"
   ]
  },
  {
   "cell_type": "markdown",
   "metadata": {},
   "source": [
    "#### 2500 first with clean kernel restart\n",
    "```\n",
    "Ta = [2500. 1700. 2200.]\n",
    "T,\t endmember,\t phase\n",
    "1700.0 -1982900.6402404727 -1982900.6402404727\n",
    "2200.0 -2175118.282576279 -2175118.282576279\n",
    "2500.0 -2300256.196764278 -2300256.196764278\n",
    "```\n",
    "\n",
    "the back to original order (without kernel restart)\n",
    "```\n",
    "Ta = [1700. 2200. 2500.]\n",
    "T,\t endmember,\t phase\n",
    "1700.0 -1982900.6402404727 -1982900.6402404727\n",
    "2200.0 -2175118.282576279 -2175118.282576279\n",
    "2500.0 -2300256.196764278 -2300256.196764278\n",
    "```"
   ]
  },
  {
   "cell_type": "markdown",
   "metadata": {},
   "source": [
    "### Repeat with Berman Forsterite\n",
    "\n",
    "Which doesn't show this state affect"
   ]
  },
  {
   "cell_type": "code",
   "execution_count": 8,
   "metadata": {
    "editable": true,
    "slideshow": {
     "slide_type": "skip"
    }
   },
   "outputs": [
    {
     "ename": "ModuleNotFoundError",
     "evalue": "No module named 'py_fo_fa_binary'",
     "output_type": "error",
     "traceback": [
      "\u001b[0;31m---------------------------------------------------------------------------\u001b[0m",
      "\u001b[0;31mModuleNotFoundError\u001b[0m                       Traceback (most recent call last)",
      "\u001b[0;32m<ipython-input-8-a778872673b9>\u001b[0m in \u001b[0;36m<module>\u001b[0;34m\u001b[0m\n\u001b[0;32m----> 1\u001b[0;31m \u001b[0;32mimport\u001b[0m \u001b[0mpy_fo_fa_binary\u001b[0m \u001b[0;32mas\u001b[0m \u001b[0mpb\u001b[0m\u001b[0;34m\u001b[0m\u001b[0;34m\u001b[0m\u001b[0m\n\u001b[0m\u001b[1;32m      2\u001b[0m \u001b[0mpb\u001b[0m\u001b[0;34m.\u001b[0m\u001b[0mphase_info\u001b[0m\u001b[0;34m(\u001b[0m\u001b[0;34m)\u001b[0m\u001b[0;34m\u001b[0m\u001b[0;34m\u001b[0m\u001b[0m\n",
      "\u001b[0;31mModuleNotFoundError\u001b[0m: No module named 'py_fo_fa_binary'"
     ]
    }
   ],
   "source": [
    "import py_fo_fa_binary as pb\n",
    "pb.phase_info()"
   ]
  },
  {
   "cell_type": "code",
   "execution_count": 9,
   "metadata": {
    "editable": true,
    "slideshow": {
     "slide_type": "skip"
    }
   },
   "outputs": [
    {
     "ename": "NameError",
     "evalue": "name 'pb' is not defined",
     "output_type": "error",
     "traceback": [
      "\u001b[0;31m---------------------------------------------------------------------------\u001b[0m",
      "\u001b[0;31mNameError\u001b[0m                                 Traceback (most recent call last)",
      "\u001b[0;32m<ipython-input-9-d493f0ee23e3>\u001b[0m in \u001b[0;36m<module>\u001b[0;34m\u001b[0m\n\u001b[0;32m----> 1\u001b[0;31m \u001b[0mrxn_fofa\u001b[0m \u001b[0;34m=\u001b[0m \u001b[0mpb\u001b[0m\u001b[0;34m.\u001b[0m\u001b[0mfo_fa_binary\u001b[0m\u001b[0;34m(\u001b[0m\u001b[0;34m)\u001b[0m\u001b[0;34m\u001b[0m\u001b[0;34m\u001b[0m\u001b[0m\n\u001b[0m\u001b[1;32m      2\u001b[0m \u001b[0mrxn_fofa\u001b[0m\u001b[0;34m.\u001b[0m\u001b[0mreport\u001b[0m\u001b[0;34m(\u001b[0m\u001b[0;34m)\u001b[0m\u001b[0;34m\u001b[0m\u001b[0;34m\u001b[0m\u001b[0m\n",
      "\u001b[0;31mNameError\u001b[0m: name 'pb' is not defined"
     ]
    }
   ],
   "source": [
    "rxn_fofa = pb.fo_fa_binary()\n",
    "rxn_fofa.report()"
   ]
  },
  {
   "cell_type": "code",
   "execution_count": 10,
   "metadata": {},
   "outputs": [
    {
     "ename": "NameError",
     "evalue": "name 'pb' is not defined",
     "output_type": "error",
     "traceback": [
      "\u001b[0;31m---------------------------------------------------------------------------\u001b[0m",
      "\u001b[0;31mNameError\u001b[0m                                 Traceback (most recent call last)",
      "\u001b[0;32m<ipython-input-10-6028e789ddb4>\u001b[0m in \u001b[0;36m<module>\u001b[0;34m\u001b[0m\n\u001b[1;32m      1\u001b[0m \u001b[0;31m# repeat for berman\u001b[0m\u001b[0;34m\u001b[0m\u001b[0;34m\u001b[0m\u001b[0;34m\u001b[0m\u001b[0m\n\u001b[1;32m      2\u001b[0m \u001b[0;34m\u001b[0m\u001b[0m\n\u001b[0;32m----> 3\u001b[0;31m \u001b[0mFo_b\u001b[0m \u001b[0;34m=\u001b[0m \u001b[0mpb\u001b[0m\u001b[0;34m.\u001b[0m\u001b[0mForsterite_berman\u001b[0m\u001b[0;34m(\u001b[0m\u001b[0;34m)\u001b[0m\u001b[0;34m\u001b[0m\u001b[0;34m\u001b[0m\u001b[0m\n\u001b[0m\u001b[1;32m      4\u001b[0m \u001b[0mprint\u001b[0m\u001b[0;34m(\u001b[0m\u001b[0;34m'Ta = {}'\u001b[0m\u001b[0;34m.\u001b[0m\u001b[0mformat\u001b[0m\u001b[0;34m(\u001b[0m\u001b[0mTa\u001b[0m\u001b[0;34m)\u001b[0m\u001b[0;34m)\u001b[0m\u001b[0;34m\u001b[0m\u001b[0;34m\u001b[0m\u001b[0m\n\u001b[1;32m      5\u001b[0m \u001b[0;32mfor\u001b[0m \u001b[0mT\u001b[0m \u001b[0;32min\u001b[0m \u001b[0mTa\u001b[0m\u001b[0;34m:\u001b[0m\u001b[0;34m\u001b[0m\u001b[0;34m\u001b[0m\u001b[0m\n",
      "\u001b[0;31mNameError\u001b[0m: name 'pb' is not defined"
     ]
    }
   ],
   "source": [
    "# repeat for berman\n",
    "\n",
    "Fo_b = pb.Forsterite_berman()\n",
    "print('Ta = {}'.format(Ta))\n",
    "for T in Ta:\n",
    "    print(T, Fo_b.g(T, P))"
   ]
  },
  {
   "cell_type": "markdown",
   "metadata": {},
   "source": [
    "#### 1700 first with clean kernel restart\n",
    "```\n",
    "Ta = [1700. 2200.]\n",
    "1700.0 -2125970.794519817\n",
    "2200.0 -2312664.014428501\n",
    "```"
   ]
  },
  {
   "cell_type": "markdown",
   "metadata": {},
   "source": [
    "#### 2200 first with clean kernel restart\n",
    "```\n",
    "Ta = [2200. 1700.]\n",
    "1700.0 -2125970.794519817\n",
    "2200.0 -2312664.014428501\n",
    "```"
   ]
  },
  {
   "cell_type": "code",
   "execution_count": null,
   "metadata": {},
   "outputs": [],
   "source": [
    "'''\n",
    "Fo_te = te.get_phase('Fo')\n",
    "Fa_te = te.get_phase('Fa')\n",
    "Wa_te = te.get_phase('MgWds')\n",
    "\n",
    "print(Fo_te.gibbs_energy(T,P))\n",
    "print(Fa_te.gibbs_energy(T,P))\n",
    "print(Wa_te.gibbs_energy(T,P))\n",
    "'''"
   ]
  },
  {
   "cell_type": "code",
   "execution_count": null,
   "metadata": {},
   "outputs": [],
   "source": [
    "Fo = pms.Forsterite_stixrude()\n",
    "Fa = pms.Fayalite_stixrude()\n",
    "Wa = pms.MgWadsleyite_stixrude()\n",
    "\n",
    "print(T,P)\n",
    "print(Fo.g(T,P))\n",
    "#print(Fa.g(T,P))\n",
    "#print(Wa.g(T,P))\n",
    "print(Fo.g(2000.,P), Fo.g(2500.,P))"
   ]
  },
  {
   "cell_type": "markdown",
   "metadata": {},
   "source": [
    "* T,P = 2500.0 100000.0\n",
    "* -2300256.196764278\n",
    "* -2095583.760392555 -2300256.196764278\n",
    "\n",
    "* T,P = 2000.0 100000.0\n",
    "* -2096204.0149583982\n",
    "* -2096204.0149583982 -2299662.150856483"
   ]
  },
  {
   "cell_type": "code",
   "execution_count": null,
   "metadata": {},
   "outputs": [],
   "source": [
    "err_Fo = lambda T,P: (Fo_te.gibbs_energy(T,P) - Fo.g(T,P))/Fo_te.gibbs_energy(T,P)\n",
    "err_Fa = lambda T,P: (Fa_te.gibbs_energy(T,P) - Fa.g(T,P))/Fa_te.gibbs_energy(T,P)\n",
    "err_Wa = lambda T,P: (Wa_te.gibbs_energy(T,P) - Wa.g(T,P))/Wa_te.gibbs_energy(T,P)\n",
    "print(err_Fo(T,P), err_Fa(T,P), err_Wa(T,P))"
   ]
  },
  {
   "cell_type": "markdown",
   "metadata": {},
   "source": [
    "compare affinities along a T,P trajectory first\n"
   ]
  },
  {
   "cell_type": "code",
   "execution_count": null,
   "metadata": {},
   "outputs": [],
   "source": [
    "T=2000.\n",
    "P = np.linspace(.1,2)\n",
    "Pbar = toBar(P)\n",
    "G_Fo_te = np.array([ Fo_te.gibbs_energy(T,p) for p in Pbar])\n",
    "G_Fo =  np.array([ Fo.g(T,p) for p in Pbar])\n",
    "G_Fa_te = np.array([ Fa_te.gibbs_energy(T,p) for p in Pbar])\n",
    "G_Fa =  np.array([ Fa.g(T,p) for p in Pbar])\n",
    "\n"
   ]
  },
  {
   "cell_type": "code",
   "execution_count": null,
   "metadata": {},
   "outputs": [],
   "source": [
    "fig = plt.figure(figsize=(8,6))\n",
    "axes = fig.add_subplot(1,1,1)\n",
    "axes.plot(P, (G_Fo_te - G_Fo)/(G_Fo_te) ,'r',label='Fo')\n",
    "axes.plot(P, (G_Fa_te - G_Fa)/(G_Fa_te) ,'g',label='Fa')\n",
    "axes.legend(loc='best')\n",
    "axes.set_xlabel('P (Gpa)')\n",
    "axes.set_ylabel('rel_error TE-TCG')\n",
    "axes.set_title('T = {}'.format(T))\n",
    "axes.grid()\n",
    "plt.show()"
   ]
  },
  {
   "cell_type": "markdown",
   "metadata": {
    "deletable": true,
    "editable": true,
    "slideshow": {
     "slide_type": "skip"
    }
   },
   "source": [
    "### Plot the Error Surfaces Fo and Fa"
   ]
  },
  {
   "cell_type": "code",
   "execution_count": null,
   "metadata": {
    "collapsed": false,
    "deletable": true,
    "editable": true,
    "jupyter": {
     "outputs_hidden": false
    },
    "slideshow": {
     "slide_type": "skip"
    }
   },
   "outputs": [],
   "source": [
    "ta = np.linspace(1000.,2500.,100)\n",
    "pa = np.linspace(.1,2.5,100)\n",
    "Tm,Pm = np.meshgrid(ta,pa)\n",
    "rerr_Fo = np.zeros(Tm.shape)\n",
    "rerr_Fa = np.zeros(Tm.shape)\n",
    "\n",
    "for i,T in enumerate(ta):\n",
    "    for j,P in enumerate(toBar(pa)):\n",
    "        rerr_Fo[j,i] = err_Fo(T,P)\n",
    "        rerr_Fa[j,i] = err_Fa(T,P)"
   ]
  },
  {
   "cell_type": "markdown",
   "metadata": {
    "deletable": true,
    "editable": true
   },
   "source": [
    "## Error plot Diagram\n",
    "\n",
    "Contour 0 affinity for each reaction"
   ]
  },
  {
   "cell_type": "code",
   "execution_count": null,
   "metadata": {
    "collapsed": false,
    "deletable": true,
    "editable": true,
    "jupyter": {
     "outputs_hidden": false
    }
   },
   "outputs": [],
   "source": [
    "fig = plt.figure(figsize=(20, 6))\n",
    "axes = fig.add_subplot(1,2,1)\n",
    "cplot_fo = axes.contourf(Pm,Tm,rerr_Fo)\n",
    "plt.colorbar(cplot_fo)\n",
    "\n",
    "axes.set_title('Fo')\n",
    "\n",
    "axes = fig.add_subplot(1,2,2)\n",
    "cplot_fa = axes.contourf(Pm,Tm,rerr_Fa)\n",
    "plt.colorbar(cplot_fa)\n",
    "\n",
    "axes.set_title('Fa')\n",
    "\n",
    "axes.grid()\n",
    "axes.set_xlabel('Pressure (GPa)')\n",
    "axes.set_ylabel('Temperature (K)')\n",
    "plt.show()"
   ]
  },
  {
   "cell_type": "code",
   "execution_count": null,
   "metadata": {},
   "outputs": [],
   "source": []
  },
  {
   "cell_type": "code",
   "execution_count": null,
   "metadata": {},
   "outputs": [],
   "source": []
  }
 ],
 "metadata": {
  "celltoolbar": "Slideshow",
  "kernelspec": {
   "display_name": "Python 3",
   "language": "python",
   "name": "python3"
  },
  "language_info": {
   "codemirror_mode": {
    "name": "ipython",
    "version": 3
   },
   "file_extension": ".py",
   "mimetype": "text/x-python",
   "name": "python",
   "nbconvert_exporter": "python",
   "pygments_lexer": "ipython3",
   "version": "3.7.5"
  },
  "latex_envs": {
   "bibliofile": "biblio.bib",
   "cite_by": "apalike",
   "current_citInitial": 1,
   "eqLabelWithNumbers": true,
   "eqNumInitial": 0
  }
 },
 "nbformat": 4,
 "nbformat_minor": 4
}
