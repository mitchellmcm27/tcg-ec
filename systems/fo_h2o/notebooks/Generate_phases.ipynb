{
 "cells": [
  {
   "cell_type": "markdown",
   "metadata": {},
   "source": [
    "# Pure Phase SymPy Code Generation\n",
    "\n",
    "A simple notebook to generate the Phase interface for pure phases which we treat her as solution phases with a single endmember so that the total Gibbs free energy for a pure phase is just\n",
    "\n",
    "$$\n",
    "  G = n\\mu(T,P)\n",
    "$$\n",
    "\n",
    "where $\\mu$ is the chemical potential of the single endmember at $T,P$, and $n is the number of moles of endmember"
   ]
  },
  {
   "cell_type": "code",
   "execution_count": null,
   "metadata": {},
   "outputs": [],
   "source": [
    "import os,sys\n",
    "import pandas as pd\n",
    "import numpy as np\n",
    "import sympy as sym\n",
    "import hashlib\n",
    "import time\n",
    "sym.init_printing()\n",
    "\n",
    "import molmass as mm"
   ]
  },
  {
   "cell_type": "markdown",
   "metadata": {},
   "source": [
    "Required ENKI packages"
   ]
  },
  {
   "cell_type": "code",
   "execution_count": null,
   "metadata": {},
   "outputs": [],
   "source": [
    "from thermocodegen.coder import coder"
   ]
  },
  {
   "cell_type": "markdown",
   "metadata": {},
   "source": [
    "### let's set up some directory names for clarity"
   ]
  },
  {
   "cell_type": "code",
   "execution_count": null,
   "metadata": {},
   "outputs": [],
   "source": [
    "HOME_DIR = os.path.abspath(os.curdir)\n",
    "SPUD_DIR = HOME_DIR+'/../phases'\n",
    "\n",
    "try:\n",
    "    os.mkdir(SPUD_DIR)\n",
    "except:\n",
    "    pass"
   ]
  },
  {
   "cell_type": "markdown",
   "metadata": {},
   "source": [
    "Set a reference string for this Notebook"
   ]
  },
  {
   "cell_type": "code",
   "execution_count": null,
   "metadata": {},
   "outputs": [],
   "source": [
    "reference = 'Thermocodegen-v0.6/share/thermocodegen/examples/Systems/fo_h20/notebooks/Generate_phases.ipynb'"
   ]
  },
  {
   "cell_type": "markdown",
   "metadata": {},
   "source": [
    "## Pure Phase Coder model\n",
    "This notebook will use the SimpleSolutionModel from coder to simply wrap a single endmember\n",
    "as a phase.  For example,  we will create an Olivine Phase that is just pure Forsterite using\n",
    "the Forsterite_berman as an endmember"
   ]
  },
  {
   "cell_type": "markdown",
   "metadata": {},
   "source": [
    "## Number of solution components\n",
    "A pure phase has only one component"
   ]
  },
  {
   "cell_type": "code",
   "execution_count": null,
   "metadata": {},
   "outputs": [],
   "source": [
    "c = 1"
   ]
  },
  {
   "cell_type": "markdown",
   "metadata": {},
   "source": [
    "## Create a simple solution model\n",
    "... with the specified number of endmember thermodynamic components"
   ]
  },
  {
   "cell_type": "code",
   "execution_count": null,
   "metadata": {},
   "outputs": [],
   "source": [
    "model = coder.SimpleSolnModel.from_type(nc=c)"
   ]
  },
  {
   "cell_type": "markdown",
   "metadata": {},
   "source": [
    "## Retrieve primary compositional variables\n",
    "- $n$ is a vector of mole numbers of each component  \n",
    "- $n_T$ is the total number of moles in the solution\n",
    "### and construct a derived mole fraction variable\n",
    "- $X$ is a vector of mole fractions of components in the system"
   ]
  },
  {
   "cell_type": "code",
   "execution_count": null,
   "metadata": {},
   "outputs": [],
   "source": [
    "n = model.n\n",
    "nT = model.nT\n",
    "X = n/nT\n",
    "n, nT, X"
   ]
  },
  {
   "cell_type": "markdown",
   "metadata": {},
   "source": [
    "## Retrieve the temperature, pressure, and standard state chemical potentials\n",
    "- $T$ is temperature in $K$\n",
    "- $P$ is pressure in $bars$\n",
    "- $\\mu$ in Joules"
   ]
  },
  {
   "cell_type": "code",
   "execution_count": null,
   "metadata": {},
   "outputs": [],
   "source": [
    "T = model.get_symbol_for_t()\n",
    "P = model.get_symbol_for_p()\n",
    "mu = model.mu\n",
    "T,P,mu"
   ]
  },
  {
   "cell_type": "markdown",
   "metadata": {},
   "source": [
    "## Define the standard state contribution to solution properties"
   ]
  },
  {
   "cell_type": "code",
   "execution_count": null,
   "metadata": {},
   "outputs": [],
   "source": [
    "G_ss = (n.transpose()*mu)[0]\n",
    "G_ss"
   ]
  },
  {
   "cell_type": "markdown",
   "metadata": {},
   "source": [
    "## Define the Gibbs free energy of the Phase"
   ]
  },
  {
   "cell_type": "code",
   "execution_count": null,
   "metadata": {},
   "outputs": [],
   "source": [
    "G = G_ss\n",
    "G"
   ]
  },
  {
   "cell_type": "markdown",
   "metadata": {},
   "source": [
    "## Add the Gibbs free energy of solution to the model"
   ]
  },
  {
   "cell_type": "code",
   "execution_count": null,
   "metadata": {},
   "outputs": [],
   "source": [
    "model.add_potential_to_model('G',G)"
   ]
  },
  {
   "cell_type": "markdown",
   "metadata": {},
   "source": [
    "### let's inspect the dictionary and unset parameters"
   ]
  },
  {
   "cell_type": "code",
   "execution_count": null,
   "metadata": {},
   "outputs": [],
   "source": [
    "model.model_dict"
   ]
  },
  {
   "cell_type": "markdown",
   "metadata": {},
   "source": [
    "## Create dataframe for selected Pure phases\n",
    "\n",
    "Here we will consider:\n",
    "* an Olivine phase that is pure Forsterite\n",
    "* a Serpentine phase that is pure Chrysotile\n",
    "* a pure phase Brucite"
   ]
  },
  {
   "cell_type": "code",
   "execution_count": null,
   "metadata": {},
   "outputs": [],
   "source": [
    "pure_phase_info = pd.read_csv('data/thermoengine_pure_phases.csv')\n",
    "soln_phase_info = pd.read_csv('data/thermoengine_soln_phases.csv')"
   ]
  },
  {
   "cell_type": "code",
   "execution_count": null,
   "metadata": {},
   "outputs": [],
   "source": [
    "pure_phase_info.head()"
   ]
  },
  {
   "cell_type": "code",
   "execution_count": null,
   "metadata": {},
   "outputs": [],
   "source": [
    "pure_phase_info[pure_phase_info['Name'].isin(['Serpentine'])]"
   ]
  },
  {
   "cell_type": "code",
   "execution_count": null,
   "metadata": {},
   "outputs": [],
   "source": [
    "soln_phase_info[soln_phase_info['Name'].isin(['Serpentine'])]\n",
    "soln_phase_info"
   ]
  },
  {
   "cell_type": "markdown",
   "metadata": {},
   "source": [
    "### add a useful little function for extracting a field for a given phase \n",
    "\n",
    "Looks in both pure phases and solution phases and does a bit of error checking"
   ]
  },
  {
   "cell_type": "code",
   "execution_count": null,
   "metadata": {},
   "outputs": [],
   "source": [
    "def get_field(name,field):\n",
    "    abbrev = None\n",
    "    try:\n",
    "        abbrev = pure_phase_info.loc[pure_phase_info['Name']==name, field].values[0]\n",
    "    except IndexError:\n",
    "        pass\n",
    "    if abbrev is not None:\n",
    "        return abbrev\n",
    "    else:\n",
    "        try:\n",
    "            abbrev = soln_phase_info.loc[soln_phase_info['Name']==name, field].values[0]\n",
    "        except IndexError as err:\n",
    "            print('Warning: phase name {} can\\'t be found in database')\n",
    "        except KeyError as e:\n",
    "            print(e)\n",
    "        \n",
    "        return abbrev  "
   ]
  },
  {
   "cell_type": "markdown",
   "metadata": {},
   "source": [
    "### Choose phase names and endmembers and put in a dictionary"
   ]
  },
  {
   "cell_type": "code",
   "execution_count": null,
   "metadata": {},
   "outputs": [],
   "source": [
    "phase_dict = dict(Olivine = 'Forsterite_berman',\n",
    "                  Chrysotile = 'Chrysotile_berman',\n",
    "                  Brucite = 'Brucite_berman',\n",
    "                  Water = 'SWIM_water')"
   ]
  },
  {
   "cell_type": "markdown",
   "metadata": {},
   "source": [
    "extract abbreviations and formulas from the databases"
   ]
  },
  {
   "cell_type": "code",
   "execution_count": null,
   "metadata": {},
   "outputs": [],
   "source": [
    "names = list(phase_dict.keys())\n",
    "endmembers = list(phase_dict.values())\n",
    "abbrevs = [ get_field(name,'Abbrev') for name in names ]\n",
    "formulas = [ get_field(name.replace('_berman',''),'Formula') for name in endmembers ]"
   ]
  },
  {
   "cell_type": "code",
   "execution_count": null,
   "metadata": {},
   "outputs": [],
   "source": [
    "print(names)\n",
    "print(endmembers)\n",
    "print(abbrevs)\n",
    "print(formulas)"
   ]
  },
  {
   "cell_type": "markdown",
   "metadata": {},
   "source": [
    "Fix up water abbrev and formula"
   ]
  },
  {
   "cell_type": "code",
   "execution_count": null,
   "metadata": {},
   "outputs": [],
   "source": [
    "abbrevs[-1] = 'H2O'\n",
    "formulas[-1] = 'H2O'"
   ]
  },
  {
   "cell_type": "markdown",
   "metadata": {},
   "source": [
    "create dataframe from lists and clean up assorted fields"
   ]
  },
  {
   "cell_type": "code",
   "execution_count": null,
   "metadata": {},
   "outputs": [],
   "source": [
    "df = pd.DataFrame.from_dict(dict(name=names,abbrev=abbrevs,endmembers=endmembers,formula=formulas))\n",
    "df"
   ]
  },
  {
   "cell_type": "code",
   "execution_count": null,
   "metadata": {},
   "outputs": [],
   "source": [
    "## let's try to convert the formula string into the proper coder version\n",
    "form = df.iloc[-1].formula\n",
    "print(form)\n"
   ]
  },
  {
   "cell_type": "code",
   "execution_count": null,
   "metadata": {},
   "outputs": [],
   "source": [
    "def get_formula_info(string):\n",
    "    form = mm.Formula(string)\n",
    "    comp = form.composition()\n",
    "    elements = np.array([ c[0] for c in comp ])\n",
    "    index = np.argsort(np.array([ string.find(e) for e in elements]))\n",
    "    elements = elements[index]\n",
    "    formula_string = ''.join([ '{}[{}]'.format(e,e) for e in elements])\n",
    "    conversion_string = [ '[0] = [{}]/{}'.format(comp[0][0],float(comp[0][1])) ]\n",
    "    return dict(formula_string=formula_string,conversion_string=conversion_string)"
   ]
  },
  {
   "cell_type": "code",
   "execution_count": null,
   "metadata": {},
   "outputs": [],
   "source": [
    "print(get_formula_info('H2O'))\n",
    "form = 'Mg(OH)2'\n",
    "print(get_formula_info(form))"
   ]
  },
  {
   "cell_type": "markdown",
   "metadata": {},
   "source": [
    "## Loop over phases and dump spud-files\n",
    "\n",
    "Unfortunately, this version will probably end up munging the phase formulas because I'm not quite sure how to do the proper conversion from the actual pure phase formula to the solution formula"
   ]
  },
  {
   "cell_type": "code",
   "execution_count": null,
   "metadata": {},
   "outputs": [],
   "source": [
    "values_dict = model.get_values()\n",
    "values_dict['reference']=reference\n",
    "values_dict['test_string']= [ '[0] > 0.0' ]\n",
    "values_dict"
   ]
  },
  {
   "cell_type": "markdown",
   "metadata": {},
   "source": [
    "### Write out spud files for all pure phases"
   ]
  },
  {
   "cell_type": "code",
   "execution_count": null,
   "metadata": {},
   "outputs": [],
   "source": [
    "for i, row in df.iterrows():\n",
    "    row_dict = row.to_dict()\n",
    "    formula = row_dict.pop('formula')\n",
    "    values_dict.update(row_dict)\n",
    "    values_dict.update(get_formula_info(formula))\n",
    "    print(values_dict['conversion_string'])\n",
    "    values_dict['endmembers'] = [ values_dict['endmembers'] ]\n",
    "    print('Writing {}: {}'.format(values_dict['name'],formula))\n",
    "    model.set_values(values_dict)\n",
    "    model.to_xml(path=SPUD_DIR)"
   ]
  },
  {
   "cell_type": "code",
   "execution_count": null,
   "metadata": {},
   "outputs": [],
   "source": []
  }
 ],
 "metadata": {
  "kernelspec": {
   "display_name": "Python 3",
   "language": "python",
   "name": "python3"
  },
  "language_info": {
   "codemirror_mode": {
    "name": "ipython",
    "version": 3
   },
   "file_extension": ".py",
   "mimetype": "text/x-python",
   "name": "python",
   "nbconvert_exporter": "python",
   "pygments_lexer": "ipython3",
   "version": "3.7.5"
  }
 },
 "nbformat": 4,
 "nbformat_minor": 4
}
