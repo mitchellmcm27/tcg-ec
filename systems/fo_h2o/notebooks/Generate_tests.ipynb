{
 "cells": [
  {
   "cell_type": "markdown",
   "metadata": {},
   "source": [
    "# Generate Tests for fo_h2o system"
   ]
  },
  {
   "cell_type": "code",
   "execution_count": null,
   "metadata": {},
   "outputs": [],
   "source": [
    "import pandas as pd\n",
    "import numpy as np\n",
    "import os\n",
    "from datetime import datetime\n",
    "from glob import glob\n",
    "import pytest\n",
    "\n",
    "from thermocodegen.testing import Tester"
   ]
  },
  {
   "cell_type": "markdown",
   "metadata": {},
   "source": [
    "Set a time-stamp and version for the tests\n"
   ]
  },
  {
   "cell_type": "code",
   "execution_count": null,
   "metadata": {},
   "outputs": [],
   "source": [
    "import thermocodegen as tcg\n",
    "timestamp = datetime.now().strftime(\"%Y-%m-%d_%H:%M:%S\")\n",
    "VERSION = tcg.__version__"
   ]
  },
  {
   "cell_type": "markdown",
   "metadata": {},
   "source": [
    "### let's set up some directory names for clarity"
   ]
  },
  {
   "cell_type": "code",
   "execution_count": null,
   "metadata": {},
   "outputs": [],
   "source": [
    "HOME_DIR = os.path.abspath('../')\n",
    "TEST_DIR = HOME_DIR+'/tests/test-v{}-{}'.format(VERSION,timestamp)\n",
    "try:\n",
    "    os.makedirs(TEST_DIR)\n",
    "except:\n",
    "    pass\n",
    "print(TEST_DIR)"
   ]
  },
  {
   "cell_type": "markdown",
   "metadata": {},
   "source": [
    "### Import the thermocodegen reaction module \n",
    "make sure that the module is available in your python path"
   ]
  },
  {
   "cell_type": "code",
   "execution_count": null,
   "metadata": {},
   "outputs": [],
   "source": [
    "# load reaction object\n",
    "import py_fo_h2o_hydration as pfh\n",
    "rxn = pfh.fo_h2o_hydration()\n",
    "rxn.report()"
   ]
  },
  {
   "cell_type": "markdown",
   "metadata": {},
   "source": [
    "### Create a tester object\n",
    "and report the phase dictionary"
   ]
  },
  {
   "cell_type": "code",
   "execution_count": null,
   "metadata": {},
   "outputs": [],
   "source": [
    "tester = Tester.factory(pfh)\n",
    "tester.phase_dict"
   ]
  },
  {
   "cell_type": "markdown",
   "metadata": {},
   "source": [
    "## Test endmembers\n",
    "### set input dataframe for endmembers"
   ]
  },
  {
   "cell_type": "code",
   "execution_count": null,
   "metadata": {},
   "outputs": [],
   "source": [
    "em_df_in = tester.get_endmember_df_in()\n",
    "em_df_in"
   ]
  },
  {
   "cell_type": "markdown",
   "metadata": {},
   "source": [
    "### just set P,T fields for testing"
   ]
  },
  {
   "cell_type": "code",
   "execution_count": null,
   "metadata": {},
   "outputs": [],
   "source": [
    "# Set test variables\n",
    "T=273.15+150.\n",
    "P=10.\n",
    "em_df_in['P']= P*np.ones(len(em_df_in))\n",
    "em_df_in['T']= T*np.ones(len(em_df_in))\n",
    "em_df_in['index'] = 0\n",
    "em_df_in['value'] = np.array([ 0., -925936.6, -4363356.18, -2174419.92, 0.])\n",
    "em_df_in.dropna(axis=1,inplace=True)\n",
    "em_df_in"
   ]
  },
  {
   "cell_type": "markdown",
   "metadata": {},
   "source": [
    "### Generate output testing dataframe"
   ]
  },
  {
   "cell_type": "code",
   "execution_count": null,
   "metadata": {},
   "outputs": [],
   "source": [
    "em_df_out = tester.set_df_out(em_df_in)\n",
    "em_df_out"
   ]
  },
  {
   "cell_type": "markdown",
   "metadata": {},
   "source": [
    "### Output dataframe as csv file and pytest files to TEST_DIR"
   ]
  },
  {
   "cell_type": "code",
   "execution_count": null,
   "metadata": {},
   "outputs": [],
   "source": [
    "em_df_out.to_csv('{}/Endmembers.csv'.format(TEST_DIR))"
   ]
  },
  {
   "cell_type": "code",
   "execution_count": null,
   "metadata": {},
   "outputs": [],
   "source": [
    "fileroot='{}/test_endmembers'.format(TEST_DIR) \n",
    "tester.write_tests(em_df_out,fileroot=fileroot)"
   ]
  },
  {
   "cell_type": "markdown",
   "metadata": {},
   "source": [
    "### run pytest on the test files"
   ]
  },
  {
   "cell_type": "code",
   "execution_count": null,
   "metadata": {},
   "outputs": [],
   "source": [
    "file = glob(fileroot+'*')[-1]\n",
    "pytest.main(['--disable-warnings',file])"
   ]
  },
  {
   "cell_type": "markdown",
   "metadata": {},
   "source": [
    "## Test Phases\n",
    "### set input dataframe for phases"
   ]
  },
  {
   "cell_type": "code",
   "execution_count": null,
   "metadata": {},
   "outputs": [],
   "source": [
    "ph_df_in = tester.get_phase_df_in()\n",
    "ph_df_in"
   ]
  },
  {
   "cell_type": "markdown",
   "metadata": {},
   "source": [
    "### just set P,T,c,x,n fields for testing"
   ]
  },
  {
   "cell_type": "code",
   "execution_count": null,
   "metadata": {},
   "outputs": [],
   "source": [
    "rxn.report()"
   ]
  },
  {
   "cell_type": "code",
   "execution_count": null,
   "metadata": {},
   "outputs": [],
   "source": [
    "C=rxn.zero_C()\n",
    "for i in range(len(C)):\n",
    "    C[i] = [1.0]\n",
    "C"
   ]
  },
  {
   "cell_type": "code",
   "execution_count": null,
   "metadata": {},
   "outputs": [],
   "source": [
    "X = rxn.C_to_X(C)"
   ]
  },
  {
   "cell_type": "code",
   "execution_count": null,
   "metadata": {},
   "outputs": [],
   "source": [
    "phases = rxn.phases()\n",
    "E_dict = { phase.name(): phase.conv_moles_to_elm([1.]) for phase in phases }"
   ]
  },
  {
   "cell_type": "code",
   "execution_count": null,
   "metadata": {},
   "outputs": [],
   "source": [
    "ph_df_in['P']= P*np.ones(len(C))\n",
    "ph_df_in['T']= T*np.ones(len(C))\n",
    "ph_df_in['index'] = 0\n",
    "ph_df_in['value'] = 298.15*np.ones(len(C))\n",
    "for index,row in ph_df_in.iterrows():\n",
    "    name = row['name']\n",
    "    print(index,name)\n",
    "    ph_df_in['c'][index] = np.array(C[index])\n",
    "    ph_df_in['x'][index] = np.array(X[index])\n",
    "    ph_df_in['n'][index] = np.array(X[index])\n",
    "    ph_df_in['e'][index] = np.array(E_dict[name])\n",
    "ph_df_in.dropna(axis=1,inplace=True)\n",
    "ph_df_in"
   ]
  },
  {
   "cell_type": "markdown",
   "metadata": {},
   "source": [
    "### Generate output testing dataframe and pytest files"
   ]
  },
  {
   "cell_type": "code",
   "execution_count": null,
   "metadata": {},
   "outputs": [],
   "source": [
    "ph_df_out = tester.set_df_out(ph_df_in)\n",
    "ph_df_out"
   ]
  },
  {
   "cell_type": "code",
   "execution_count": null,
   "metadata": {},
   "outputs": [],
   "source": [
    "ph_df_out.to_csv('{}/Phases.csv'.format(TEST_DIR))"
   ]
  },
  {
   "cell_type": "code",
   "execution_count": null,
   "metadata": {},
   "outputs": [],
   "source": [
    "fileroot='{}/test_phases'.format(TEST_DIR) \n",
    "tester.write_tests(ph_df_out,fileroot=fileroot)"
   ]
  },
  {
   "cell_type": "markdown",
   "metadata": {},
   "source": [
    "### run pytest on the test files"
   ]
  },
  {
   "cell_type": "code",
   "execution_count": null,
   "metadata": {},
   "outputs": [],
   "source": [
    "file=glob(fileroot+'*')[-1]\n",
    "pytest.main(['--disable-warnings',file])"
   ]
  },
  {
   "cell_type": "markdown",
   "metadata": {},
   "source": [
    "## Test Reactions\n",
    "### set input dataframe for reactions"
   ]
  },
  {
   "cell_type": "code",
   "execution_count": null,
   "metadata": {},
   "outputs": [],
   "source": [
    "rx_df_in = tester.get_reaction_df_in()\n",
    "rx_df_in"
   ]
  },
  {
   "cell_type": "markdown",
   "metadata": {},
   "source": [
    "### just set P,T,c,x,n fields for testing"
   ]
  },
  {
   "cell_type": "code",
   "execution_count": null,
   "metadata": {},
   "outputs": [],
   "source": [
    "rxn.report()"
   ]
  },
  {
   "cell_type": "code",
   "execution_count": null,
   "metadata": {},
   "outputs": [],
   "source": [
    "# Set test variables\n",
    "X = rxn.C_to_X(C)\n",
    "# set phase fractions for the phases\n",
    "Phi = [0.9, 0.0, 0.0, 0.1]\n",
    "\n",
    "# Variables for parameter set and get functions\n",
    "p, val = \"R\", 8.314\n",
    "\n",
    "#jacobian terms\n",
    "j = 0\n",
    "i = 1\n",
    "l = 0\n",
    "k = 0\n",
    "m = 1"
   ]
  },
  {
   "cell_type": "code",
   "execution_count": null,
   "metadata": {},
   "outputs": [],
   "source": [
    "rx_df_in['P']= P\n",
    "rx_df_in['T']= T\n",
    "rx_df_in['C']= [C]\n",
    "rx_df_in['X']= [X]\n",
    "rx_df_in['Phi'] = [Phi]\n",
    "rx_df_in[['i','j','k','l','m']]=pd.DataFrame.from_dict(dict(i=[i],j=[j],k=[k],l=[l],m=[m]))\n",
    "rx_df_in['p'] = p\n",
    "rx_df_in['val'] = val\n",
    "rx_df_in\n"
   ]
  },
  {
   "cell_type": "markdown",
   "metadata": {},
   "source": [
    "### Generate output testing dataframe and pytest files"
   ]
  },
  {
   "cell_type": "code",
   "execution_count": null,
   "metadata": {},
   "outputs": [],
   "source": [
    "rx_df_out = tester.set_df_out(rx_df_in)\n",
    "rx_df_out"
   ]
  },
  {
   "cell_type": "code",
   "execution_count": null,
   "metadata": {},
   "outputs": [],
   "source": [
    "rx_df_out.to_csv('{}/Reactions.csv'.format(TEST_DIR))"
   ]
  },
  {
   "cell_type": "code",
   "execution_count": null,
   "metadata": {},
   "outputs": [],
   "source": [
    "fileroot='{}/test_rxns'.format(TEST_DIR)\n",
    "tester.write_tests(rx_df_out,fileroot=fileroot)"
   ]
  },
  {
   "cell_type": "code",
   "execution_count": null,
   "metadata": {},
   "outputs": [],
   "source": [
    "file = glob(fileroot+'*')[-1]\n",
    "pytest.main(['--disable-warnings',file])"
   ]
  }
 ],
 "metadata": {
  "kernelspec": {
   "display_name": "Python 3 (ipykernel)",
   "language": "python",
   "name": "python3"
  },
  "language_info": {
   "codemirror_mode": {
    "name": "ipython",
    "version": 3
   },
   "file_extension": ".py",
   "mimetype": "text/x-python",
   "name": "python",
   "nbconvert_exporter": "python",
   "pygments_lexer": "ipython3",
   "version": "3.9.5"
  }
 },
 "nbformat": 4,
 "nbformat_minor": 4
}
