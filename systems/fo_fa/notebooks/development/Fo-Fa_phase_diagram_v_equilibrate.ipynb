{
 "cells": [
  {
   "cell_type": "markdown",
   "metadata": {
    "deletable": true,
    "editable": true,
    "slideshow": {
     "slide_type": "skip"
    }
   },
   "source": [
    "<table>\n",
    " <tr align=left><td><img align=left src=\"https://i.creativecommons.org/l/by/4.0/88x31.png\">\n",
    " <td>Text provided under a Creative Commons Attribution license, CC-BY. All code is made available under the FSF-approved MIT license. (c) Marc Spiegelman, Template from Kyle Mandli</td>\n",
    "</table>\n"
   ]
  },
  {
   "cell_type": "markdown",
   "metadata": {
    "deletable": true,
    "editable": true,
    "slideshow": {
     "slide_type": "slide"
    }
   },
   "source": [
    "# Fo-Fa Equilibrium Phase diagram\n",
    "\n",
    "This notebook will use functions from the ThermoCodegen generated fo-fa system to construct an equilibrium binary phase loop"
   ]
  },
  {
   "cell_type": "code",
   "execution_count": null,
   "metadata": {
    "deletable": true,
    "editable": true,
    "slideshow": {
     "slide_type": "skip"
    }
   },
   "outputs": [],
   "source": [
    "# load the standard goodies\n",
    "import numpy as np\n",
    "from scipy.optimize import fsolve, brentq\n",
    "import matplotlib.pyplot as plt\n",
    "import matplotlib.cm as cm\n",
    "\n",
    "%matplotlib inline\n",
    "plt.rcParams[\"figure.figsize\"] = [8,6]\n",
    "plt.rcParams['font.size'] = 16"
   ]
  },
  {
   "cell_type": "markdown",
   "metadata": {},
   "source": [
    "### Load the ThermoCodegen object for the fo-fa reactive system\n",
    "\n",
    "This will require that the python bindings for the py_fo_fa_binary module are in the python path\n",
    "\n",
    "if you are using modules,  this can be accomplished by running\n",
    "|\n",
    "```bash\n",
    "cd ../../reactions/fo_fa_binary\n",
    "module load ./fo_fa_binary.module\n"
   ]
  },
  {
   "cell_type": "code",
   "execution_count": null,
   "metadata": {
    "deletable": true,
    "editable": true,
    "slideshow": {
     "slide_type": "skip"
    }
   },
   "outputs": [],
   "source": [
    "import py_fo_fa_binary as py_fo_fa\n",
    "py_fo_fa.phase_info()"
   ]
  },
  {
   "cell_type": "code",
   "execution_count": null,
   "metadata": {
    "deletable": true,
    "editable": true,
    "slideshow": {
     "slide_type": "skip"
    }
   },
   "outputs": [],
   "source": [
    "rxn = py_fo_fa.fo_fa_binary()\n",
    "rxn.report()"
   ]
  },
  {
   "cell_type": "code",
   "execution_count": null,
   "metadata": {},
   "outputs": [],
   "source": [
    "Ol_tcg = py_fo_fa.Olivine()\n",
    "Lq_tcg = py_fo_fa.Liquid()"
   ]
  },
  {
   "cell_type": "markdown",
   "metadata": {
    "editable": true,
    "slideshow": {
     "slide_type": "skip"
    }
   },
   "source": [
    "utility functions \n"
   ]
  },
  {
   "cell_type": "code",
   "execution_count": null,
   "metadata": {
    "deletable": true,
    "editable": true,
    "slideshow": {
     "slide_type": "skip"
    }
   },
   "outputs": [],
   "source": [
    "toCelsius = lambda T: T - 273.15\n",
    "toKelvin = lambda T: T + 273.15"
   ]
  },
  {
   "cell_type": "markdown",
   "metadata": {
    "deletable": true,
    "editable": true,
    "slideshow": {
     "slide_type": "skip"
    }
   },
   "source": [
    "### recalculate the equilibrium phase diagram"
   ]
  },
  {
   "cell_type": "code",
   "execution_count": null,
   "metadata": {
    "deletable": true,
    "editable": true,
    "jupyter": {
     "outputs_hidden": false
    },
    "slideshow": {
     "slide_type": "skip"
    }
   },
   "outputs": [],
   "source": [
    "def get_binary_loop(P,rxn,N):\n",
    "    ''' \n",
    "    returns equilibrium liquidus and solid for ideal solution phases solid and liquid\n",
    "    input:  \n",
    "        P: pressure in bars\n",
    "        rxn:  Reaction object from thermocodegen\n",
    "        N:   Number of T points for evaluating \n",
    "    output:\n",
    "        Trange:  numpy array of Temperatures\n",
    "        x_l_eq:  Equilibrium liquidus concentrations (mol % Fo) at T,P\n",
    "        x_s_eq:  Equilibrium solid concentrations at (mol % Fo) at T,P\n",
    "    '''\n",
    "    # calculate delta_mu of pure endmembers \n",
    "    # pure forsteritic liquid and solid\n",
    "    CFo = rxn.zero_C()\n",
    "    CFo[0] = [1., 0.]\n",
    "    CFo[1] = [1., 0.]\n",
    "    deltaMu0_0 = lambda T,P : rxn.A(T,P,CFo,0)\n",
    "    CFa = rxn.zero_C()\n",
    "    CFa[0] = [0., 1.]\n",
    "    CFa[1] = [0., 1.]\n",
    "    deltaMu0_1 = lambda T,P : rxn.A(T,P,CFa,1)\n",
    "\n",
    "    # calculate melting points of pure endmembers at pressure p\n",
    "    T_0 = fsolve(deltaMu0_0,1900.,(P))\n",
    "    T_1 = fsolve(deltaMu0_1,1600.,(P))\n",
    "\n",
    "    # sort\n",
    "    T_min = np.min([T_0,T_1])\n",
    "    T_max = np.max([T_0,T_1])\n",
    "    print('T_min={} C, T_max={} C'.format(toCelsius(T_min),toCelsius(T_max)))\n",
    "    \n",
    "    #return T_min, T_max\n",
    "    # set the temperature range for the two-phase region\n",
    "    Trange = np.linspace(T_min+1.,T_max-1.,N)\n",
    "\n",
    "    # will set full compositions just from c = [ cs_Fo, cf_Fo]\n",
    "    C = lambda c : np.array([[c[0], 1.-c[0]], [c[1], 1.-c[1]]])\n",
    "    # dummy phase values to make sure Gamma is never zero except when A=0\n",
    "    Phi = [1., 1.]\n",
    "    \n",
    "    # Find zeros of Reaction terms\n",
    "    As = lambda c,T,P : rxn.Gamma_ik(T,P,C(c),Phi)[0]\n",
    "\n",
    "\n",
    "    # set initial guess for compositions as near pure fayalite\n",
    "    cs = 0.001\n",
    "    cl = 0.001\n",
    "    c0 = np.array([cs,cl])\n",
    "\n",
    "    c_eq = np.empty((len(Trange),2))\n",
    "    tol = 1.e-8\n",
    "\n",
    "    # loop over Temperature and calculate equilibrium liquid/solid concentrations in wt% at t,p\n",
    "    for i,T in enumerate(Trange):\n",
    "    \n",
    "        # find zeros of As at (T,P) given initial guess c0 \n",
    "        c_eq[i] = fsolve(As, c0, (T,P))\n",
    "    \n",
    "        # check that the solver converged\n",
    "        error = np.linalg.norm(As(c_eq[i],T,P))\n",
    "        if error > tol:\n",
    "            print('Error: not converged at P={},T={} C: ||A(x,T)||={}'.format(P,toCelsius(T),np.linalg.norm(As(c_eq[i],T,P))))\n",
    "\n",
    "        # set new guess to last solution\n",
    "        c0 = c_eq[i]\n",
    "    \n",
    "    return Trange, c_eq.T"
   ]
  },
  {
   "cell_type": "markdown",
   "metadata": {
    "deletable": true,
    "editable": true
   },
   "source": [
    "## Phase Diagram\n",
    "\n",
    "calculate the binary phase diagram at fixed pressure\n"
   ]
  },
  {
   "cell_type": "code",
   "execution_count": null,
   "metadata": {
    "deletable": true,
    "editable": true,
    "jupyter": {
     "outputs_hidden": false
    }
   },
   "outputs": [],
   "source": [
    "P = 1000.\n",
    "Trange,c_eq = get_binary_loop(P,rxn,1001)"
   ]
  },
  {
   "cell_type": "markdown",
   "metadata": {},
   "source": [
    "### plot it out"
   ]
  },
  {
   "cell_type": "code",
   "execution_count": null,
   "metadata": {
    "deletable": true,
    "editable": true
   },
   "outputs": [],
   "source": [
    "fig = plt.figure(figsize=(8,6))\n",
    "ax = fig.add_subplot(1,1,1)\n",
    "ax.set_title(\"Binary Phase Diagram: P={} bars\".format(P), fontsize = 18)\n",
    "ax.set_xlabel(\"$c_{fo}$\", fontsize = 24)\n",
    "ax.set_ylabel(\"$T  (^{\\\\circ}C)$\", fontsize = 18)\n",
    "ax.plot(c_eq[0,:], toCelsius(Trange), '-r', label = \"solidus\")\n",
    "ax.plot(c_eq[1,:], toCelsius(Trange), '-b', label = \"liquidus\")\n",
    "ax.set_xlim([0.0, 1.0])\n",
    "ax.grid()\n",
    "ax.legend(loc='best')\n",
    "plt.show()"
   ]
  },
  {
   "cell_type": "markdown",
   "metadata": {},
   "source": [
    "## Comparison with ThermoEngine Equilibrate for the same system\n",
    "\n",
    "Note:  to run this notebook beyond this point will require a version of thermoengine that allows integration with ThermoCodegen"
   ]
  },
  {
   "cell_type": "code",
   "execution_count": null,
   "metadata": {},
   "outputs": [],
   "source": [
    "from thermoengine import model, equilibrate, core"
   ]
  },
  {
   "cell_type": "code",
   "execution_count": null,
   "metadata": {},
   "outputs": [],
   "source": [
    "import thermoengine"
   ]
  },
  {
   "cell_type": "markdown",
   "metadata": {},
   "source": [
    "## Create phases for equilibrium assemblages\n"
   ]
  },
  {
   "cell_type": "code",
   "execution_count": null,
   "metadata": {},
   "outputs": [],
   "source": [
    "modelDB = model.Database.from_thermocodegen(py_fo_fa)\n",
    "modelDB.phase_info"
   ]
  },
  {
   "cell_type": "code",
   "execution_count": null,
   "metadata": {},
   "outputs": [],
   "source": [
    "Liquid = modelDB.get_phase('Liq')\n",
    "Ol = modelDB.get_phase('Ol')"
   ]
  },
  {
   "cell_type": "markdown",
   "metadata": {},
   "source": [
    "## Define elements in system and phases in system\n"
   ]
  },
  {
   "cell_type": "code",
   "execution_count": null,
   "metadata": {},
   "outputs": [],
   "source": [
    "# question is whether these need to be in periodic order\n",
    "elm_sys = [ 'O', 'Mg', 'Si', 'Fe']\n",
    "phs_sys = [Liquid,  Ol]"
   ]
  },
  {
   "cell_type": "markdown",
   "metadata": {},
   "source": [
    "## Composition of the system\n",
    "Need to calculate the bulk composition in moles of liquid endmembers I think\n",
    "\n",
    "Liquid and Solid endmembers are Mg2SiO4 and Fe2SiO4\n"
   ]
  },
  {
   "cell_type": "code",
   "execution_count": null,
   "metadata": {},
   "outputs": [],
   "source": [
    "T = toKelvin(1600.)\n",
    "Cblk = [ 0.4, 0.6]\n",
    "lq = py_fo_fa.Liquid()\n",
    "mols = lq.c_to_x(Cblk)\n",
    "formula = Liquid.compute_formula(T, P, mols)\n",
    "print(mols, formula)"
   ]
  },
  {
   "cell_type": "code",
   "execution_count": null,
   "metadata": {},
   "outputs": [],
   "source": [
    "mol_elm = Liquid.covert_endmember_comp(mols, output='moles_elements')\n",
    "#mol_elm\n"
   ]
  },
  {
   "cell_type": "markdown",
   "metadata": {},
   "source": [
    "Cast this composition as moles of elements for input to the Equilibrate class"
   ]
  },
  {
   "cell_type": "code",
   "execution_count": null,
   "metadata": {},
   "outputs": [],
   "source": [
    "blk_cmp = []\n",
    "for elm in elm_sys:\n",
    "    index = core.chem.PERIODIC_ORDER.tolist().index(elm)\n",
    "    blk_cmp.append(mol_elm[index])\n",
    "blk_cmp = np.array(blk_cmp)\n",
    "print(elm_sys)\n",
    "print(blk_cmp)\n",
    "#blk_cmp = np.array([4., 1., 1., 1.])"
   ]
  },
  {
   "cell_type": "markdown",
   "metadata": {},
   "source": [
    "## Instantiate equilibrate class instance and run calculation"
   ]
  },
  {
   "cell_type": "code",
   "execution_count": null,
   "metadata": {},
   "outputs": [],
   "source": [
    "equil = equilibrate.Equilibrate(elm_sys, phs_sys)"
   ]
  },
  {
   "cell_type": "code",
   "execution_count": null,
   "metadata": {},
   "outputs": [],
   "source": [
    "state = equil.execute(T, P, bulk_comp=blk_cmp, debug=0, stats=True)\n",
    "state.print_state()"
   ]
  },
  {
   "cell_type": "code",
   "execution_count": null,
   "metadata": {},
   "outputs": [],
   "source": [
    "Lq_C_Fo = state.compositions(phase_name='Liquid',units='wt%')[0]/100.\n",
    "Ol_C_Fo = state.compositions(phase_name='Olivine',units='wt%')[0]/100.\n",
    "print(Lq_C_Fo, Ol_C_Fo)"
   ]
  },
  {
   "cell_type": "code",
   "execution_count": null,
   "metadata": {},
   "outputs": [],
   "source": [
    "Lq_X_Fo = state.compositions(phase_name='Liquid',units='mole_frac')[0]\n",
    "Ol_X_Fo = state.compositions(phase_name='Olivine',units='mole_frac')[0]\n",
    "print(Lq_X_Fo, Ol_X_Fo)"
   ]
  },
  {
   "cell_type": "markdown",
   "metadata": {},
   "source": [
    "and plot on the phase diagrams"
   ]
  },
  {
   "cell_type": "markdown",
   "metadata": {},
   "source": [
    "### plot it out"
   ]
  },
  {
   "cell_type": "code",
   "execution_count": null,
   "metadata": {
    "editable": true
   },
   "outputs": [],
   "source": [
    "fig = plt.figure(figsize=(16,6))\n",
    "ax = fig.add_subplot(1,2,1)\n",
    "ax.set_title(\"Binary Phase Diagram: P={}\".format(P), fontsize = 18)\n",
    "ax.set_xlabel(\"$c_{fo}$\", fontsize = 24)\n",
    "ax.set_ylabel(\"$T  (^{\\\\circ}C)$\", fontsize = 18)\n",
    "ax.plot(c_eq[0,:], toCelsius(Trange), '-r', label = \"solidus\")\n",
    "ax.plot(c_eq[1,:], toCelsius(Trange), '-b', label = \"liquidus\")\n",
    "ax.plot(Ol_C_Fo, toCelsius(T),'ro',markersize=10,label='Equilibrate')\n",
    "ax.plot(Lq_C_Fo, toCelsius(T),'bo',markersize=10,label='Equilibrate')\n",
    "\n",
    "ax.set_xlim([0.0, 1.0])\n",
    "ax.grid()\n",
    "ax.legend(loc='best')\n",
    "\n",
    "ax = fig.add_subplot(1,2,2)\n",
    "ax.set_title(\"Binary Phase Diagram: P={}\".format(P), fontsize = 18)\n",
    "ax.set_xlabel(\"$x_{fo}$\", fontsize = 24)\n",
    "ax.set_ylabel(\"$T  (^{\\\\circ}C)$\", fontsize = 18)\n",
    "xs_eq = np.array([ Ol_tcg.c_to_x([c, 1-c])[0] for c in c_eq[0] ])\n",
    "xl_eq = np.array([ Lq_tcg.c_to_x([c, 1-c])[0] for c in c_eq[1] ])\n",
    "ax.plot(xs_eq, toCelsius(Trange), '-r', label = \"solidus\")\n",
    "ax.plot(xl_eq, toCelsius(Trange), '-b', label = \"liquidus\")\n",
    "ax.plot(Ol_X_Fo, toCelsius(T),'ro',markersize=10,label='Equilibrate')\n",
    "ax.plot(Lq_X_Fo, toCelsius(T),'bo',markersize=10,label='Equilibrate')\n",
    "ax.set_xlim([0.0, 1.0])\n",
    "ax.grid()\n",
    "ax.legend(loc='best')\n",
    "plt.show()"
   ]
  },
  {
   "cell_type": "code",
   "execution_count": null,
   "metadata": {},
   "outputs": [],
   "source": []
  }
 ],
 "metadata": {
  "celltoolbar": "Slideshow",
  "kernelspec": {
   "display_name": "Python 3",
   "language": "python",
   "name": "python3"
  },
  "language_info": {
   "codemirror_mode": {
    "name": "ipython",
    "version": 3
   },
   "file_extension": ".py",
   "mimetype": "text/x-python",
   "name": "python",
   "nbconvert_exporter": "python",
   "pygments_lexer": "ipython3",
   "version": "3.7.5"
  },
  "latex_envs": {
   "bibliofile": "biblio.bib",
   "cite_by": "apalike",
   "current_citInitial": 1,
   "eqLabelWithNumbers": true,
   "eqNumInitial": 0
  }
 },
 "nbformat": 4,
 "nbformat_minor": 4
}
