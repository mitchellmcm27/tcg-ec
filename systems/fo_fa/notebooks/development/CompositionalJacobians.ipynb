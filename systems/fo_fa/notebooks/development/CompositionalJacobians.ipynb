{
 "cells": [
  {
   "cell_type": "markdown",
   "metadata": {
    "deletable": true,
    "editable": true,
    "slideshow": {
     "slide_type": "skip"
    }
   },
   "source": [
    "<table>\n",
    " <tr align=left><td><img align=left src=\"https://i.creativecommons.org/l/by/4.0/88x31.png\">\n",
    " <td>Text provided under a Creative Commons Attribution license, CC-BY. All code is made available under the FSF-approved MIT license. (c) Marc Spiegelman, Template from Kyle Mandli</td>\n",
    "</table>\n"
   ]
  },
  {
   "cell_type": "markdown",
   "metadata": {
    "deletable": true,
    "editable": true,
    "slideshow": {
     "slide_type": "slide"
    }
   },
   "source": [
    "# Understand how to calculate compositional Jacobians \n",
    "\n",
    "For inclusion in models that calculate changes in composition by weight fraction, it is critical to calculate accurate jacobians of various thermodynamical quantities with respect to a change in composition which we usually calculate in weight percents.  However,  Coder always calculates variations with respect to changes in total moles of endmembers.  \n",
    "\n",
    "Here we're going to try and sort some of this out starting with understanding changes of entropy in an ideal binary system "
   ]
  },
  {
   "cell_type": "code",
   "execution_count": null,
   "metadata": {
    "deletable": true,
    "editable": true,
    "slideshow": {
     "slide_type": "skip"
    }
   },
   "outputs": [],
   "source": [
    "# load the standard goodies\n",
    "import numpy as np\n",
    "from scipy.optimize import fsolve, brentq\n",
    "import matplotlib.pyplot as plt\n",
    "import matplotlib.cm as cm\n",
    "\n",
    "%matplotlib inline\n",
    "plt.rcParams[\"figure.figsize\"] = [8,6]\n",
    "plt.rcParams['font.size'] = 16"
   ]
  },
  {
   "cell_type": "markdown",
   "metadata": {},
   "source": [
    "### Load the ThermoCodegen object for the fo-fa reactive system\n",
    "\n",
    "This will require that the python bindings for the py_fo_fa_binary module are in the python path\n",
    "\n",
    "if you are using modules,  this can be accomplished by running\n",
    "|\n",
    "```bash\n",
    "cd ../../reactions/fo_fa_binary\n",
    "module load ./fo_fa_binary.module\n"
   ]
  },
  {
   "cell_type": "code",
   "execution_count": null,
   "metadata": {
    "deletable": true,
    "editable": true,
    "slideshow": {
     "slide_type": "skip"
    }
   },
   "outputs": [],
   "source": [
    "import py_fo_fa_binary as py_fo_fa\n",
    "py_fo_fa.phase_info()"
   ]
  },
  {
   "cell_type": "code",
   "execution_count": null,
   "metadata": {
    "deletable": true,
    "editable": true,
    "slideshow": {
     "slide_type": "skip"
    }
   },
   "outputs": [],
   "source": [
    "rxn = py_fo_fa.fo_fa_binary()\n",
    "rxn.report()"
   ]
  },
  {
   "cell_type": "code",
   "execution_count": null,
   "metadata": {},
   "outputs": [],
   "source": [
    "Ol = py_fo_fa.Olivine()\n",
    "Lq = py_fo_fa.Liquid()"
   ]
  },
  {
   "cell_type": "markdown",
   "metadata": {
    "editable": true,
    "slideshow": {
     "slide_type": "skip"
    }
   },
   "source": [
    "utility functions \n"
   ]
  },
  {
   "cell_type": "code",
   "execution_count": null,
   "metadata": {
    "deletable": true,
    "editable": true,
    "slideshow": {
     "slide_type": "skip"
    }
   },
   "outputs": [],
   "source": [
    "toCelsius = lambda T: T - 273.15\n",
    "toKelvin = lambda T: T + 273.15"
   ]
  },
  {
   "cell_type": "markdown",
   "metadata": {
    "deletable": true,
    "editable": true,
    "slideshow": {
     "slide_type": "skip"
    }
   },
   "source": [
    "### make a contour plot of liquid entropy at fixed T,P\n",
    "\n",
    "Make a meshgrid in (N1, N2) space and the simplex of mole fractions where $\\mathbf{x}^T\\mathbf{1}=1$"
   ]
  },
  {
   "cell_type": "code",
   "execution_count": null,
   "metadata": {},
   "outputs": [],
   "source": [
    "eps = 1.e-3\n",
    "n = np.linspace(eps, 1.2)\n",
    "N1, N2 = np.meshgrid(n,n)\n",
    "N_flat = np.array([ N1.flatten(),N2.flatten()]).T\n",
    "    \n",
    "x = np.linspace(eps,1.-eps,1001)\n",
    "X = np.array([ x, 1.-x ]).T"
   ]
  },
  {
   "cell_type": "markdown",
   "metadata": {},
   "source": [
    "Calculate entropy S in this space and along the simplex (Sx)"
   ]
  },
  {
   "cell_type": "code",
   "execution_count": null,
   "metadata": {},
   "outputs": [],
   "source": [
    "T = toKelvin(1600.)\n",
    "P = 1000.\n",
    "S = np.array([ Lq.s(T,P,n) for n in N_flat])\n",
    "S = S.reshape(N1.shape)\n",
    "Sx = np.array( [ Lq.s(T,P,xx) for xx in X])"
   ]
  },
  {
   "cell_type": "markdown",
   "metadata": {},
   "source": [
    "Calculate the gradient of entropy with respect to moles along the simplex "
   ]
  },
  {
   "cell_type": "code",
   "execution_count": null,
   "metadata": {},
   "outputs": [],
   "source": [
    "gradnS = -np.array([ Lq.d2gdndt(T,P, xx) for xx in X])"
   ]
  },
  {
   "cell_type": "markdown",
   "metadata": {},
   "source": [
    "Choose a point $x_0$ on the simplex and calculate the gradient at that point for plotting"
   ]
  },
  {
   "cell_type": "code",
   "execution_count": null,
   "metadata": {},
   "outputs": [],
   "source": [
    "x0 = np.array([0.1, 0.9])\n",
    "gradnS0 = -np.array(Lq.d2gdndt(T,P,x0))"
   ]
  },
  {
   "cell_type": "markdown",
   "metadata": {},
   "source": [
    "Plot entropy in the $N_1,N_2$ plane and its value and gradient along the simplex"
   ]
  },
  {
   "cell_type": "code",
   "execution_count": null,
   "metadata": {},
   "outputs": [],
   "source": [
    "fig = plt.figure(figsize = (20,6))\n",
    "ax = fig.add_subplot(1,3,1)\n",
    "cp = ax.contourf(N1,N2,S,levels=11)\n",
    "ax.plot([0., 1.], [1., 0.],'r--')\n",
    "ax.plot(x0[0],x0[1],'ro')\n",
    "ax.quiver(x0[0],x0[1],gradnS0[0],gradnS0[1],color='r', angles='xy', scale_units='xy', scale=2e3)\n",
    "ax.quiver(x0[0],x0[1],1.,1.,color='k', angles='xy', scale_units='xy', scale=5)\n",
    "\n",
    "ax.set_aspect('equal')\n",
    "ax.set_xlabel('$n_1$')\n",
    "ax.set_ylabel('$n_2$')\n",
    "ax.set_title('$S(T,P,\\\\mathbf{n})$')\n",
    "\n",
    "fig.colorbar(cp)\n",
    "ax.grid()\n",
    "\n",
    "ax = fig.add_subplot(1, 3, 2)\n",
    "ax.plot(x, Sx)\n",
    "ax.plot(x0[0],Lq.s(T,P,x0),'ro')\n",
    "ax.set_xlabel('$x_1$')\n",
    "ax.set_ylabel('s')\n",
    "ax.grid()\n",
    "\n",
    "ax = fig.add_subplot(1,3,3)\n",
    "dx = np.array([eps, -eps])\n",
    "dSx = gradnS.dot(dx)/np.linalg.norm(dx)\n",
    "ax.plot(x, dSx)\n",
    "#ax.plot(x, dsDx[:,0], label = 'Px Grad_n S')\n",
    "ax.set_xlabel('$x_1$')\n",
    "ax.set_ylabel('$\\\\frac{ds}{dx}$')\n",
    "ax.set_title('$\\\\nabla_n S(T,P,\\mathbf{x})\\cdot\\delta\\mathbf{x}/||\\delta\\mathbf{x}||$')\n",
    "ax.grid()\n",
    "\n",
    "plt.show()"
   ]
  },
  {
   "cell_type": "markdown",
   "metadata": {},
   "source": [
    "Check that $\\delta S = \\nabla_n s\\cdot\\delta\\mathbf{x}$ is the proper expression for the directional derivative of $s$ along the simplex"
   ]
  },
  {
   "cell_type": "code",
   "execution_count": null,
   "metadata": {},
   "outputs": [],
   "source": [
    "eps = 1.e-2\n",
    "dx = np.array([eps, -eps])\n",
    "points = [x0 - dx, x0, x0 + dx]\n",
    "\n",
    "Sar = [ Lq.s(T,P,point) for point in points]\n",
    "print(Sar)\n",
    "print([Sar[1] + gradnS0.dot(-dx), Sar[1], Sar[1] + gradnS0.dot(dx)])\n",
    "print(Sar[2]-Sar[1], Sar[0]-Sar[1])\n",
    "print(gradnS0.dot(dx))"
   ]
  },
  {
   "cell_type": "markdown",
   "metadata": {},
   "source": [
    "### Now let's consider the mapping from concentration vector $\\mathbf{c}$ to mol fraction $\\mathbf{x}$\n",
    "\n",
    "We want to calculate two quantities\n",
    "$$\n",
    "    s(T,P,\\mathbf{c}) = s(T,P,\\mathbf{x}(\\mathbf{c}))\n",
    "$$\n",
    "\n",
    "and\n",
    "$$\n",
    "    \\nabla_c s ^T= \\nabla_n s^T \\frac{\\partial\\mathbf{x}}{\\partial\\mathbf{c}}\n",
    "$$\n",
    "\n",
    "such that \n",
    "$$\\delta s = (\\nabla_c s)^T\\delta\\mathbf{c} = (\\nabla_n s)^T \\delta\\mathbf{x}$$\n",
    "\n",
    "here\n",
    "$$\n",
    "    \\frac{\\partial\\mathbf{x}}{\\partial\\mathbf{c}} = \\frac{1}{\\mathbf{c}^T(\\mathbf{1/M})}\\left( I -\\mathbf{x}\\mathbf{1}^T\\right)\\mathrm{diag}(\\mathbf{1/M})\n",
    "$$\n",
    "\n",
    "is the Jacobian of the transformation \n",
    "$$\n",
    "    \\mathbf{x} = \\frac{\\mathrm{diag}(\\mathbf{1/M})\\mathbf{c}}{\\mathbf{c}^T(\\mathbf{1/M})} ~~~\\left(\\mathrm{and}~~\\mathbf{c} = \\frac{\\mathrm{diag}(\\mathbf{M})\\mathbf{x}}{\\mathbf{M}^T\\mathbf{x}}\\right)\n",
    "$$\n",
    "where $\\mathbf{M}$ is a vector of molecular weights for each compositional component.\n",
    "\n",
    "so we should be able to unroll all of this to return the vector\n",
    "$$\n",
    "    \\nabla_c s^T   = \\frac{1}{\\mathbf{c}^T(\\mathbf{1/M})}\\left((\\nabla_n s)^T\\mathrm{diag}(\\mathbf{1/M}) - (\\nabla_n s)^T\\mathbf{x}(\\mathbf{1/M})^T\\right)\n",
    "$$\n",
    "\n",
    "\n",
    "### let's try to code all of this up and check it out"
   ]
  },
  {
   "cell_type": "code",
   "execution_count": null,
   "metadata": {},
   "outputs": [],
   "source": [
    "def gradnS(T,P,x,phase=Lq):\n",
    "    return -np.array(phase.d2gdndt(T,P,x))\n",
    "\n",
    "def gradcS(T,P,c,phase=Lq):\n",
    "    K = len(c)\n",
    "    iM = 1./np.array( [ phase.endmember_mw(k) for k in range(K)])\n",
    "    sum = c.dot(iM)\n",
    "    x = np.array(phase.c_to_x(c))\n",
    "    gns = gradnS(T,P,x,phase=phase)\n",
    "    gnc = ( gns - gns.dot(x))*iM/sum\n",
    "    #gnc = gns.T.dot(dxdc(c))\n",
    "    return gnc\n",
    "    \n",
    "def dxdc(c,phase=Lq):\n",
    "    K = len(c)\n",
    "    iM = 1./np.array( [ phase.endmember_mw(k) for k in range(K)])\n",
    "    sum = c.dot(iM)\n",
    "    x = np.array(phase.c_to_x(c))\n",
    "    A = np.eye(K) - np.outer(x,np.ones(K))\n",
    "    dxdc = 1./sum * A.dot(np.diag(iM))\n",
    "    return dxdc\n",
    "\n",
    "    "
   ]
  },
  {
   "cell_type": "code",
   "execution_count": null,
   "metadata": {},
   "outputs": [],
   "source": [
    "c0 = np.array(Lq.x_to_c(x0))\n",
    "Jx = dxdc(c0)\n",
    "gns = gradnS(T,P,x0)\n",
    "eps = 5.e-2\n",
    "dc = np.array([eps, -eps])\n",
    "dx = Jx.dot(dc)\n",
    "gcs = gradcS(T,P,c0)\n",
    "# and compare to tcg ds_dC\n",
    "gcs_tcg = np.array(Lq.ds_dc(T,P,c0))\n",
    "\n",
    "\n",
    "print('x0 = {}\\nc0 = {}'.format(x0,c0))\n",
    "print('dxdc = {}'.format(Jx))\n",
    "print('dx = {}, dc = {}'.format(dx,dc))\n",
    "print('grad_n s     ={}, dsx = {}'.format(gns, gns.dot(dx)))\n",
    "print('grad_c s     ={}, dsc = {}'.format(gcs, gcs.dot(dc)))\n",
    "print('grad_c s tcg ={}, dsc = {}'.format(gcs_tcg, gcs_tcg.dot(dc)))"
   ]
  },
  {
   "cell_type": "markdown",
   "metadata": {},
   "source": [
    "### and check with some plots"
   ]
  },
  {
   "cell_type": "code",
   "execution_count": null,
   "metadata": {},
   "outputs": [],
   "source": [
    "t = np.linspace(0.,1.)\n",
    "c = np.array([t, 1.-t]).T\n",
    "x = np.array([Lq.c_to_x(ci) for ci in c])"
   ]
  },
  {
   "cell_type": "code",
   "execution_count": null,
   "metadata": {},
   "outputs": [],
   "source": [
    "print(gns.dot(dx),gcs.dot(dc))"
   ]
  },
  {
   "cell_type": "code",
   "execution_count": null,
   "metadata": {},
   "outputs": [],
   "source": [
    "fig = plt.figure(figsize=(16,8))\n",
    "ax = fig.add_subplot(1,2,1)\n",
    "ax.plot(c[:,0],x[:,0],'b',label='$x_1$')\n",
    "ax.plot(c[:,0],c[:,0],'b--', label='$c_1$')\n",
    "ax.plot(c[:,0],x[:,1],'r',label='$x_2$')\n",
    "ax.plot(c[:,0],c[:,1],'r--',label='$c_2$')\n",
    "ax.grid()\n",
    "ax.set_xlabel('$c_1$')\n",
    "ax.legend(loc='best')\n",
    "\n",
    "ax = fig.add_subplot(1,2,2)\n",
    "sx = np.array([ Lq.s(T,P,ci) for ci in c])\n",
    "sc = np.array([Lq.s(T,P,xi) for xi in x])\n",
    "ax.plot(t, sx, label='s(x)')\n",
    "ax.plot(t, sc, label='s(c)')\n",
    "s0 = Lq.s(T,P,x0)\n",
    "ax.plot(x0[0],s0,'bo')\n",
    "ax.plot(c0[0],s0,'ro')\n",
    "ax.plot(x0[0]+dx[0],s0 + gns.dot(dx),'b+')\n",
    "ax.plot(c0[0]+dc[0],s0 + gcs.dot(dc),'r+')\n",
    "\n",
    "\n",
    "ax.set_xlabel('$x_1$ or $c_1$')\n",
    "ax.set_ylabel('Entropy (J)')\n",
    "ax.legend(loc='best')\n",
    "ax.grid()\n",
    "\n",
    "plt.show()"
   ]
  },
  {
   "cell_type": "markdown",
   "metadata": {},
   "source": [
    "### Let's repeat this for chemical potentials $\\mu_i^k$ for liquid endmembers \n",
    "\n",
    "The analysis should be the same except now $\\nabla_n \\mathbf{\\mu}$ and $\\nabla_c \\mu$ are the matrices\n",
    "$$\n",
    "    \\nabla_n \\mu = \\begin{bmatrix} \\nabla_n \\mu_1\\\\ \\nabla_n\\mu_2 \\\\ \\vdots \\\\ \\nabla_n\\mu_k\\end{bmatrix}\n",
    "$$\n",
    "\n",
    "and \n",
    "\n",
    "$$\n",
    "    \\nabla_c \\mu  = \\frac{1}{\\mathbf{c}^T(\\mathbf{1/M})}\\nabla_n\\mu\\left(I - \\mathbf{x}\\mathbf{1}^T\\right)\\mathrm{diag}(\\mathbf{1/M})\n",
    "$$\n",
    "\n"
   ]
  },
  {
   "cell_type": "code",
   "execution_count": null,
   "metadata": {},
   "outputs": [],
   "source": [
    "mu0 = np.array([ Lq.dgdn(T,P,n)[0] for n in N_flat])\n",
    "mu1 = np.array([ Lq.dgdn(T,P,n)[1] for n in N_flat])\n",
    "mu0 = mu0.reshape(N1.shape)\n",
    "mu1 = mu1.reshape(N1.shape)\n",
    "mu0x = np.array( [ Lq.mu(T,P,xx)[0] for xx in X])\n",
    "mu1x = np.array( [ Lq.mu(T,P,xx)[1] for xx in X])"
   ]
  },
  {
   "cell_type": "code",
   "execution_count": null,
   "metadata": {},
   "outputs": [],
   "source": [
    "x0 = np.array([0.1, 0.9])\n",
    "gradnmu0 = np.array(Lq.d2gdn2(T,P,x0))[:2]\n",
    "gradnmu1 = np.array(Lq.d2gdn2(T,P,x0))[1:]\n",
    "print(gradnmu0, gradnmu1)\n",
    "n0 = gradnmu0/np.linalg.norm(gradnmu0)\n",
    "n1 = gradnmu1/np.linalg.norm(gradnmu1)\n",
    "\n",
    "print(n0,n1)\n",
    "eps = 1.e-3\n",
    "dx = np.array([eps, -eps])\n",
    "points = [x0 - dx, x0, x0 + dx]\n",
    "\n",
    "mu0ar = [ Lq.dgdn(T,P,point)[0] for point in points]\n",
    "mu1ar = [ Lq.dgdn(T,P,point)[1] for point in points]\n",
    "\n",
    "print(mu0ar)\n",
    "print([mu0ar[1] + gradnmu0.dot(-dx), mu0ar[1], mu0ar[1] + gradnmu0.dot(dx)])\n",
    "print(mu1ar)\n",
    "print([mu1ar[1] + gradnmu1.dot(-dx), mu1ar[1], mu1ar[1] + gradnmu1.dot(dx)])\n"
   ]
  },
  {
   "cell_type": "code",
   "execution_count": null,
   "metadata": {},
   "outputs": [],
   "source": [
    "def gradnmu(T,P,x,phase=Lq):\n",
    "    d2g = np.array(phase.d2gdn2(T,P,x))\n",
    "    return np.array([d2g[:2], d2g[1:]])\n",
    "\n",
    "def gradcmu(T,P,c,phase=Lq):\n",
    "    K = len(c)\n",
    "    iM = 1./np.array( [ phase.endmember_mw(k) for k in range(K)])\n",
    "    sum = c.dot(iM)\n",
    "    x = np.array(phase.c_to_x(c))\n",
    "    gns = gradnmu(T,P,x,phase=phase)\n",
    "    gnc = ( gns - gns.dot(x))*iM/sum\n",
    "    #gnc = gns.T.dot(dxdc(c))\n",
    "    return gnc\n",
    "\n",
    "def gradcmu_tcg(T,P,c, phase=Lq):\n",
    "    gc = np.array(phase.dmu_dc(T, P, c))\n",
    "    return(gc)\n",
    "    \n",
    "    \n",
    "    "
   ]
  },
  {
   "cell_type": "code",
   "execution_count": null,
   "metadata": {},
   "outputs": [],
   "source": [
    "gnmu = gradnmu(T,P,x0)\n",
    "gcmu = gradcmu(T,P,c0)\n",
    "gcmu_tcg = gradcmu_tcg(T,P,c0)\n",
    "print('grad_n mu     =\\n{}'.format(gnmu))\n",
    "print('grad_c mu     =\\n{}'.format(gcmu))\n",
    "print('grad_c_mu_tcg =\\n{}'.format(gcmu_tcg))"
   ]
  },
  {
   "cell_type": "markdown",
   "metadata": {},
   "source": [
    "### compare dmu_dc with dmu_dci wierdness from TCG"
   ]
  },
  {
   "cell_type": "code",
   "execution_count": null,
   "metadata": {},
   "outputs": [],
   "source": [
    "eps = 1.e-2\n",
    "dc = np.array([eps, -eps])\n",
    "dx = dxdc(c0).dot(dc)\n",
    "print('dc = {}'.format(dc))\n",
    "print('dx = {}'.format(dx))\n",
    "dng = gnmu.dot(dx)\n",
    "dcg = gcmu.dot(dc)\n",
    "print('d_n mu = {}'.format(dng))\n",
    "print('d_c mu = {}'.format(dcg))\n",
    "\n",
    "\n",
    "x1 = x0 + dx\n",
    "c1 = c0 + dc\n",
    "mux0 = Lq.mu(T,P,x0)\n",
    "muc0 = Lq.mu(T,P,Lq.c_to_x(c0))\n",
    "\n",
    "mux1 = np.array(Lq.mu(T,P,x1))\n",
    "mux1p = mux0 + gradnmu(T,P,x0).dot(dx)\n",
    "err = np.array(mux1 - mux1p)\n",
    "\n",
    "\n",
    "print(mux1)\n",
    "print(mux1p)\n",
    "print(abs(err)/abs(mux1))"
   ]
  },
  {
   "cell_type": "code",
   "execution_count": null,
   "metadata": {},
   "outputs": [],
   "source": [
    "dmu_dc_tcg = np.array(Lq.dmu_dc(T,P,c0))\n",
    "dmu_dci_tcg = np.array(Lq.dmu_dci(T,P,c0,0))"
   ]
  },
  {
   "cell_type": "code",
   "execution_count": null,
   "metadata": {},
   "outputs": [],
   "source": [
    "print(dmu_dc_tcg)\n",
    "print(dmu_dci_tcg)\n",
    "print(dmu_dc_tcg.dot(dc))\n",
    "print(dmu_dci_tcg*dc[0])"
   ]
  },
  {
   "cell_type": "code",
   "execution_count": null,
   "metadata": {},
   "outputs": [],
   "source": [
    "fig = plt.figure(figsize = (16,6))\n",
    "ax = fig.add_subplot(1,2,1)\n",
    "cp = ax.contourf(N1,N2,mu0,levels=11)\n",
    "ax.plot([0., 1.], [1., 0.],'r--')\n",
    "ax.plot(x0[0],x0[1],'ro')\n",
    "ax.quiver(x0[0],x0[1],n0[0],n0[1],color='r', angles='xy', scale_units='xy', scale=2.5)\n",
    "ax.quiver(x0[0],x0[1],1.,1.,color='k', angles='xy', scale_units='xy', scale=5)\n",
    "ax.set_aspect('equal')\n",
    "ax.set_xlabel('$n_1$')\n",
    "ax.set_ylabel('$n_2$')\n",
    "ax.set_title('$\\\\mu_{fo}^{Lq}(T,P,\\\\mathbf{n})$')\n",
    "\n",
    "fig.colorbar(cp)\n",
    "ax.grid()\n",
    "\n",
    "ax = fig.add_subplot(1,2,2)\n",
    "cp = ax.contourf(N1,N2,mu1,levels=11)\n",
    "ax.plot([0., 1.], [1., 0.],'r--')\n",
    "ax.plot(x0[0],x0[1],'ro')\n",
    "ax.quiver(x0[0],x0[1],n1[0],n1[1],color='r', angles='xy', scale_units='xy', scale=2.5)\n",
    "ax.quiver(x0[0],x0[1],1.,1.,color='k', angles='xy', scale_units='xy', scale=5)\n",
    "ax.set_aspect('equal')\n",
    "ax.set_xlabel('$n_1$')\n",
    "ax.set_ylabel('$n_2$')\n",
    "ax.set_title('$\\\\mu_{fa}^{Lq}(T,P,\\\\mathbf{n})$')\n",
    "\n",
    "fig.colorbar(cp)\n",
    "ax.grid()\n",
    "\n",
    "plt.show()"
   ]
  },
  {
   "cell_type": "code",
   "execution_count": null,
   "metadata": {},
   "outputs": [],
   "source": [
    "t = np.linspace(0.,1.)\n",
    "c = np.array([t, 1.-t]).T\n",
    "x = np.array([Lq.c_to_x(ci) for ci in c])\n",
    "\n",
    "mux = np.array([ Lq.mu(T,P,ci) for ci in c])\n",
    "muc = np.array([Lq.mu(T,P,xi) for xi in x])"
   ]
  },
  {
   "cell_type": "code",
   "execution_count": null,
   "metadata": {},
   "outputs": [],
   "source": [
    "fig = plt.figure(figsize=(16,8))\n",
    "ax = fig.add_subplot(1,2,1)\n",
    "\n",
    "ax.plot(t, mux[:,0], label='$\\\\mu_1(x)$')\n",
    "ax.plot(t, muc[:,0], label='$\\\\mu_1(c)$')\n",
    "ax.set_xlabel('$x_1$ or $c_1$')\n",
    "ax.set_ylabel('$\\mu$ (J)')\n",
    "ax.legend(loc='best')\n",
    "\n",
    "ax.plot(x0[0],mux0[0],'bo')\n",
    "ax.plot(c0[0],muc0[0],'ro')\n",
    "ax.plot(x0[0]+dx[0],mux0[0] + gnmu.dot(dx)[0],'b+')\n",
    "ax.plot(c0[0]+dc[0],muc0[0] + gcmu.dot(dc)[0],'r+')\n",
    "\n",
    "ax.grid()\n",
    "\n",
    "ax = fig.add_subplot(1,2,2)\n",
    "ax.plot(t, mux[:,1], label='$\\\\mu_2(x)$')\n",
    "ax.plot(t, muc[:,1], label='$\\\\mu_2(c)$')\n",
    "ax.plot(x0[0],mux0[1],'bo')\n",
    "ax.plot(c0[0],muc0[1],'ro')\n",
    "ax.plot(x0[0]+dx[0],mux0[1] + gnmu.dot(dx)[1],'b+')\n",
    "ax.plot(c0[0]+dc[0],muc0[1] + gcmu.dot(dc)[1],'r+')\n",
    "\n",
    "ax.set_xlabel('$x_1$ or $c_1$')\n",
    "ax.set_ylabel('$\\mu$ (J)')\n",
    "ax.legend(loc='best')\n",
    "ax.grid()\n",
    "plt.show()"
   ]
  },
  {
   "cell_type": "code",
   "execution_count": null,
   "metadata": {},
   "outputs": [],
   "source": []
  }
 ],
 "metadata": {
  "celltoolbar": "Slideshow",
  "kernelspec": {
   "display_name": "Python 3",
   "language": "python",
   "name": "python3"
  },
  "language_info": {
   "codemirror_mode": {
    "name": "ipython",
    "version": 3
   },
   "file_extension": ".py",
   "mimetype": "text/x-python",
   "name": "python",
   "nbconvert_exporter": "python",
   "pygments_lexer": "ipython3",
   "version": "3.7.5"
  },
  "latex_envs": {
   "bibliofile": "biblio.bib",
   "cite_by": "apalike",
   "current_citInitial": 1,
   "eqLabelWithNumbers": true,
   "eqNumInitial": 0
  }
 },
 "nbformat": 4,
 "nbformat_minor": 4
}
