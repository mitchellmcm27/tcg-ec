{
 "cells": [
  {
   "cell_type": "markdown",
   "metadata": {},
   "source": [
    "# Stoichiometry fix\n",
    "\n",
    "quick notebook to figure out how to replace np.linalg.svd approach for finding nullspace and stoichiometric coefficents with sympy exact nullspace\n",
    "\n"
   ]
  },
  {
   "cell_type": "code",
   "execution_count": null,
   "metadata": {
    "editable": true,
    "slideshow": {
     "slide_type": "skip"
    }
   },
   "outputs": [],
   "source": [
    "# load the standard goodies\n",
    "import numpy as np\n",
    "import sympy as sym\n",
    "import matplotlib.pyplot as plt\n",
    "import matplotlib.cm as cm\n",
    "%precision 18\n",
    "\n",
    "%matplotlib inline\n",
    "plt.rcParams[\"figure.figsize\"] = [8,6]\n",
    "plt.rcParams['font.size'] = 16"
   ]
  },
  {
   "cell_type": "markdown",
   "metadata": {},
   "source": [
    "### Load the ThermoCodegen object for the fo-fa reactive system\n",
    "\n",
    "This will require that the python bindings for the py_fo_fa_binary module are in the python path\n",
    "\n",
    "if you are using modules,  this can be accomplished by running\n",
    "|\n",
    "```bash\n",
    "cd ../../reactions/fo_fa_binary\n",
    "module load ./fo_fa_binary.module\n"
   ]
  },
  {
   "cell_type": "code",
   "execution_count": null,
   "metadata": {
    "editable": true,
    "slideshow": {
     "slide_type": "skip"
    }
   },
   "outputs": [],
   "source": [
    "import py_fo_fa_binary as py_fo_fa\n",
    "py_fo_fa.phase_info()"
   ]
  },
  {
   "cell_type": "code",
   "execution_count": null,
   "metadata": {},
   "outputs": [],
   "source": [
    "rxn = py_fo_fa.fo_fa_binary()\n",
    "rxn.report()"
   ]
  },
  {
   "cell_type": "code",
   "execution_count": null,
   "metadata": {},
   "outputs": [],
   "source": [
    "rxn.nu()"
   ]
  },
  {
   "cell_type": "code",
   "execution_count": null,
   "metadata": {},
   "outputs": [],
   "source": [
    "rxn.nu_m()"
   ]
  },
  {
   "cell_type": "code",
   "execution_count": null,
   "metadata": {},
   "outputs": [],
   "source": [
    "from thermocodegen.codegen import calc_coeffs"
   ]
  },
  {
   "cell_type": "code",
   "execution_count": null,
   "metadata": {},
   "outputs": [],
   "source": [
    "#Opx\n",
    "#em = ['MG(1)SI(1)O(3)', 'MG(2)SI(1)O(4)', 'SI(2)O(4)']\n",
    "#Fo-Fa\n",
    "#em = ['FE(2)SI(1)O4', 'FE(2)SI(1)O(4)']\n",
    "# Fo-H20\n",
    "#em = ['MG(2)SI(1)O(4)', 'H(2)O', 'Mg(3)Si(2)O(9)H(4)', 'Mg(1)O(2)H(2)']\n",
    "\n",
    "# CMAS Fo melting\n",
    "em = [ 'Mg(2)Si(1)O(4)', 'Mg(2)Si(1)O(4)', 'Si(2)O(4)', 'Ca(1)Si(1)O(3)', 'Al(2)O(3)']\n",
    "# CMAS Opx melting\n",
    "em = [ 'MG(1)SI(1)O(3)', 'Mg(2)Si(1)O(4)', 'Si(2)O(4)', 'Ca(1)Si(1)O(3)', 'Al(2)O(3)']\n",
    "# CMAS diopside melting\n",
    "em = [ 'Mg(1)Ca(1)Si(2)O(6)', 'Mg(2)Si(1)O(4)', 'Si(2)O(4)', 'Ca(1)Si(1)O(3)', 'Al(2)O(3)']\n",
    "# CMAS spinel melting\n",
    "em = [ 'MG(1)AL(2)O(4)', 'Mg(2)Si(1)O(4)', 'Si(2)O(4)', 'Ca(1)Si(1)O(3)', 'Al(2)O(3)']\n",
    "# CMAS Anorthite\n",
    "em = [ 'AL(2)CA(1)SI(2)O(8)', 'Mg(2)Si(1)O(4)', 'Si(2)O(4)', 'Ca(1)Si(1)O(3)', 'Al(2)O(3)']\n",
    "\n",
    "\n",
    "M = calc_coeffs.chemical_composition_matrix(em)\n",
    "print('M=\\n{}'.format(M))"
   ]
  },
  {
   "cell_type": "code",
   "execution_count": null,
   "metadata": {},
   "outputs": [],
   "source": [
    "nu = calc_coeffs.stoichiometric_coeffs(em)\n",
    "nu_m = calc_coeffs.stoichiometric_coeffs(em, mass_weighted=True)\n",
    "\n",
    "print()\n",
    "print('nu={}'.format(nu))\n",
    "print('nu_m={}'.format(nu_m))\n",
    "print('sum nu_m = {}'.format(np.sum(nu_m)))"
   ]
  },
  {
   "cell_type": "markdown",
   "metadata": {},
   "source": [
    "nu_m from py_cmas"
   ]
  },
  {
   "cell_type": "code",
   "execution_count": null,
   "metadata": {},
   "outputs": [],
   "source": [
    "cmas_nu_m = [[[1.0, 0.0, 0.0, 0.0], [-1.0], [0.0], [0.0], [0.0], [0.0]],\n",
    " [[0.7007417169462301, 0.29925828305377, 0.0, 0.0],\n",
    "  [0.0],\n",
    "  [-1.0],\n",
    "  [0.0],\n",
    "  [0.0],\n",
    "  [0.0]],\n",
    " [[0.3248507045011231, 0.13873052185542026, 0.5364187736434567, 0.0],\n",
    "  [0.0],\n",
    "  [0.0],\n",
    "  [-1.0],\n",
    "  [0.0],\n",
    "  [0.0]],\n",
    " [[0.4082609109118468, -0.17435162811467425, 0.0, 0.5917390890881532],\n",
    "  [0.0],\n",
    "  [0.0],\n",
    "  [0.0],\n",
    "  [-0.8256483718853258],\n",
    "  [0.0]],\n",
    " [[0.0, 0.21596954926513137, 0.4175365276931147, 0.366493923041754],\n",
    "  [0.0],\n",
    "  [0.0],\n",
    "  [0.0],\n",
    "  [0.0],\n",
    "  [-1.0]]]"
   ]
  },
  {
   "cell_type": "code",
   "execution_count": null,
   "metadata": {},
   "outputs": [],
   "source": []
  }
 ],
 "metadata": {
  "kernelspec": {
   "display_name": "Python 3",
   "language": "python",
   "name": "python3"
  },
  "language_info": {
   "codemirror_mode": {
    "name": "ipython",
    "version": 3
   },
   "file_extension": ".py",
   "mimetype": "text/x-python",
   "name": "python",
   "nbconvert_exporter": "python",
   "pygments_lexer": "ipython3",
   "version": "3.7.5"
  }
 },
 "nbformat": 4,
 "nbformat_minor": 4
}
