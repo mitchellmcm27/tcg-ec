{
 "cells": [
  {
   "cell_type": "markdown",
   "metadata": {},
   "source": [
    "# Generate Simple Solution Phases with Ideal mixing\n",
    "\n",
    "This notebook generates uses the SimpleSoln class of coder and SymPy to generate\n",
    "models for ideal mixing in binary solution phases"
   ]
  },
  {
   "cell_type": "code",
   "execution_count": null,
   "metadata": {},
   "outputs": [],
   "source": [
    "import os,sys\n",
    "import pandas as pd\n",
    "import numpy as np\n",
    "import sympy as sym\n",
    "import hashlib\n",
    "import time\n",
    "sym.init_printing()"
   ]
  },
  {
   "cell_type": "markdown",
   "metadata": {},
   "source": [
    "Required ENKI packages (using ThermoCodegen version of the coder package)"
   ]
  },
  {
   "cell_type": "code",
   "execution_count": null,
   "metadata": {},
   "outputs": [],
   "source": [
    "from thermocodegen.coder import coder"
   ]
  },
  {
   "cell_type": "markdown",
   "metadata": {},
   "source": [
    "Get the working version of ThermoCodegen"
   ]
  },
  {
   "cell_type": "code",
   "execution_count": null,
   "metadata": {},
   "outputs": [],
   "source": [
    "import thermocodegen as tcg\n",
    "tcg_version = tcg.__version__\n",
    "print('Using ThermoCodegen v{}'.format(tcg_version))"
   ]
  },
  {
   "cell_type": "markdown",
   "metadata": {},
   "source": [
    "and set up some directory names for clarity"
   ]
  },
  {
   "cell_type": "code",
   "execution_count": null,
   "metadata": {},
   "outputs": [],
   "source": [
    "HOME_DIR = os.path.abspath(os.curdir)\n",
    "SPUD_DIR = HOME_DIR+'/../phases'\n",
    "\n",
    "try:\n",
    "    os.mkdir(SPUD_DIR)\n",
    "except:\n",
    "    pass"
   ]
  },
  {
   "cell_type": "markdown",
   "metadata": {},
   "source": [
    "Set a reference string for this Notebook"
   ]
  },
  {
   "cell_type": "code",
   "execution_count": null,
   "metadata": {},
   "outputs": [],
   "source": [
    "reference = 'Thermocodegen-v{}/examples/Systems/fo_fa/notebooks/Generate_phases.ipynb'.format(tcg_version)"
   ]
  },
  {
   "cell_type": "markdown",
   "metadata": {},
   "source": [
    "## Ideal Solution properties\n",
    "There are Two terms:\n",
    "- Terms describing standard state contributions\n",
    "- Terms describing the configurational entropy of solution\n",
    "\n",
    "Assumptions:\n",
    "- There are $c$ components in the system\n",
    "- There are as many endmember species, $s$, as there are components\n",
    "- The configurational entropy is described as a simple $x_i log(x_i)$ sum"
   ]
  },
  {
   "cell_type": "markdown",
   "metadata": {},
   "source": [
    "This notebook illustrates a two component solution"
   ]
  },
  {
   "cell_type": "code",
   "execution_count": null,
   "metadata": {},
   "outputs": [],
   "source": [
    "c = 2"
   ]
  },
  {
   "cell_type": "markdown",
   "metadata": {},
   "source": [
    "## Create a simple solution model\n",
    "... with the specified number of endmember thermodynamic components"
   ]
  },
  {
   "cell_type": "code",
   "execution_count": null,
   "metadata": {},
   "outputs": [],
   "source": [
    "model = coder.SimpleSolnModel.from_type(nc=c)"
   ]
  },
  {
   "cell_type": "markdown",
   "metadata": {},
   "source": [
    "### Retrieve primary compositional variables\n",
    "- $n$ is a vector of mole numbers of each component  \n",
    "- $n_T$ is the total number of moles in the solution"
   ]
  },
  {
   "cell_type": "code",
   "execution_count": null,
   "metadata": {},
   "outputs": [],
   "source": [
    "n = model.n\n",
    "nT = model.nT"
   ]
  },
  {
   "cell_type": "markdown",
   "metadata": {},
   "source": [
    "### and construct a derived mole fraction variable\n",
    "- $X$ is a vector of mole fractions of components in the system"
   ]
  },
  {
   "cell_type": "code",
   "execution_count": null,
   "metadata": {},
   "outputs": [],
   "source": [
    "X = n/nT\n",
    "n, nT, X"
   ]
  },
  {
   "cell_type": "markdown",
   "metadata": {},
   "source": [
    "### Retrieve the temperature, pressure, and standard state chemical potentials\n",
    "- $T$ is temperature in $K$\n",
    "- $P$ is pressure in $bars$\n",
    "- $\\mu$ in Joules"
   ]
  },
  {
   "cell_type": "code",
   "execution_count": null,
   "metadata": {},
   "outputs": [],
   "source": [
    "T = model.get_symbol_for_t()\n",
    "P = model.get_symbol_for_p()\n",
    "mu = model.mu\n",
    "T,P,mu"
   ]
  },
  {
   "cell_type": "markdown",
   "metadata": {},
   "source": [
    "Check the model dictionary"
   ]
  },
  {
   "cell_type": "code",
   "execution_count": null,
   "metadata": {},
   "outputs": [],
   "source": [
    "model.model_dict"
   ]
  },
  {
   "cell_type": "markdown",
   "metadata": {},
   "source": [
    "### Define the standard state contribution to solution properties\n",
    "\n",
    "$$\n",
    "    G_{ss} = \\sum_k n_k\\mu_k(T,P)\n",
    "$$"
   ]
  },
  {
   "cell_type": "code",
   "execution_count": null,
   "metadata": {},
   "outputs": [],
   "source": [
    "G_ss = (n.transpose()*mu)[0]\n",
    "G_ss"
   ]
  },
  {
   "cell_type": "markdown",
   "metadata": {},
   "source": [
    "### Define configurational entropy and configurational Gibbs free energy"
   ]
  },
  {
   "cell_type": "code",
   "execution_count": null,
   "metadata": {},
   "outputs": [],
   "source": [
    "S_config,R = sym.symbols('S_config R')\n",
    "S_config = 0\n",
    "for i in range(0,c):\n",
    "    S_config += X[i]*sym.log(X[i])\n",
    "S_config *= -R*nT\n",
    "S_config"
   ]
  },
  {
   "cell_type": "code",
   "execution_count": null,
   "metadata": {},
   "outputs": [],
   "source": [
    "G_config = sym.simplify(-T*S_config)\n",
    "G_config"
   ]
  },
  {
   "cell_type": "code",
   "execution_count": null,
   "metadata": {},
   "outputs": [],
   "source": [
    "param_string=['R']\n",
    "units = ['J/K/mol']\n",
    "params = coder.set_coder_params(param_string,units)\n",
    "params"
   ]
  },
  {
   "cell_type": "markdown",
   "metadata": {},
   "source": [
    "### Define the Gibbs free energy of solution"
   ]
  },
  {
   "cell_type": "code",
   "execution_count": null,
   "metadata": {},
   "outputs": [],
   "source": [
    "G = G_ss + G_config \n",
    "G"
   ]
  },
  {
   "cell_type": "markdown",
   "metadata": {},
   "source": [
    "### Add the Gibbs free energy of solution to the model"
   ]
  },
  {
   "cell_type": "code",
   "execution_count": null,
   "metadata": {},
   "outputs": [],
   "source": [
    "model.add_potential_to_model('G',G,params)"
   ]
  },
  {
   "cell_type": "markdown",
   "metadata": {},
   "source": [
    "### let's inspect the dictionary and unset parameters"
   ]
  },
  {
   "cell_type": "code",
   "execution_count": null,
   "metadata": {},
   "outputs": [],
   "source": [
    "model.model_dict"
   ]
  },
  {
   "cell_type": "code",
   "execution_count": null,
   "metadata": {},
   "outputs": [],
   "source": [
    "values_dict = model.get_values()\n",
    "values_dict"
   ]
  },
  {
   "cell_type": "markdown",
   "metadata": {},
   "source": [
    "## Define Parameters of a Fo-Fa ideal Solution\n",
    "Components\n",
    "1. forsterite, ${\\rm{Mg_2SiO_4}}$\n",
    "2. fayalite, ${\\rm{Fe_2SiO_4}}$"
   ]
  },
  {
   "cell_type": "markdown",
   "metadata": {},
   "source": [
    "* assign a formula string for code generation  \n",
    "    * here the solution formula is Mg$_x$Fe$_{2-x}$SiO$_4$ where $x\\in[0,2]$\n",
    "* assign a conversion string to map element concentrations to moles of end members\n",
    "    * here endmember 0 is Forsterite, ${\\rm{Mg_2SiO_4}}$ so 1 mole of Forsterite will be 1/2 the number of Mg atoms\n",
    "    * likewise for endmember 1, Fayalite,  1 mole of Fa will be 0.5* the number of Fe atoms whic gives the conversion_string for moles of endmember 0, and 1 as \n",
    "    \n",
    "    `conversion_string=['[0]=0.5*[Mg]', '[1]=0.5*[Fe]']`\n"
   ]
  },
  {
   "cell_type": "code",
   "execution_count": null,
   "metadata": {},
   "outputs": [],
   "source": [
    "values_dict.update(dict(formula_string='Mg[Mg]Fe[Fe]SiO4',\n",
    "                        conversion_string=['[0]=0.5*[Mg]', '[1]=0.5*[Fe]'],\n",
    "                        test_string = ['[0] > 0.0', '[1] > 0.0'],\n",
    "                        R=8.31446261815324))\n",
    "values_dict"
   ]
  },
  {
   "cell_type": "markdown",
   "metadata": {},
   "source": [
    "### Add additional parameters for solid phase Olivine and liquid phase Liquid"
   ]
  },
  {
   "cell_type": "code",
   "execution_count": null,
   "metadata": {},
   "outputs": [],
   "source": [
    "Ol_dict = dict(name='Olivine',abbrev='Ol',\n",
    "                        reference=reference,\n",
    "                        endmembers = ['Forsterite_berman', 'Fayalite_berman'])\n",
    "Lq_dict = dict(name='Liquid',abbrev='Liq',\n",
    "                        reference=reference,\n",
    "                        endmembers = ['Forsterite_xmelts', 'Fayalite_xmelts'])"
   ]
  },
  {
   "cell_type": "markdown",
   "metadata": {},
   "source": [
    "## Generate Spud XML files\n",
    "\n",
    "and write them to the Spud endmember directory"
   ]
  },
  {
   "cell_type": "code",
   "execution_count": null,
   "metadata": {},
   "outputs": [],
   "source": [
    "for d in [ Ol_dict, Lq_dict]:\n",
    "    values_dict.update(d)\n",
    "    model.set_values(values_dict)\n",
    "    file = model.to_xml(path=SPUD_DIR)\n",
    "    print(file)"
   ]
  }
 ],
 "metadata": {
  "kernelspec": {
   "display_name": "Python 3",
   "language": "python",
   "name": "python3"
  },
  "language_info": {
   "codemirror_mode": {
    "name": "ipython",
    "version": 3
   },
   "file_extension": ".py",
   "mimetype": "text/x-python",
   "name": "python",
   "nbconvert_exporter": "python",
   "pygments_lexer": "ipython3",
   "version": "3.9.2"
  }
 },
 "nbformat": 4,
 "nbformat_minor": 4
}
