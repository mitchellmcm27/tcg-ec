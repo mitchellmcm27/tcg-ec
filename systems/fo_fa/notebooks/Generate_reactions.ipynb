{
 "cells": [
  {
   "cell_type": "markdown",
   "metadata": {},
   "source": [
    "# Generate a Reactions file\n",
    "\n",
    "This notebook generates a Spud XML file for an Olivine-Liquid melting reaction with a Forsterite-Fayalite ideal binary solid solution\n",
    "\n",
    "standard imports"
   ]
  },
  {
   "cell_type": "code",
   "execution_count": null,
   "metadata": {},
   "outputs": [],
   "source": [
    "import sympy as sym\n",
    "import os\n",
    "from glob import glob\n",
    "sym.init_printing()"
   ]
  },
  {
   "cell_type": "markdown",
   "metadata": {},
   "source": [
    "import ThermoCodegen packages"
   ]
  },
  {
   "cell_type": "code",
   "execution_count": null,
   "metadata": {},
   "outputs": [],
   "source": [
    "from thermocodegen.codegen import reaction\n",
    "from thermocodegen.coder import coder"
   ]
  },
  {
   "cell_type": "markdown",
   "metadata": {},
   "source": [
    "Get the working version of ThermoCodegen"
   ]
  },
  {
   "cell_type": "code",
   "execution_count": null,
   "metadata": {},
   "outputs": [],
   "source": [
    "import thermocodegen as tcg\n",
    "tcg_version = tcg.__version__\n",
    "print('Using ThermoCodegen v{}'.format(tcg_version))"
   ]
  },
  {
   "cell_type": "markdown",
   "metadata": {},
   "source": [
    "Set a reference string for this Notebook"
   ]
  },
  {
   "cell_type": "code",
   "execution_count": null,
   "metadata": {},
   "outputs": [],
   "source": [
    "reference = 'Thermocodegen-v{}/examples/Systems/fo_fa/notebooks/Generate_reactions.ipynb'.format(tcg_version)"
   ]
  },
  {
   "cell_type": "markdown",
   "metadata": {},
   "source": [
    "List of phases present in this set of reactions"
   ]
  },
  {
   "cell_type": "code",
   "execution_count": null,
   "metadata": {},
   "outputs": [],
   "source": [
    "phase_names = ['Olivine', 'Liquid']"
   ]
  },
  {
   "cell_type": "markdown",
   "metadata": {},
   "source": [
    "Path to the thermodynamic database tarball file that this set of reactions are built on\n",
    "\n",
    "Here we use a relative path to the compressed database file.  This can lead to issues if the final rxml file is moved so an absolute path to a local file is safer, however, it also makes the rxml files less easy to share among different users."
   ]
  },
  {
   "cell_type": "code",
   "execution_count": null,
   "metadata": {},
   "outputs": [],
   "source": [
    "db = '../database/fo_fa.tar.gz'"
   ]
  },
  {
   "cell_type": "markdown",
   "metadata": {},
   "source": [
    "Alternatively, we could use a remote thermodynamic database, for example the one available as a DOI from zenodo \n",
    "\n",
    "[![DOI](https://zenodo.org/badge/DOI/10.5281/zenodo.6350797.svg)](https://doi.org/10.5281/zenodo.6350797)\n"
   ]
  },
  {
   "cell_type": "code",
   "execution_count": null,
   "metadata": {},
   "outputs": [],
   "source": [
    "#db = 'https://zenodo.org/record/6350797/files/fo_fa.tar.gz'"
   ]
  },
  {
   "cell_type": "markdown",
   "metadata": {},
   "source": [
    "Instantiate a Reaction object. This is initialized using the 'from_database' class method. Initializing in this way requires the total number of reaction (total_reactions), a list of phase names (phase_names) and a path to a thermocodegen generated thermodynamic database."
   ]
  },
  {
   "cell_type": "code",
   "execution_count": null,
   "metadata": {},
   "outputs": [],
   "source": [
    "rxn = reaction.Reaction.from_database(total_reactions=2, phase_names=phase_names, database=db)"
   ]
  },
  {
   "cell_type": "markdown",
   "metadata": {},
   "source": [
    "The 'model_dict' attribute of this object contains the current state of the information that we have given and what has been extracted from the thermodynamic database 'fo_fa.tar.gz'"
   ]
  },
  {
   "cell_type": "code",
   "execution_count": null,
   "metadata": {},
   "outputs": [],
   "source": [
    "rxn.model_dict"
   ]
  },
  {
   "cell_type": "markdown",
   "metadata": {},
   "source": [
    "Set some utility indices for referencing phases and endmembers (this should be automated somehow)"
   ]
  },
  {
   "cell_type": "code",
   "execution_count": null,
   "metadata": {},
   "outputs": [],
   "source": [
    "iOl = 0\n",
    "iLiq = 1\n",
    "kFo = 0\n",
    "kFa = 1"
   ]
  },
  {
   "cell_type": "markdown",
   "metadata": {},
   "source": [
    "## Define the reactions in this system\n",
    "\n",
    "and then write SymPy that describes the reactions rates"
   ]
  },
  {
   "cell_type": "markdown",
   "metadata": {},
   "source": [
    "First we pull out the SymPy symbols for the independent variables (temperature $T$, pressure $P$, concentration $C$ and phase fraction $\\Phi$). Concentration C is a `sym.MatrixSymbol` of dimension N (number of phases) by Kmax (maximum number of endmembers). Phase fraction Phi is a `sym.MatrixSymbol` of dimension N (number of phases) by 1 (i.e., a vector)."
   ]
  },
  {
   "cell_type": "code",
   "execution_count": null,
   "metadata": {},
   "outputs": [],
   "source": [
    "# Variables\n",
    "T = rxn.T\n",
    "P = rxn.P\n",
    "C = rxn.C\n",
    "Phi = rxn.Phi"
   ]
  },
  {
   "cell_type": "markdown",
   "metadata": {},
   "source": [
    "Now we pull out the special symbol reserved for the affinity, A. This is a sym.MatrixSymbol of dimension J (number of reactions) by 1."
   ]
  },
  {
   "cell_type": "code",
   "execution_count": null,
   "metadata": {},
   "outputs": [],
   "source": [
    "# Affinity\n",
    "A = rxn.A"
   ]
  },
  {
   "cell_type": "markdown",
   "metadata": {},
   "source": [
    "Now we create  the parameters and sympy symbols used in the reaction rate expressions.  We will user `thermocodegen.coder.set_coder_params` to build the parameter tuples from strings and units\n",
    "Then make the symbols available to the local dictionary to be used in other expressions.\n",
    "\n",
    "For these models we only need two new parameters, a reference Arhennius temperature $T_0$ and the gas constant $R$"
   ]
  },
  {
   "cell_type": "code",
   "execution_count": null,
   "metadata": {},
   "outputs": [],
   "source": [
    "param_strings = ['T0','R']\n",
    "units = ['K','J/(mol K)']\n",
    "params = coder.set_coder_params(param_strings,units)\n",
    "symbol_dict = coder.get_symbol_dict_from_params(params)\n",
    "\n",
    "locals().update(symbol_dict)\n",
    "params"
   ]
  },
  {
   "cell_type": "markdown",
   "metadata": {},
   "source": [
    "### Forsterite melting reaction"
   ]
  },
  {
   "cell_type": "markdown",
   "metadata": {},
   "source": [
    "Set up the forsterite melting reaction (Forsterite_berman -> Forsterite_xmelts). This requires a list of tuples for both the reactants and products. Each tuple consists of strings of \n",
    "\n",
    "(name,phase,endmember)\n",
    "\n",
    "where \n",
    "    **name**:  is an arbitrary name describing the reactant endmenber,\n",
    "    **phase**: is the phase containing the endmember\n",
    "    **endmember**: the name of the endmember that is reacting in that phase\n",
    "    \n",
    "The phase and endmember names should be consistent with whatever they are called in the thermodynamic database."
   ]
  },
  {
   "cell_type": "code",
   "execution_count": null,
   "metadata": {},
   "outputs": [],
   "source": [
    "# reaction 0\n",
    "j = 0\n",
    "\n",
    "# Reactants\n",
    "Fo_Ol = ('Fo_Ol','Olivine','Forsterite_berman')\n",
    "\n",
    "# Products\n",
    "Fo_Liq = ('Fo_Liq','Liquid','Forsterite_xmelts')"
   ]
  },
  {
   "cell_type": "markdown",
   "metadata": {},
   "source": [
    "Now we write down the SymPy expression for the reaction. This, along with the list of reactants, products, parameters, units and variable symbols are passed into the 'add_reaction_to_model' function. This function also requires a 'name' field, which should be consistent with the variable assigned to the SymPy expression; for example, here our expression is Fo_melting = ..., so our name is 'Fo_melting'."
   ]
  },
  {
   "cell_type": "code",
   "execution_count": null,
   "metadata": {},
   "outputs": [],
   "source": [
    "\n",
    "# SymPy expression for reaction rate\n",
    "r = sym.exp(-T0/T)\n",
    "rp = r\n",
    "rm = r\n",
    "\n",
    "S0p = sym.sqrt(Phi[iOl])\n",
    "S0m = sym.sqrt(Phi[iLiq])\n",
    "Fo_melting = sym.Piecewise((rp*S0p*A[j]/R/T,A[j]>=0),(rm*S0m*A[j]/R/T,A[j]<0),(0,True))\n",
    "Fo_melting"
   ]
  },
  {
   "cell_type": "code",
   "execution_count": null,
   "metadata": {},
   "outputs": [],
   "source": [
    "reactants = [ Fo_Ol]\n",
    "products = [ Fo_Liq]\n",
    "rxn.add_reaction_to_model('Fo_melting', reactants, products, Fo_melting, params)"
   ]
  },
  {
   "cell_type": "markdown",
   "metadata": {},
   "source": [
    "### Do the same for the Fayalite melting reaction"
   ]
  },
  {
   "cell_type": "code",
   "execution_count": null,
   "metadata": {},
   "outputs": [],
   "source": [
    "# Reaction 1\n",
    "j = 1\n",
    "\n",
    "# Reactants\n",
    "Fa_Ol = ('Fa_Ol','Olivine','Fayalite_berman')\n",
    "\n",
    "# Products\n",
    "Fa_Liq = ('Fa_Liq','Liquid','Fayalite_xmelts')\n",
    "\n",
    "# SymPy expression for reaction rate\n",
    "r = sym.exp(-T0/T)\n",
    "rp = r\n",
    "rm = r\n",
    "\n",
    "S1p = sym.sqrt(Phi[iOl])\n",
    "S1m = sym.sqrt(Phi[iLiq])\n",
    "Fa_melting = sym.Piecewise((rp*S1p*A[j]/R/T,A[1]>=0),(rm*S1m*A[j]/R/T,A[j]<0),(0,True))\n",
    "Fa_melting"
   ]
  },
  {
   "cell_type": "code",
   "execution_count": null,
   "metadata": {},
   "outputs": [],
   "source": [
    "reactants = [ Fa_Ol ] \n",
    "products = [ Fa_Liq ]\n",
    "rxn.add_reaction_to_model('Fa_melting', reactants, products, Fa_melting, params)"
   ]
  },
  {
   "cell_type": "markdown",
   "metadata": {},
   "source": [
    "### The model_dict has now been updated to contain all of the information for these reactions"
   ]
  },
  {
   "cell_type": "code",
   "execution_count": null,
   "metadata": {},
   "outputs": [],
   "source": [
    "rxn.model_dict"
   ]
  },
  {
   "cell_type": "markdown",
   "metadata": {},
   "source": [
    "Return a dictionary of settable name value pairs"
   ]
  },
  {
   "cell_type": "code",
   "execution_count": null,
   "metadata": {},
   "outputs": [],
   "source": [
    "values_dict = rxn.get_values()\n",
    "values_dict"
   ]
  },
  {
   "cell_type": "markdown",
   "metadata": {},
   "source": [
    "Update some of these values...\n"
   ]
  },
  {
   "cell_type": "code",
   "execution_count": null,
   "metadata": {},
   "outputs": [],
   "source": [
    "values_dict.update(dict(name='fo_fa_binary',\n",
    "                        reference=reference,\n",
    "                        T0=1000.,\n",
    "                        R=8.314))\n",
    "values_dict"
   ]
  },
  {
   "cell_type": "markdown",
   "metadata": {},
   "source": [
    "... and update them in the model_dict using the 'set_values' function"
   ]
  },
  {
   "cell_type": "code",
   "execution_count": null,
   "metadata": {},
   "outputs": [],
   "source": [
    "rxn.set_values(values_dict)\n",
    "rxn.model_dict"
   ]
  },
  {
   "cell_type": "markdown",
   "metadata": {},
   "source": [
    "### Generate Spud XML files"
   ]
  },
  {
   "cell_type": "markdown",
   "metadata": {},
   "source": [
    "Set some directories"
   ]
  },
  {
   "cell_type": "code",
   "execution_count": null,
   "metadata": {},
   "outputs": [],
   "source": [
    "HOME_DIR = os.path.abspath(os.curdir)\n",
    "SPUD_DIR = HOME_DIR+'/../reactions'\n",
    "\n",
    "try:\n",
    "    os.mkdir(SPUD_DIR)\n",
    "except:\n",
    "    pass"
   ]
  },
  {
   "cell_type": "markdown",
   "metadata": {},
   "source": [
    "### Dump the spud file"
   ]
  },
  {
   "cell_type": "code",
   "execution_count": null,
   "metadata": {},
   "outputs": [],
   "source": [
    "rxn.to_xml(path=SPUD_DIR)"
   ]
  }
 ],
 "metadata": {
  "kernelspec": {
   "display_name": "Python 3",
   "language": "python",
   "name": "python3"
  },
  "language_info": {
   "codemirror_mode": {
    "name": "ipython",
    "version": 3
   },
   "file_extension": ".py",
   "mimetype": "text/x-python",
   "name": "python",
   "nbconvert_exporter": "python",
   "pygments_lexer": "ipython3",
   "version": "3.9.2"
  }
 },
 "nbformat": 4,
 "nbformat_minor": 4
}
