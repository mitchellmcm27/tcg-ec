{
 "cells": [
  {
   "cell_type": "markdown",
   "metadata": {},
   "source": [
    "# Berman Standard State Code Generator \n",
    "\n",
    "A notebook to generate spud files for Berman standard state models\n",
    "\n",
    "Required system packages and initialization"
   ]
  },
  {
   "cell_type": "code",
   "execution_count": null,
   "metadata": {},
   "outputs": [],
   "source": [
    "import os,sys\n",
    "import pandas as pd\n",
    "import numpy as np\n",
    "import sympy as sym\n",
    "import time\n",
    "sym.init_printing()"
   ]
  },
  {
   "cell_type": "markdown",
   "metadata": {},
   "source": [
    "Required ENKI packages (using ThermoCodegen version of the coder package)"
   ]
  },
  {
   "cell_type": "code",
   "execution_count": null,
   "metadata": {},
   "outputs": [],
   "source": [
    "from thermocodegen.coder import coder"
   ]
  },
  {
   "cell_type": "markdown",
   "metadata": {},
   "source": [
    "Get the working version of ThermoCodegen"
   ]
  },
  {
   "cell_type": "code",
   "execution_count": null,
   "metadata": {},
   "outputs": [],
   "source": [
    "import thermocodegen as tcg\n",
    "tcg_version = tcg.__version__\n",
    "print('Using ThermoCodegen v{}'.format(tcg_version))"
   ]
  },
  {
   "cell_type": "markdown",
   "metadata": {},
   "source": [
    "### let's set up some directory names for clarity"
   ]
  },
  {
   "cell_type": "code",
   "execution_count": null,
   "metadata": {},
   "outputs": [],
   "source": [
    "HOME_DIR = os.path.abspath(os.curdir)\n",
    "SPUD_DIR = HOME_DIR+'/../endmembers'\n",
    "try:\n",
    "    os.mkdir(SPUD_DIR)\n",
    "except:\n",
    "    pass"
   ]
  },
  {
   "cell_type": "markdown",
   "metadata": {},
   "source": [
    "Set a reference string for this Notebook"
   ]
  },
  {
   "cell_type": "code",
   "execution_count": null,
   "metadata": {},
   "outputs": [],
   "source": [
    "reference = 'Thermocodegen-v{}/examples/Systems/fo_fa/notebooks/Generate_berman_endmembers.ipynb'.format(tcg_version)"
   ]
  },
  {
   "cell_type": "markdown",
   "metadata": {},
   "source": [
    "## Clean the Berman Data base for different models\n",
    "\n",
    "* Here we'll just use  standard state models without lambda transitions or order-disorder terms\n"
   ]
  },
  {
   "cell_type": "code",
   "execution_count": null,
   "metadata": {},
   "outputs": [],
   "source": [
    "df = pd.read_json('data/berman_1988.json')\n",
    "df.columns"
   ]
  },
  {
   "cell_type": "code",
   "execution_count": null,
   "metadata": {},
   "outputs": [],
   "source": [
    "# pull out column names required for just standard state model\n",
    "cols_ss = ['Phase', 'Formula', 'sAbbrev', 'lAbbrev', 'H_TrPr', 'S_TrPr', 'V_TrPr',\n",
    "           'k0', 'k1', 'k2', 'k3', 'v1', 'v2', 'v3', 'v4']\n",
    "df = df[cols_ss]"
   ]
  },
  {
   "cell_type": "markdown",
   "metadata": {},
   "source": [
    "Rename some columns and just extract rows for phases Forsterite and Fayalite"
   ]
  },
  {
   "cell_type": "code",
   "execution_count": null,
   "metadata": {},
   "outputs": [],
   "source": [
    "phases = ['Fo', 'Fa']\n",
    "df = df.rename(index=str,columns={'Phase':'name', 'Formula':'formula'})\n",
    "df = df[df.sAbbrev.isin(phases)]\n",
    "df"
   ]
  },
  {
   "cell_type": "markdown",
   "metadata": {},
   "source": [
    "## Generate Sympy symbols and Coder parameters from the column headers\n",
    "\n",
    "To construct our Gibbs free energy we need to create Sympy symbols and units for the parameters\n",
    "\n",
    "* H_TrPr: Enthalpy at reference $T$ and $P$ in $J$\n",
    "* S_TrPr: Entropy at reference T and P in $J/K$\n",
    "* V_TrPr: Volume at reference T and P in $J/bar$\n",
    "* k0-k3:  Coefficients in Berman heat capacity model with units [ 'J/K-m', 'J-K^(1/2)-m', 'J-K/m', 'J-K^2' ]\n",
    "* v1-v4:  Coefficients in Berman Equation of state (V) with units [ '1/bar', '1/bar^2' , '1/K', '1/K^2']\n"
   ]
  },
  {
   "cell_type": "code",
   "execution_count": null,
   "metadata": {},
   "outputs": [],
   "source": [
    "param_strings = df.columns[4:]\n",
    "units = [ 'J', 'J/K', 'J/bar']+ [ 'J/K-m', 'J-K^(1/2)-m', 'J-K/m', 'J-K^2' ]+[ '1/bar', '1/bar^2' , '1/K', '1/K^2']\n",
    "print('parameter\\tunit')\n",
    "for t in list(zip(param_strings, units)):\n",
    "    print('{}\\t\\t {}'.format(t[0],t[1]))"
   ]
  },
  {
   "cell_type": "markdown",
   "metadata": {},
   "source": [
    "We now construct coder parameters and sympy symbols from the parameter names and pass them to the local dictionary for use in other sympy expressions"
   ]
  },
  {
   "cell_type": "code",
   "execution_count": null,
   "metadata": {},
   "outputs": [],
   "source": [
    "params = coder.set_coder_params(param_strings, units)\n",
    "symbol_dict = coder.get_symbol_dict_from_params(params)\n",
    "\n",
    "# load local dictionary\n",
    "locals().update(symbol_dict)\n"
   ]
  },
  {
   "cell_type": "markdown",
   "metadata": {},
   "source": [
    "## Create  model class\n",
    "\n",
    "Here we will use the thermocodgen extension .from_type() which defaults to a Gibbs-Free Energy models G(T,P)"
   ]
  },
  {
   "cell_type": "code",
   "execution_count": null,
   "metadata": {},
   "outputs": [],
   "source": [
    "model = coder.StdStateModel.from_type()"
   ]
  },
  {
   "cell_type": "markdown",
   "metadata": {},
   "source": [
    "Retrieve sympy symbols for model variables and reference conditions"
   ]
  },
  {
   "cell_type": "code",
   "execution_count": null,
   "metadata": {},
   "outputs": [],
   "source": [
    "T = model.get_symbol_for_t()\n",
    "P = model.get_symbol_for_p()\n",
    "Tr = model.get_symbol_for_tr()\n",
    "Pr = model.get_symbol_for_pr()"
   ]
  },
  {
   "cell_type": "markdown",
   "metadata": {},
   "source": [
    "## Standard State Potentials\n",
    "\n",
    "### Define model Potentials for the Standard State Potentials\n",
    "\n",
    "Here we construct the Gibbs free energy $G(T,P)$ from two parts.\n",
    "\n",
    "#### (1) $c_P$ integrals\n",
    "The isobaric heat capacity terms are parameterized following Berman (1988) as : \n",
    "\n",
    "$$\n",
    "    c_P = k_0 + k_1 / T^{1/2} + k_2 / T^2 + k_3 / T^3 \n",
    "$$\n",
    "\n",
    "and the heat capacity contribution to the Gibbs free energy is given by \n",
    "\n",
    "$$\n",
    "    G_{P_r} = H(T_r,P_r) + \\int_{T_r}^T C_p dT - T\\left [S(T_r,P_r) + \\int_{T_r}^T \\frac{c_P}{T} dT\\right ]\n",
    "$$\n",
    "\n",
    "where the reference condition third law entropy, $S(T_r,P_r)$, and enthalpy of formation from the\n",
    "elements, $H(T_r,P_r)$, constitute additional parameters"
   ]
  },
  {
   "cell_type": "code",
   "execution_count": null,
   "metadata": {},
   "outputs": [],
   "source": [
    "# Heat Capacity\n",
    "Cp_Pr = k0+k1/sym.sqrt(T)+k2/T**2+k3/T**3\n",
    "Cp_Pr"
   ]
  },
  {
   "cell_type": "markdown",
   "metadata": {},
   "source": [
    "Define the heat capacity contribution to the Gibbs free energy ..."
   ]
  },
  {
   "cell_type": "code",
   "execution_count": null,
   "metadata": {},
   "outputs": [],
   "source": [
    "G_Pr = H_TrPr + sym.integrate(Cp_Pr,(T,Tr,T)) - T*(S_TrPr + sym.integrate(Cp_Pr/T,(T,Tr,T)))\n",
    "G_Pr"
   ]
  },
  {
   "cell_type": "markdown",
   "metadata": {},
   "source": [
    "#### (2) $V$ (EOS) integrals\n",
    "Next, define a volume-explicit equation of state applicable over the whole of temperature and pressure space. Here we use the Berman model\n",
    "\n",
    "$$\n",
    "    V(T,P) = V_{T_rP_r}(1 + v_1(P-P_r) + v_2(P-P_r)^2 + v_3(T-T_r) + v_4(T - T_r)^2)\n",
    "$$\n",
    "\n",
    "and calculate the contribution of $G$ due to pressure\n",
    "\n",
    "$$\n",
    "    G = \\int_{P_r}^{P} V(T,P) dP\n",
    "$$"
   ]
  },
  {
   "cell_type": "code",
   "execution_count": null,
   "metadata": {},
   "outputs": [],
   "source": [
    "G_PrToP = sym.integrate(V_TrPr*(1+v1*(P-Pr)+v2*(P-Pr)**2+v3*(T-Tr)+v4*(T-Tr)**2),(P,Pr,P))\n",
    "G_PrToP"
   ]
  },
  {
   "cell_type": "markdown",
   "metadata": {},
   "source": [
    "#### Define standard state G as sum of $C_p$ integrals and EOS integrals"
   ]
  },
  {
   "cell_type": "code",
   "execution_count": null,
   "metadata": {},
   "outputs": [],
   "source": [
    "G = G_Pr + G_PrToP\n",
    "G"
   ]
  },
  {
   "cell_type": "markdown",
   "metadata": {},
   "source": [
    "### Add potential and parameters to the model"
   ]
  },
  {
   "cell_type": "code",
   "execution_count": null,
   "metadata": {},
   "outputs": [],
   "source": [
    "model.add_potential_to_model('G',G, params)"
   ]
  },
  {
   "cell_type": "markdown",
   "metadata": {},
   "source": [
    "Exam settable values for the model dictionary"
   ]
  },
  {
   "cell_type": "code",
   "execution_count": null,
   "metadata": {},
   "outputs": [],
   "source": [
    "model.get_values()                       "
   ]
  },
  {
   "cell_type": "markdown",
   "metadata": {},
   "source": [
    "### Write out spud files for Berman endmembers for Fo and Fa\n",
    "\n",
    "Here we loop over the data frame and populate the model dictionary with parameters from each endmember and output each endmember model as an Spud `.emml` file "
   ]
  },
  {
   "cell_type": "code",
   "execution_count": null,
   "metadata": {},
   "outputs": [],
   "source": [
    "# loop over the rows of the dataframe\n",
    "for i, row in df.iterrows():\n",
    "    # create a dictionary from each row\n",
    "    values_dict = row.to_dict()\n",
    "    \n",
    "    # clean up endmember names to make them coder compliant\n",
    "    values_dict['name'] ='{}_berman'.format(values_dict['name'].title())\n",
    "    values_dict['name'] = values_dict['name'].replace('-','_')\n",
    "    print(values_dict['name'])\n",
    "    \n",
    "    # set the reference string\n",
    "    values_dict['reference']=reference\n",
    "    \n",
    "    # update the coder model with specific values and write xml to the appropriate directory\n",
    "    model.set_values(values_dict)\n",
    "    model.to_xml(path=SPUD_DIR)\n"
   ]
  }
 ],
 "metadata": {
  "kernelspec": {
   "display_name": "Python 3 (ipykernel)",
   "language": "python",
   "name": "python3"
  },
  "language_info": {
   "codemirror_mode": {
    "name": "ipython",
    "version": 3
   },
   "file_extension": ".py",
   "mimetype": "text/x-python",
   "name": "python",
   "nbconvert_exporter": "python",
   "pygments_lexer": "ipython3",
   "version": "3.9.5"
  }
 },
 "nbformat": 4,
 "nbformat_minor": 4
}
