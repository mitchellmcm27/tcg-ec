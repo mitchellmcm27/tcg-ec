{
 "cells": [
  {
   "cell_type": "markdown",
   "metadata": {},
   "source": [
    "# xMelts liquid Endmembers Standard State Code Generator \n",
    "\n",
    "A notebook to generate spud files for xMelts standard state \n",
    "\n",
    "Required system packages and initialization"
   ]
  },
  {
   "cell_type": "code",
   "execution_count": null,
   "metadata": {},
   "outputs": [],
   "source": [
    "import os,sys\n",
    "import pandas as pd\n",
    "import numpy as np\n",
    "import sympy as sym\n",
    "import time\n",
    "sym.init_printing()"
   ]
  },
  {
   "cell_type": "markdown",
   "metadata": {},
   "source": [
    "Required ENKI packages (using the ThermoCodegen version of the coder package)"
   ]
  },
  {
   "cell_type": "code",
   "execution_count": null,
   "metadata": {},
   "outputs": [],
   "source": [
    "from thermocodegen.coder import coder"
   ]
  },
  {
   "cell_type": "markdown",
   "metadata": {},
   "source": [
    "Get the working version of ThermoCodegen"
   ]
  },
  {
   "cell_type": "code",
   "execution_count": null,
   "metadata": {},
   "outputs": [],
   "source": [
    "import thermocodegen as tcg\n",
    "tcg_version = tcg.__version__\n",
    "print('Using ThermoCodegen v{}'.format(tcg_version))"
   ]
  },
  {
   "cell_type": "markdown",
   "metadata": {},
   "source": [
    "### let's set up some directory names for clarity"
   ]
  },
  {
   "cell_type": "code",
   "execution_count": null,
   "metadata": {},
   "outputs": [],
   "source": [
    "HOME_DIR = os.path.abspath(os.curdir)\n",
    "SPUD_DIR = HOME_DIR+'/../endmembers'\n",
    "try:\n",
    "    os.mkdir(SPUD_DIR)\n",
    "except:\n",
    "    pass"
   ]
  },
  {
   "cell_type": "markdown",
   "metadata": {},
   "source": [
    "Set a reference string for this Notebook"
   ]
  },
  {
   "cell_type": "code",
   "execution_count": null,
   "metadata": {},
   "outputs": [],
   "source": [
    "reference = 'Thermocodegen-v{}/share/thermocodegen/examples/Systems/fo_fa/notebooks/Generate_xmelts_endmembers.ipynb'.format(tcg_version)"
   ]
  },
  {
   "cell_type": "code",
   "execution_count": null,
   "metadata": {},
   "outputs": [],
   "source": [
    "df = pd.read_csv('data/xMelts.csv')\n",
    "df.columns"
   ]
  },
  {
   "cell_type": "code",
   "execution_count": null,
   "metadata": {},
   "outputs": [],
   "source": [
    "# pull out column names required for just standard state model\n",
    "cols = ['Phase', 'Formula',  'H_TrPr', 'S_TrPr', 'V_TrlPr', \n",
    "           'T_fus', 'S_fus', 'Cpl',\n",
    "           'k0', 'k1', 'k2', 'k3', 'v1', 'v2', 'v3', 'v4']"
   ]
  },
  {
   "cell_type": "markdown",
   "metadata": {},
   "source": [
    "Rename some columns for use with spud files"
   ]
  },
  {
   "cell_type": "code",
   "execution_count": null,
   "metadata": {},
   "outputs": [],
   "source": [
    "df = df[cols]\n",
    "df = df.rename(index=str,columns={'Phase':'name', 'Formula':'formula'})"
   ]
  },
  {
   "cell_type": "markdown",
   "metadata": {},
   "source": [
    "restrict to just Forsterite and Fayalite"
   ]
  },
  {
   "cell_type": "code",
   "execution_count": null,
   "metadata": {},
   "outputs": [],
   "source": [
    "names = ['Forsterite', 'Fayalite']\n",
    "df = df[df.name.isin(names)]\n",
    "df.set_index('name')"
   ]
  },
  {
   "cell_type": "markdown",
   "metadata": {},
   "source": [
    "### Generate Coder parameter tuples from the column headers"
   ]
  },
  {
   "cell_type": "code",
   "execution_count": null,
   "metadata": {},
   "outputs": [],
   "source": [
    "param_strings = df.columns[2:]\n",
    "param_strings = param_strings.insert(0,'Trl')\n",
    "units = [ 'K','J', 'J/K', 'J/bar-m','K','J/K', 'J/K',\n",
    "         'J/K-m','J-K^(1/2)-m','J-K/m' ,'J-K^2',\n",
    "        '1/bar', '1/bar^2', '1/K',  '1/K^2']\n",
    "\n",
    "\n",
    "params = coder.set_coder_params(param_strings, units)\n",
    "print('parameter\\tunits')\n",
    "for p in params:\n",
    "    print('{},\\t\\t{}'.format(p[0],p[1]))"
   ]
  },
  {
   "cell_type": "markdown",
   "metadata": {},
   "source": [
    "#### extract sympy symbols pass them to the local dictionary for use in other sympy expressions"
   ]
  },
  {
   "cell_type": "code",
   "execution_count": null,
   "metadata": {},
   "outputs": [],
   "source": [
    "symbol_dict = coder.get_symbol_dict_from_params(params)\n",
    "\n",
    "# load local dictionary\n",
    "locals().update(symbol_dict)\n"
   ]
  },
  {
   "cell_type": "markdown",
   "metadata": {},
   "source": [
    "## initialize the coder model (Gibbs model)"
   ]
  },
  {
   "cell_type": "code",
   "execution_count": null,
   "metadata": {},
   "outputs": [],
   "source": [
    "model= coder.StdStateModel.from_type()"
   ]
  },
  {
   "cell_type": "markdown",
   "metadata": {},
   "source": [
    "Set up reference symbols (Trl already defined)"
   ]
  },
  {
   "cell_type": "code",
   "execution_count": null,
   "metadata": {},
   "outputs": [],
   "source": [
    "T = model.get_symbol_for_t()\n",
    "P = model.get_symbol_for_p()\n",
    "Tr = model.get_symbol_for_tr()\n",
    "Pr = model.get_symbol_for_pr()"
   ]
  },
  {
   "cell_type": "markdown",
   "metadata": {},
   "source": [
    "## Standard State Potentials\n",
    "\n",
    "### Define model Potentials for the Standard State Potentials\n",
    "\n",
    "An expression for the Gibbs free energy, $G(T,P)$ \n",
    "\n",
    "#### (1) $C_P$ integrals\n",
    "\n",
    "The isobaric heat capacity terms parameterized as: \n",
    "\n",
    "$$\n",
    "    C_P = k_0 + k_1 / T^{1/2} + k_2 / T^2 + k_3 / T^3, \n",
    "$$\n",
    "\n",
    "and in addition the reference condition third law entropy, $S_{Tr,Pr}$, and enthalpy of formation from the\n",
    "elements, $\\Delta H_{Tr,Pr}$, constitute additional parameters:"
   ]
  },
  {
   "cell_type": "code",
   "execution_count": null,
   "metadata": {},
   "outputs": [],
   "source": [
    "# Solid Heat Capacity\n",
    "Cps = k0+k1/sym.sqrt(T)+k2/T**2+k3/T**3\n",
    "Cps"
   ]
  },
  {
   "cell_type": "code",
   "execution_count": null,
   "metadata": {},
   "outputs": [],
   "source": [
    "# Enthalpy and Entropy"
   ]
  },
  {
   "cell_type": "code",
   "execution_count": null,
   "metadata": {},
   "outputs": [],
   "source": [
    "H = H_TrPr + sym.integrate(Cps,(T,Tr,T_fus))   + sym.integrate(Cpl,  (T,T_fus,T)) + T_fus*S_fus"
   ]
  },
  {
   "cell_type": "code",
   "execution_count": null,
   "metadata": {},
   "outputs": [],
   "source": [
    "S = S_TrPr + sym.integrate(Cps/T,(T,Tr,T_fus)) + sym.integrate(Cpl/T,(T,T_fus,T)) + S_fus"
   ]
  },
  {
   "cell_type": "code",
   "execution_count": null,
   "metadata": {},
   "outputs": [],
   "source": [
    "GPr = H  - T*S\n",
    "GPr"
   ]
  },
  {
   "cell_type": "markdown",
   "metadata": {},
   "source": [
    "#### (2) $V$ (EOS) integrals\n",
    "Next, define a volume-explicit equation of state applicable over the whole of temperature and pressure space\n"
   ]
  },
  {
   "cell_type": "markdown",
   "metadata": {},
   "source": [
    "Liquid volume"
   ]
  },
  {
   "cell_type": "code",
   "execution_count": null,
   "metadata": {},
   "outputs": [],
   "source": [
    "half = sym.Rational(1,2)\n",
    "Vf = V_TrlPr + (T - Trl)*(v1 + half*v3*(P - Pr)) + (P - Pr)*(v2 + half*v4*(P - Pr))"
   ]
  },
  {
   "cell_type": "code",
   "execution_count": null,
   "metadata": {},
   "outputs": [],
   "source": [
    "GPrToP = sym.integrate(Vf,(P,Pr,P))"
   ]
  },
  {
   "cell_type": "markdown",
   "metadata": {},
   "source": [
    "#### Define standard state G and parameters"
   ]
  },
  {
   "cell_type": "code",
   "execution_count": null,
   "metadata": {},
   "outputs": [],
   "source": [
    "G = GPr + GPrToP\n",
    "G\n",
    "G.simplify()"
   ]
  },
  {
   "cell_type": "markdown",
   "metadata": {},
   "source": [
    "### Add the Gibbs Free Energy potential and parameters to the coder model"
   ]
  },
  {
   "cell_type": "code",
   "execution_count": null,
   "metadata": {},
   "outputs": [],
   "source": [
    "model.add_potential_to_model('G',G, params)"
   ]
  },
  {
   "cell_type": "markdown",
   "metadata": {},
   "source": [
    "Exam settable values for the model dictionary"
   ]
  },
  {
   "cell_type": "code",
   "execution_count": null,
   "metadata": {},
   "outputs": [],
   "source": [
    "model.get_values()    "
   ]
  },
  {
   "cell_type": "markdown",
   "metadata": {},
   "source": [
    "### Write out spud files for all xMelts standard state endmembers"
   ]
  },
  {
   "cell_type": "code",
   "execution_count": null,
   "metadata": {},
   "outputs": [],
   "source": [
    "# loop over the rows of the dataframe\n",
    "for i, row in df.iterrows():\n",
    "    # create a dictionary from each row\n",
    "    values_dict = row.to_dict()\n",
    "    \n",
    "    # clean up endmember names to make them coder compliant\n",
    "    values_dict['name'] ='{}_xmelts'.format(values_dict['name'].title())\n",
    "    values_dict['name'] = values_dict['name'].replace('-','_')\n",
    "    print(values_dict['name'])\n",
    "    \n",
    "    # set additional parameters \n",
    "    values_dict['Trl'] = 1673.15\n",
    "    values_dict['reference']=reference\n",
    "    \n",
    "    # update the coder model with specific values and write xml to the appropriate directory\n",
    "    model.set_values(values_dict)\n",
    "    model.to_xml(path=SPUD_DIR)\n"
   ]
  }
 ],
 "metadata": {
  "kernelspec": {
   "display_name": "Python 3 (ipykernel)",
   "language": "python",
   "name": "python3"
  },
  "language_info": {
   "codemirror_mode": {
    "name": "ipython",
    "version": 3
   },
   "file_extension": ".py",
   "mimetype": "text/x-python",
   "name": "python",
   "nbconvert_exporter": "python",
   "pygments_lexer": "ipython3",
   "version": "3.9.5"
  }
 },
 "nbformat": 4,
 "nbformat_minor": 4
}
