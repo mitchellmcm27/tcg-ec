{
 "cells": [
  {
   "cell_type": "markdown",
   "metadata": {
    "deletable": true,
    "editable": true,
    "slideshow": {
     "slide_type": "skip"
    }
   },
   "source": [
    "<table>\n",
    " <tr align=left><td><img align=left src=\"https://i.creativecommons.org/l/by/4.0/88x31.png\">\n",
    " <td>Text provided under a Creative Commons Attribution license, CC-BY. All code is made available under the FSF-approved MIT license. (c) Marc Spiegelman, Template from Kyle Mandli</td>\n",
    "</table>\n"
   ]
  },
  {
   "cell_type": "code",
   "execution_count": 1,
   "metadata": {
    "deletable": true,
    "editable": true,
    "slideshow": {
     "slide_type": "skip"
    }
   },
   "outputs": [],
   "source": [
    "# load the standard packages\n",
    "import numpy as np\n",
    "from scipy.optimize import fsolve, brentq\n",
    "import matplotlib.pyplot as plt\n",
    "import matplotlib.cm as cm\n",
    "\n",
    "%matplotlib inline\n",
    "plt.rcParams[\"figure.figsize\"] = [8,6]\n",
    "plt.rcParams['font.size'] = 16\n",
    "\n",
    "#some convenience functions for converting temperatures\n",
    "toCelsius = lambda T: T - 273.15\n",
    "toKelvin = lambda T: T + 273.15"
   ]
  },
  {
   "cell_type": "markdown",
   "metadata": {
    "editable": true,
    "slideshow": {
     "slide_type": "slide"
    }
   },
   "source": [
    "# Example Usage of ThermoCodegen python bindings\n",
    "\n",
    "This notebook will demonstrate  how to use functions from the ThermoCodegen generated fo-fa system to tackle a range of problems including\n",
    "\n",
    "* Extracting thermodynamic properties of endmembers, phases and reaction objects\n",
    "* Construction of the Equilibrium Phase Diagram for the Fo-Fa melting loop\n",
    "* Simple isothermal reaction-path modeling in python"
   ]
  },
  {
   "cell_type": "markdown",
   "metadata": {},
   "source": [
    "## Load the ThermoCodegen python bindings for the fo-fa reactive system\n",
    "\n",
    "To use the thermocodegen generated python bindings, requires that the `py_fo_fa_binary` module is in your python path\n",
    "\n",
    "if you are using modules,  this can be accomplished by running\n",
    "\n",
    "```bash\n",
    "cd ../../reactions/fo_fa_binary\n",
    "module load ./fo_fa_binary.module\n",
    "```\n",
    "\n",
    "or by extending your PYTHONPATH to include\n",
    "\n",
    "```bash\n",
    "../../reactions/fo_fa_binary/lib/<python-version>/site-packages\n",
    "```\n",
    "\n",
    "where the appropriate python version can be deduced from either the module or the singularity environment file `fo_fa_binary.senv`\n",
    "\n",
    "Once you have extended your python path, restart jupyter-lab and continue\n"
   ]
  },
  {
   "cell_type": "markdown",
   "metadata": {},
   "source": [
    "### Import the ThermoCodegen object"
   ]
  },
  {
   "cell_type": "code",
   "execution_count": 2,
   "metadata": {
    "deletable": true,
    "editable": true,
    "slideshow": {
     "slide_type": "skip"
    }
   },
   "outputs": [],
   "source": [
    "import py_fo_fa_binary as py_fo_fa"
   ]
  },
  {
   "cell_type": "markdown",
   "metadata": {},
   "source": [
    "### Extract the reaction object and provide a more detailed report\n",
    "\n",
    "`py_fo_fa` will contain python objects for all phases and endmembers as well as a reaction object that provides information on a set of reactions over the space of endmembers and phases.\n",
    "The name of the reaction object will the the same name as the library in the `.rxml` file.\n",
    "\n",
    "The reaction object here is  `py_fo_fa_binary.fo_fa_binary` which we load and have it report version, phases and endmembers."
   ]
  },
  {
   "cell_type": "code",
   "execution_count": 3,
   "metadata": {
    "deletable": true,
    "editable": true,
    "slideshow": {
     "slide_type": "skip"
    }
   },
   "outputs": [
    {
     "name": "stdout",
     "output_type": "stream",
     "text": [
      "Reaction object: fo_fa_binary\n",
      "\n",
      "Phase 0 Olivine (Ol)\n",
      "     Endmember 0 Forsterite_berman : Mg2SiO4_(Ol)\n",
      "     Endmember 1 Fayalite_berman : Fe2SiO4_(Ol)\n",
      "Phase 1 Liquid (Liq)\n",
      "     Endmember 0 Forsterite_xmelts : Mg2SiO4_(Liq)\n",
      "     Endmember 1 Fayalite_xmelts : Fe2SiO4_(Liq)\n",
      "\n",
      "Reaction 0\n",
      "     Mg2SiO4_(Ol) -> Mg2SiO4_(Liq)\n",
      "Reaction 1\n",
      "     Fe2SiO4_(Ol) -> Fe2SiO4_(Liq)\n"
     ]
    }
   ],
   "source": [
    "rxn = py_fo_fa.fo_fa_binary()\n",
    "rxn.report()"
   ]
  },
  {
   "cell_type": "markdown",
   "metadata": {},
   "source": [
    "This report shows that the system is composed of two solution phases, Olivine and Liquid.  And each phase  is composed of two Endmembers, one Forsteritic the other Fayalitic.\n",
    "\n",
    "For this model, the Olivine endmembers use a Berman (1988) mineral model.  The Liquid uses a Ghiorso and Sacks, xMelts model.\n",
    "\n",
    "It is often useful to identify the indices for phases and endmembers for future use (report should really return a dictionary with this information)"
   ]
  },
  {
   "cell_type": "code",
   "execution_count": 4,
   "metadata": {},
   "outputs": [],
   "source": [
    "iOl = 0 \n",
    "iLq = 1\n",
    "kFo = 0\n",
    "kFa = 1"
   ]
  },
  {
   "cell_type": "markdown",
   "metadata": {},
   "source": [
    "We can also extract the individual phase objects directly.  The names of all available phases in the thermocodegen object are given in the dictionary returned from "
   ]
  },
  {
   "cell_type": "code",
   "execution_count": 5,
   "metadata": {},
   "outputs": [
    {
     "data": {
      "text/plain": [
       "{'Abbrev': ['Liq', 'Ol'],\n",
       " 'ClassName': ['Liquid', 'Olivine'],\n",
       " 'PhaseType': ['solution', 'solution']}"
      ]
     },
     "execution_count": 5,
     "metadata": {},
     "output_type": "execute_result"
    }
   ],
   "source": [
    "py_fo_fa.phase_info()"
   ]
  },
  {
   "cell_type": "code",
   "execution_count": 6,
   "metadata": {},
   "outputs": [],
   "source": [
    "Ol = py_fo_fa.Olivine()\n",
    "Lq = py_fo_fa.Liquid()"
   ]
  },
  {
   "cell_type": "markdown",
   "metadata": {},
   "source": [
    "## Demonstrate some of the interfaces to the reaction and phase objects"
   ]
  },
  {
   "cell_type": "markdown",
   "metadata": {},
   "source": [
    "### Phase Objects\n",
    "\n",
    "All phase objects share the same interfaces as `thermoengine.coder` generated phases.  Here we demonstrate a few including\n",
    "\n",
    "* Phase Name and Formula\n",
    "* list of endmember formulas\n",
    "* Gibbs Free Energy\n",
    "* Entropy\n",
    "* Volume"
   ]
  },
  {
   "cell_type": "markdown",
   "metadata": {},
   "source": [
    "Set a reference temperature, pressure and composition"
   ]
  },
  {
   "cell_type": "code",
   "execution_count": 7,
   "metadata": {},
   "outputs": [],
   "source": [
    "T=1800. # K\n",
    "P=10000 # bars\n",
    "n = [0.9, 0.1] # list of moles of each end_member"
   ]
  },
  {
   "cell_type": "code",
   "execution_count": 8,
   "metadata": {},
   "outputs": [
    {
     "name": "stdout",
     "output_type": "stream",
     "text": [
      "Olivine:\n",
      "\t2 endmembers:\t['Forsterite_berman', 'Fayalite_berman']\n",
      "\tFormula:\tMg1.800Fe0.200SiO4\n",
      "\tG:\t\t-2510212.7887425087 J\n",
      "\ts:\t\t392.4643121296209 J/K\n",
      "\tV:\t\t4.637395693946682 J/bar\n",
      "\n",
      "Liquid:\n",
      "\t2 endmembers:\t['Forsterite_xmelts', 'Fayalite_xmelts']\n",
      "\tFormula:\tMg1.800Fe0.200SiO4\n",
      "\tG:\t\t-2492186.0452908776 J\n",
      "\ts:\t\t435.4638368888722 J/K\n",
      "\tV:\t\t4.9588916422093 J/bar\n",
      "\n"
     ]
    }
   ],
   "source": [
    "for phase in [Ol, Lq]:\n",
    "    K = phase.endmember_number()\n",
    "    print('{}:'.format(phase.name()))\n",
    "    print('\\t{} endmembers:\\t{}'.format(K, [phase.endmember_name(k) for k in range(K)]))\n",
    "    print('\\tFormula:\\t{}'.format(phase.formula(T,P,n)))\n",
    "    print('\\tG:\\t\\t{} J'.format(phase.g(T,P,n)))\n",
    "    print('\\ts:\\t\\t{} J/K'.format(phase.s(T,P,n)))\n",
    "    print('\\tV:\\t\\t{} J/bar'.format(phase.v(T,P,n)))\n",
    "    print()"
   ]
  },
  {
   "cell_type": "markdown",
   "metadata": {},
   "source": [
    "In addition,  thermodynamic properties of endmembers can also be retrieved directly from the python module, or from the phases themselves"
   ]
  },
  {
   "cell_type": "markdown",
   "metadata": {},
   "source": [
    "### Reaction Objects\n",
    "The Reaction objects also provide thermodynamic properties of all phases and endmembers involved in reactions as a function of \n",
    "$T$, $P$ and composition of *all* phases $C$ (usually in mass fraction) or $X$ in mol fractions.\n",
    "\n",
    "Here we  calculate the chemical potentials of all components $\\mu_i^k$ as well as the Affinities of the two reactions \n",
    "\n",
    "$$\n",
    "    A_j = \\sum_{i,k} \\nu_{i,j}^k\\mu_i^k\n",
    "$$\n",
    "\n",
    "at a fixed Temperature, Pressure and bulk composition\n",
    "\n",
    "$$\n",
    "    T = 1600^\\circ \\mathrm{C},\\quad P= 1000\\, \\mathrm{bar},\\quad X = \\begin{bmatrix} \\begin{bmatrix} 0.6 & 0.4 \\\\ \\end{bmatrix} \\\\ \\begin{bmatrix} 0.4 & 0.6 \\\\ \\end{bmatrix}\\\\ \\end{bmatrix}\n",
    "$$\n",
    "\n",
    "Where each row of $X$ is the composition of phase $i$ and $X[i][k]$ contains the mole fraction of component $k$ in phase $i$. \n",
    "Thus $X[0]$ contains the composition of phase 0 (Olivine) which is composed of 0.6 moles of the Forsterite endmember and 0.4 moles of the Fayalitic endmember.  \n",
    "\n",
    "**Note**: in general,  different phases can have different numbers of end-members and $X$ is not necessarily a regular array.  To initialize the proper shape for $X$ we can use the convenience function `rxn.zero_C()` which returns a nested list of the right shape.\n",
    "\n",
    "We will also convert composition from mole fractions to weight fractions with the convenience function `rxn.X_to_C()`"
   ]
  },
  {
   "cell_type": "code",
   "execution_count": 9,
   "metadata": {},
   "outputs": [
    {
     "name": "stdout",
     "output_type": "stream",
     "text": [
      "T = 1600.0 C\n",
      "P = 1000.0 bars\n",
      "X = [[0.6, 0.4], [0.4, 0.6]]\n",
      "C = [[0.5087539256792306, 0.4912460743207694], [0.3152018415680212, 0.6847981584319788]]\n"
     ]
    }
   ],
   "source": [
    "# set reference parameters\n",
    "\n",
    "T = toKelvin(1600)\n",
    "P = 1000. #bars\n",
    "X = rxn.zero_C()\n",
    "X[0] = [0.6, 0.4]\n",
    "X[1] = [0.4, 0.6]\n",
    "\n",
    "# convert mole fraction X to mass fraction C\n",
    "C = rxn.X_to_C(X)\n",
    "\n",
    "print('T = {} C'.format(toCelsius(T)))\n",
    "print('P = {} bars'.format(P))\n",
    "print('X = {}'.format(X))\n",
    "print('C = {}'.format(C))\n",
    "\n"
   ]
  },
  {
   "cell_type": "markdown",
   "metadata": {
    "deletable": true,
    "editable": true,
    "slideshow": {
     "slide_type": "skip"
    }
   },
   "source": [
    "#### Calculate chemical potentials for the reaction object and the individual phases\n",
    "\n",
    "The method ```M = rxn.Mu(T,P,C)``` returns a nested list of the same shape as $C$ such that `M[i][k]`$\\equiv\\mu_i^k$"
   ]
  },
  {
   "cell_type": "code",
   "execution_count": 10,
   "metadata": {},
   "outputs": [
    {
     "name": "stdout",
     "output_type": "stream",
     "text": [
      "Chemical Potentials:     [[-2640516.402703267, -2083007.6582828918], [-2631493.842372724, -2101124.7319794055]]\n",
      "Chemical Potential Ol:    [-2640516.402703267, -2083007.6582828918]\n",
      "Chemical Potential Lq:    [-2631493.842372724, -2101124.7319794055]\n"
     ]
    }
   ],
   "source": [
    "print('Chemical Potentials:     {}'.format(rxn.Mu(T,P,C)))\n",
    "print('Chemical Potential Ol:    {}'.format(Ol.mu(T,P,X[0])))\n",
    "print('Chemical Potential Lq:    {}'.format(Lq.mu(T,P,X[1])))"
   ]
  },
  {
   "cell_type": "markdown",
   "metadata": {},
   "source": [
    "#### Calculate affinity of the two melting reactions\n",
    "\n",
    "The method ```A = rxn.A(T,P,C)``` returns a list of affinities for the two melting reactions in the system \n",
    "\n",
    "* Reaction 0: Fo$_\\mathrm{Ol}\\rightarrow$Fo$_\\mathrm{Lq}$\n",
    "* Reaction 1: Fa$_\\mathrm{Ol}\\rightarrow$Fa$_\\mathrm{Lq}$"
   ]
  },
  {
   "cell_type": "code",
   "execution_count": 11,
   "metadata": {},
   "outputs": [
    {
     "name": "stdout",
     "output_type": "stream",
     "text": [
      "Affinities:          [-9022.560330543201, 18117.07369651366] J/K/mol\n"
     ]
    }
   ],
   "source": [
    "print('Affinities:          {} J/K/mol'.format(rxn.A(T,P,C)))"
   ]
  },
  {
   "cell_type": "markdown",
   "metadata": {},
   "source": [
    "Thus at this specified $T$, $P$ and composition $C$, Olivine would prefer to be more Mg rich and the liquid more Fe rich, as the   Forsterite endmember moves from liquid to solid, and the Fayalite endmember moves from solid to liquid."
   ]
  },
  {
   "cell_type": "markdown",
   "metadata": {},
   "source": [
    "#### Calculate density, heat capacity, $\\alpha$, $\\beta$, and specific entropy of all phases\n",
    "\n",
    "Commonly used thermodynamic properties for all phases involved in reactions can also be returned by the reaction object.  The most common are:\n",
    "\n",
    "* Density: $\\rho$\n",
    "* Heat Capacity: $C_p$\n",
    "* specific Entropy: $s$\n",
    "* Thermal Expansivity: $\\alpha$\n",
    "* Compressibility: $\\beta$\n",
    "\n",
    "As the reaction objects are primarily designed for use with conservation codes,  both Heat capacity and entropy are per unit mass rather than on a molar basis."
   ]
  },
  {
   "cell_type": "code",
   "execution_count": 12,
   "metadata": {},
   "outputs": [
    {
     "name": "stdout",
     "output_type": "stream",
     "text": [
      "Density:          [34.84902525474675, 33.482113981078435] \t\tg bar/J\n",
      "Heat Capacity:    [1.1876956409769128, 1.4143332017127481] \t\tJ/(K g)\n",
      "Entropy:          [2.5886347714053017, 2.829836794799008] \t\tJ/(k g)\n",
      "alpha:            [5.163992974474732e-05, 0.00010323658843176311] \t1/K\n",
      "beta:             [7.193095868369965e-07, 4.313066144398183e-06] \t1/bar\n"
     ]
    }
   ],
   "source": [
    "print('Density:          {} \\t\\tg bar/J'.format(rxn.rho(T,P,C)))\n",
    "print('Heat Capacity:    {} \\t\\tJ/(K g)'.format(rxn.Cp(T,P,C)))\n",
    "print('Entropy:          {} \\t\\tJ/(k g)'.format(rxn.s(T,P,C)))\n",
    "print('alpha:            {} \\t1/K'.format(rxn.alpha(T,P,C)))\n",
    "print('beta:             {} \\t1/bar'.format(rxn.beta(T,P,C)))\n"
   ]
  },
  {
   "cell_type": "markdown",
   "metadata": {},
   "source": [
    "#### Calculate Kinetic reaction terms $\\Gamma_i^k$ and $\\Gamma_{i}$\n",
    "\n",
    "For this problem,  we have modeled the kinetic mass transfer rates for each component $k$ in phase $i$ using\n",
    "\n",
    "$$\n",
    "    \\Gamma_i^k = \\sum_j \\nu_{i,j}^k R_j(T,P,C,\\mathbf{\\Phi})\n",
    "$$\n",
    "\n",
    "where $\\nu_{i,j}^k$ is the stoichiometric coefficient for component $k$ in phase $i$ for the $j$th reaction (with positive coefficients for products and negative coefficients for reactants).  For this problem, the mass transfer rate of each reaction $R_j$ is described in the notebook `Generate_reactions.ipynb` and modeled using\n",
    "\n",
    "$$\n",
    "R_j = r(T)S(\\mathbf{\\Phi})\\frac{A_j(T,P,C)}{RT}\n",
    "$$\n",
    "\n",
    "where \n",
    "\n",
    "* $r(T)$ is a reaction rate in mass/unit area/time\n",
    "* $S(\\mathbf{\\Phi)}$ is the available specific surface area of reactants which depends on their phase fractions $\\mathbf{\\Phi}$\n",
    "* and $A_j/RT$ is the affinity of reaction $j$ scaled by $RT$ where $R$ is the gas constant.  \n",
    "\n",
    "The mass transfer rate for phase $i$ is simply\n",
    "\n",
    "$$\n",
    "\\Gamma_i = \\sum_k \\Gamma_i^k\n",
    "$$\n",
    "\n",
    "Note,  these kinetic reaction rates will be zero if the system is in equilibrium $A_j=0$ or there are no reactants available $S=0$\n",
    "\n",
    "As before $\\Gamma_{i}^k$ has the same shape as $C$, and $\\Gamma_i$ is a vector of length $N$ (the number of phases)"
   ]
  },
  {
   "cell_type": "code",
   "execution_count": 13,
   "metadata": {},
   "outputs": [
    {
     "name": "stdout",
     "output_type": "stream",
     "text": [
      "Kinetic rate Gamma_ik:          [[0.24020372347985774, -0.4823230215186129], [-0.24020372347985774, 0.4823230215186129]]\n",
      "phase Kinetic rate Gamma_i:     [-0.24211929803875515, 0.24211929803875515]\n"
     ]
    }
   ],
   "source": [
    "# here we will assume both phases are present\n",
    "Phi = [ 0.5, 0.5]\n",
    "print('Kinetic rate Gamma_ik:          {}'.format(rxn.Gamma_ik(T,P,C,Phi)))\n",
    "print('phase Kinetic rate Gamma_i:     {}'.format(rxn.Gamma_i(T,P,C,Phi)))"
   ]
  },
  {
   "cell_type": "markdown",
   "metadata": {},
   "source": [
    "Thus at these conditions $\\Gamma_0<0$ which implies olivine is melting and $\\Gamma_1>0$ implies melt is being produced at the same rate."
   ]
  },
  {
   "cell_type": "markdown",
   "metadata": {
    "editable": true
   },
   "source": [
    "## Phase Diagram\n",
    "\n",
    "Given thermodynamic properties and affinities for all the reactions, it is relatively straighforward to calculate the equilibrium phase diagram for this simple system\n",
    "\n",
    "### Calculate the Equilibrium phase loop at constant Pressure.\n",
    "\n",
    "In equilibrium,  the affinities of both reactions must be 0, which at fixed $T$, and $P$ becomes a non-linear system of equation for the composition of Olivine and Liquid phases.  Because the compositions of any phase must add to one,  this becomes two equations in the two unknowns \n",
    "$c_{Ol}^{Fo}$ and $c_{Lq}^{Fo}$ as \n",
    "\n",
    "$$\n",
    "\\begin{align}\n",
    "    A_0[T,P,C^*] &= 0\\\\\n",
    "    A_1[T,P,C^*] &= 0\\\\\n",
    "\\end{align}\n",
    "$$\n",
    "\n",
    "where\n",
    "$$\n",
    "    C^*(c_{Ol}^{Fo},c_{Lq}^{Fo}) = \\begin{bmatrix} \\begin{bmatrix} c_{Ol}^{Fo} & 1- c_{Ol}^{Fo} \\\\ \\end{bmatrix} \\\\ \\begin{bmatrix} c_{Lq}^{Fo} & 1.-c_{Lq}^{Fo} \\\\ \\end{bmatrix}\\\\ \\end{bmatrix}\n",
    "$$\n",
    "\n",
    "Numerically, however, it is better to find the zeros of the scaled affinities $A_j/RT$.  \n",
    "\n",
    "The following routine first finds the melting points of pure endmembers $T_{min}$ and $T_{max}$ then calculates equilibrium concentrations for all $T\\in[T_{min},T_{max}]$"
   ]
  },
  {
   "cell_type": "code",
   "execution_count": 14,
   "metadata": {
    "collapsed": false,
    "deletable": true,
    "editable": true,
    "jupyter": {
     "outputs_hidden": false
    },
    "slideshow": {
     "slide_type": "skip"
    }
   },
   "outputs": [],
   "source": [
    "def get_binary_loop(P,rxn,N):\n",
    "    ''' \n",
    "    returns equilibrium liquidus and solidus for ideal solution phases solid and liquid\n",
    "    Parameters:\n",
    "    -----------\n",
    "        P: pressure in bars\n",
    "        rxn:  Reaction object from thermocodegen\n",
    "        N:   Number of T points for evaluating \n",
    "    \n",
    "    Returns:\n",
    "    ---------\n",
    "        Trange:  numpy array of Temperatures\n",
    "        c_l_eq:  Equilibrium liquidus concentrations (wt % Fo) at T,P\n",
    "        c_s_eq:  Equilibrium solid concentrations at (wt % Fo) at T,P\n",
    "    '''\n",
    "    # calculate delta_mu of pure endmembers \n",
    "    # pure forsteritic liquid and solid\n",
    "    CFo = rxn.zero_C()\n",
    "    CFo[0] = [1., 0.]\n",
    "    CFo[1] = [1., 0.]\n",
    "    deltaMu0_0 = lambda T,P : rxn.A(T,P,CFo,0)\n",
    "    CFa = rxn.zero_C()\n",
    "    CFa[0] = [0., 1.]\n",
    "    CFa[1] = [0., 1.]\n",
    "    deltaMu0_1 = lambda T,P : rxn.A(T,P,CFa,1)\n",
    "\n",
    "    # calculate melting points of pure endmembers at pressure p\n",
    "    T_0 = fsolve(deltaMu0_0,1900.,(P))\n",
    "    T_1 = fsolve(deltaMu0_1,1600.,(P))\n",
    "\n",
    "    # sort\n",
    "    T_min = np.min([T_0,T_1])\n",
    "    T_max = np.max([T_0,T_1])\n",
    "    print('T_min={} C, T_max={} C'.format(toCelsius(T_min),toCelsius(T_max)))\n",
    "    \n",
    "    #return T_min, T_max\n",
    "    # set the temperature range for the two-phase region\n",
    "    Trange = np.linspace(T_min+1.,T_max-1.,N)\n",
    "\n",
    "    # utility function to set all compositions just from c = [ c_ol^Fo, c_Lq^Fo]\n",
    "    C_c = lambda c : np.array([[c[0], 1.-c[0]], [c[1], 1.-c[1]]])\n",
    "    \n",
    "    # set up inline function to find scaled affinities as a function of c = [c_ol^fo, c_lq^fo]\n",
    "    As = lambda c,T,P : np.array(rxn.A(T,P,C_c(c)))/8.3144/T\n",
    "\n",
    "    # set initial guess for compositions as near pure fayalite\n",
    "    cs = 0.001\n",
    "    cl = 0.001\n",
    "    c0 = np.array([cs,cl])\n",
    "\n",
    "    c_eq = np.empty((len(Trange),2))\n",
    "    tol = 1.e-8\n",
    "\n",
    "    # loop over Temperature and calculate equilibrium liquid/solid concentrations in wt% at t,p\n",
    "    for i,T in enumerate(Trange):\n",
    "    \n",
    "        # find zeros of As at (T,P) given initial guess c0 \n",
    "        c_eq[i] = fsolve(As, c0, (T,P))\n",
    "    \n",
    "        # check that the solver converged\n",
    "        error = np.linalg.norm(As(c_eq[i],T,P))\n",
    "        if error > tol:\n",
    "            print('Error: not converged at P={},T={} C: ||A(x,T)||={}'.format(P,toCelsius(T),np.linalg.norm(As(c_eq[i],T,P))))\n",
    "\n",
    "        # set new guess to last solution\n",
    "        c0 = c_eq[i]\n",
    "    \n",
    "    return Trange, c_eq.T"
   ]
  },
  {
   "cell_type": "markdown",
   "metadata": {},
   "source": [
    "#### And a convenienence function to plot the phase diagram (and any data on it) at fixed Pressure\n"
   ]
  },
  {
   "cell_type": "code",
   "execution_count": 15,
   "metadata": {},
   "outputs": [],
   "source": [
    "def plot_phase_diagram(P, rxn, data=None, title=None, labels=None):\n",
    "    \"\"\"\n",
    "    create a melting loop diagram at fixed pressure given a reaction object\n",
    "    \n",
    "    Parameters:\n",
    "    -----------\n",
    "        P: float\n",
    "            Pressure in bars\n",
    "        rxn: object\n",
    "            thermocodegen reaction object\n",
    "            \n",
    "        data: array like  (optional)\n",
    "            2-d numpy array of n data points with 3 columns\n",
    "            * data[:,0]  temperature\n",
    "            * data[:,1]  c_Ol^fo (olivine forsterite composition)\n",
    "            * data[:,2]  c_Lq^fo (liquid forsterite composition)\n",
    "        \n",
    "        title: string (optional)\n",
    "            optional title for plotting\n",
    "            \n",
    "        labels: list of tuples\n",
    "            each tuple contains position and string for labels (x,y,string)\n",
    "            \n",
    "    Returns:\n",
    "    --------\n",
    "        fig, axes: matplotlib figure and axes object for further plotting\n",
    "    \"\"\"\n",
    "    \n",
    "    # calculate the binary loop for pressure P\n",
    "    N = 1001\n",
    "    Trange,c_eq = get_binary_loop(P,rxn,N)\n",
    "    \n",
    "    fig = plt.figure(figsize=(8,6))\n",
    "    ax = fig.add_subplot(1,1,1)\n",
    "    if title is None:\n",
    "        ax.set_title(\"Binary Phase Diagram: P={} bars\".format(P), fontsize = 18)\n",
    "    else:\n",
    "        ax.set_title(title, fontsize = 18)\n",
    "    ax.set_xlabel(\"$c_{fo}$\", fontsize = 24)\n",
    "    ax.set_ylabel(\"$T  (^{\\\\circ}C)$\", fontsize = 18)\n",
    "    ax.plot(c_eq[0,:], toCelsius(Trange), '-r', label = \"solidus\")\n",
    "    ax.plot(c_eq[1,:], toCelsius(Trange), '-b', label = \"liquidus\")\n",
    "    ax.set_xlim([0.0, 1.0])\n",
    "    ax.invert_xaxis()\n",
    "    ax.grid()\n",
    "    ax.legend(loc='best')\n",
    "    if data is not None:\n",
    "        ax.plot(data[:,1],data[:,0],'r+')\n",
    "        ax.plot(data[:,2],data[:,0],'b+')\n",
    "    if labels is not None:\n",
    "        for label in labels:\n",
    "            ax.text(label[0],label[1],label[2])\n",
    "           \n",
    "    return fig, ax\n",
    "    \n",
    "    "
   ]
  },
  {
   "cell_type": "markdown",
   "metadata": {},
   "source": [
    "#### Plot the phase Diagram"
   ]
  },
  {
   "cell_type": "code",
   "execution_count": 16,
   "metadata": {
    "deletable": true,
    "editable": true
   },
   "outputs": [
    {
     "name": "stdout",
     "output_type": "stream",
     "text": [
      "T_min=1221.301894881114 C, T_max=1896.1787129195568 C\n"
     ]
    },
    {
     "data": {
      "image/png": "[encoded data removed]",
      "text/plain": [
       "<Figure size 576x432 with 1 Axes>"
      ]
     },
     "metadata": {
      "needs_background": "light"
     },
     "output_type": "display_data"
    }
   ],
   "source": [
    "P = 1000.\n",
    "labels = [ (0.8,1350.,'Ol'), (0.55,1550.,'Ol + Lq'), (0.1,1650.,'Lq')]\n",
    "fig, ax = plot_phase_diagram(P, rxn, labels=labels)"
   ]
  },
  {
   "cell_type": "markdown",
   "metadata": {},
   "source": [
    "### Isothermal disequilibrium kinetics\n",
    "\n",
    "In addition to equilibrium calculations, we can also use the kinetic reaction rates $\\Gamma_i$ and $\\Gamma_i^k$ to calculate the approach to equilibrium from an initial disequilibrium configuration.  As the simplest system, here we consider the melting of meta-stable Olivine at $T=1600^\\circ$ C with negligible initial melt.\n",
    "\n",
    "For an isothermal system that is closed to mass, we can write conservation of mass equations for each phase and component as the system of ODE's\n",
    "\n",
    "$$\n",
    "    \\frac{d M_i}{d t} = \\Gamma_i V(t)\n",
    "$$\n",
    "\n",
    "$$\n",
    "    \\frac{d M_i c_i^k}{d t} = \\Gamma_i^k V(t)\n",
    "$$\n",
    "\n",
    "where $M_i$ is the mass of phase $i$,  $c_i^k$ is the mass fraction of component $k$ in phase $i$ and \n",
    "\n",
    "$$\n",
    "    V(t) = \\sum_i \\frac{M_i}{\\rho_i}\n",
    "$$\n",
    "\n",
    "is the total volume occupied by all phases which depends on the mass of each phase and its intrinsic density.  In addition, the phase fraction of each phase is \n",
    "\n",
    "$$\n",
    "    \\phi_i = \\frac{M_i}{\\rho_i V}\n",
    "$$\n",
    "\n",
    "We can also rewrite the problem as a system of ODE's for just the mass of the phases $M_i$ and the Fo content of each phase $c_i^{Fo}$\n",
    "\n",
    "$$\n",
    "    \\frac{d M_i}{d t} = \\Gamma_i V(t)\n",
    "$$\n",
    "\n",
    "$$\n",
    "    \\frac{d c_i^{Fo}}{d t} = \\frac{1}{M_i}(\\Gamma_i^{Fo} - c_i^{Fo}\\Gamma_i)V(t)\n",
    "$$"
   ]
  },
  {
   "cell_type": "markdown",
   "metadata": {},
   "source": [
    "### Initial Conditions"
   ]
  },
  {
   "cell_type": "markdown",
   "metadata": {},
   "source": [
    "To solve this system of ODE's we also need to specify initial conditions for the phase masses and compositions.  Inspection of the second equation above shows that if we start with no melt $M_{Lq}=0$, then the change in melt composition is unbounded unless the initial melt satisfies\n",
    "\n",
    "$$\n",
    "    \\Gamma_{Lq}^{Fo}(T,P,C,\\mathbf{\\Phi}) - c_{Lq}^{Fo}\\Gamma_i(T,P,C,\\mathbf{\\Phi}) = 0\n",
    "$$\n",
    "\n",
    "which is a non-linear root finding problem for $c_{Lq}^{Fo}$.  Alternatively we can recast this problem as a constrained optimization problem to find the initial liquid composition $\\mathbf{c}_{Lq}$ that minimizes the above expression with the constraints  \n",
    "\n",
    "$$\n",
    "    \\mathbf{c}_{Lq}^T\\mathbf{1} = 1,\\quad c_{Lq}^k \\in [0,1]\n",
    "$$\n",
    "\n",
    "i.e. the concentration of melt components must sum to 1 and both are positive.  \n",
    "\n",
    "`scipy.optimize` provides a useful routine `minimize` that provides bounded/constrained optimization problems"
   ]
  },
  {
   "cell_type": "code",
   "execution_count": 17,
   "metadata": {},
   "outputs": [],
   "source": [
    "from scipy.optimize import minimize, LinearConstraint, Bounds"
   ]
  },
  {
   "cell_type": "markdown",
   "metadata": {},
   "source": [
    "Set initial Temperature, Pressure, and initial guess for the concentrations\n"
   ]
  },
  {
   "cell_type": "code",
   "execution_count": 18,
   "metadata": {
    "collapsed": false,
    "editable": true,
    "jupyter": {
     "outputs_hidden": false
    }
   },
   "outputs": [],
   "source": [
    "T = toKelvin(1600.)\n",
    "P = 1000.\n",
    "Phi = np.array([1., 0.])\n",
    "C = rxn.zero_C()\n",
    "C[iOl] = [.5, .5]\n",
    "C[iLq] = [.5, .5]\n"
   ]
  },
  {
   "cell_type": "markdown",
   "metadata": {},
   "source": [
    "define the function and constraints to be passed to `minimize`."
   ]
  },
  {
   "cell_type": "code",
   "execution_count": 19,
   "metadata": {},
   "outputs": [],
   "source": [
    "def fmin(cLq,T,P,C,Phi):\n",
    "    \"\"\" function to return || MdC/dT|| \"\"\"\n",
    "    C[iLq] = cLq\n",
    "    res = np.array(rxn.Gamma_ik(T,P,C,Phi)[iLq]) - np.array(C[iLq])*rxn.Gamma_i(T,P,C,Phi)[iLq]\n",
    "    return np.linalg.norm(res)\n",
    "\n",
    "#constraints and bounds\n",
    "lc = LinearConstraint(np.ones(2),1.,1.)\n",
    "bnds = Bounds(np.zeros(2),np.ones(2))"
   ]
  },
  {
   "cell_type": "markdown",
   "metadata": {},
   "source": [
    "Call minimize and check solution"
   ]
  },
  {
   "cell_type": "code",
   "execution_count": 20,
   "metadata": {},
   "outputs": [
    {
     "name": "stdout",
     "output_type": "stream",
     "text": [
      "Optimization terminated successfully\n"
     ]
    },
    {
     "name": "stderr",
     "output_type": "stream",
     "text": [
      "/tmp/ipykernel_810/2924401832.py:4: RuntimeWarning: invalid value encountered in multiply\n",
      "  res = np.array(rxn.Gamma_ik(T,P,C,Phi)[iLq]) - np.array(C[iLq])*rxn.Gamma_i(T,P,C,Phi)[iLq]\n"
     ]
    }
   ],
   "source": [
    "c0 = C[iLq].copy()\n",
    "sol = minimize(fmin, c0, args=(T, P, C, Phi),bounds=bnds,constraints=lc)\n",
    "print('{}'.format(sol.message))"
   ]
  },
  {
   "cell_type": "code",
   "execution_count": 21,
   "metadata": {},
   "outputs": [
    {
     "name": "stdout",
     "output_type": "stream",
     "text": [
      "C = [[0.5, 0.5], [0.1403311009766579, 0.8596688990233422]]\n",
      "residual = 1.3733954950833545e-09, sum(cf)= 1.0\n"
     ]
    }
   ],
   "source": [
    "cf0 = sol.x\n",
    "C[iLq] = cf0.tolist()\n",
    "print('C = {}'.format(C))\n",
    "print('residual = {}, sum(cf)= {}'.format(fmin(cf0,T,P,C,Phi),np.sum(cf0)))"
   ]
  },
  {
   "cell_type": "code",
   "execution_count": 22,
   "metadata": {},
   "outputs": [
    {
     "name": "stdout",
     "output_type": "stream",
     "text": [
      "Gamma_ik = [[-0.08476226 -0.51925397]\n",
      " [ 0.08476226  0.51925397]]\n",
      "Gamma_i  = [-0.6040162373894019, 0.6040162373894019]\n"
     ]
    }
   ],
   "source": [
    "print('Gamma_ik = {}'.format(np.array(rxn.Gamma_ik(T,P,C,Phi))))\n",
    "print('Gamma_i  = {}'.format(rxn.Gamma_i(T,P,C,Phi)))"
   ]
  },
  {
   "cell_type": "markdown",
   "metadata": {},
   "source": [
    "### Solve the Initial Value problem\n",
    "\n",
    "We will now use `scipy.integrate.solve_ivp` to solve the ODE initial value problem described above starting with 100 g of Olivine and an infinitesmal amount of melt\n",
    "\n",
    "We start by defining the RHS function of the ODE system \n",
    "\n",
    "$$\n",
    "    \\frac{d\\mathbf{u}}{dt} = \\mathbf{f}(t,\\mathbf{u})\n",
    "$$\n",
    "\n",
    "Where\n",
    "$$\n",
    "    \\mathbf{u} = \\begin{bmatrix} M_{Ol}\\\\ M_{Lq}\\\\ c_{Ol}^{Fo} \\\\ c_{Lq}^{Fo} \\\\ \\end{bmatrix},\\quad\n",
    "    \\mathbf{f} = \\begin{bmatrix} \\Gamma_{Ol}\\\\ \\Gamma_{Lq} \\\\(\\Gamma_{Ol}^{Fo} - c_{Ol}^{Fo}\\Gamma_{Ol})/M_{Ol}\\\\ (\\Gamma_{Lq}^{Fo} - c_{Lq}^{Fo}\\Gamma_{Lq})/M_{Lq}\\\\ \\end{bmatrix}V(t)\n",
    "$$"
   ]
  },
  {
   "cell_type": "code",
   "execution_count": 23,
   "metadata": {},
   "outputs": [],
   "source": [
    "def rhs(t, u, rxn, T, P ):\n",
    "    \"\"\" RHS function of ODE problem for disequilibrium reaction path modeling in the Fo-Fa melting system\"\"\"\n",
    "    \n",
    "    # extract Mass M and forsterite concentration c of each phase\n",
    "    N = 2\n",
    "    M = u[:N]\n",
    "    c = u[N:]\n",
    "    \n",
    "    # Set the total concentration matrix given the forsterite compositions\n",
    "    C = rxn.zero_C()\n",
    "    C[iOl] = [ c[iOl], 1. - c[iOl]]\n",
    "    C[iLq] = [ c[iLq], 1. - c[iLq]]\n",
    "    \n",
    "    # calculate total volume V and phase fractions Phi\n",
    "    V_i = M/np.array(rxn.rho(T,P,C))\n",
    "    V = np.sum(V_i)\n",
    "    Phi = V_i/V\n",
    "    \n",
    "    # calculate RHS of ODE\n",
    "    du = V*np.ones(4)\n",
    "    du[:N] *=  np.array(rxn.Gamma_i(T,P,C,Phi))\n",
    "    Gik = rxn.Gamma_ik(T,P,C,Phi)\n",
    "    Gi  = rxn.Gamma_i(T,P,C,Phi)\n",
    "    for i in range(N):\n",
    "        dc = (np.array(Gik[i]) - np.array(C[i])*Gi[i])/M[i]\n",
    "        du[N+i] *= dc[kFo]\n",
    "    \n",
    "    return du\n",
    "    \n",
    "    "
   ]
  },
  {
   "cell_type": "markdown",
   "metadata": {},
   "source": [
    "#### Set the initial conditions on mass and concentration\n",
    "\n",
    "Here we will start with 100 g of Olivine with composition $c_{Ol} = \\begin{bmatrix} 0.5 & 0.5\\\\\\end{bmatrix}$ and $10^{-3}$ g of Liquid (to avoid the zero divide in the ODE at zero liquid mass) with the initial **disequilibrium** concentration calculated above.  Note, in kinetic systems the composition of the first melt is not guaranteed to be an equilibrium melt,  but rather is governed by the relative rates of the different melting reactions."
   ]
  },
  {
   "cell_type": "code",
   "execution_count": 24,
   "metadata": {},
   "outputs": [
    {
     "name": "stdout",
     "output_type": "stream",
     "text": [
      "u_0  = [1.00000000e+02 1.00000000e-03 5.00000000e-01 1.40331101e-01]\n",
      "du_0 = [-1.72846935e+00  1.72846935e+00  6.21676665e-03  2.77903294e-06]\n"
     ]
    }
   ],
   "source": [
    "# Initial Masses\n",
    "M0 = np.array([100., 1.e-3])\n",
    "\n",
    "# Initial Forsterite composition of Olivine and Liquid\n",
    "c0 = [ C[i][kFo] for i in range(2)]\n",
    "\n",
    "# concatenate mass and concentration into an initial condition u0 and test the RHS\n",
    "u0 = np.concatenate((M0,c0),axis = None)\n",
    "print('u_0  = {}'.format(u0))\n",
    "print('du_0 = {}'.format(rhs(0.,u0,rxn,T,P)))"
   ]
  },
  {
   "cell_type": "markdown",
   "metadata": {},
   "source": [
    "Note that at this initial condition,  Olivine is decreasing and melt increasing as expected.  \n",
    "\n",
    "### Solve the initial value problem\n",
    "\n",
    "We now use scipy's ODE suite `scipy.integrate.solve_ivp` to solve this problem using the adaptive Radau method for stiff systems."
   ]
  },
  {
   "cell_type": "code",
   "execution_count": 25,
   "metadata": {},
   "outputs": [],
   "source": [
    "from scipy.integrate import solve_ivp"
   ]
  },
  {
   "cell_type": "code",
   "execution_count": 26,
   "metadata": {},
   "outputs": [],
   "source": [
    "f = lambda t,u : rhs(t, u, rxn, T, P)\n",
    "t_span=(0., 200.)\n",
    "sol = solve_ivp(f, t_span, u0, method='Radau', rtol=1.e-6, atol=1.e-10)"
   ]
  },
  {
   "cell_type": "markdown",
   "metadata": {},
   "source": [
    "and extract Temperature and Compositional data for plotting on the phase diagram. "
   ]
  },
  {
   "cell_type": "code",
   "execution_count": 27,
   "metadata": {},
   "outputs": [],
   "source": [
    "data = np.zeros((len(sol.t),3))\n",
    "\n",
    "# set constant Temperature array of the length of the number of time steps\n",
    "data[:,0] = toCelsius(T)*np.ones(len(sol.t))\n",
    "\n",
    "# extract Forsterite content of solid (sol.y[2,:]) and liquid (sol.y[3,:])\n",
    "data[:,1] = sol.y[2,:]\n",
    "data[:,2] = sol.y[3,:]"
   ]
  },
  {
   "cell_type": "markdown",
   "metadata": {},
   "source": [
    "and plot"
   ]
  },
  {
   "cell_type": "code",
   "execution_count": 28,
   "metadata": {},
   "outputs": [
    {
     "name": "stdout",
     "output_type": "stream",
     "text": [
      "T_min=1221.301894881114 C, T_max=1896.1787129195568 C\n"
     ]
    },
    {
     "data": {
      "image/png": "[encoded data removed]",
      "text/plain": [
       "<Figure size 576x432 with 1 Axes>"
      ]
     },
     "metadata": {
      "needs_background": "light"
     },
     "output_type": "display_data"
    }
   ],
   "source": [
    "tlabels = [ (c0[0], 1590., ' $t=0$'), (c0[1], 1590., ' $t=0$')]\n",
    "fig,ax = plot_phase_diagram(P,rxn,data=data, labels=labels + tlabels)"
   ]
  },
  {
   "cell_type": "markdown",
   "metadata": {},
   "source": [
    "The crosses denote the evolution of the initial solid and melt compositions at $t=0$ as they approach their equilbrium values at $T=1600^\\circ$ C.  **Note**: The initial liquid from is not an equilibrium melt, but is actually more Fe rich.  \n",
    "\n",
    "The evolution of phase Masses and compositions from the time-dependent calculation, as well as total volume and phase fractions can also be plotted"
   ]
  },
  {
   "cell_type": "code",
   "execution_count": 29,
   "metadata": {},
   "outputs": [
    {
     "data": {
      "image/png": "[encoded data removed]",
      "text/plain": [
       "<Figure size 1080x360 with 2 Axes>"
      ]
     },
     "metadata": {
      "needs_background": "light"
     },
     "output_type": "display_data"
    }
   ],
   "source": [
    "fig = plt.figure(figsize=(15,5))\n",
    "ax = fig.add_subplot(1,2,1)\n",
    "ax.plot(sol.t,sol.y[0],'r', label='$M_{Ol}$')\n",
    "ax.plot(sol.t,sol.y[1],'b', label='$M_{Lq}$')\n",
    "ax.plot(sol.t,sol.y[0]+sol.y[1],'k--',label='$M_{total}$')\n",
    "ax.set_xlabel('Time')\n",
    "ax.set_ylabel('Mass (g)')\n",
    "ax.grid()\n",
    "ax.legend(loc='best')\n",
    "\n",
    "ax = fig.add_subplot(1,2,2)\n",
    "ax.plot(sol.t,sol.y[2],'r--', label='$c_{Ol}^{Fo}$')\n",
    "ax.plot(sol.t,sol.y[3],'b--', label='$c_{Lq}^{Fo}$')\n",
    "ax.set_xlabel('Time')\n",
    "ax.set_ylabel('Fo concentration (wt %)')\n",
    "ax.grid()\n",
    "ax.legend(loc='best')\n",
    "plt.show()"
   ]
  },
  {
   "cell_type": "markdown",
   "metadata": {},
   "source": [
    "### Calculate Phase fractions densities total volume"
   ]
  },
  {
   "cell_type": "code",
   "execution_count": 30,
   "metadata": {},
   "outputs": [],
   "source": [
    "def getPhiVrho(sol,T,P):\n",
    "    ''' return phase fractions, densities  and total volume from a reaction path model solution'''\n",
    "    \n",
    "    cFoOl = sol.y[2]\n",
    "    cFoLq = sol.y[3]\n",
    "    \n",
    "    C = rxn.zero_C()\n",
    "    Phi = np.zeros((2,len(sol.t)))\n",
    "    Rho = Phi.copy()\n",
    "    V = np.zeros(len(sol.t))\n",
    "    \n",
    "    for i in range(len(sol.t)):\n",
    "        C[iOl] = [ cFoOl[i], 1. - cFoOl[i]]\n",
    "        C[iLq] = [ cFoLq[i], 1. - cFoLq[i]]\n",
    "        Rho[:,i] = np.array(rxn.rho(T,P,C))\n",
    "        V_i = sol.y[:2,i]/Rho[:,i]\n",
    "        V[i] = V_i.sum()\n",
    "        Phi[:,i] = V_i/V[i]\n",
    "        \n",
    "    return Phi, V, Rho\n",
    "        "
   ]
  },
  {
   "cell_type": "code",
   "execution_count": 31,
   "metadata": {},
   "outputs": [
    {
     "data": {
      "image/png": "[encoded data removed]",
      "text/plain": [
       "<Figure size 1080x360 with 2 Axes>"
      ]
     },
     "metadata": {
      "needs_background": "light"
     },
     "output_type": "display_data"
    }
   ],
   "source": [
    "Phi,V,Rho = getPhiVrho(sol,T,P)\n",
    "\n",
    "fig = plt.figure(figsize=(15,5))\n",
    "ax = fig.add_subplot(1,2,1)\n",
    "ax.plot(sol.t,Phi[0],'r', label='$\\phi_{Ol}$')\n",
    "ax.plot(sol.t,Phi[1],'b', label='$\\phi_{Lq}$')\n",
    "ax.plot(sol.t,Phi[0]+Phi[1],'k--', label='$\\sum\\phi$')\n",
    "ax.set_xlabel('Time')\n",
    "ax.set_ylabel('Phase Fractions')\n",
    "ax.grid()\n",
    "ax.legend(loc='best')\n",
    "\n",
    "ax = fig.add_subplot(1,2,2)\n",
    "ax.plot(sol.t,Rho[0]/10,'r', label='$\\\\rho_{Ol}$ g/cm$^3$')\n",
    "ax.plot(sol.t,Rho[1]/10,'b', label='$\\\\rho_{Lq}$ g/cm$^3$')\n",
    "ax.plot(sol.t,V,'g', label='$V$ J/bar')\n",
    "ax.set_xlabel('Time')\n",
    "ax.set_ylabel('Phase Fractions/Volume')\n",
    "ax.grid()\n",
    "ax.legend(loc='best')\n",
    "plt.show()"
   ]
  },
  {
   "cell_type": "code",
   "execution_count": null,
   "metadata": {},
   "outputs": [],
   "source": []
  }
 ],
 "metadata": {
  "celltoolbar": "Slideshow",
  "kernelspec": {
   "display_name": "Python 3 (ipykernel)",
   "language": "python",
   "name": "python3"
  },
  "language_info": {
   "codemirror_mode": {
    "name": "ipython",
    "version": 3
   },
   "file_extension": ".py",
   "mimetype": "text/x-python",
   "name": "python",
   "nbconvert_exporter": "python",
   "pygments_lexer": "ipython3",
   "version": "3.8.10"
  },
  "latex_envs": {
   "bibliofile": "biblio.bib",
   "cite_by": "apalike",
   "current_citInitial": 1,
   "eqLabelWithNumbers": true,
   "eqNumInitial": 0
  }
 },
 "nbformat": 4,
 "nbformat_minor": 4
}
