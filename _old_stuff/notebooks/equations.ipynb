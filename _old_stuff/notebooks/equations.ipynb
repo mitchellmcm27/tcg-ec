{
 "cells": [
  {
   "cell_type": "code",
   "execution_count": 29,
   "metadata": {},
   "outputs": [
    {
     "name": "stdout",
     "output_type": "stream",
     "text": [
      "A_s*h_{r}**2/kappa - A_s*h_{r}**2*exp(-z/h_{r})/kappa - A_s*h_{r}**2*z/(L*kappa) + A_s*h_{r}**2*z*exp(-L/h_{r})/(L*kappa) + T_S + T_L*z/L - T_S*z/L\n",
      "-A_s*h_{r}**2*m/kappa + A_s*h_{r}**2*m*exp(-L/h_{r})/kappa + A_s*h_{r}**2/kappa - A_s*h_{r}**2*exp(-L*m/h_{r})/kappa + T_L*m - T_S*m + T_S\n",
      "T(z) = \\frac{A_{s} h_{r}^{2}}{\\kappa} - \\frac{A_{s} h_{r}^{2} e^{- \\frac{z}{h_{r}}}}{\\kappa} - \\frac{A_{s} h_{r}^{2} z}{L \\kappa} + \\frac{A_{s} h_{r}^{2} z e^{- \\frac{L}{h_{r}}}}{L \\kappa} + T_{S} + \\frac{T_{L} z}{L} - \\frac{T_{S} z}{L}\n",
      "T(t) = - \\frac{A_{s} \\left(t w_{m} + z_{m0}\\right) \\left(\\frac{h_{r0} t w_{m}}{z_{m0}} + h_{r0}\\right)^{2}}{\\kappa \\left(\\frac{L_{0} t w_{m}}{z_{m0}} + L_{0}\\right)} + \\frac{A_{s} \\left(t w_{m} + z_{m0}\\right) \\left(\\frac{h_{r0} t w_{m}}{z_{m0}} + h_{r0}\\right)^{2} e^{- \\frac{\\frac{L_{0} t w_{m}}{z_{m0}} + L_{0}}{\\frac{h_{r0} t w_{m}}{z_{m0}} + h_{r0}}}}{\\kappa \\left(\\frac{L_{0} t w_{m}}{z_{m0}} + L_{0}\\right)} + \\frac{A_{s} \\left(\\frac{h_{r0} t w_{m}}{z_{m0}} + h_{r0}\\right)^{2}}{\\kappa} - \\frac{A_{s} \\left(\\frac{h_{r0} t w_{m}}{z_{m0}} + h_{r0}\\right)^{2} e^{- \\frac{t w_{m} + z_{m0}}{\\frac{h_{r0} t w_{m}}{z_{m0}} + h_{r0}}}}{\\kappa} + \\frac{T_{L} \\left(t w_{m} + z_{m0}\\right)}{\\frac{L_{0} t w_{m}}{z_{m0}} + L_{0}} - \\frac{T_{S} \\left(t w_{m} + z_{m0}\\right)}{\\frac{L_{0} t w_{m}}{z_{m0}} + L_{0}} + T_{S}\n",
      "T0 = 770.896472022795\n",
      "T1 = 1020.81935660654\n",
      "dTdt = \\frac{2 A_{s} h_{r0}^{2} w_{m} \\left(- L_{0} t w_{m} e^{\\frac{L_{0}}{h_{r0}}} + L_{0} t w_{m} e^{\\frac{L_{0} + z_{m0}}{h_{r0}}} - L_{0} z_{m0} e^{\\frac{L_{0}}{h_{r0}}} + L_{0} z_{m0} e^{\\frac{L_{0} + z_{m0}}{h_{r0}}} + t w_{m} z_{m0} e^{\\frac{z_{m0}}{h_{r0}}} - t w_{m} z_{m0} e^{\\frac{L_{0} + z_{m0}}{h_{r0}}} + z_{m0}^{2} e^{\\frac{z_{m0}}{h_{r0}}} - z_{m0}^{2} e^{\\frac{L_{0} + z_{m0}}{h_{r0}}}\\right) e^{\\frac{- \\frac{12 L_{0} t w_{m}}{t w_{m} + z_{m0}} - \\frac{12 L_{0} z_{m0}}{t w_{m} + z_{m0}} + 11 L_{0} - \\frac{5 t w_{m} z_{m0}}{t w_{m} + z_{m0}} - \\frac{5 z_{m0}^{2}}{t w_{m} + z_{m0}} + 4 z_{m0}}{h_{r0}}}}{L_{0} \\kappa z_{m0}^{2}}\n"
     ]
    },
    {
     "data": {
      "image/png": "[encoded data removed]",
      "text/latex": [
       "$$T_{L} {z'} - T_{S} {z'} + T_{S} - \\alpha {h'}^{2} {z'} \\left(L_{0} {z'} + t w_{m}\\right)^{2} + \\alpha {h'}^{2} {z'} \\left(L_{0} {z'} + t w_{m}\\right)^{2} e^{- \\frac{1}{{h'} {z'}}} + \\alpha {h'}^{2} \\left(L_{0} {z'} + t w_{m}\\right)^{2} - \\alpha {h'}^{2} \\left(L_{0} {z'} + t w_{m}\\right)^{2} e^{- \\frac{1}{{h'}}}$$"
      ],
      "text/plain": [
       "                                                                              \n",
       "                                                                              \n",
       "                                  2                      2         2          \n",
       "T_L⋅{z'} - T_S⋅{z'} + T_S - α⋅{h'} ⋅{z'}⋅(L₀⋅{z'} + t⋅wₘ)  + α⋅{h'} ⋅{z'}⋅(L₀⋅\n",
       "\n",
       "                  -1                                                          \n",
       "               ─────────                                                      \n",
       "            2  {h'}⋅{z'}         2                 2         2                \n",
       "{z'} + t⋅wₘ) ⋅ℯ          + α⋅{h'} ⋅(L₀⋅{z'} + t⋅wₘ)  - α⋅{h'} ⋅(L₀⋅{z'} + t⋅wₘ\n",
       "\n",
       "    -1  \n",
       "    ────\n",
       " 2  {h'}\n",
       ") ⋅ℯ    "
      ]
     },
     "metadata": {},
     "output_type": "display_data"
    },
    {
     "name": "stdout",
     "output_type": "stream",
     "text": [
      "T(t) = T_{L} {z'} - T_{S} {z'} + T_{S} - \\alpha {h'}^{2} {z'} \\left(L_{0} {z'} + t w_{m}\\right)^{2} + \\alpha {h'}^{2} {z'} \\left(L_{0} {z'} + t w_{m}\\right)^{2} e^{- \\frac{1}{{h'} {z'}}} + \\alpha {h'}^{2} \\left(L_{0} {z'} + t w_{m}\\right)^{2} - \\alpha {h'}^{2} \\left(L_{0} {z'} + t w_{m}\\right)^{2} e^{- \\frac{1}{{h'}}}\n",
      "T0 = 770.896472022795\n"
     ]
    }
   ],
   "source": [
    "from sympy import *\n",
    "init_printing()\n",
    "z, t = symbols('z t',positive=True)\n",
    "A, k, h0, z0, L0, H, w, h, L, m, T0 = symbols('A_s kappa h_{r0} z_{m0} L_0 H w_m h_{r} L m T_0', positive=True)\n",
    "Ts,TL = symbols('T_S T_L', positive=True)\n",
    "\n",
    "hprime,zprime,alpha,hprimeprime = symbols(\"{h'} {z'} alpha {h''}\")\n",
    "\n",
    "T = symbols('T',cls=Function)\n",
    "\n",
    "Tsolve = dsolve(k*T(z).diff(z,z) + A*exp(-z/h), T(z), ics={T(0):Ts,T(L):TL})\n",
    "# TL*m - Ts*m + h**2*A*m/k + h**2*A*m/k*exp(-L/h) + Ts + h**2*A/k - h**2*A/k*exp(-L*m/h)\n",
    "\n",
    "Tsolve = Tsolve.simplify()\n",
    "\n",
    "print(Tsolve.rhs)\n",
    "print(Tsolve.rhs.subs(z,m*L).expand().simplify())\n",
    "\n",
    "print(\"T(z) = {}\".format(latex(Tsolve.rhs)))\n",
    "Tmoho = Tsolve.rhs.subs([[z,z0+w*t],[h,h0+w*h0/z0*t],[L,L0+L0/z0*w*t]])\n",
    "print(\"T(t) = {}\".format(latex(Tmoho)))\n",
    "\n",
    "dTdt = diff(Tmoho,t).expand().simplify()\n",
    "Tt = integrate(dTdt,t) + T0\n",
    "\n",
    "vals = {\n",
    "    A: 2.0e-6,\n",
    "    h0: 13.0e3,\n",
    "    w: 1.e-3/3.156e+7, # 1 mm/yr\n",
    "    z0: 30.0e3,\n",
    "    k: 3.0,\n",
    "    Ts: 10.,\n",
    "    TL: 1330.,\n",
    "    L0: 55.e3,\n",
    "    hprime: 13./30.,\n",
    "    hprimeprime: 13./55.,\n",
    "    zprime:30./55.,\n",
    "    alpha:2.0e-6/3.0\n",
    "}\n",
    "\n",
    "print(\"T0 = {}\".format(Tmoho.subs(vals).subs(t,0)))\n",
    "print(\"T1 = {}\".format(Tmoho.subs(vals).subs(t,1.578e+15)))\n",
    "\n",
    "print(\"dTdt = {}\".format(latex(dTdt)))\n",
    "display(Tmoho.subs([[h0,hprime*z0],[z0,zprime*L0],[A/k,alpha]]).simplify())\n",
    "print(\"T(t) = {}\".format(latex(Tmoho.subs([[h0,hprime*z0],[z0,zprime*L0],[A/k,alpha]]).simplify())))\n",
    "print(\"T0 = {}\".format(Tmoho.subs([[h0,hprime*z0],[z0,zprime*L0],[A/k,alpha]]).subs(vals).subs(t,0)))\n"
   ]
  },
  {
   "cell_type": "code",
   "execution_count": null,
   "metadata": {},
   "outputs": [],
   "source": []
  }
 ],
 "metadata": {
  "kernelspec": {
   "display_name": "Python 3",
   "language": "python",
   "name": "python3"
  },
  "language_info": {
   "codemirror_mode": {
    "name": "ipython",
    "version": 3
   },
   "file_extension": ".py",
   "mimetype": "text/x-python",
   "name": "python",
   "nbconvert_exporter": "python",
   "pygments_lexer": "ipython3",
   "version": "3.8.10"
  }
 },
 "nbformat": 4,
 "nbformat_minor": 2
}
