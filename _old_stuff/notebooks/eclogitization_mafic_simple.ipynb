{
 "cells": [
  {
   "cell_type": "code",
   "execution_count": null,
   "metadata": {},
   "outputs": [],
   "source": [
    "import numpy as np\n",
    "from mcm import EcModel\n",
    "\n",
    "reference= 'eclogitization_mafic_simple'"
   ]
  },
  {
   "cell_type": "code",
   "execution_count": null,
   "metadata": {},
   "outputs": [],
   "source": [
    "phases = [\n",
    "    'Clinopyroxene',\n",
    "    'Orthopyroxene',\n",
    "    'Quartz',\n",
    "    'Feldspar', \n",
    "    'Garnet', \n",
    "    'Kyanite',\n",
    "]\n",
    "\n",
    "ems = [\n",
    "    'Diopside', 'Hedenbergite', 'Clinoenstatite', 'CaTschermaks', 'Jadeite',\n",
    "    'Enstatite', 'Ferrosilite', 'MgTschermaks', 'OrthoDiopside',\n",
    "    'Quartz',\n",
    "    'Anorthite','Albite',\n",
    "    'Pyrope', 'Almandine', 'Grossular', 'MgMajorite', 'NaMajorite',\n",
    "    'Kyanite'\n",
    "]\n",
    "\n",
    "# Hacker and Abers 2003\n",
    "# Garnet-Granulite facies, vol%\n",
    "phii0 = [\n",
    "    0.185, # cpx\n",
    "    0.185, # opx\n",
    "    0.00, # quartz\n",
    "    0.35, # feldspar\n",
    "    0.28, # garnet\n",
    "    0.0, # kyanite\n",
    " ]\n",
    "\n",
    "Xik0 = [\n",
    "    [0.28, 0.61, 0., 0., 0.11], # di, hed, *cEn, *cats, jd\n",
    "    [0.5, 0.5, 0., 0.], # en, fs, *mats, *oDi\n",
    "    [1.], # quartz\n",
    "    [0.43, 0.57], # an, ab\n",
    "    [0.36, 0.46, 0.18, 0., 0.], # py, alm, gr, *mgmaj, *namaj\n",
    "    [1.], # kyanite\n",
    "]"
   ]
  },
  {
   "cell_type": "code",
   "execution_count": null,
   "metadata": {},
   "outputs": [],
   "source": [
    "model = EcModel(\n",
    "    reference,\n",
    "    \"eclogitization_agu2_slb_rx\",\n",
    "    phii0=phii0,\n",
    "    Xik0=Xik0,\n",
    "    nT=25,\n",
    "    nP=25\n",
    ")\n",
    "\n",
    "model.run(reload=False,save=True,end_t=1e2)"
   ]
  },
  {
   "cell_type": "code",
   "execution_count": null,
   "metadata": {},
   "outputs": [],
   "source": []
  },
  {
   "cell_type": "code",
   "execution_count": null,
   "metadata": {},
   "outputs": [],
   "source": [
    "bdfdiag.plot_phases()\n",
    "from matplotlib import pyplot as plt\n",
    "plt.savefig('figs/mafic/hp62-pseudosection.pdf')"
   ]
  },
  {
   "cell_type": "code",
   "execution_count": null,
   "metadata": {},
   "outputs": [],
   "source": [
    "bdfdiag = mcm.plot_reaction_grid(\n",
    "    rxn,\n",
    "    grid,\n",
    "    #figure_background=\"figures/hp62-density-cropped.png\",\n",
    "    figure_xlim=[Tmin, Tmax],\n",
    "    figure_ylim=[Pmin, Pmax],\n",
    ")\n",
    "\n",
    "s=bdfdiag.plot_rho()\n",
    "s.set_clim([25., 35.])\n",
    "s.set_cmap('jet')\n",
    "plt.savefig('figs/mafic/hp62-density.pdf')"
   ]
  },
  {
   "cell_type": "code",
   "execution_count": null,
   "metadata": {},
   "outputs": [],
   "source": [
    "s=bdfdiag.plot_rho_contours()\n",
    "plt.savefig('figs/mafic/hp62-density-contours.pdf')"
   ]
  },
  {
   "cell_type": "code",
   "execution_count": null,
   "metadata": {},
   "outputs": [],
   "source": [
    "bdfdiag = mcm.plot_reaction_grid(rxn,grid)\n",
    "bdfdiag.plot_stime()"
   ]
  },
  {
   "cell_type": "code",
   "execution_count": null,
   "metadata": {},
   "outputs": [],
   "source": [
    "i0 = 2 # doesn't matter as long as you pass cik0\n",
    "end = 10 # end time\n",
    "\n",
    "bdfgrid = PDReactiveGrid()\n",
    "\n",
    "Trange = [1000.]\n",
    "Prange = np.linspace(0.25, 5.0, 40)\n",
    "Dagrid = [[None for j in range(len(Trange))] for i in range(len(Prange))]\n",
    "porosity = [[None for j in range(len(Trange))] for i in range(len(Prange))]\n",
    "\n",
    "for i, p in enumerate(Prange):\n",
    "    for j, t in enumerate(Trange):\n",
    "        poro = (1.0 + np.tanh((p - 3.0)*3.0))/2 # 0 to 1\n",
    "        Da_val = 0.0001 + ((poro)**10.)\n",
    "        Dagrid[i][j] = Da_val\n",
    "        porosity[i][j] = poro\n",
    "\n",
    "Dagrid = np.asarray(Dagrid)\n",
    "\n",
    "from matplotlib import pyplot as plt\n",
    "plt.plot(Dagrid, Prange)\n",
    "plt.show()\n",
    "\n",
    "rxn = mcm.get_reaction(\"eclogitization_agu_slb_rx\")\n",
    "\n",
    "\n",
    "bdfgrid.solve(rxn, ScipyPDReactiveODE, i0, ['T', 'p'], Trange, Prange, end, Cik0=Cik0, mi0=mi0, Da=0.0001)\n",
    "bdfdiag = PDReactiveGridDiagnostics(rxn,bdfgrid)\n",
    "rho2 = bdfdiag.rhogrid()\n",
    "\n",
    "bdfgrid.solve(rxn, ScipyPDReactiveODE, i0, ['T', 'p'], Trange, Prange, end, Cik0=Cik0, mi0=mi0, Da=10.0)\n",
    "bdfdiag = PDReactiveGridDiagnostics(rxn,bdfgrid)\n",
    "rho3 = bdfdiag.rhogrid()\n",
    "\n",
    "bdfgrid.solve(rxn, ScipyPDReactiveODE, i0, ['T', 'p'], Trange, Prange, end, Cik0=Cik0, mi0=mi0, Da=Dagrid)\n",
    "bdfdiag = PDReactiveGridDiagnostics(rxn,bdfgrid)\n",
    "rho1 = bdfdiag.rhogrid()"
   ]
  },
  {
   "cell_type": "code",
   "execution_count": null,
   "metadata": {},
   "outputs": [],
   "source": [
    "from matplotlib import pyplot as plt\n",
    "fig, ax1 = plt.subplots(figsize=(3, 6))\n",
    "im = ax1.imshow(porosity, cmap=\"Blues\", extent=(20,50,0.25/3000/9.8*1e6,5.0/3000/9.8*1e6), origin=\"lower\", alpha=1., interpolation='bilinear', aspect='auto')\n",
    "im.set_clim(0.0, 1.8)\n",
    "ax1.set_ylim(0.25/3000/9.8*1e6,5/3000/9.8*1e6)\n",
    "ax1.plot(rho2, bdfdiag.grid.ygrid/3000/9.8*1e6, 'k--', alpha=0.5)\n",
    "ax1.plot(rho3, bdfdiag.grid.ygrid/3000/9.8*1e6, 'k:', alpha=0.5)\n",
    "ax1.plot(rho1, bdfdiag.grid.ygrid/3000/9.8*1e6, 'k')\n",
    "ax1.set_xlim(27,35)\n",
    "ax1.set_xlabel(\"Density (kg/m$^3$)\")\n",
    "ax1.set_ylabel(\"Depth (km, $T=1000$ K)\")\n",
    "\n",
    "ax2 = ax1.twiny()\n",
    "ax2.set_xlim(-0.1,1.1)\n",
    "ax2.plot(Dagrid, bdfdiag.grid.ygrid/3000/9.8*1e6, 'b', linewidth=0.75)\n",
    "\n",
    "blue = [0.6,0.7,0.9]\n",
    "s = ax2.scatter([1],[1], marker='s', color=blue)\n",
    "ax2.set_xlabel(\"Damköhler no.\")\n",
    "ax2.legend(['$Da(\\\\phi)$', '$\\\\phi(P)$'])\n",
    "s.remove()\n",
    "ax1.legend(['$\\\\rho, Da=0.0001$', '$\\\\rho, Da=10$','$\\\\rho, Da(\\\\phi)$'],loc=\"lower left\")\n",
    "ax2.xaxis.label.set_color('blue')\n",
    "ax2.tick_params(axis='x', colors='blue')\n",
    "plt.gca().invert_yaxis()\n",
    "plt.savefig('figs/mafic/da-model.pdf')"
   ]
  },
  {
   "cell_type": "code",
   "execution_count": null,
   "metadata": {},
   "outputs": [],
   "source": []
  }
 ],
 "metadata": {
  "kernelspec": {
   "display_name": "Python 3 (ipykernel)",
   "language": "python",
   "name": "python3"
  },
  "language_info": {
   "codemirror_mode": {
    "name": "ipython",
    "version": 3
   },
   "file_extension": ".py",
   "mimetype": "text/x-python",
   "name": "python",
   "nbconvert_exporter": "python",
   "pygments_lexer": "ipython3",
   "version": "3.8.10"
  },
  "vscode": {
   "interpreter": {
    "hash": "31f2aee4e71d21fbe5cf8b01ff0e069b9275f58929596ceb00d14d90e3e16cd6"
   }
  }
 },
 "nbformat": 4,
 "nbformat_minor": 4
}
