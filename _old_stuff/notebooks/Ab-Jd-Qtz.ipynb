{
 "cells": [
  {
   "cell_type": "code",
   "execution_count": null,
   "metadata": {},
   "outputs": [],
   "source": [
    "sys.path.append(os.path.join(os.path.pardir, 'python')) # the final slash is necessary!\n",
    "\n",
    "import warnings\n",
    "import numpy as np\n",
    "\n",
    "warnings.simplefilter(action='ignore', category=DeprecationWarning)\n",
    "warnings.simplefilter(action='ignore', category=np.VisibleDeprecationWarning)\n",
    "\n",
    "from thermoengine.const import units\n",
    "import sys, os\n",
    "\n",
    "from tcg_slb.phasediagram.equilibrate import EquilibratePD, EquilibratePDGrid, PDEquilibrateGridDiagnostics\n",
    "from tcg_slb.base import *\n",
    "from thermoengine.equilibrate import PhaseLibrary\n",
    "import thermoengine as thermo\n",
    "\n",
    "mol_comp = {\n",
    "    \"SiO2\": 10.,\n",
    "    \"Al2O3\":1.,\n",
    "    \"Na2O\":1.,\n",
    "}\n",
    "\n",
    "\n",
    "Tmin = 150+273\n",
    "Tmax = 1000+273\n",
    "nT = 40\n",
    "Trange = np.linspace(Tmin,Tmax,nT)\n",
    "Pmin = 0\n",
    "Pmax = 2.5\n",
    "nP = 40\n",
    "Prange = np.linspace(Pmin,Pmax,nP)\n",
    "\n",
    "comp = thermo.OxideMolComp(**mol_comp)\n"
   ]
  },
  {
   "cell_type": "code",
   "execution_count": null,
   "metadata": {},
   "outputs": [],
   "source": [
    "\n",
    "db = thermo.model.Database(database='Stixrude')\n",
    "\n",
    "phases = db.get_phases([\n",
    "        \"Qz\",\n",
    "        #\"Grt\",  \n",
    "        \"Jd\",\n",
    "        #\"En\",\"Fs\",\n",
    "        #\"Ky\",\n",
    "        \"Ab\", #\"Fsp\",\n",
    "        #\"Rt\",\"Ilm\",\n",
    "        #\"Mc\"\n",
    "    ])\n",
    "\n",
    "phase_library = PhaseLibrary(phases)\n",
    "\n",
    "eq = EquilibratePD(phase_library) \n",
    "\n",
    "equilgrid = EquilibratePDGrid()\n",
    "\n",
    "equilgrid.solve(phase_library, ['T', 'p'], Trange, Prange,**{'comp':comp})"
   ]
  },
  {
   "cell_type": "code",
   "execution_count": null,
   "metadata": {},
   "outputs": [],
   "source": [
    "\n",
    "equildiag = PDEquilibrateGridDiagnostics(phase_library, equilgrid)\n",
    "equildiag.plot_rho()\n",
    "equildiag.plot_phases()"
   ]
  },
  {
   "cell_type": "code",
   "execution_count": null,
   "metadata": {},
   "outputs": [],
   "source": []
  },
  {
   "cell_type": "code",
   "execution_count": null,
   "metadata": {},
   "outputs": [],
   "source": [
    "db = thermo.model.Database(database='Berman')\n",
    "phases = db.get_phases([\n",
    "        \"Qz\",\n",
    "        #\"Grt\",  \n",
    "        \"Jd\",\n",
    "        #\"En\",\"Fs\",\n",
    "        #\"Ky\",\n",
    "        \"Ab\", #\"Fsp\",\n",
    "        #\"Rt\",\"Ilm\",\n",
    "        #\"Mc\"\n",
    "    ])\n",
    "\n",
    "phase_library = PhaseLibrary(phases)\n",
    "\n",
    "comp = thermo.OxideMolComp(**mol_comp)\n",
    "\n",
    "equilgrid = EquilibratePDGrid()\n",
    "equilgrid.solve(phase_library, ['T', 'p'], Trange, Prange,**{'comp':comp})"
   ]
  },
  {
   "cell_type": "code",
   "execution_count": null,
   "metadata": {},
   "outputs": [],
   "source": [
    "equildiag = PDEquilibrateGridDiagnostics(phase_library, equilgrid)\n",
    "equildiag.plot_rho()\n",
    "equildiag.plot_phases()"
   ]
  },
  {
   "cell_type": "code",
   "execution_count": null,
   "metadata": {},
   "outputs": [],
   "source": [
    "sys.path.append(os.path.join(os.path.pardir, 'database', 'install', 'tcg_hgp_database', 'lib', 'python3.9', 'site-packages/')) # the final slash is necessary!\n",
    "import py_tcg_hgp_database as hgp\n",
    "\n",
    "db = thermo.model.Database.from_thermocodegen(hgp)\n",
    "\n",
    "phases = db.get_phases([\n",
    "        \"q\",\n",
    "        \"jd\",\n",
    "        \"ab\",\n",
    "    ])\n",
    "\n",
    "phase_library = PhaseLibrary(phases)\n",
    "\n",
    "comp = thermo.OxideMolComp(**mol_comp)\n",
    "\n",
    "equilgrid = EquilibratePDGrid()\n",
    "equilgrid.solve(phase_library, ['T', 'p'], Trange, Prange,**{'comp':comp})"
   ]
  },
  {
   "cell_type": "code",
   "execution_count": null,
   "metadata": {},
   "outputs": [],
   "source": [
    "equildiag = PDEquilibrateGridDiagnostics(phase_library, equilgrid)\n",
    "equildiag.plot_rho()\n",
    "equildiag.plot_phases()"
   ]
  },
  {
   "cell_type": "code",
   "execution_count": null,
   "metadata": {},
   "outputs": [],
   "source": []
  }
 ],
 "metadata": {
  "kernelspec": {
   "display_name": "Python 3.10.6 64-bit",
   "language": "python",
   "name": "python3"
  },
  "language_info": {
   "codemirror_mode": {
    "name": "ipython",
    "version": 3
   },
   "file_extension": ".py",
   "mimetype": "text/x-python",
   "name": "python",
   "nbconvert_exporter": "python",
   "pygments_lexer": "ipython3",
   "version": "3.9.6"
  },
  "orig_nbformat": 4,
  "vscode": {
   "interpreter": {
    "hash": "31f2aee4e71d21fbe5cf8b01ff0e069b9275f58929596ceb00d14d90e3e16cd6"
   }
  }
 },
 "nbformat": 4,
 "nbformat_minor": 2
}
