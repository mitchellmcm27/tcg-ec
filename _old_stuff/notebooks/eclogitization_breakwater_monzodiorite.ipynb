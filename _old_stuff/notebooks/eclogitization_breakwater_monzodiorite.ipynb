{
 "cells": [
  {
   "cell_type": "code",
   "execution_count": null,
   "metadata": {},
   "outputs": [],
   "source": [
    "from mcm import EcModel\n",
    "reference= 'eclogitization_breakwater_monzodiorite'"
   ]
  },
  {
   "cell_type": "code",
   "execution_count": null,
   "metadata": {},
   "outputs": [],
   "source": [
    "phases = [\n",
    "    'Clinopyroxene',\n",
    "    'Orthopyroxene',\n",
    "    'Quartz',\n",
    "    'Feldspar', \n",
    "    'Garnet', \n",
    "    'Kyanite',\n",
    "]\n",
    "\n",
    "ems = [\n",
    "    'Diopside', 'Hedenbergite', 'Clinoenstatite', 'CaTschermaks', 'Jadeite',\n",
    "    'Enstatite', 'Ferrosilite', 'MgTschermaks', 'OrthoDiopside',\n",
    "    'Quartz',\n",
    "    'Anorthite','Albite',\n",
    "    'Pyrope', 'Almandine', 'Grossular', 'MgMajorite', 'NaMajorite',\n",
    "    'Kyanite'\n",
    "]\n",
    "\n",
    "# mass fractions of the phases\n",
    "## Grt-Opx-Cpx granulite\n",
    "## given as volume fractions\n",
    "phii0 = [\n",
    "    0.16, # cpx\n",
    "    0.14, # opx\n",
    "    0.0, # quartz\n",
    "    0.57+0.05, # plag + k-spar\n",
    "    0.0, # garnet\n",
    "    0.08, # kyanite\n",
    " ]\n",
    "\n",
    "xCpx =  0.229 # Fe/(Fe+Mg)\n",
    "jCpx =  0.179 # Na/(Ca+Na)\n",
    "xGrt =  0.588 # Fe/(Fe+Mg)\n",
    "zGrt =  0.157 # Ca/(Ca+Mg+Fe[2+])\n",
    "xOpx =  0.364 # Fe/(Fe+Mg)\n",
    "yOpx =  0.090 # Si+Al-2 ??\n",
    "NaKfs = 0.248 # Na/(Na+Ca+K)\n",
    "CaKfs = 0.020 # Ca/(Ca+Na+K)\n",
    "CaPl =  0.391 # Ca/(Ca+Na+K)\n",
    "KPl =   0.052 # K/(K+Ca+Na)\n",
    "\n",
    "\n",
    "# assume all feldspar is plag,\n",
    "# assume plag is binary soln\n",
    "# convert from ternary feldspar to binary\n",
    "\n",
    "NaPl = 1 - CaPl - KPl # Na in plag with K\n",
    "NaPl = NaPl/(NaPl+CaPl) # renormalize Na without K\n",
    "CaPl = 1 - NaPl # renormalize Ca without K, Na + Ca = 1\n",
    "\n",
    "Xik0 = [\n",
    "    #CaMg           CaFe                       NaAl\n",
    "    [(1-jCpx)*xCpx, (1-jCpx)*(1-xCpx), 0., 0., jCpx], # di, hed, *cEn, *cats, jd\n",
    "\n",
    "    #Mg      Fe\n",
    "    [1-xOpx, xOpx, 0., 0.], # en, fs, *mgts, *oDi\n",
    "\n",
    "    [1.], # quartz\n",
    "\n",
    "    #Ca,   Na\n",
    "    [CaPl, NaPl], # an, ab\n",
    "    \n",
    "    #Mg3,               Fe3,           Ca3\n",
    "    [(1-zGrt)*(1-xGrt), (1-zGrt)*xGrt, zGrt, 0., 0.], # py, alm, gr, *mgmaj, *namaj\n",
    "\n",
    "    [1.], # kyanite\n",
    "]\n"
   ]
  },
  {
   "cell_type": "code",
   "execution_count": null,
   "metadata": {},
   "outputs": [],
   "source": [
    "model = EcModel(\n",
    "    reference,\n",
    "    \"eclogitization_agu3_slb_rx\",\n",
    "    phii0=phii0,\n",
    "    Xik0=Xik0,\n",
    "    P0=1.95,\n",
    "    T0=850.+273.15\n",
    ")\n",
    "\n",
    "model.run(reload=False,save=True,end_t=1e4)"
   ]
  },
  {
   "cell_type": "code",
   "execution_count": null,
   "metadata": {},
   "outputs": [],
   "source": []
  },
  {
   "cell_type": "code",
   "execution_count": null,
   "metadata": {},
   "outputs": [],
   "source": []
  }
 ],
 "metadata": {
  "kernelspec": {
   "display_name": "Python 3 (ipykernel)",
   "language": "python",
   "name": "python3"
  },
  "language_info": {
   "codemirror_mode": {
    "name": "ipython",
    "version": 3
   },
   "file_extension": ".py",
   "mimetype": "text/x-python",
   "name": "python",
   "nbconvert_exporter": "python",
   "pygments_lexer": "ipython3",
   "version": "3.8.10"
  },
  "vscode": {
   "interpreter": {
    "hash": "31f2aee4e71d21fbe5cf8b01ff0e069b9275f58929596ceb00d14d90e3e16cd6"
   }
  }
 },
 "nbformat": 4,
 "nbformat_minor": 4
}
