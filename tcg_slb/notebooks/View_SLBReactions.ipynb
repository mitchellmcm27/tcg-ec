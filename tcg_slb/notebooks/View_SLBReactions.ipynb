{
 "cells": [
  {
   "cell_type": "markdown",
   "metadata": {},
   "source": [
    "# Reaction Construction"
   ]
  },
  {
   "cell_type": "code",
   "execution_count": 1,
   "metadata": {},
   "outputs": [],
   "source": [
    "import os,sys\n",
    "import pandas as pd\n",
    "import numpy as np\n",
    "import sympy as sym\n",
    "import time\n",
    "import re\n",
    "import types\n",
    "import ast\n",
    "import sys\n",
    "sym.init_printing()\n",
    "\n",
    "sys.path.append(os.path.join(os.path.pardir, 'python'))\n",
    "from tcg_slb.reactions import SLBReactions\n",
    "\n",
    "#pd.set_option(\"display.max_columns\", None)\n",
    "#pd.set_option(\"display.max_rows\", None)"
   ]
  },
  {
   "cell_type": "code",
   "execution_count": 2,
   "metadata": {},
   "outputs": [
    {
     "data": {
      "text/plain": [
       "'file:///data/cwilson/repos/gitlab/cianwilson/tcg_slb/database/tcg_slb_database.tar.gz'"
      ]
     },
     "execution_count": 2,
     "metadata": {},
     "output_type": "execute_result"
    }
   ],
   "source": [
    "dbfile = os.path.abspath(os.path.join(os.path.pardir, 'database', 'tcg_slb_database.tar.gz'))\n",
    "dbpath = \"file://{}\".format(dbfile)\n",
    "dbpath"
   ]
  },
  {
   "cell_type": "code",
   "execution_count": 3,
   "metadata": {
    "tags": []
   },
   "outputs": [],
   "source": [
    "reference= 'View_SLBReactions'"
   ]
  },
  {
   "cell_type": "code",
   "execution_count": 4,
   "metadata": {},
   "outputs": [
    {
     "name": "stdout",
     "output_type": "stream",
     "text": [
      "Overriding T0 -- already exists in model_dict\n",
      "Overriding R -- already exists in model_dict\n",
      "Overriding T0 -- already exists in model_dict\n",
      "Overriding R -- already exists in model_dict\n",
      "Overriding T0 -- already exists in model_dict\n",
      "Overriding R -- already exists in model_dict\n",
      "Overriding T0 -- already exists in model_dict\n",
      "Overriding R -- already exists in model_dict\n",
      "Overriding T0 -- already exists in model_dict\n",
      "Overriding R -- already exists in model_dict\n",
      "Overriding T0 -- already exists in model_dict\n",
      "Overriding R -- already exists in model_dict\n",
      "Overriding T0 -- already exists in model_dict\n",
      "Overriding R -- already exists in model_dict\n",
      "Overriding T0 -- already exists in model_dict\n",
      "Overriding R -- already exists in model_dict\n",
      "Overriding T0 -- already exists in model_dict\n",
      "Overriding R -- already exists in model_dict\n",
      "Overriding T0 -- already exists in model_dict\n",
      "Overriding R -- already exists in model_dict\n",
      "Overriding T0 -- already exists in model_dict\n",
      "Overriding R -- already exists in model_dict\n",
      "Overriding T0 -- already exists in model_dict\n",
      "Overriding R -- already exists in model_dict\n",
      "Overriding T0 -- already exists in model_dict\n",
      "Overriding R -- already exists in model_dict\n",
      "Overriding T0 -- already exists in model_dict\n",
      "Overriding R -- already exists in model_dict\n",
      "Overriding T0 -- already exists in model_dict\n",
      "Overriding R -- already exists in model_dict\n",
      "Overriding T0 -- already exists in model_dict\n",
      "Overriding R -- already exists in model_dict\n",
      "Overriding T0 -- already exists in model_dict\n",
      "Overriding R -- already exists in model_dict\n",
      "Overriding T0 -- already exists in model_dict\n",
      "Overriding R -- already exists in model_dict\n",
      "Overriding T0 -- already exists in model_dict\n",
      "Overriding R -- already exists in model_dict\n",
      "Overriding T0 -- already exists in model_dict\n",
      "Overriding R -- already exists in model_dict\n"
     ]
    }
   ],
   "source": [
    "# All MgFeSiO4 reactions\n",
    "phases = ['Olivine_slb_ph', 'Wadsleyite_slb_ph', 'Ringwoodite_slb_ph', \\\n",
    "          'MgFePerovskite_slb_ph', 'Magnesiowuestite_slb_ph', 'Stishovite_slb_ph']\n",
    "reactions = []\n",
    "reactions.append(([['Olivine_slb_ph','Forsterite_slb_em']],\n",
    "                  [['Wadsleyite_slb_ph','MgWadsleyite_slb_em']]))\n",
    "reactions.append(([['Olivine_slb_ph','Fayalite_slb_em']],\n",
    "                  [['Wadsleyite_slb_ph','FeWadsleyite_slb_em']]))\n",
    "reactions.append(([['Olivine_slb_ph','Forsterite_slb_em']],\n",
    "                  [['Ringwoodite_slb_ph','MgRingwoodite_slb_em']]))\n",
    "reactions.append(([['Olivine_slb_ph','Fayalite_slb_em']],\n",
    "                  [['Ringwoodite_slb_ph','FeRingwoodite_slb_em']]))\n",
    "reactions.append(([['Wadsleyite_slb_ph','MgWadsleyite_slb_em']],\n",
    "                  [['Ringwoodite_slb_ph','MgRingwoodite_slb_em']]))\n",
    "reactions.append(([['Wadsleyite_slb_ph','FeWadsleyite_slb_em']],\n",
    "                  [['Ringwoodite_slb_ph','FeRingwoodite_slb_em']]))\n",
    "reactions.append(([['Olivine_slb_ph','Forsterite_slb_em']],\n",
    "                  [['MgFePerovskite_slb_ph','MgPerovskite_slb_em'],\n",
    "                   ['Magnesiowuestite_slb_ph','Periclase_slb_em']]))\n",
    "reactions.append(([['Olivine_slb_ph','Fayalite_slb_em']],\n",
    "                  [['MgFePerovskite_slb_ph','FePerovskite_slb_em'],\n",
    "                   ['Magnesiowuestite_slb_ph','Wuestite_slb_em']]))\n",
    "reactions.append(([['Olivine_slb_ph','Forsterite_slb_em']],\n",
    "                  [['Magnesiowuestite_slb_ph','Periclase_slb_em'],\n",
    "                   ['Stishovite_slb_ph','Stishovite_slb_em']]))\n",
    "reactions.append(([['Olivine_slb_ph','Fayalite_slb_em']],\n",
    "                  [['Magnesiowuestite_slb_ph','Wuestite_slb_em'],\n",
    "                   ['Stishovite_slb_ph','Stishovite_slb_em']]))\n",
    "reactions.append(([['Wadsleyite_slb_ph','MgWadsleyite_slb_em']],\n",
    "                  [['MgFePerovskite_slb_ph','MgPerovskite_slb_em'],\n",
    "                   ['Magnesiowuestite_slb_ph','Periclase_slb_em']]))\n",
    "reactions.append(([['Wadsleyite_slb_ph','FeWadsleyite_slb_em']],\n",
    "                  [['MgFePerovskite_slb_ph','FePerovskite_slb_em'],\n",
    "                   ['Magnesiowuestite_slb_ph','Wuestite_slb_em']]))\n",
    "reactions.append(([['Wadsleyite_slb_ph','MgWadsleyite_slb_em']],\n",
    "                  [['Magnesiowuestite_slb_ph','Periclase_slb_em'],\n",
    "                   ['Stishovite_slb_ph','Stishovite_slb_em']]))\n",
    "reactions.append(([['Wadsleyite_slb_ph','FeWadsleyite_slb_em']],\n",
    "                  [['Magnesiowuestite_slb_ph','Wuestite_slb_em'],\n",
    "                   ['Stishovite_slb_ph','Stishovite_slb_em']]))\n",
    "reactions.append(([['Ringwoodite_slb_ph','MgRingwoodite_slb_em']],\n",
    "                  [['MgFePerovskite_slb_ph','MgPerovskite_slb_em'],\n",
    "                   ['Magnesiowuestite_slb_ph','Periclase_slb_em']]))\n",
    "reactions.append(([['Ringwoodite_slb_ph','FeRingwoodite_slb_em']],\n",
    "                  [['MgFePerovskite_slb_ph','FePerovskite_slb_em'],\n",
    "                   ['Magnesiowuestite_slb_ph','Wuestite_slb_em']]))\n",
    "reactions.append(([['Ringwoodite_slb_ph','MgRingwoodite_slb_em']],\n",
    "                  [['Magnesiowuestite_slb_ph','Periclase_slb_em'],\n",
    "                   ['Stishovite_slb_ph','Stishovite_slb_em']]))\n",
    "reactions.append(([['Ringwoodite_slb_ph','FeRingwoodite_slb_em']],\n",
    "                  [['Magnesiowuestite_slb_ph','Wuestite_slb_em'],\n",
    "                   ['Stishovite_slb_ph','Stishovite_slb_em']]))\n",
    "reactions.append(([['MgFePerovskite_slb_ph','MgPerovskite_slb_em']],\n",
    "                  [['Magnesiowuestite_slb_ph','Periclase_slb_em'],\n",
    "                   ['Stishovite_slb_ph','Stishovite_slb_em']]))\n",
    "reactions.append(([['MgFePerovskite_slb_ph','FePerovskite_slb_em']],\n",
    "                  [['Magnesiowuestite_slb_ph','Wuestite_slb_em'],\n",
    "                   ['Stishovite_slb_ph','Stishovite_slb_em']]))\n",
    "reactions.append(([['MgFePerovskite_slb_ph','MgPerovskite_slb_em'],\n",
    "                   ['Magnesiowuestite_slb_ph','Wuestite_slb_em']],\n",
    "                  [['MgFePerovskite_slb_ph','FePerovskite_slb_em'],\n",
    "                   ['Magnesiowuestite_slb_ph','Periclase_slb_em']]))\n",
    "slbrxn = SLBReactions('MgFeSiO4_slb_all_rn',\n",
    "                       len(reactions), phases, dbpath, reference)\n",
    "for reaction in reactions: slbrxn.add_reaction(*reaction)"
   ]
  },
  {
   "cell_type": "code",
   "execution_count": 5,
   "metadata": {},
   "outputs": [
    {
     "data": {
      "text/plain": [
       "[('T0', 'K', T0), ('R', 'J/mol/K', R)]"
      ]
     },
     "execution_count": 5,
     "metadata": {},
     "output_type": "execute_result"
    }
   ],
   "source": [
    "slbrxn.params()"
   ]
  },
  {
   "cell_type": "code",
   "execution_count": 6,
   "metadata": {},
   "outputs": [
    {
     "data": {
      "text/plain": [
       "{'name': 'MgFeSiO4_slb_all_rn',\n",
       " 'reference': 'View_SLBReactions',\n",
       " 'T0': 2000.0,\n",
       " 'R': 8.31446261815324}"
      ]
     },
     "execution_count": 6,
     "metadata": {},
     "output_type": "execute_result"
    }
   ],
   "source": [
    "slbrxn.values_dict()"
   ]
  },
  {
   "cell_type": "code",
   "execution_count": null,
   "metadata": {},
   "outputs": [],
   "source": []
  }
 ],
 "metadata": {
  "kernelspec": {
   "display_name": "Python 3",
   "language": "python",
   "name": "python3"
  },
  "language_info": {
   "codemirror_mode": {
    "name": "ipython",
    "version": 3
   },
   "file_extension": ".py",
   "mimetype": "text/x-python",
   "name": "python",
   "nbconvert_exporter": "python",
   "pygments_lexer": "ipython3",
   "version": "3.8.10"
  }
 },
 "nbformat": 4,
 "nbformat_minor": 4
}
