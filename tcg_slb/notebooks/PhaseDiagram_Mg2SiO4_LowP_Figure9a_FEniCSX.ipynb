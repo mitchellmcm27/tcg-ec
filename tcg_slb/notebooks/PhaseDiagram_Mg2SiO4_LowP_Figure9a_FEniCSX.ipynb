{
 "cells": [
  {
   "cell_type": "code",
   "execution_count": 1,
   "metadata": {
    "tags": []
   },
   "outputs": [],
   "source": [
    "import sys, os\n",
    "import numpy as np\n",
    "\n",
    "sys.path.append(os.path.join(os.path.pardir, 'python'))\n",
    "from tcg_slb.phasediagram.fenicsx import PDReactiveODE, TSProblem\n",
    "from tcg_slb.base import *"
   ]
  },
  {
   "cell_type": "code",
   "execution_count": 2,
   "metadata": {},
   "outputs": [],
   "source": [
    "pv = repr(sys.version_info.major)+'.'+repr(sys.version_info.minor)\n",
    "sys.path.append(os.path.join(os.path.pardir, 'database', 'install', 'MgFeSiO4_all_slb_rx', 'lib', 'python'+pv, 'site-packages'))\n",
    "\n",
    "import py_MgFeSiO4_all_slb_rx as tcgdb\n",
    "rxn = tcgdb.MgFeSiO4_all_slb_rx()\n",
    "#rxn.report()"
   ]
  },
  {
   "cell_type": "raw",
   "metadata": {},
   "source": [
    "pv = repr(sys.version_info.major)+'.'+repr(sys.version_info.minor)\n",
    "sys.path.append(os.path.join(os.path.pardir, 'database', 'install', 'Mg2SiO4_olwari_slb_rx', 'lib', 'python'+pv, 'site-packages'))\n",
    "\n",
    "import py_Mg2SiO4_olwari_slb_rx as tcgdb\n",
    "rxn = tcgdb.Mg2SiO4_olwari_slb_rx()\n",
    "rxn.report()"
   ]
  },
  {
   "cell_type": "code",
   "execution_count": null,
   "metadata": {},
   "outputs": [],
   "source": []
  },
  {
   "cell_type": "markdown",
   "metadata": {},
   "source": [
    "#### Temperature, pressure, composition"
   ]
  },
  {
   "cell_type": "code",
   "execution_count": 3,
   "metadata": {},
   "outputs": [],
   "source": [
    "# initial temperature, pressure and phase volume fraction\n",
    "Ti = 1150.                # Kelvin\n",
    "pi = GPa2Bar(23.5)         # bars\n",
    "ci0k0 = 0.8\n",
    "i0 =  0                   # initial phase index"
   ]
  },
  {
   "cell_type": "code",
   "execution_count": 4,
   "metadata": {},
   "outputs": [
    {
     "data": {
      "text/plain": [
       "array([1. , 0. , 0. , 0. , 0. , 0. , 0.8, 0.2, 0.8, 0.2, 0.8, 0.2, 0.8,\n",
       "       0.2, 0.8, 0.2, 1. ])"
      ]
     },
     "execution_count": 4,
     "metadata": {},
     "output_type": "execute_result"
    }
   ],
   "source": [
    "problem = PDReactiveODE(rxn)\n",
    "problem.T = Ti\n",
    "problem.pi = pi\n",
    "problem.i0 = i0\n",
    "problem.ci0k0 = 0.8\n",
    "problem.initialize()\n",
    "problem.us_i.x.array"
   ]
  },
  {
   "cell_type": "code",
   "execution_count": 5,
   "metadata": {},
   "outputs": [],
   "source": [
    "ode = TSProblem(problem)"
   ]
  },
  {
   "cell_type": "markdown",
   "metadata": {},
   "source": [
    "### Solve the system of reactive ODEs at a fixed pressure and temperature"
   ]
  },
  {
   "cell_type": "code",
   "execution_count": 6,
   "metadata": {
    "scrolled": true,
    "tags": []
   },
   "outputs": [],
   "source": [
    "ode.solve(ts_max_time=10.0)"
   ]
  },
  {
   "cell_type": "code",
   "execution_count": 12,
   "metadata": {},
   "outputs": [
    {
     "data": {
      "text/plain": [
       "5.496264280001924"
      ]
     },
     "execution_count": 12,
     "metadata": {},
     "output_type": "execute_result"
    }
   ],
   "source": [
    "ode.stime"
   ]
  },
  {
   "cell_type": "code",
   "execution_count": 8,
   "metadata": {},
   "outputs": [
    {
     "data": {
      "text/plain": [
       "(array(['Periclase_slb_ph', 'MgAkimotoite_slb_ph'], dtype='<U20'),\n",
       " array(['pe', 'mgak'], dtype='<U4'))"
      ]
     },
     "execution_count": 8,
     "metadata": {},
     "output_type": "execute_result"
    }
   ],
   "source": [
    "ode.final_phases(1.e-2)"
   ]
  },
  {
   "cell_type": "markdown",
   "metadata": {},
   "source": [
    "## Plotting"
   ]
  },
  {
   "cell_type": "raw",
   "metadata": {},
   "source": [
    "ode.plot()"
   ]
  },
  {
   "cell_type": "markdown",
   "metadata": {},
   "source": [
    "## Solve for a grid"
   ]
  },
  {
   "cell_type": "raw",
   "metadata": {},
   "source": [
    "reload = True\n",
    "\n",
    "import pickle\n",
    "\n",
    "filename = os.path.join('output', 'scipy_bdfgrid_mg2sio4_lowp.pickle')\n",
    "\n",
    "if reload:\n",
    "    pfile = open(filename, 'rb')\n",
    "    bdfgrid = pickle.load(pfile)\n",
    "    pfile.close()\n",
    "else:\n",
    "    i0 = 0\n",
    "    p_n = 60\n",
    "    p_min = 0.0 + 0.5*29/p_n\n",
    "    p_max = 29.0 - 0.5*29/p_n\n",
    "    p_range = np.linspace(p_min, p_max, p_n)\n",
    "    T_n = 50\n",
    "    T_min =  800. + 0.5*2000/T_n\n",
    "    T_max = 2800. - 0.5*2000/T_n\n",
    "    T_range = np.linspace(T_min, T_max, T_n)\n",
    "    end = 1e5\n",
    "    bdfgrid = PDReactiveGrid()\n",
    "    bdfgrid.solve(rxn, ScipyPDReactiveODE, i0, ['p', 'T'], p_range, T_range, end, **{'Cik0':Cik0})"
   ]
  },
  {
   "cell_type": "raw",
   "metadata": {},
   "source": [
    "save = True\n",
    "\n",
    "if not reload and save:\n",
    "        pfile = open(filename, 'wb')\n",
    "        pickle.dump(bdfgrid, pfile)\n",
    "        pfile.close()"
   ]
  },
  {
   "cell_type": "raw",
   "metadata": {},
   "source": [
    "import matplotlib.pyplot as plt\n",
    "\n",
    "def decorate(pdrgd):\n",
    "    def new_setup_axes(self,axi):\n",
    "        img = plt.imread(\"figures/slb_figure9a.png\")\n",
    "        ip = axi.imshow(img)\n",
    "        axi.axis('off')\n",
    "        ax = axi.inset_axes([0.001,0.005,0.998,0.993])\n",
    "        ax.patch.set_alpha(0.0)\n",
    "        ax.set_xlim([0.0, 29.0])\n",
    "        ax.set_ylim([800.0, 2800.0])\n",
    "        ax.set_ylabel(\"Temperature (K)\")\n",
    "        ax.set_xlabel(\"Pressure (GPa)\")\n",
    "        return ax\n",
    "    \n",
    "    #replace the display with newdisplay\n",
    "    pdrgd.setup_axes = new_setup_axes\n",
    "    \n",
    "    #return the modified student \n",
    "    return pdrgd\n",
    "\n",
    "bdfdiag = decorate(PDReactiveGridDiagnostics)(rxn,bdfgrid)"
   ]
  },
  {
   "cell_type": "raw",
   "metadata": {},
   "source": [
    "bdfdiag.plot_rho()"
   ]
  },
  {
   "cell_type": "raw",
   "metadata": {},
   "source": [
    "#%matplotlib widget\n",
    "bdfdiag.plot_phases()"
   ]
  },
  {
   "cell_type": "raw",
   "metadata": {},
   "source": [
    "%matplotlib inline\n",
    "bdfdiag.plot_stime()"
   ]
  },
  {
   "cell_type": "raw",
   "metadata": {},
   "source": [
    "bdfdiag.plot_mindt()"
   ]
  },
  {
   "cell_type": "raw",
   "metadata": {},
   "source": [
    "bdfdiag.plot_ndt()"
   ]
  },
  {
   "cell_type": "code",
   "execution_count": null,
   "metadata": {},
   "outputs": [],
   "source": []
  }
 ],
 "metadata": {
  "kernelspec": {
   "display_name": "Python 3",
   "language": "python",
   "name": "python3"
  },
  "language_info": {
   "codemirror_mode": {
    "name": "ipython",
    "version": 3
   },
   "file_extension": ".py",
   "mimetype": "text/x-python",
   "name": "python",
   "nbconvert_exporter": "python",
   "pygments_lexer": "ipython3",
   "version": "3.8.10"
  }
 },
 "nbformat": 4,
 "nbformat_minor": 4
}
