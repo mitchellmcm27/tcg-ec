{
 "cells": [
  {
   "cell_type": "markdown",
   "metadata": {},
   "source": [
    "# Phase Construction"
   ]
  },
  {
   "cell_type": "code",
   "execution_count": 1,
   "metadata": {},
   "outputs": [],
   "source": [
    "import os,sys\n",
    "import pandas as pd\n",
    "import numpy as np\n",
    "import sympy as sym\n",
    "import time\n",
    "import re\n",
    "import types\n",
    "import ast\n",
    "import sys\n",
    "from thermocodegen.coder import coder\n",
    "sym.init_printing()\n",
    "\n",
    "sys.path.append(os.path.join(os.path.pardir, 'python'))\n",
    "from tcg_slb.phase import SLBPhase\n",
    "\n",
    "#pd.set_option(\"display.max_columns\", None)\n",
    "#pd.set_option(\"display.max_rows\", None)"
   ]
  },
  {
   "cell_type": "code",
   "execution_count": 2,
   "metadata": {},
   "outputs": [],
   "source": [
    "reference= 'View_SLBPhase'"
   ]
  },
  {
   "cell_type": "code",
   "execution_count": 3,
   "metadata": {},
   "outputs": [
    {
     "data": {
      "text/html": [
       "<div>\n",
       "<style scoped>\n",
       "    .dataframe tbody tr th:only-of-type {\n",
       "        vertical-align: middle;\n",
       "    }\n",
       "\n",
       "    .dataframe tbody tr th {\n",
       "        vertical-align: top;\n",
       "    }\n",
       "\n",
       "    .dataframe thead th {\n",
       "        text-align: right;\n",
       "    }\n",
       "</style>\n",
       "<table border=\"1\" class=\"dataframe\">\n",
       "  <thead>\n",
       "    <tr style=\"text-align: right;\">\n",
       "      <th></th>\n",
       "      <th>name</th>\n",
       "      <th>abbrev</th>\n",
       "      <th>endmember_names</th>\n",
       "      <th>formula_str</th>\n",
       "      <th>conversion_strs</th>\n",
       "      <th>X</th>\n",
       "      <th>d</th>\n",
       "      <th>W</th>\n",
       "      <th>sites</th>\n",
       "      <th>TC0</th>\n",
       "      <th>VD</th>\n",
       "      <th>SD</th>\n",
       "    </tr>\n",
       "  </thead>\n",
       "  <tbody>\n",
       "    <tr>\n",
       "      <th>0</th>\n",
       "      <td>Feldspar</td>\n",
       "      <td>plg</td>\n",
       "      <td>[Anorthite, Albite]</td>\n",
       "      <td>Na[Na]Ca[Ca]Al[Al]Si[Si]O8</td>\n",
       "      <td>[[0]=[Ca], [1]=[Na]]</td>\n",
       "      <td>[1.0, 1.0]</td>\n",
       "      <td>[1.0, 1.0]</td>\n",
       "      <td>[26000.0]</td>\n",
       "      <td>[[1.0, [1.0, 0.0]], [1.0, [0.0, 1.0]]]</td>\n",
       "      <td>None</td>\n",
       "      <td>None</td>\n",
       "      <td>None</td>\n",
       "    </tr>\n",
       "    <tr>\n",
       "      <th>1</th>\n",
       "      <td>Olivine</td>\n",
       "      <td>ol</td>\n",
       "      <td>[Forsterite, Fayalite]</td>\n",
       "      <td>Mg[Mg]Fe[Fe]SiO4</td>\n",
       "      <td>[[0]=[Mg]/2.0, [1]=[Fe]/2.0]</td>\n",
       "      <td>[1.0, 1.0]</td>\n",
       "      <td>[1.0, 1.0]</td>\n",
       "      <td>[7600.0]</td>\n",
       "      <td>[[2.0, [1.0, 0.0]], [2.0, [0.0, 1.0]]]</td>\n",
       "      <td>None</td>\n",
       "      <td>None</td>\n",
       "      <td>None</td>\n",
       "    </tr>\n",
       "    <tr>\n",
       "      <th>2</th>\n",
       "      <td>Wadsleyite</td>\n",
       "      <td>wa</td>\n",
       "      <td>[MgWadsleyite, FeWadsleyite]</td>\n",
       "      <td>Mg[Mg]Fe[Fe]SiO4</td>\n",
       "      <td>[[0]=[Mg]/2.0, [1]=[Fe]/2.0]</td>\n",
       "      <td>[1.0, 1.0]</td>\n",
       "      <td>[1.0, 1.0]</td>\n",
       "      <td>[16500.0]</td>\n",
       "      <td>[[2.0, [1.0, 0.0]], [2.0, [0.0, 1.0]]]</td>\n",
       "      <td>None</td>\n",
       "      <td>None</td>\n",
       "      <td>None</td>\n",
       "    </tr>\n",
       "    <tr>\n",
       "      <th>3</th>\n",
       "      <td>Ringwoodite</td>\n",
       "      <td>ri</td>\n",
       "      <td>[MgRingwoodite, FeRingwoodite]</td>\n",
       "      <td>Mg[Mg]Fe[Fe]SiO4</td>\n",
       "      <td>[[0]=[Mg]/2.0, [1]=[Fe]/2.0]</td>\n",
       "      <td>[1.0, 1.0]</td>\n",
       "      <td>[1.0, 1.0]</td>\n",
       "      <td>[9100.0]</td>\n",
       "      <td>[[2.0, [1.0, 0.0]], [2.0, [0.0, 1.0]]]</td>\n",
       "      <td>None</td>\n",
       "      <td>None</td>\n",
       "      <td>None</td>\n",
       "    </tr>\n",
       "    <tr>\n",
       "      <th>4</th>\n",
       "      <td>Perovskite</td>\n",
       "      <td>pv</td>\n",
       "      <td>[MgPerovskite, FePerovskite, AlPerovskite]</td>\n",
       "      <td>Mg[Mg]Fe[Fe]Al[Al]Si[Si]O3</td>\n",
       "      <td>[[0]=[Mg], [1]=[Fe], [2]=[Al]/2.0]</td>\n",
       "      <td>[1.0, 1.0, 1.0]</td>\n",
       "      <td>[1.0, 1.0, 0.39]</td>\n",
       "      <td>[0.0, 116000.0, 0.0]</td>\n",
       "      <td>[[1.0, [1.0, 0.0, 0.0]], [1.0, [0.0, 1.0, 0.0]...</td>\n",
       "      <td>None</td>\n",
       "      <td>None</td>\n",
       "      <td>None</td>\n",
       "    </tr>\n",
       "    <tr>\n",
       "      <th>...</th>\n",
       "      <td>...</td>\n",
       "      <td>...</td>\n",
       "      <td>...</td>\n",
       "      <td>...</td>\n",
       "      <td>...</td>\n",
       "      <td>...</td>\n",
       "      <td>...</td>\n",
       "      <td>...</td>\n",
       "      <td>...</td>\n",
       "      <td>...</td>\n",
       "      <td>...</td>\n",
       "      <td>...</td>\n",
       "    </tr>\n",
       "    <tr>\n",
       "      <th>56</th>\n",
       "      <td>MgCaFerrite</td>\n",
       "      <td>mgcf</td>\n",
       "      <td>[MgCaFerrite]</td>\n",
       "      <td>Mg[Mg]Al2O4</td>\n",
       "      <td>[[0]=[Mg]]</td>\n",
       "      <td>[1.0]</td>\n",
       "      <td>[1.0]</td>\n",
       "      <td>[]</td>\n",
       "      <td>[]</td>\n",
       "      <td>None</td>\n",
       "      <td>None</td>\n",
       "      <td>None</td>\n",
       "    </tr>\n",
       "    <tr>\n",
       "      <th>57</th>\n",
       "      <td>FeCaFerrite</td>\n",
       "      <td>fecf</td>\n",
       "      <td>[FeCaFerrite]</td>\n",
       "      <td>Fe[Fe]Al2O4</td>\n",
       "      <td>[[0]=[Fe]]</td>\n",
       "      <td>[1.0]</td>\n",
       "      <td>[1.0]</td>\n",
       "      <td>[]</td>\n",
       "      <td>[]</td>\n",
       "      <td>None</td>\n",
       "      <td>None</td>\n",
       "      <td>None</td>\n",
       "    </tr>\n",
       "    <tr>\n",
       "      <th>58</th>\n",
       "      <td>NaCaFerrite</td>\n",
       "      <td>nacf</td>\n",
       "      <td>[NaCaFerrite]</td>\n",
       "      <td>Na[Na]AlSiO4</td>\n",
       "      <td>[[0]=[Na]]</td>\n",
       "      <td>[1.0]</td>\n",
       "      <td>[1.0]</td>\n",
       "      <td>[]</td>\n",
       "      <td>[]</td>\n",
       "      <td>None</td>\n",
       "      <td>None</td>\n",
       "      <td>None</td>\n",
       "    </tr>\n",
       "    <tr>\n",
       "      <th>59</th>\n",
       "      <td>Kyanite</td>\n",
       "      <td>ky</td>\n",
       "      <td>[Kyanite]</td>\n",
       "      <td>Al[Al]SiO5</td>\n",
       "      <td>[[0]=[Al]/2.0]</td>\n",
       "      <td>[1.0]</td>\n",
       "      <td>[1.0]</td>\n",
       "      <td>[]</td>\n",
       "      <td>[]</td>\n",
       "      <td>None</td>\n",
       "      <td>None</td>\n",
       "      <td>None</td>\n",
       "    </tr>\n",
       "    <tr>\n",
       "      <th>60</th>\n",
       "      <td>Nepheline</td>\n",
       "      <td>neph</td>\n",
       "      <td>[Nepheline]</td>\n",
       "      <td>Na[Na]AlSiO4</td>\n",
       "      <td>[[0]=[Na]]</td>\n",
       "      <td>[1.0]</td>\n",
       "      <td>[1.0]</td>\n",
       "      <td>[]</td>\n",
       "      <td>[]</td>\n",
       "      <td>None</td>\n",
       "      <td>None</td>\n",
       "      <td>None</td>\n",
       "    </tr>\n",
       "  </tbody>\n",
       "</table>\n",
       "<p>61 rows × 12 columns</p>\n",
       "</div>"
      ],
      "text/plain": [
       "           name abbrev                             endmember_names  \\\n",
       "0      Feldspar    plg                         [Anorthite, Albite]   \n",
       "1       Olivine     ol                      [Forsterite, Fayalite]   \n",
       "2    Wadsleyite     wa                [MgWadsleyite, FeWadsleyite]   \n",
       "3   Ringwoodite     ri              [MgRingwoodite, FeRingwoodite]   \n",
       "4    Perovskite     pv  [MgPerovskite, FePerovskite, AlPerovskite]   \n",
       "..          ...    ...                                         ...   \n",
       "56  MgCaFerrite   mgcf                               [MgCaFerrite]   \n",
       "57  FeCaFerrite   fecf                               [FeCaFerrite]   \n",
       "58  NaCaFerrite   nacf                               [NaCaFerrite]   \n",
       "59      Kyanite     ky                                   [Kyanite]   \n",
       "60    Nepheline   neph                                 [Nepheline]   \n",
       "\n",
       "                   formula_str                     conversion_strs  \\\n",
       "0   Na[Na]Ca[Ca]Al[Al]Si[Si]O8                [[0]=[Ca], [1]=[Na]]   \n",
       "1             Mg[Mg]Fe[Fe]SiO4        [[0]=[Mg]/2.0, [1]=[Fe]/2.0]   \n",
       "2             Mg[Mg]Fe[Fe]SiO4        [[0]=[Mg]/2.0, [1]=[Fe]/2.0]   \n",
       "3             Mg[Mg]Fe[Fe]SiO4        [[0]=[Mg]/2.0, [1]=[Fe]/2.0]   \n",
       "4   Mg[Mg]Fe[Fe]Al[Al]Si[Si]O3  [[0]=[Mg], [1]=[Fe], [2]=[Al]/2.0]   \n",
       "..                         ...                                 ...   \n",
       "56                 Mg[Mg]Al2O4                          [[0]=[Mg]]   \n",
       "57                 Fe[Fe]Al2O4                          [[0]=[Fe]]   \n",
       "58                Na[Na]AlSiO4                          [[0]=[Na]]   \n",
       "59                  Al[Al]SiO5                      [[0]=[Al]/2.0]   \n",
       "60                Na[Na]AlSiO4                          [[0]=[Na]]   \n",
       "\n",
       "                  X                 d                     W  \\\n",
       "0        [1.0, 1.0]        [1.0, 1.0]             [26000.0]   \n",
       "1        [1.0, 1.0]        [1.0, 1.0]              [7600.0]   \n",
       "2        [1.0, 1.0]        [1.0, 1.0]             [16500.0]   \n",
       "3        [1.0, 1.0]        [1.0, 1.0]              [9100.0]   \n",
       "4   [1.0, 1.0, 1.0]  [1.0, 1.0, 0.39]  [0.0, 116000.0, 0.0]   \n",
       "..              ...               ...                   ...   \n",
       "56            [1.0]             [1.0]                    []   \n",
       "57            [1.0]             [1.0]                    []   \n",
       "58            [1.0]             [1.0]                    []   \n",
       "59            [1.0]             [1.0]                    []   \n",
       "60            [1.0]             [1.0]                    []   \n",
       "\n",
       "                                                sites   TC0    VD    SD  \n",
       "0              [[1.0, [1.0, 0.0]], [1.0, [0.0, 1.0]]]  None  None  None  \n",
       "1              [[2.0, [1.0, 0.0]], [2.0, [0.0, 1.0]]]  None  None  None  \n",
       "2              [[2.0, [1.0, 0.0]], [2.0, [0.0, 1.0]]]  None  None  None  \n",
       "3              [[2.0, [1.0, 0.0]], [2.0, [0.0, 1.0]]]  None  None  None  \n",
       "4   [[1.0, [1.0, 0.0, 0.0]], [1.0, [0.0, 1.0, 0.0]...  None  None  None  \n",
       "..                                                ...   ...   ...   ...  \n",
       "56                                                 []  None  None  None  \n",
       "57                                                 []  None  None  None  \n",
       "58                                                 []  None  None  None  \n",
       "59                                                 []  None  None  None  \n",
       "60                                                 []  None  None  None  \n",
       "\n",
       "[61 rows x 12 columns]"
      ]
     },
     "execution_count": 3,
     "metadata": {},
     "output_type": "execute_result"
    }
   ],
   "source": [
    "def literal_return(val):\n",
    "    try:\n",
    "        return ast.literal_eval(val)\n",
    "    except (ValueError, SyntaxError) as e:\n",
    "        return None\n",
    "converter = dict([(h,literal_return) for h in ['endmember_names','conversion_strs','d','W','sites','TC0','VD','SD']])\n",
    "df = pd.read_csv(os.path.join(os.path.pardir, 'database', 'data', 'slb_phases.csv'),skipinitialspace=True,converters=converter)\n",
    "df"
   ]
  },
  {
   "cell_type": "markdown",
   "metadata": {},
   "source": [
    "## Solution Phase Example: Perovskite"
   ]
  },
  {
   "cell_type": "code",
   "execution_count": 4,
   "metadata": {},
   "outputs": [],
   "source": [
    "values_dict = df.loc[df['name']=='Perovskite'].reset_index(drop=True).iloc[0].to_dict()\n",
    "pv = SLBPhase(reference=reference,**values_dict)"
   ]
  },
  {
   "cell_type": "markdown",
   "metadata": {},
   "source": [
    "### Standard state contribution to solution properties"
   ]
  },
  {
   "cell_type": "code",
   "execution_count": 5,
   "metadata": {},
   "outputs": [
    {
     "data": {
      "image/png": "[encoded data removed]",
      "text/latex": [
       "$$n_{1} \\mu_{1}{\\left (T,P \\right )} + n_{2} \\mu_{2}{\\left (T,P \\right )} + n_{3} \\mu_{3}{\\left (T,P \\right )}$$"
      ],
      "text/plain": [
       "n₁⋅μ₁(T, P) + n₂⋅μ₂(T, P) + n₃⋅μ₃(T, P)"
      ]
     },
     "execution_count": 5,
     "metadata": {},
     "output_type": "execute_result"
    }
   ],
   "source": [
    "pv.G_ss_default()"
   ]
  },
  {
   "cell_type": "markdown",
   "metadata": {},
   "source": [
    "### Configurational Gibbs free energy\n",
    "\n",
    "Mixing on sites.  The SLB model for the configurational Gibbs Free Energy can be written\n",
    "\n",
    "$$\n",
    "    G_{conf} = RT \\mathbf{m}^T\\text{diag}(\\mathbf{x}^*)\\log(\\mathbf{x}^*)\n",
    "$$\n",
    "\n",
    "where $\\mathbf{m}$ is a vector containing the site multiplicity of length `ns`\n",
    "\n",
    "For the [MgFeAl][AlSi]O$_3$ system there are 5 sites each with multiplicity 1 so\n",
    "\n",
    "$$\n",
    "    \\mathbf{m}^T=\\begin{bmatrix} 1 & 1 & 1 & 1 & 1\\end{bmatrix}\n",
    "$$\n",
    "\n",
    "$$\n",
    "\\mathbf{x}^* = C\\mathbf{x}\n",
    "$$ \n",
    "\n",
    "is the vector of mole fractions on each site and $C$ is a matrix of site Coefficients.\n",
    "\n",
    "For this system $C=\\begin{bmatrix} 1 & 0 & 0 \\\\ 0 & 1 & 0 \\\\ 0 & 0 & 1 \\\\ 0 & 0 & 1 \\\\ 1 & 1 & 0\\end{bmatrix}$"
   ]
  },
  {
   "cell_type": "code",
   "execution_count": 6,
   "metadata": {},
   "outputs": [
    {
     "data": {
      "image/png": "[encoded data removed]",
      "text/latex": [
       "$$R T \\left(1.0 n_{1} \\log{\\left (\\frac{n_{1}}{n_{1} + n_{2} + n_{3}} \\right )} + 1.0 n_{2} \\log{\\left (\\frac{n_{2}}{n_{1} + n_{2} + n_{3}} \\right )} + 2.0 n_{3} \\log{\\left (\\frac{n_{3}}{n_{1} + n_{2} + n_{3}} \\right )} + 1.0 \\left(n_{1} + n_{2}\\right) \\log{\\left (\\frac{n_{1} + n_{2}}{n_{1} + n_{2} + n_{3}} \\right )}\\right)$$"
      ],
      "text/plain": [
       "    ⎛          ⎛     n₁     ⎞             ⎛     n₂     ⎞             ⎛     n₃ \n",
       "R⋅T⋅⎜1.0⋅n₁⋅log⎜────────────⎟ + 1.0⋅n₂⋅log⎜────────────⎟ + 2.0⋅n₃⋅log⎜────────\n",
       "    ⎝          ⎝n₁ + n₂ + n₃⎠             ⎝n₁ + n₂ + n₃⎠             ⎝n₁ + n₂ \n",
       "\n",
       "    ⎞                    ⎛  n₁ + n₂   ⎞⎞\n",
       "────⎟ + 1.0⋅(n₁ + n₂)⋅log⎜────────────⎟⎟\n",
       "+ n₃⎠                    ⎝n₁ + n₂ + n₃⎠⎠"
      ]
     },
     "execution_count": 6,
     "metadata": {},
     "output_type": "execute_result"
    }
   ],
   "source": [
    "pv.G_config_default()"
   ]
  },
  {
   "cell_type": "markdown",
   "metadata": {},
   "source": [
    "### Excess Gibbs free energy of mixing\n",
    "\n",
    "SLB uses a van Laar model for describing the excess Gibbs free energy\n",
    "\n",
    "$$\n",
    "    G_{ex} = \\mathbf{x}^T\\mathbf{d}\n",
    "    \\left[ \\mathbf{\\Phi}^T W^*\\mathbf{\\Phi}\\right]\n",
    "$$\n",
    "\n",
    "where $\\mathbf{d}$ is a vector containing species weights (length $c$, number of components)\n",
    "\n",
    "$$\n",
    "    \\mathbf{\\Phi} = \\frac{\\text{diag}(\\mathbf{d})\\mathbf{x}}{\\mathbf{d}^T\\mathbf{x}}\n",
    "$$\n",
    "\n",
    "is a vector of $d$ weighted mol fractions and\n",
    "\n",
    "$$\n",
    "    W^*_{i,j} = \\frac{W_{i,j}}{d_i + d_j}\n",
    "$$\n",
    "\n",
    "is a $\\mathbf{d}$ weighted Margules matrix $W$ of species interaction terms.\n",
    "\n",
    "For the [MgFeAl][AlSi]O$_3$ system $W$ is a $3\\times3$ symmetric matrix with one off-diagonal terms $W_{1,3}=W_{3,1}$ and $\\mathbf{d}^T = \\begin{bmatrix} 1 & 1 & 0.39 \\end{bmatrix}$"
   ]
  },
  {
   "cell_type": "code",
   "execution_count": 7,
   "metadata": {},
   "outputs": [
    {
     "data": {
      "image/png": "[encoded data removed]",
      "text/latex": [
       "$$\\frac{d_{0} n_{1} \\left(d_{1} + d_{2}\\right) \\left(W_{12} d_{1} n_{2} \\left(d_{0} + d_{2}\\right) + W_{13} d_{2} n_{3} \\left(d_{0} + d_{1}\\right)\\right) + d_{1} n_{2} \\left(d_{0} + d_{2}\\right) \\left(W_{12} d_{0} n_{1} \\left(d_{1} + d_{2}\\right) + W_{23} d_{2} n_{3} \\left(d_{0} + d_{1}\\right)\\right) + d_{2} n_{3} \\left(d_{0} + d_{1}\\right) \\left(W_{13} d_{0} n_{1} \\left(d_{1} + d_{2}\\right) + W_{23} d_{1} n_{2} \\left(d_{0} + d_{2}\\right)\\right)}{\\left(d_{0} + d_{1}\\right) \\left(d_{0} + d_{2}\\right) \\left(d_{1} + d_{2}\\right) \\left(d_{0} n_{1} + d_{1} n_{2} + d_{2} n_{3}\\right)}$$"
      ],
      "text/plain": [
       "d₀⋅n₁⋅(d₁ + d₂)⋅(W₁₂⋅d₁⋅n₂⋅(d₀ + d₂) + W₁₃⋅d₂⋅n₃⋅(d₀ + d₁)) + d₁⋅n₂⋅(d₀ + d₂)⋅\n",
       "──────────────────────────────────────────────────────────────────────────────\n",
       "                                                                 (d₀ + d₁)⋅(d₀\n",
       "\n",
       "(W₁₂⋅d₀⋅n₁⋅(d₁ + d₂) + W₂₃⋅d₂⋅n₃⋅(d₀ + d₁)) + d₂⋅n₃⋅(d₀ + d₁)⋅(W₁₃⋅d₀⋅n₁⋅(d₁ +\n",
       "──────────────────────────────────────────────────────────────────────────────\n",
       " + d₂)⋅(d₁ + d₂)⋅(d₀⋅n₁ + d₁⋅n₂ + d₂⋅n₃)                                      \n",
       "\n",
       " d₂) + W₂₃⋅d₁⋅n₂⋅(d₀ + d₂))\n",
       "───────────────────────────\n",
       "                           "
      ]
     },
     "execution_count": 7,
     "metadata": {},
     "output_type": "execute_result"
    }
   ],
   "source": [
    "pv.G_excess_default()"
   ]
  },
  {
   "cell_type": "markdown",
   "metadata": {},
   "source": [
    "### Landau contribution to Gibbs energy"
   ]
  },
  {
   "cell_type": "code",
   "execution_count": 8,
   "metadata": {},
   "outputs": [
    {
     "data": {
      "image/png": "[encoded data removed]",
      "text/latex": [
       "$$0$$"
      ],
      "text/plain": [
       "0"
      ]
     },
     "execution_count": 8,
     "metadata": {},
     "output_type": "execute_result"
    }
   ],
   "source": [
    "pv.G_landau_default()"
   ]
  },
  {
   "cell_type": "markdown",
   "metadata": {},
   "source": [
    "### Total Gibbs energy"
   ]
  },
  {
   "cell_type": "code",
   "execution_count": 9,
   "metadata": {},
   "outputs": [
    {
     "data": {
      "image/png": "[encoded data removed]",
      "text/latex": [
       "$$R T \\left(1.0 n_{1} \\log{\\left (\\frac{n_{1}}{n_{1} + n_{2} + n_{3}} \\right )} + 1.0 n_{2} \\log{\\left (\\frac{n_{2}}{n_{1} + n_{2} + n_{3}} \\right )} + 2.0 n_{3} \\log{\\left (\\frac{n_{3}}{n_{1} + n_{2} + n_{3}} \\right )} + 1.0 \\left(n_{1} + n_{2}\\right) \\log{\\left (\\frac{n_{1} + n_{2}}{n_{1} + n_{2} + n_{3}} \\right )}\\right) + n_{1} \\mu_{1}{\\left (T,P \\right )} + n_{2} \\mu_{2}{\\left (T,P \\right )} + n_{3} \\mu_{3}{\\left (T,P \\right )} + \\frac{d_{0} n_{1} \\left(d_{1} + d_{2}\\right) \\left(W_{12} d_{1} n_{2} \\left(d_{0} + d_{2}\\right) + W_{13} d_{2} n_{3} \\left(d_{0} + d_{1}\\right)\\right) + d_{1} n_{2} \\left(d_{0} + d_{2}\\right) \\left(W_{12} d_{0} n_{1} \\left(d_{1} + d_{2}\\right) + W_{23} d_{2} n_{3} \\left(d_{0} + d_{1}\\right)\\right) + d_{2} n_{3} \\left(d_{0} + d_{1}\\right) \\left(W_{13} d_{0} n_{1} \\left(d_{1} + d_{2}\\right) + W_{23} d_{1} n_{2} \\left(d_{0} + d_{2}\\right)\\right)}{\\left(d_{0} + d_{1}\\right) \\left(d_{0} + d_{2}\\right) \\left(d_{1} + d_{2}\\right) \\left(d_{0} n_{1} + d_{1} n_{2} + d_{2} n_{3}\\right)}$$"
      ],
      "text/plain": [
       "    ⎛          ⎛     n₁     ⎞             ⎛     n₂     ⎞             ⎛     n₃ \n",
       "R⋅T⋅⎜1.0⋅n₁⋅log⎜────────────⎟ + 1.0⋅n₂⋅log⎜────────────⎟ + 2.0⋅n₃⋅log⎜────────\n",
       "    ⎝          ⎝n₁ + n₂ + n₃⎠             ⎝n₁ + n₂ + n₃⎠             ⎝n₁ + n₂ \n",
       "\n",
       "    ⎞                    ⎛  n₁ + n₂   ⎞⎞                                      \n",
       "────⎟ + 1.0⋅(n₁ + n₂)⋅log⎜────────────⎟⎟ + n₁⋅μ₁(T, P) + n₂⋅μ₂(T, P) + n₃⋅μ₃(T\n",
       "+ n₃⎠                    ⎝n₁ + n₂ + n₃⎠⎠                                      \n",
       "\n",
       "       d₀⋅n₁⋅(d₁ + d₂)⋅(W₁₂⋅d₁⋅n₂⋅(d₀ + d₂) + W₁₃⋅d₂⋅n₃⋅(d₀ + d₁)) + d₁⋅n₂⋅(d₀\n",
       ", P) + ───────────────────────────────────────────────────────────────────────\n",
       "                                                                        (d₀ + \n",
       "\n",
       " + d₂)⋅(W₁₂⋅d₀⋅n₁⋅(d₁ + d₂) + W₂₃⋅d₂⋅n₃⋅(d₀ + d₁)) + d₂⋅n₃⋅(d₀ + d₁)⋅(W₁₃⋅d₀⋅n\n",
       "──────────────────────────────────────────────────────────────────────────────\n",
       "d₁)⋅(d₀ + d₂)⋅(d₁ + d₂)⋅(d₀⋅n₁ + d₁⋅n₂ + d₂⋅n₃)                               \n",
       "\n",
       "₁⋅(d₁ + d₂) + W₂₃⋅d₁⋅n₂⋅(d₀ + d₂))\n",
       "──────────────────────────────────\n",
       "                                  "
      ]
     },
     "execution_count": 9,
     "metadata": {},
     "output_type": "execute_result"
    }
   ],
   "source": [
    "pv.G_default()"
   ]
  },
  {
   "cell_type": "code",
   "execution_count": 10,
   "metadata": {},
   "outputs": [
    {
     "data": {
      "text/plain": [
       "[('R', 'J/K/mol', R),\n",
       " ('T_r', 'K', T_r),\n",
       " ('d_0', '', d_0),\n",
       " ('d_1', '', d_1),\n",
       " ('d_2', '', d_2),\n",
       " ('W_12', 'J/mol', W_12),\n",
       " ('W_13', 'J/mol', W_13),\n",
       " ('W_23', 'J/mol', W_23)]"
      ]
     },
     "execution_count": 10,
     "metadata": {},
     "output_type": "execute_result"
    }
   ],
   "source": [
    "pv.params()"
   ]
  },
  {
   "cell_type": "code",
   "execution_count": 11,
   "metadata": {},
   "outputs": [
    {
     "data": {
      "text/plain": [
       "{'formula_string': 'Mg[Mg]Fe[Fe]Al[Al]Si[Si]O3',\n",
       " 'conversion_string': ['[0]=[Mg]', '[1]=[Fe]', '[2]=[Al]/2.0'],\n",
       " 'test_string': ['[0] > 0.0', '[1] > 0.0', '[2] > 0.0'],\n",
       " 'name': 'Perovskite',\n",
       " 'abbrev': 'pv',\n",
       " 'reference': 'View_SLBPhase',\n",
       " 'endmembers': ['MgPerovskite', 'FePerovskite', 'AlPerovskite'],\n",
       " 'R': 8.31446261815324,\n",
       " 'T_r': 300.0,\n",
       " 'd_0': 1.0,\n",
       " 'd_1': 1.0,\n",
       " 'd_2': 0.39,\n",
       " 'W_12': 0.0,\n",
       " 'W_13': 116000.0,\n",
       " 'W_23': 0.0}"
      ]
     },
     "execution_count": 11,
     "metadata": {},
     "output_type": "execute_result"
    }
   ],
   "source": [
    "pv.values_dict()"
   ]
  },
  {
   "cell_type": "markdown",
   "metadata": {},
   "source": [
    "## Pure Phase Example: Quartz"
   ]
  },
  {
   "cell_type": "code",
   "execution_count": 12,
   "metadata": {},
   "outputs": [],
   "source": [
    "values_dict = df.loc[df['name']=='Quartz'].reset_index(drop=True).iloc[0].to_dict()\n",
    "qz = SLBPhase(reference=reference,**values_dict)"
   ]
  },
  {
   "cell_type": "code",
   "execution_count": 13,
   "metadata": {},
   "outputs": [
    {
     "data": {
      "image/png": "[encoded data removed]",
      "text/latex": [
       "$$n_{1} \\mu_{1}{\\left (T,P \\right )}$$"
      ],
      "text/plain": [
       "n₁⋅μ₁(T, P)"
      ]
     },
     "execution_count": 13,
     "metadata": {},
     "output_type": "execute_result"
    }
   ],
   "source": [
    "qz.G_ss_default()"
   ]
  },
  {
   "cell_type": "code",
   "execution_count": 14,
   "metadata": {},
   "outputs": [
    {
     "data": {
      "image/png": "[encoded data removed]",
      "text/latex": [
       "$$0$$"
      ],
      "text/plain": [
       "0"
      ]
     },
     "execution_count": 14,
     "metadata": {},
     "output_type": "execute_result"
    }
   ],
   "source": [
    "qz.G_config_default()"
   ]
  },
  {
   "cell_type": "code",
   "execution_count": 15,
   "metadata": {},
   "outputs": [
    {
     "data": {
      "image/png": "[encoded data removed]",
      "text/latex": [
       "$$0$$"
      ],
      "text/plain": [
       "0"
      ]
     },
     "execution_count": 15,
     "metadata": {},
     "output_type": "execute_result"
    }
   ],
   "source": [
    "qz.G_excess_default()"
   ]
  },
  {
   "cell_type": "code",
   "execution_count": 16,
   "metadata": {},
   "outputs": [
    {
     "data": {
      "text/latex": [
       "$$\\begin{cases} 0 & \\text{for}\\: T \\geq \\frac{P V_{D 0}}{S_{D 0}} + T_{C0 0} \\\\\\frac{n_{1} \\sqrt{\\frac{P V_{D 0} - S_{D 0} T + S_{D 0} T_{C0 0}}{P V_{D 0} + S_{D 0} T_{C0 0}}} \\left(- 3 P V_{D 0} + \\frac{S_{D 0} T_{C0 0} \\left(P V_{D 0} - S_{D 0} T + S_{D 0} T_{C0 0}\\right)}{P V_{D 0} + S_{D 0} T_{C0 0}} - 3 S_{D 0} \\left(- T + T_{C0 0}\\right)\\right)}{3} & \\text{otherwise} \\end{cases}$$"
      ],
      "text/plain": [
       "⎧                                                                             \n",
       "⎪                                                               0             \n",
       "⎪                                                                             \n",
       "⎪                                                                             \n",
       "⎪       __________________________________                                    \n",
       "⎨      ╱ P⋅V_D_0 - S_D_0⋅T + S_D_0⋅T_C0_0  ⎛             S_D_0⋅T_C0_0⋅(P⋅V_D_0\n",
       "⎪n₁⋅  ╱  ──────────────────────────────── ⋅⎜-3⋅P⋅V_D_0 + ─────────────────────\n",
       "⎪   ╲╱        P⋅V_D_0 + S_D_0⋅T_C0_0       ⎝                          P⋅V_D_0 \n",
       "⎪─────────────────────────────────────────────────────────────────────────────\n",
       "⎪                                                               3             \n",
       "⎩                                                                             \n",
       "\n",
       "                                                             P⋅V_D_0         \n",
       "                                                     for T ≥ ─────── + T_C0_0\n",
       "                                                              S_D_0          \n",
       "                                                                             \n",
       "                                                                             \n",
       " - S_D_0⋅T + S_D_0⋅T_C0_0)                        ⎞                          \n",
       "────────────────────────── - 3⋅S_D_0⋅(-T + T_C0_0)⎟                          \n",
       "+ S_D_0⋅T_C0_0                                    ⎠                          \n",
       "───────────────────────────────────────────────────         otherwise        \n",
       "                                                                             \n",
       "                                                                             "
      ]
     },
     "execution_count": 16,
     "metadata": {},
     "output_type": "execute_result"
    }
   ],
   "source": [
    "qz.G_landau_default()"
   ]
  },
  {
   "cell_type": "code",
   "execution_count": 17,
   "metadata": {},
   "outputs": [
    {
     "data": {
      "text/latex": [
       "$$n_{1} \\mu_{1}{\\left (T,P \\right )} + \\begin{cases} 0 & \\text{for}\\: T \\geq \\frac{P V_{D 0}}{S_{D 0}} + T_{C0 0} \\\\\\frac{n_{1} \\sqrt{\\frac{P V_{D 0} - S_{D 0} T + S_{D 0} T_{C0 0}}{P V_{D 0} + S_{D 0} T_{C0 0}}} \\left(- 3 P V_{D 0} + \\frac{S_{D 0} T_{C0 0} \\left(P V_{D 0} - S_{D 0} T + S_{D 0} T_{C0 0}\\right)}{P V_{D 0} + S_{D 0} T_{C0 0}} - 3 S_{D 0} \\left(- T + T_{C0 0}\\right)\\right)}{3} & \\text{otherwise} \\end{cases}$$"
      ],
      "text/plain": [
       "              ⎛⎧                                                              \n",
       "              ⎜⎪                                                              \n",
       "              ⎜⎪                                                              \n",
       "              ⎜⎪                                                              \n",
       "              ⎜⎪       __________________________________                     \n",
       "n₁⋅μ₁(T, P) + ⎜⎨      ╱ P⋅V_D_0 - S_D_0⋅T + S_D_0⋅T_C0_0  ⎛             S_D_0⋅\n",
       "              ⎜⎪n₁⋅  ╱  ──────────────────────────────── ⋅⎜-3⋅P⋅V_D_0 + ──────\n",
       "              ⎜⎪   ╲╱        P⋅V_D_0 + S_D_0⋅T_C0_0       ⎝                   \n",
       "              ⎜⎪──────────────────────────────────────────────────────────────\n",
       "              ⎜⎪                                                              \n",
       "              ⎝⎩                                                              \n",
       "\n",
       "                                                                            P⋅\n",
       " 0                                                                  for T ≥ ──\n",
       "                                                                             S\n",
       "                                                                              \n",
       "                                                                              \n",
       "T_C0_0⋅(P⋅V_D_0 - S_D_0⋅T + S_D_0⋅T_C0_0)                        ⎞            \n",
       "───────────────────────────────────────── - 3⋅S_D_0⋅(-T + T_C0_0)⎟            \n",
       "       P⋅V_D_0 + S_D_0⋅T_C0_0                                    ⎠            \n",
       "──────────────────────────────────────────────────────────────────         oth\n",
       " 3                                                                            \n",
       "                                                                              \n",
       "\n",
       "V_D_0         ⎞\n",
       "───── + T_C0_0⎟\n",
       "_D_0          ⎟\n",
       "              ⎟\n",
       "              ⎟\n",
       "              ⎟\n",
       "              ⎟\n",
       "              ⎟\n",
       "erwise        ⎟\n",
       "              ⎟\n",
       "              ⎠"
      ]
     },
     "execution_count": 17,
     "metadata": {},
     "output_type": "execute_result"
    }
   ],
   "source": [
    "qz.G_default()"
   ]
  },
  {
   "cell_type": "code",
   "execution_count": 18,
   "metadata": {},
   "outputs": [
    {
     "data": {
      "text/plain": [
       "[('R', 'J/K/mol', R),\n",
       " ('T_r', 'K', T_r),\n",
       " ('d_0', '', d_0),\n",
       " ('T_C0_0', 'K', T_C0_0),\n",
       " ('V_D_0', 'cm^3/mol/10', V_D_0),\n",
       " ('S_D_0', 'J/mol/K', S_D_0)]"
      ]
     },
     "execution_count": 18,
     "metadata": {},
     "output_type": "execute_result"
    }
   ],
   "source": [
    "qz.params()"
   ]
  },
  {
   "cell_type": "code",
   "execution_count": 19,
   "metadata": {},
   "outputs": [
    {
     "data": {
      "text/plain": [
       "{'formula_string': 'Si[Si]O2',\n",
       " 'conversion_string': ['[0]=[Si]'],\n",
       " 'test_string': ['[0] > 0.0'],\n",
       " 'name': 'Quartz',\n",
       " 'abbrev': 'qtz',\n",
       " 'reference': 'View_SLBPhase',\n",
       " 'endmembers': ['Quartz'],\n",
       " 'R': 8.31446261815324,\n",
       " 'T_r': 300.0,\n",
       " 'd_0': 1.0,\n",
       " 'T_C0_0': 847.0,\n",
       " 'V_D_0': 0.1222,\n",
       " 'S_D_0': 5.164}"
      ]
     },
     "execution_count": 19,
     "metadata": {},
     "output_type": "execute_result"
    }
   ],
   "source": [
    "qz.values_dict()"
   ]
  },
  {
   "cell_type": "code",
   "execution_count": null,
   "metadata": {},
   "outputs": [],
   "source": []
  }
 ],
 "metadata": {
  "kernelspec": {
   "display_name": "Python 3",
   "language": "python",
   "name": "python3"
  },
  "language_info": {
   "codemirror_mode": {
    "name": "ipython",
    "version": 3
   },
   "file_extension": ".py",
   "mimetype": "text/x-python",
   "name": "python",
   "nbconvert_exporter": "python",
   "pygments_lexer": "ipython3",
   "version": "3.8.10"
  }
 },
 "nbformat": 4,
 "nbformat_minor": 4
}
